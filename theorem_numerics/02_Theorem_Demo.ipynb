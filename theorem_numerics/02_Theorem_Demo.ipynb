{
 "cells": [
  {
   "cell_type": "markdown",
   "metadata": {},
   "source": [
    "# Self-Attention Controllability Theorem Measurement in Llama-3 8b\n",
    "\n",
    "In this notebook we will demonstrate the self-attention controllability theorem \n",
    "on GPT-2. \n",
    "\n",
    "We begin by extracting a single attention head from the model. For a given \n",
    "input token sequence x_0, we will compute the value of $\\beta_i(k, \\mathbf X)$, \n",
    "which should tell us which output representations $\\mathbf Y^*$ are reachable \n",
    "given $k$ "
   ]
  },
  {
   "cell_type": "code",
   "execution_count": 210,
   "metadata": {},
   "outputs": [],
   "source": [
    "# Import box \n",
    "import torch \n",
    "import numpy \n",
    "import transformers \n",
    "import matplotlib.pyplot as plt\n",
    "\n",
    "from transformers import AutoTokenizer, AutoModelForCausalLM\n",
    "# import functional as F \n",
    "import torch.nn.functional as F"
   ]
  },
  {
   "cell_type": "code",
   "execution_count": 211,
   "metadata": {},
   "outputs": [],
   "source": [
    "# constants/args\n",
    "x_0 = \"I am become death, destroyer of worlds.\"\n",
    "model_name = \"meta-llama/Meta-Llama-3-8B\"\n",
    "layer_num = 3\n",
    "k = 3 # 3 control tokens\n",
    "z = 0.99 # we allow control tokens with max norm Z stdevs away from the mean (super tight bc high dimension)\n",
    "head_dim = 128\n",
    "num_heads = 32"
   ]
  },
  {
   "cell_type": "code",
   "execution_count": 56,
   "metadata": {},
   "outputs": [
    {
     "name": "stderr",
     "output_type": "stream",
     "text": [
      "Loading checkpoint shards: 100%|██████████| 4/4 [00:01<00:00,  2.31it/s]\n"
     ]
    }
   ],
   "source": [
    "model = AutoModelForCausalLM.from_pretrained(model_name)\n",
    "tokenizer = AutoTokenizer.from_pretrained(model_name)\n",
    "\n",
    "# if on CUDA \n",
    "device = torch.device(\"cuda\" if torch.cuda.is_available() else \"cpu\")\n",
    "model = model.to(device)"
   ]
  },
  {
   "cell_type": "code",
   "execution_count": 212,
   "metadata": {},
   "outputs": [
    {
     "name": "stdout",
     "output_type": "stream",
     "text": [
      "Skip norm:  False\n",
      "Outputs keys:  odict_keys(['logits', 'past_key_values', 'hidden_states'])\n"
     ]
    }
   ],
   "source": [
    "x_0_ids = tokenizer.encode(x_0, return_tensors=\"pt\").to(device)\n",
    "# get the activations \n",
    "with torch.no_grad():\n",
    "    outputs = model(x_0_ids, output_hidden_states=True)\n",
    "\n",
    "print(\"Outputs keys: \", outputs.keys())"
   ]
  },
  {
   "cell_type": "markdown",
   "metadata": {},
   "source": [
    "We will use the activations corresponding to the string $x_0$ at layer \n",
    "`layer_num` as the fixed prompt input for the self-attention head. \n",
    "\n",
    "Observing the statistics on activations across all input vector representations \n",
    "to self-attention, we will generate a point cloud of control input\n",
    "representations $\\mathbf U$ subject to the constraint that all row vectors\n",
    "(token representations) satisfy $\\|u_i\\| \\leq M_u = \\mu_(X_0) + z \\text{std}(X_0)$ \n",
    "where $X_0$ is a set of activations sampled from self-attention inputs across \n",
    "the layers of the model. \n",
    "\n",
    "Note that, within a `LlamaDecoderLayer` forward pass, the input hidden states \n",
    "are normalized with `LlamaDecoderLayer.input_layernorm(hidden_states)` before \n",
    "going through the self-attention. We will compute $\\mu(X_0), \\text{std}(X_0)$ from \n",
    "there. "
   ]
  },
  {
   "cell_type": "code",
   "execution_count": 213,
   "metadata": {},
   "outputs": [
    {
     "name": "stdout",
     "output_type": "stream",
     "text": [
      "Grabbing a single attention head, running some values thru it...\n",
      "Grabbing a single attention head, layer from idx = 3...\n"
     ]
    }
   ],
   "source": [
    "print(\"Grabbing a single attention head, running some values thru it...\")\n",
    "def get_single_attn_head(model, layer_num, return_layer=False): \n",
    "    \"\"\" Given a Llama-3 type model, get the layer_num attention head. \n",
    "\n",
    "    Decoder layers are called `class LlamaDecoderLayer`, attention heads \n",
    "    are `class LlamaAttention`\n",
    "\n",
    "    \"\"\"\n",
    "    assert type(model) == transformers.models.llama.modeling_llama.LlamaForCausalLM, \"Model must be a Llama model.\"\n",
    "    assert layer_num < len(model.model.layers), \"Layer number out of bounds\"\n",
    "    if not return_layer: \n",
    "        return model.model.layers[layer_num].self_attn\n",
    "    else: \n",
    "        return model.model.layers[layer_num].self_attn, model.model.layers[layer_num]\n",
    "\n",
    "print(f\"Grabbing a single attention head, layer from idx = {layer_num}...\")\n",
    "attn_head, layer = get_single_attn_head(model, layer_num, return_layer=True)"
   ]
  },
  {
   "cell_type": "code",
   "execution_count": 214,
   "metadata": {},
   "outputs": [
    {
     "name": "stdout",
     "output_type": "stream",
     "text": [
      "X_0_normed shape:  torch.Size([1, 10, 4096])\n",
      "X_0_normed per-token norms:  tensor([[0.1803, 4.3042, 4.3405, 4.4721, 4.4668, 3.3445, 3.8409, 4.2928, 4.5006,\n",
      "         3.5776]], device='cuda:0')\n",
      "Y_X shape:  torch.Size([1, 10, 4096])\n",
      "Y_X per-token norms:  tensor([[0.0619, 0.0618, 0.0617, 0.0619, 0.0619, 0.0618, 0.0619, 0.0619, 0.0620,\n",
      "         0.0618]], device='cuda:0')\n"
     ]
    }
   ],
   "source": [
    "with torch.no_grad():\n",
    "    X_0 = outputs.hidden_states[layer_num]\n",
    "    X_0_normed = model.model.layers[layer_num].input_layernorm(X_0) # see LlamaDecoderLayer.forward\n",
    "\n",
    "# set X_0_normed[:, :, head_dim:] to 0\n",
    "X_0_normed[:, :, head_dim:] = 0\n",
    "\n",
    "print(\"X_0_normed shape: \", X_0_normed.shape)\n",
    "print(\"X_0_normed per-token norms: \", torch.linalg.vector_norm(X_0_normed[:, :, :head_dim], dim=-1))\n",
    "with torch.no_grad():\n",
    "    Y_X, _, _ = attn_head.forward(X_0_normed)\n",
    "\n",
    "print(\"Y_X shape: \", Y_X.shape)\n",
    "print(\"Y_X per-token norms: \", torch.norm(Y_X[:, :, :head_dim], dim=-1))"
   ]
  },
  {
   "cell_type": "code",
   "execution_count": null,
   "metadata": {},
   "outputs": [],
   "source": []
  },
  {
   "cell_type": "code",
   "execution_count": 215,
   "metadata": {},
   "outputs": [
    {
     "name": "stdout",
     "output_type": "stream",
     "text": [
      "Mean of X_0_normed:  -0.02945779636502266\n",
      "Standard deviation of X_0_normed:  0.3466133177280426\n",
      "Per-token norms of X_0_normed:  tensor([[0.1803, 4.3042, 4.3405, 4.4721, 4.4668, 3.3445, 3.8409, 4.2928, 4.5006,\n",
      "         3.5776]], device='cuda:0')\n",
      "Mean norm over tokens:  3.7320218086242676\n"
     ]
    }
   ],
   "source": [
    "# let us compute the mean of X_0_normed and the standard deviation \n",
    "# of X_0_normed. Just the scalar mean and standard deviation. \n",
    "mean_X_0 = torch.mean(X_0_normed[:, :, :head_dim]).item()\n",
    "std_X_0 = torch.std(X_0_normed[:, :, :head_dim]).item()\n",
    "\n",
    "print(\"Mean of X_0_normed: \", mean_X_0)\n",
    "print(\"Standard deviation of X_0_normed: \", std_X_0)\n",
    "\n",
    "X_0_normed_per_token = torch.linalg.vector_norm(X_0_normed[:, :, :head_dim], dim=-1)\n",
    "\n",
    "print(\"Per-token norms of X_0_normed: \", X_0_normed_per_token)\n",
    "print(\"Mean norm over tokens: \", torch.mean(X_0_normed_per_token).item())"
   ]
  },
  {
   "cell_type": "code",
   "execution_count": 216,
   "metadata": {},
   "outputs": [
    {
     "data": {
      "text/plain": [
       "torch.Size([1, 10, 4096])"
      ]
     },
     "execution_count": 216,
     "metadata": {},
     "output_type": "execute_result"
    }
   ],
   "source": [
    "X_0_normed.shape"
   ]
  },
  {
   "cell_type": "markdown",
   "metadata": {},
   "source": [
    "## Generate Point Cloud of $\\mathbf U \\in \\mathbb R^{k\\times d_{head}}$\n",
    "\n",
    "We will sample the initial values of $\\mathbf U\\in \\mathbb R^{k\\times d_h}$ \n",
    "where $d_h$ is the dimension of a single attention head \n",
    "with each scalar entry iid $\\sim \\mathcal N (\\mu(X_0), \\text{std}(X_0))$. \n",
    "\n",
    "We will constrain the absolute magnitude of all row vectors in $\\mathbf U$ using\n",
    "projected gradient descent to constrain all $\\|\\mathbf u_i\\|\\leq M_u = z\n",
    "\\text{std}(\\mathbf X_0)$. \n",
    "\n",
    "We will constrain U to only be concerned with the 1st attention head in the \n",
    "MHA (i.e., non-zero entries for only the first `head_dim=128` entries, only \n",
    "trying to control the first $d_h$ = `head_dim` = 128 entries in the output Y \n",
    "token reps)."
   ]
  },
  {
   "cell_type": "code",
   "execution_count": 217,
   "metadata": {},
   "outputs": [
    {
     "name": "stdout",
     "output_type": "stream",
     "text": [
      "U shape:  torch.Size([1, 3, 4096])\n"
     ]
    }
   ],
   "source": [
    "import torch\n",
    "\n",
    "def sample_U(k, z, mean_X_0, std_X_0, batch=1, head_dim=128, d_model=4096):\n",
    "    \"\"\"\n",
    "    Samples control inputs U for interacting with the first self-attention head\n",
    "    (first head_dim entries are non-zero, remaining are zero).\n",
    "    \"\"\"\n",
    "    # Initialize U as a k x head_dim matrix of random values sampled from\n",
    "    # the normal distribution centered at mean_X_0 and std_X_0\n",
    "    U = torch.randn(batch, k, head_dim).to(model.device) * std_X_0 + mean_X_0\n",
    "\n",
    "\n",
    "    # Concatenate a matrix of zeros of shape k x (d_model - head_dim)\n",
    "    zeros = torch.zeros(batch, k, d_model - head_dim).to(model.device)\n",
    "    U = torch.cat((U, zeros), dim=-1)\n",
    "\n",
    "    return U\n",
    "\n",
    "U = sample_U(k, z, mean_X_0, std_X_0, head_dim=head_dim, d_model=4096)\n",
    "print(\"U shape: \", U.shape)"
   ]
  },
  {
   "cell_type": "code",
   "execution_count": 218,
   "metadata": {},
   "outputs": [
    {
     "data": {
      "text/plain": [
       "tensor(0.3474, device='cuda:0')"
      ]
     },
     "execution_count": 218,
     "metadata": {},
     "output_type": "execute_result"
    }
   ],
   "source": [
    "U[0, :, 0:head_dim].std()"
   ]
  },
  {
   "cell_type": "code",
   "execution_count": 219,
   "metadata": {},
   "outputs": [
    {
     "data": {
      "text/plain": [
       "tensor([4.1133, 3.7997, 3.8848], device='cuda:0')"
      ]
     },
     "execution_count": 219,
     "metadata": {},
     "output_type": "execute_result"
    }
   ],
   "source": [
    "torch.linalg.vector_norm(U[0, :, 0:head_dim], dim=-1)"
   ]
  },
  {
   "cell_type": "markdown",
   "metadata": {},
   "source": [
    "## Sampling from + Projecting Back to Z-score Bubble for $\\mathbf U$ rows\n",
    "\n",
    "Let's compute the norm corresponding to Z standard deviations above the average\n",
    "expected norm given that the d_model = 128 scalar entries in each input vector\n",
    "is smpled from $N(\\mu, \\text{std} )$ \n",
    "\n",
    "The vector is in $\\mathbb R^d$, i.e., it has d elements.\n",
    "Each element is independently and identically distributed (iid) according to \\mathcal N(\\mu, \\sigma).\n",
    "\n",
    "### Part 1: Expected norm of the vector\n",
    "Let the vector be $\\mathbf x = (x_1, x_2, \\ldots, x_d), where x_i \\sim \\mathcal N(\\mu, \\sigma) \\text{ for } i = 1, 2, \\ldots, d$.\n",
    "The norm of the vector $\\mathbf x$ is given by:\n",
    "$$\n",
    "\\|\\mathbf x\\| = \\sqrt{x_1^2 + x_2^2 + \\cdots + x_d^2} = \\sqrt{\\sum_{i=1}^d x_i^2}\n",
    "$$\n",
    "Now, we know that if $X \\sim \\mathcal N(\\mu, \\sigma), then \\mathbb E[X^2] = \\mu^2 + \\sigma^2$.\n",
    "Therefore, $\\mathbb E[x_i^2] = \\mu^2 + \\sigma^2 \\text{ for } i = 1, 2, \\ldots, d$.\n",
    "\n",
    "By linearity of expectation:\n",
    "$$\n",
    "\\mathbb E\\left[\\sum_{i=1}^d x_i^2\\right] = \\sum_{i=1}^d \\mathbb E[x_i^2] = d(\\mu^2 + \\sigma^2)\n",
    "$$\n",
    "Thus, the expected norm of the vector is:\n",
    "$$\n",
    "\\mathbb E[\\|\\mathbf x\\|] = \\mathbb E\\left[\\sqrt{\\sum_{i=1}^d x_i^2}\\right] \\approx \\sqrt{\\mathbb E\\left[\\sum_{i=1}^d x_i^2\\right]} = \\sqrt{d(\\mu^2 + \\sigma^2)}\n",
    "$$\n",
    "Note: The approximation in the last step is due to Jensen's inequality, as the square root function is concave. The approximation becomes more accurate for large d.\n",
    "Part 2: Expected standard deviation across the norms of vectors\n",
    "To find the expected standard deviation across the norms of vectors, we need to calculate the variance of the norm.\n",
    "$$\n",
    "\\text{Var}(\\|\\mathbf x\\|) = \\mathbb E[\\|\\mathbf x\\|^2] - (\\mathbb E[\\|\\mathbf x\\|])^2 \n",
    "$$\n",
    "\n",
    "$$\n",
    "\\approx \\mathbb E\\left[\\sum_{i=1}^d x_i^2\\right] - d(\\mu^2 + \\sigma^2) \n",
    "$$\n",
    "\n",
    "$$\n",
    "= d(\\mu^2 + \\sigma^2) - d(\\mu^2 + \\sigma^2) \\\\\n",
    "$$\n",
    "$$\n",
    "= 0\n",
    "$$\n",
    "Therefore, the expected standard deviation across the norms of vectors is approximately:\n",
    "$$\n",
    "\\sqrt{\\text{Var}(\\|\\mathbf x\\|)} \\approx 0\n",
    "$$\n",
    "In summary, for a vector in $\\mathbb R^d$ with elements iid $\\mathcal N(\\mu,\n",
    "\\sigma)$, the expected norm is approximately $\\sqrt{d(\\mu^2 + \\sigma^2)}$, and\n",
    "the expected standard deviation across the norms of vectors sampled in this\n",
    "manner is approximately $0$ for large $d$."
   ]
  },
  {
   "cell_type": "code",
   "execution_count": 220,
   "metadata": {},
   "outputs": [
    {
     "name": "stdout",
     "output_type": "stream",
     "text": [
      "Mean expected norm of head_dim-dimensional vectors in U\n",
      " (including offset mu):  3.9356187423986957\n",
      "Mean expected norm of head_dim-dimensional vectors in U\n",
      " (excluding offset mu):  3.9214820386410607\n"
     ]
    }
   ],
   "source": [
    "import math\n",
    "expected_norm = math.sqrt(head_dim *(mean_X_0**2 + std_X_0**2)) # std_X_0, mean_X_0\n",
    "expected_norm\n",
    "print(f\"Mean expected norm of head_dim-dimensional vectors in U\\n (including offset mu): \", expected_norm)\n",
    "\n",
    "expected_norm_min_mu = math.sqrt(head_dim * (std_X_0**2))\n",
    "print(f\"Mean expected norm of head_dim-dimensional vectors in U\\n (excluding offset mu): \", expected_norm_min_mu)"
   ]
  },
  {
   "cell_type": "markdown",
   "metadata": {},
   "source": [
    "Offset $\\mu$ is within 1e-3 of zero, so we will just project back to the norm ball \n",
    "scaled by $\\sqrt{d_h \\sigma_{X_0}^2}$"
   ]
  },
  {
   "cell_type": "code",
   "execution_count": 221,
   "metadata": {},
   "outputs": [
    {
     "data": {
      "text/plain": [
       "torch.Size([1, 3, 4096])"
      ]
     },
     "execution_count": 221,
     "metadata": {},
     "output_type": "execute_result"
    }
   ],
   "source": [
    "U = sample_U(k, z, mean_X_0, std_X_0, head_dim=head_dim, d_model=4096)\n",
    "U.shape"
   ]
  },
  {
   "cell_type": "code",
   "execution_count": 222,
   "metadata": {},
   "outputs": [
    {
     "name": "stdout",
     "output_type": "stream",
     "text": [
      "Norms of each token rep in U:  tensor([3.9357, 3.8144, 3.7736], device='cuda:0')\n",
      "Max allowable norm:  3.88226721825465\n",
      "tensor([ True, False, False], device='cuda:0')\n",
      "U.shape:  torch.Size([1, 3, 4096])\n",
      "Max norm:  3.88226721825465\n",
      "Norms of each token rep in U:  tensor([[3.8823, 3.8144, 3.7736]], device='cuda:0')\n"
     ]
    }
   ],
   "source": [
    "def project_U(U, mean_X_0, std_X_0, z, head_dim): \n",
    "    \"\"\" Project each token in U (shape [batch, num_tok, d_model]) \n",
    "    into a distance of z standard deviations from the mean. \n",
    "    \"\"\"\n",
    "    print(\"Norms of each token rep in U: \", torch.linalg.vector_norm(U[0, :, 0:head_dim], dim=-1))\n",
    "\n",
    "    # ensure that everything other than U[:, :, 0:head_dim] are zeros \n",
    "    U[:, :, head_dim:] = 0\n",
    "    # print(\"U[:, :, 120:150] = \", U[:, :, 120:150])\n",
    "\n",
    "    max_norm = math.sqrt(head_dim * (std_X_0**2)) * z\n",
    "    print(\"Max allowable norm: \", max_norm)\n",
    "\n",
    "    norm_mask = torch.linalg.vector_norm(U[0, :, 0:head_dim], dim=-1) > max_norm\n",
    "\n",
    "    print(norm_mask)\n",
    "\n",
    "    # U has shape [batch, num_tok, d_model]. We need to divide the elements with \n",
    "    # norm_mask[:, tok_num, :] /= torch.linalg.vector_norm(U[:, tok_num, 0:head_dim], dim=-1)\n",
    "    # Rescale the elements exceeding the maximum norm\n",
    "    for tok_num in range(k):\n",
    "        if norm_mask[tok_num]:\n",
    "            U[:, tok_num, :] /= torch.linalg.vector_norm(U[:, tok_num, 0:head_dim], dim=-1)\n",
    "            U[:, tok_num, :] *= max_norm\n",
    "\n",
    "    return U, max_norm \n",
    "\n",
    "U, M_u = project_U(U, mean_X_0, std_X_0, z, head_dim)\n",
    "print(\"U.shape: \", U.shape)\n",
    "print(\"Max norm: \", M_u)\n",
    "print(\"Norms of each token rep in U: \", torch.linalg.vector_norm(U, dim=-1))"
   ]
  },
  {
   "cell_type": "markdown",
   "metadata": {},
   "source": [
    "Projection and generation of $U$ seems to be working! Let's compute our $\\beta(k, \\mathbf X_0)$ \n",
    "bounds and show we can't budget $Y_X$ more than $\\beta(k, \\mathbf X_0)$ using $U$"
   ]
  },
  {
   "cell_type": "markdown",
   "metadata": {},
   "source": [
    "## Computing $\\beta(k, \\mathbf X_0)$ \n",
    "\n",
    "$$ \n",
    "\\|Y_{u\\perp}^i\\| \\leq \\|Y_u^i\\| \\leq \\beta_i(k, \\mathbf X_0) = \\frac{k e^\\alpha}{g_i(\\mathbf X_0) + ke^\\alpha}\n",
    "$$\n",
    "\n",
    "Where \n",
    " - $k$ is the number of control input tokens. \n",
    " - $\\alpha = \\sigma_q \\sigma_v M_u M_x / \\sqrt{d_k}$\n",
    " - $C = \\sigma_v M_u$\n",
    " - $g_i(X) = D_{xx}^i = \\exp(\\frac{X W_q W_k^T X^T}{\\sqrt{d_k}}) \\mathbb 1_{m\\times 1}$ is the denominator term in the softmax corresponding to $X_0$.\n",
    "\n",
    "\n",
    "\n",
    "Since we are using only the first d_head = 128 indices of token representation vectors, we will only use the first d_head = 128 rows of the W_q, W_k projection matrices when we compute the maximal singular values. \n",
    "\n"
   ]
  },
  {
   "cell_type": "code",
   "execution_count": 223,
   "metadata": {},
   "outputs": [
    {
     "name": "stdout",
     "output_type": "stream",
     "text": [
      "W_q, W_k, W_v shape:  torch.Size([128, 4096])\n",
      "M_x:  4.500611782073975\n",
      "M_u:  3.88226721825465\n",
      "Alpha:  2.485822248543153\n",
      "Sigma_q, Sigma_k, Sigma_v:  2.498584747314453 3.360649824142456 0.64420485496521\n"
     ]
    }
   ],
   "source": [
    "W_q = attn_head.q_proj.weight[:head_dim, :] # only the first head :) \n",
    "W_v = attn_head.v_proj.weight[:head_dim, :] # only the first head :)\n",
    "W_k = attn_head.k_proj.weight[:head_dim, :] # only the first head :)\n",
    "\n",
    "print(\"W_q, W_k, W_v shape: \", W_q.shape)\n",
    "\n",
    "svd_q = torch.linalg.svdvals(W_q)\n",
    "svd_k = torch.linalg.svdvals(W_k)\n",
    "svd_v = torch.linalg.svdvals(W_v)\n",
    "\n",
    "sigma_q = torch.max(svd_q).item()\n",
    "sigma_k = torch.max(svd_k).item()\n",
    "sigma_v = torch.max(svd_v).item()\n",
    "\n",
    "M_x = torch.linalg.norm(X_0_normed, dim=-1).max().item()\n",
    "print(\"M_x: \", M_x)\n",
    "print(\"M_u: \", M_u)\n",
    "\n",
    "alpha = sigma_q * sigma_v * M_u * M_x / (math.sqrt(head_dim))\n",
    "print(\"Alpha: \", alpha)\n",
    "\n",
    "print(\"Sigma_q, Sigma_k, Sigma_v: \", sigma_q, sigma_k, sigma_v)"
   ]
  },
  {
   "cell_type": "code",
   "execution_count": 224,
   "metadata": {},
   "outputs": [
    {
     "name": "stdout",
     "output_type": "stream",
     "text": [
      "Number of heads:  32\n",
      "Head dimension:  128\n",
      "Number of key-value heads:  8\n",
      "hidden size:  4096\n",
      "\n",
      "Keys, values get projected from 4096 to  1024\n",
      "Queries get projected from 4096 to  4096\n",
      "Number of key value groups (4?):  4\n"
     ]
    }
   ],
   "source": [
    "print(\"Number of heads: \", attn_head.num_heads)\n",
    "print(\"Head dimension: \", attn_head.head_dim)\n",
    "print(\"Number of key-value heads: \", attn_head.num_key_value_heads)\n",
    "print(\"hidden size: \", attn_head.hidden_size)\n",
    "\n",
    "print(\"\\nKeys, values get projected from 4096 to \", attn_head.num_key_value_heads * attn_head.head_dim)\n",
    "print(\"Queries get projected from 4096 to \", attn_head.num_heads * attn_head.head_dim)\n",
    "print(\"Number of key value groups (4?): \", attn_head.num_key_value_groups)"
   ]
  },
  {
   "cell_type": "markdown",
   "metadata": {},
   "source": [
    "That means that we re-use the same key-queries by stacking them 4 times.\n",
    "\n",
    "The `repeat_kv()` function appears to emit tensors of shape `[batch, num_key_value_heads * (n_rep=4), slen, head_dim]`\n",
    "\n",
    "8 key_value heads * 4 reps = 32 as 2nd dimension (number of heads) \n",
    "\n",
    "So basically `num_key_value_heads` is just `dim_head / num_key_value_groups`\n",
    "\n",
    "For the first head, we really do just need the first `dim_head` = 128 columns \n",
    "of the key and query projection matrices to compute the singular values for \n",
    "our single-head example. We already do this, so we're ready to compute the \n",
    "$g(X)$ coefficients. We will also confirm these match with the attention output. "
   ]
  },
  {
   "cell_type": "code",
   "execution_count": 225,
   "metadata": {},
   "outputs": [
    {
     "data": {
      "text/plain": [
       "torch.Size([1, 10, 128])"
      ]
     },
     "execution_count": 225,
     "metadata": {},
     "output_type": "execute_result"
    }
   ],
   "source": [
    "X = X_0_normed[:, :, :128]\n",
    "X.shape"
   ]
  },
  {
   "cell_type": "code",
   "execution_count": 237,
   "metadata": {},
   "outputs": [
    {
     "name": "stdout",
     "output_type": "stream",
     "text": [
      "Shape of X (batch=1, num_toks, d_head=128):  torch.Size([1, 10, 128])\n",
      "Shape of W_q:  torch.Size([128, 4096])\n",
      "Shape of W_k:  torch.Size([128, 4096])\n",
      "d_k:  128\n",
      "Q shape:  torch.Size([1, 10, 128])\n",
      "K shape:  torch.Size([1, 10, 128])\n",
      "torch.Size([1, 10, 10])\n",
      "torch.Size([1, 10, 1])\n",
      "tensor([[[10.0000],\n",
      "         [10.0032],\n",
      "         [10.0046],\n",
      "         [10.0955],\n",
      "         [10.0070],\n",
      "         [10.0015],\n",
      "         [10.0529],\n",
      "         [10.0342],\n",
      "         [10.0171],\n",
      "         [ 9.9921]]], device='cuda:0', grad_fn=<UnsafeViewBackward0>)\n"
     ]
    }
   ],
   "source": [
    "def get_g_X0(X, W_q, W_k, d_k): \n",
    "    \"\"\"\n",
    "    X: [batch=1, num_toks, d_head=128]\n",
    "    \"\"\"\n",
    "    print(\"Shape of X (batch=1, num_toks, d_head=128): \", X.shape)\n",
    "    print(\"Shape of W_q: \", W_q.shape)\n",
    "    print(\"Shape of W_k: \", W_k.shape)\n",
    "    print(\"d_k: \", d_k)\n",
    "\n",
    "    # now let's linearly project X thru W_q, W_k with torch.nn.functional \n",
    "    Q = F.linear(X, W_q[:head_dim, :head_dim]) # [1, num_toks, 128]\n",
    "    K = F.linear(X, W_k[:head_dim, :head_dim]) # [1, num_toks, 128]\n",
    "    print(\"Q shape: \", Q.shape)\n",
    "    print(\"K shape: \", K.shape)\n",
    "\n",
    "    A_xx = torch.einsum('ijk, ilk->ijl', Q, K) / math.sqrt(d_k)\n",
    "    exp_A_xx = torch.exp(A_xx)\n",
    "\n",
    "    print(A_xx.shape)\n",
    "    # multiply by an [M, 1] vector \n",
    "    m = A_xx.shape[1]\n",
    "    assert m == A_xx.shape[2]\n",
    "\n",
    "    # make the vector of ones \n",
    "    ones_ = torch.ones(m, 1).to(X.device)\n",
    "\n",
    "    gX0_i = exp_A_xx @ ones_\n",
    "\n",
    "    return gX0_i\n",
    "\n",
    "\n",
    "gX0_i = get_g_X0(X, W_q, W_k, d_k=head_dim) # according to LlamaAttention.forward, sqrt(head_dim) takes the place of sqrt(d_k)\n",
    "print(gX0_i.shape)\n",
    "print(gX0_i)\n"
   ]
  },
  {
   "cell_type": "markdown",
   "metadata": {},
   "source": [
    "To get a sense of the controllability of the final token representation, let's \n",
    "compute $beta_{i=m}(k, \\mathbf X_0)$ using $g_{i=m}(X_0)$"
   ]
  },
  {
   "cell_type": "code",
   "execution_count": 238,
   "metadata": {},
   "outputs": [
    {
     "name": "stdout",
     "output_type": "stream",
     "text": [
      "g_i:  9.992090225219727\n"
     ]
    }
   ],
   "source": [
    "g_i = gX0_i[0, -1, 0].item()\n",
    "print(\"g_i: \", g_i)"
   ]
  },
  {
   "cell_type": "code",
   "execution_count": 240,
   "metadata": {},
   "outputs": [
    {
     "name": "stdout",
     "output_type": "stream",
     "text": [
      "Beta_i:  0.7828989525989672\n"
     ]
    }
   ],
   "source": [
    "beta_i = k* math.exp(alpha) / (g_i + k *math.exp(alpha))\n",
    "print(\"Beta_i: \", beta_i)"
   ]
  },
  {
   "cell_type": "markdown",
   "metadata": {},
   "source": [
    "Now that we've found beta_i, we're ready to demonstrate that $\\| Y_u ^i \\| \\leq\n",
    "\\beta_i(k, \\mathbf X_0)$, we're ready to compute $Y_u$ and $Y_x^{min,max}$ \n",
    "for various random $U$ and show that we cannot deviate $Y_x$ outside a ball \n",
    "of radius $\\beta_i(k, X_0)$ using $k$ tokens subject to norm limit $M_u$ on \n",
    "rows of $U$. "
   ]
  },
  {
   "cell_type": "code",
   "execution_count": null,
   "metadata": {},
   "outputs": [],
   "source": [
    "# TODO "
   ]
  },
  {
   "cell_type": "markdown",
   "metadata": {},
   "source": []
  },
  {
   "cell_type": "code",
   "execution_count": 241,
   "metadata": {},
   "outputs": [
    {
     "data": {
      "image/png": "[encoded data removed]",
      "text/plain": [
       "<Figure size 1500x500 with 3 Axes>"
      ]
     },
     "metadata": {},
     "output_type": "display_data"
    }
   ],
   "source": [
    "# plot the svd spectrum for each of the weight matrices\n",
    "# make a 1 x 3 plot \n",
    "fig, axs = plt.subplots(1, 3, figsize=(15, 5))\n",
    "axs[0].plot(svd_q.detach().cpu())\n",
    "axs[0].set_title(\"SV Spectrum of W_q\")\n",
    "# axis labels\n",
    "axs[0].set_xlabel(\"Singular Value Index\")\n",
    "axs[0].set_ylabel(\"Singular Value\")\n",
    "\n",
    "\n",
    "axs[1].plot(svd_k.detach().cpu())\n",
    "axs[1].set_title(\"SV Spectrum of W_k\")\n",
    "#axis labels \n",
    "axs[1].set_xlabel(\"Singular Value Index\")\n",
    "axs[1].set_ylabel(\"Singular Value\")\n",
    "\n",
    "\n",
    "axs[2].plot(svd_v.detach().cpu())\n",
    "axs[2].set_title(\"SV Spectrum of W_v\")\n",
    "# axis labels\n",
    "axs[2].set_xlabel(\"Singular Value Index\")\n",
    "axs[2].set_ylabel(\"Singular Value\")\n",
    "\n",
    "plt.show()\n"
   ]
  },
  {
   "cell_type": "code",
   "execution_count": 110,
   "metadata": {},
   "outputs": [
    {
     "data": {
      "text/plain": [
       "torch.Size([1, 3, 128])"
      ]
     },
     "execution_count": 110,
     "metadata": {},
     "output_type": "execute_result"
    }
   ],
   "source": [
    "import torch.nn.functional as F \n",
    "F.linear(U, attn_head.q_proj.weight[:head_dim, :]).shape # this is correct"
   ]
  },
  {
   "cell_type": "code",
   "execution_count": 197,
   "metadata": {},
   "outputs": [
    {
     "data": {
      "text/plain": [
       "torch.Size([1, 3, 4096])"
      ]
     },
     "execution_count": 197,
     "metadata": {},
     "output_type": "execute_result"
    }
   ],
   "source": [
    "U.shape"
   ]
  },
  {
   "cell_type": "code",
   "execution_count": 107,
   "metadata": {},
   "outputs": [
    {
     "data": {
      "text/plain": [
       "torch.Size([4096, 4096])"
      ]
     },
     "execution_count": 107,
     "metadata": {},
     "output_type": "execute_result"
    }
   ],
   "source": [
    "attn_head.q_proj.weight.shape"
   ]
  },
  {
   "cell_type": "code",
   "execution_count": 106,
   "metadata": {},
   "outputs": [
    {
     "data": {
      "text/plain": [
       "tensor([[[-0.0541, -0.0293, -0.0625,  ..., -0.0033, -0.0927, -0.0120],\n",
       "         [ 0.0206, -0.0110,  0.0523,  ..., -0.0155,  0.1214,  0.1070],\n",
       "         [ 0.0066, -0.0369,  0.0131,  ..., -0.1601,  0.0552,  0.1523]]],\n",
       "       device='cuda:0', grad_fn=<UnsafeViewBackward0>)"
      ]
     },
     "execution_count": 106,
     "metadata": {},
     "output_type": "execute_result"
    }
   ],
   "source": [
    "attn_head.q_proj(U)"
   ]
  },
  {
   "cell_type": "markdown",
   "metadata": {},
   "source": [
    "Hell yeah"
   ]
  },
  {
   "cell_type": "code",
   "execution_count": null,
   "metadata": {},
   "outputs": [],
   "source": []
  }
 ],
 "metadata": {
  "kernelspec": {
   "display_name": "venv",
   "language": "python",
   "name": "python3"
  },
  "language_info": {
   "codemirror_mode": {
    "name": "ipython",
    "version": 3
   },
   "file_extension": ".py",
   "mimetype": "text/x-python",
   "name": "python",
   "nbconvert_exporter": "python",
   "pygments_lexer": "ipython3",
   "version": "3.9.16"
  }
 },
 "nbformat": 4,
 "nbformat_minor": 2
}
