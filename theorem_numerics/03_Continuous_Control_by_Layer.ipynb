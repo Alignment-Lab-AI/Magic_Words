{
 "cells": [
  {
   "cell_type": "markdown",
   "metadata": {},
   "source": [
    "# Continuous Control by Layer\n",
    "\n",
    "_Aman -- April 2024_\n",
    "\n",
    "In this notebook we will perform numerical simulations to determine the \n",
    "controllability of GPT-2 by layer. Consider a subset `Block` consisting of \n",
    "layers from GPT-2. \n",
    "\n",
    "`Block` maps from inputs in $\\mathbb R^{N \\times d}$ to outputs in the same $\\mathbb\n",
    "R^{N\\times d}$ where $N$ is the number of tokens in the input and $d$ is the\n",
    "dimensionality of the model (gpt2 is 768). \n",
    "\n",
    "## Control Preliminaries\n",
    "\n",
    "Let $m$ be the number of fixed input tokens and $k$ be the number of control\n",
    "tokens. Given some fixed input $\\mathbf X\\in \\mathbb R^{m\\times d}$ and control\n",
    "input $\\mathbf U \\in \\mathbb R^{m\\times d}$, we can subdivide block $B$'s input\n",
    "and output as\n",
    "\n",
    "$$\n",
    "B(\\begin{bmatrix}\n",
    "\\mathbf U \\\\ \n",
    "\\mathbf X\n",
    "\\end{bmatrix}) =:\n",
    "\\begin{bmatrix} \n",
    "\\mathbf U' \\\\ \n",
    "\\mathbf Y \n",
    "\\end{bmatrix}\n",
    "$$\n",
    "\n",
    "As in [arXiv:2310:04444](https://arxiv.org/abs/2310.04444), our goal is to \n",
    "select $\\mathbf U$ s.t. $\\mathbf Y = \\mathbf Y^*$ where $\\mathbf Y^*$ is the \n",
    "desired output. We are interested in bounded control inputs $\\mathbf U$ with\n",
    "rows satsifying $\\|\\mathbf u_i\\| \\leq M_u$. \n",
    "\n",
    "\n",
    "## Continuous Control Defininition\n",
    "\n",
    "Given some imposed $\\mathbf X$ and $\\delta$, let \n",
    "\n",
    "$$\n",
    "\\begin{bmatrix}\n",
    "\\mathbf U'_0 \\\\\n",
    "\\mathbf Y_0\n",
    "\\end{bmatrix}\n",
    ":= B(\\begin{bmatrix} \n",
    "\\mathbf 0 \\\\ \n",
    "\\mathbf X\n",
    "\\end{bmatrix})\n",
    "$$\n",
    "\n",
    "and let $\\mathbf Y^* \\sim Y_0 + \\delta \\mathcal N(0, 1)$. We will compute \n",
    "$$\n",
    "\\epsilon = \\Pr\\{\\mathbf Y^* \\in \\mathcal R_y^k(\\mathbf X)\\}\n",
    "$$\n",
    "\n",
    "by sampling many $\\mathbf Y^*$ and using projected gradient descent to find \n",
    "$\\mathbf U$ that reach $\\mathbf Y^*$ under magnitude constraint $\\|\\mathbf u_i\\|\n",
    "\\leq M_u$. \n",
    "\n",
    "We are interested in how $\\epsilon$ scales with the number of GPT-2 layers in `Block` $B$.\n"
   ]
  },
  {
   "cell_type": "code",
   "execution_count": 1,
   "metadata": {},
   "outputs": [
    {
     "name": "stderr",
     "output_type": "stream",
     "text": [
      "/Users/aman/Documents/Magic_Words/env/lib/python3.11/site-packages/tqdm/auto.py:21: TqdmWarning: IProgress not found. Please update jupyter and ipywidgets. See https://ipywidgets.readthedocs.io/en/stable/user_install.html\n",
      "  from .autonotebook import tqdm as notebook_tqdm\n"
     ]
    }
   ],
   "source": [
    "# Import box \n",
    "import torch \n",
    "import numpy \n",
    "import transformers \n",
    "import matplotlib.pyplot as plt\n",
    "\n",
    "from transformers import AutoTokenizer, AutoModelForCausalLM\n",
    "# import functional as F \n",
    "import torch.nn.functional as F"
   ]
  },
  {
   "cell_type": "code",
   "execution_count": 2,
   "metadata": {},
   "outputs": [
    {
     "name": "stdout",
     "output_type": "stream",
     "text": [
      "Model gpt2 loaded with d_model = 768\n"
     ]
    }
   ],
   "source": [
    "# load model \n",
    "model_name = \"gpt2\"\n",
    "tokenizer = AutoTokenizer.from_pretrained(model_name)\n",
    "model = AutoModelForCausalLM.from_pretrained(model_name)\n",
    "\n",
    "print(f\"Model {model_name} loaded with d_model = {model.transformer.wte.weight.shape[1]}\")"
   ]
  },
  {
   "cell_type": "code",
   "execution_count": 3,
   "metadata": {},
   "outputs": [
    {
     "name": "stdout",
     "output_type": "stream",
     "text": [
      "odict_keys(['loss', 'logits', 'past_key_values', 'hidden_states', 'attentions'])\n"
     ]
    }
   ],
   "source": [
    "input_ids = tokenizer.encode(\"Hi, my name is GPT-2.\", return_tensors=\"pt\")\n",
    "output = model(input_ids, \n",
    "               labels=input_ids, \n",
    "               return_dict=True, \n",
    "               output_hidden_states=True, \n",
    "               output_attentions=True)\n",
    "\n",
    "print(output.keys())"
   ]
  },
  {
   "cell_type": "code",
   "execution_count": 4,
   "metadata": {},
   "outputs": [
    {
     "data": {
      "text/plain": [
       "torch.Size([1, 10, 768])"
      ]
     },
     "execution_count": 4,
     "metadata": {},
     "output_type": "execute_result"
    }
   ],
   "source": [
    "output.hidden_states[0].shape"
   ]
  },
  {
   "cell_type": "code",
   "execution_count": 5,
   "metadata": {},
   "outputs": [
    {
     "data": {
      "text/plain": [
       "ModuleList(\n",
       "  (0-3): 4 x GPT2Block(\n",
       "    (ln_1): LayerNorm((768,), eps=1e-05, elementwise_affine=True)\n",
       "    (attn): GPT2Attention(\n",
       "      (c_attn): Conv1D()\n",
       "      (c_proj): Conv1D()\n",
       "      (attn_dropout): Dropout(p=0.1, inplace=False)\n",
       "      (resid_dropout): Dropout(p=0.1, inplace=False)\n",
       "    )\n",
       "    (ln_2): LayerNorm((768,), eps=1e-05, elementwise_affine=True)\n",
       "    (mlp): GPT2MLP(\n",
       "      (c_fc): Conv1D()\n",
       "      (c_proj): Conv1D()\n",
       "      (act): NewGELUActivation()\n",
       "      (dropout): Dropout(p=0.1, inplace=False)\n",
       "    )\n",
       "  )\n",
       ")"
      ]
     },
     "execution_count": 5,
     "metadata": {},
     "output_type": "execute_result"
    }
   ],
   "source": [
    "model.transformer.h[0:4]"
   ]
  },
  {
   "cell_type": "markdown",
   "metadata": {},
   "source": [
    "## Retrieving a Block\n",
    "\n",
    "Let's start with the 0th block in GPT-2 and make sure we are able to feed through \n",
    "any desired $\\mathbf X \\in \\mathbb R^{m\\times d}$, $\\mathbf U \\in \\mathbb R^{k\\times d}$"
   ]
  },
  {
   "cell_type": "code",
   "execution_count": 6,
   "metadata": {},
   "outputs": [
    {
     "name": "stdout",
     "output_type": "stream",
     "text": [
      "input_repr shape:  torch.Size([1, 13, 768])\n",
      "Y_0 shape:  torch.Size([1, 10, 768])\n",
      "U_prime shape:  torch.Size([1, 3, 768])\n",
      "input mags shape:  torch.Size([1, 13])\n"
     ]
    },
    {
     "data": {
      "image/png": "[encoded data removed]",
      "text/plain": [
       "<Figure size 1200x400 with 2 Axes>"
      ]
     },
     "metadata": {},
     "output_type": "display_data"
    }
   ],
   "source": [
    "block_0 = model.transformer.h[4]\n",
    "\n",
    "# generate X, U\n",
    "k = 3\n",
    "m = 10\n",
    "U = torch.zeros(1, k, 768)\n",
    "X = torch.randn(1, m, 768)\n",
    "\n",
    "# normaliize X to zero mean, unit variance\n",
    "X = F.layer_norm(X, X.shape[1:], eps=1e-5)\n",
    "\n",
    "# compute block output given concatenated X, U along dimension 1\n",
    "input_repr = torch.cat([U, X], dim=1)\n",
    "print(\"input_repr shape: \", input_repr.shape)\n",
    "\n",
    "with torch.no_grad():\n",
    "    output = block_0(input_repr)[0]\n",
    "Y_0 = output[:, -m:, :]\n",
    "U_prime = output[:, :k, :]\n",
    "print(\"Y_0 shape: \", Y_0.shape)\n",
    "print(\"U_prime shape: \", U_prime.shape)\n",
    "# print magnitude of input_repr per token, magnitude of output_repr per token \n",
    "input_mags = torch.norm(input_repr, dim=-1)\n",
    "output_mags = torch.norm(output, dim=-1)\n",
    "print(\"input mags shape: \", input_mags.shape)\n",
    "\n",
    "# Create a figure with two subplots side by side\n",
    "fig, (ax1, ax2) = plt.subplots(1, 2, figsize=(12, 4))\n",
    "\n",
    "# Plot the input magnitudes\n",
    "ax1.bar(range(m+k), input_mags[0, :].numpy(), color='skyblue')\n",
    "ax1.set_xlabel(\"Token index\")\n",
    "ax1.set_ylabel(\"Magnitude\")\n",
    "ax1.set_title(\"Input magnitudes of [U=0, X]\")\n",
    "ax1.grid(True, linestyle='--', alpha=0.7)\n",
    "\n",
    "# Plot the output magnitudes\n",
    "ax2.bar(range(m+k), output_mags[0, :].numpy(), color='lightgreen')\n",
    "ax2.set_xlabel(\"Token index\")\n",
    "ax2.set_ylabel(\"Magnitude\")\n",
    "ax2.set_title(\"Output magnitudes of [U', Y_0]\")\n",
    "ax2.grid(True, linestyle='--', alpha=0.7)\n",
    "\n",
    "# Adjust the spacing between subplots\n",
    "plt.tight_layout()\n",
    "\n",
    "# Display the plot\n",
    "plt.show()"
   ]
  },
  {
   "cell_type": "markdown",
   "metadata": {},
   "source": [
    "As expected, the magnitudes of tokens in $X$ is roughly $\\sqrt{d} = \\sqrt{768}\\approx 27$. We also observe a sensible result that the outputs corresponding to $\\mathbf U = 0$ are much smaller than the outputs corresponding to $\\mathbf Y \\sim \\mathcal N(0, 1)$\n",
    "\n",
    "Now let's try sampling a $\\mathbf Y^*$ and seeing if we can optimize a $\\mathbf U$ to \n",
    "get epsilon-close to $\\mathbf Y^*$. "
   ]
  },
  {
   "cell_type": "code",
   "execution_count": 7,
   "metadata": {},
   "outputs": [
    {
     "name": "stdout",
     "output_type": "stream",
     "text": [
      "Y_star shape:  torch.Size([1, 10, 768])\n",
      "Initial loss (l2 distance from Y_star to Y_0):  8.717918395996094\n",
      "Initial normalized loss:  tensor(0.0232)\n"
     ]
    }
   ],
   "source": [
    "delta = 1e-1\n",
    "\n",
    "Y_star = Y_0 + delta * torch.randn(Y_0.shape)\n",
    "print(\"Y_star shape: \", Y_star.shape)\n",
    "print(\"Initial loss (l2 distance from Y_star to Y_0): \", torch.norm(Y_star - Y_0).item())\n",
    "# initial normalized loss\n",
    "print(\"Initial normalized loss: \", torch.norm(Y_star - Y_0) / torch.norm(Y_0))"
   ]
  },
  {
   "cell_type": "markdown",
   "metadata": {},
   "source": [
    "As a proof-of-concept, let's start without bounds $M_u$ on the $\\mathbf U$ \n",
    "and see if we can find $\\mathbf U^*$ s.t. $\\mathbf Y \\approx \\mathbf Y^*$"
   ]
  },
  {
   "cell_type": "code",
   "execution_count": 8,
   "metadata": {},
   "outputs": [],
   "source": [
    "def custom_loss(Y, Y_star, num_tokens_to_compare=1):\n",
    "    # Extract the last num_tokens_to_compare token representations from Y and Y_star\n",
    "    Y_last = Y[:, -num_tokens_to_compare:, :]\n",
    "    Y_star_last = Y_star[:, -num_tokens_to_compare:, :]\n",
    "    \n",
    "    # Compute the L2 loss between the selected token representations\n",
    "    loss = torch.norm(Y_star_last - Y_last)\n",
    "    \n",
    "    # Normalize the loss by the magnitude of Y_star_last\n",
    "    normalized_loss = loss / torch.norm(Y_star_last)\n",
    "    \n",
    "    return normalized_loss"
   ]
  },
  {
   "cell_type": "code",
   "execution_count": 9,
   "metadata": {},
   "outputs": [
    {
     "data": {
      "text/plain": [
       "tensor(0.0258)"
      ]
     },
     "execution_count": 9,
     "metadata": {},
     "output_type": "execute_result"
    }
   ],
   "source": [
    "# before we start -- let's check the loss function\n",
    "custom_loss(Y_0, Y_star, num_tokens_to_compare=1)"
   ]
  },
  {
   "cell_type": "code",
   "execution_count": 10,
   "metadata": {},
   "outputs": [
    {
     "name": "stdout",
     "output_type": "stream",
     "text": [
      "Step 1: Loss = 0.0258\n",
      "Step 100: Loss = 0.0215\n",
      "Step 200: Loss = 0.0200\n",
      "Step 300: Loss = 0.0190\n",
      "Step 400: Loss = 0.0182\n",
      "Step 500: Loss = 0.0176\n",
      "Step 600: Loss = 0.0171\n",
      "Step 700: Loss = 0.0167\n",
      "Step 800: Loss = 0.0163\n",
      "Step 900: Loss = 0.0160\n",
      "Step 1000: Loss = 0.0158\n",
      "Step 1100: Loss = 0.0156\n",
      "Step 1200: Loss = 0.0154\n",
      "Step 1300: Loss = 0.0153\n",
      "Step 1400: Loss = 0.0151\n",
      "Step 1500: Loss = 0.0150\n",
      "Step 1600: Loss = 0.0149\n",
      "Step 1700: Loss = 0.0148\n",
      "Step 1800: Loss = 0.0147\n",
      "Step 1900: Loss = 0.0146\n",
      "Step 2000: Loss = 0.0145\n",
      "Final loss: 0.0145\n"
     ]
    }
   ],
   "source": [
    "# Define U as a learnable parameter\n",
    "U = torch.nn.Parameter(torch.zeros(1, k, 768))\n",
    "\n",
    "# Define the optimizer (e.g., Adam)\n",
    "optimizer = torch.optim.Adam([U], lr=1e-5)\n",
    "\n",
    "# Define the number of optimization steps\n",
    "num_steps = 2000\n",
    "print_steps = 100\n",
    "\n",
    "# Perform optimization\n",
    "for step in range(num_steps):\n",
    "    # Zero the gradients\n",
    "    optimizer.zero_grad()\n",
    "    \n",
    "    # Concatenate U and X along dimension 1\n",
    "    input_repr = torch.cat([U, X], dim=1)\n",
    "    \n",
    "    # Forward pass through the block\n",
    "    output = block_0(input_repr)[0]\n",
    "    \n",
    "    # Extract Y from the output\n",
    "    Y = output[:, -m:, :]\n",
    "    \n",
    "    # Compute the L2 loss between Y_star and Y\n",
    "   # Compute the custom loss between Y_star and Y\n",
    "    loss = custom_loss(Y, Y_star, num_tokens_to_compare=1)  # Comparing the last 1 token representations\n",
    "    \n",
    "    # Backward pass and optimization step\n",
    "    loss.backward()\n",
    "    optimizer.step()\n",
    "    \n",
    "    # Print the loss every 100 steps\n",
    "    if (step + 1) % print_steps == 0 or step == 0:\n",
    "        print(f\"Step {step + 1}: Loss = {loss.item():.4f}\")\n",
    "\n",
    "# Print the final loss\n",
    "print(f\"Final loss: {loss.item():.4f}\")"
   ]
  },
  {
   "cell_type": "markdown",
   "metadata": {},
   "source": [
    "We are now ready to functionalize/automate this process over all the layers \n",
    "(and subsets of layers) in the model. "
   ]
  },
  {
   "cell_type": "code",
   "execution_count": null,
   "metadata": {},
   "outputs": [],
   "source": []
  }
 ],
 "metadata": {
  "kernelspec": {
   "display_name": "Magic Words Kernel",
   "language": "python",
   "name": "magic_words"
  },
  "language_info": {
   "codemirror_mode": {
    "name": "ipython",
    "version": 3
   },
   "file_extension": ".py",
   "mimetype": "text/x-python",
   "name": "python",
   "nbconvert_exporter": "python",
   "pygments_lexer": "ipython3",
   "version": "3.11.6"
  }
 },
 "nbformat": 4,
 "nbformat_minor": 2
}
