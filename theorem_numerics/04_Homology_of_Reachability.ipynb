{
 "cells": [
  {
   "cell_type": "markdown",
   "metadata": {},
   "source": [
    "# Homology of Reachable Sets\n",
    "\n",
    "Reachable set coordinator script: \n",
    "```bash\n",
    "./scripts/federer_20240620.sh\n",
    "```\n",
    "\n",
    "Resulted in `../results/federer*/` folders. "
   ]
  },
  {
   "cell_type": "code",
   "execution_count": 1,
   "metadata": {},
   "outputs": [],
   "source": [
    "import glob"
   ]
  },
  {
   "cell_type": "code",
   "execution_count": 3,
   "metadata": {},
   "outputs": [
    {
     "data": {
      "text/plain": [
       "['../results/federer_pool10_push0.1_randpoolfalse_2024-06-20-231034/',\n",
       " '../results/federer_pool10_push2.5_randpooltrue_2024-06-20-231034/',\n",
       " '../results/federer_pool10_push10.0_randpooltrue_2024-06-20-231034/',\n",
       " '../results/federer_pool10_push1.0_randpoolfalse_2024-06-20-231034/',\n",
       " '../results/federer_pool10_push10.0_randpoolfalse_2024-06-20-231034/',\n",
       " '../results/federer_pool10_push2.5_randpoolfalse_2024-06-20-231034/',\n",
       " '../results/federer_pool10_push0.1_2024-06-20-230901/',\n",
       " '../results/federer_pool10_push1.0_randpooltrue_2024-06-20-231034/',\n",
       " '../results/federer_pool10_push0.1_randpooltrue_2024-06-20-231034/']"
      ]
     },
     "execution_count": 3,
     "metadata": {},
     "output_type": "execute_result"
    }
   ],
   "source": [
    "# get all files matching '../results/federer*/'\n",
    "files = glob.glob('../results/federer_p*/')\n",
    "\n",
    "print(\"Length of files: \", files)\n",
    "\n",
    "# now get the {path}/Y_to_U.json and load \n",
    "# the json file and get the values of the keys\n",
    "import json \n",
    "import os\n",
    "\n",
    "file_to_json = {}\n",
    "\n",
    "for file in files:\n",
    "    print(\"File: \", file)\n",
    "    json_file = os.path.join(file, 'Y_to_U.json')\n",
    "    print(\"json_file: \", json_file)\n",
    "    with open(json_file) as f:\n",
    "        data = json.load(f)\n",
    "        print(\"Data: \", data)\n",
    "        print(\"Keys: \", data.keys())\n",
    "        print(\"Values: \", data.values())\n",
    "        print(\"Items: \", data.items())\n",
    "        print(\"Length of data: \", len(data))\n",
    "        print(\"Type of data: \", type(data))\n",
    "        print(\"Type of data.items(): \", type(data.items()))\n",
    "        print(\"Type of data.keys(): \", type(data.keys()))\n",
    "        print(\"Type of data.values(): \", type(data.values()))\n",
    "        file_to_json[file] = data"
   ]
  },
  {
   "cell_type": "code",
   "execution_count": null,
   "metadata": {},
   "outputs": [],
   "source": []
  }
 ],
 "metadata": {
  "kernelspec": {
   "display_name": "venv",
   "language": "python",
   "name": "python3"
  },
  "language_info": {
   "codemirror_mode": {
    "name": "ipython",
    "version": 3
   },
   "file_extension": ".py",
   "mimetype": "text/x-python",
   "name": "python",
   "nbconvert_exporter": "python",
   "pygments_lexer": "ipython3",
   "version": "3.10.12"
  }
 },
 "nbformat": 4,
 "nbformat_minor": 2
}
