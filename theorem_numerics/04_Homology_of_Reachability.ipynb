{
 "cells": [
  {
   "cell_type": "markdown",
   "metadata": {},
   "source": [
    "# Homology of Reachable Sets\n",
    "\n",
    "Reachable set coordinator script: \n",
    "```bash\n",
    "./scripts/federer_20240620.sh\n",
    "```\n",
    "\n",
    "Resulted in `../results/federer*/` folders. "
   ]
  },
  {
   "cell_type": "code",
   "execution_count": 1,
   "metadata": {},
   "outputs": [],
   "source": [
    "import glob"
   ]
  },
  {
   "cell_type": "code",
   "execution_count": 2,
   "metadata": {},
   "outputs": [
    {
     "name": "stdout",
     "output_type": "stream",
     "text": [
      "Length of files:  ['../results/federer_pool10_push0.1_randpoolfalse_2024-06-20-231034/', '../results/federer_pool10_push2.5_randpooltrue_2024-06-20-231034/', '../results/federer_pool10_push10.0_randpooltrue_2024-06-20-231034/', '../results/federer_pool10_push1.0_randpoolfalse_2024-06-20-231034/', '../results/federer_pool10_push10.0_randpoolfalse_2024-06-20-231034/', '../results/federer_pool10_push2.5_randpoolfalse_2024-06-20-231034/', '../results/federer_pool10_push0.1_2024-06-20-230901/', '../results/federer_pool10_push1.0_randpooltrue_2024-06-20-231034/', '../results/federer_pool100_push0.1_randpooltrue_2024-06-20-231034/', '../results/federer_pool10_push0.1_randpooltrue_2024-06-20-231034/']\n",
      "File:  ../results/federer_pool10_push0.1_randpoolfalse_2024-06-20-231034/\n",
      "json_file:  ../results/federer_pool10_push0.1_randpoolfalse_2024-06-20-231034/R_t.json\n",
      "Data:  [1032, 1544, 1806, 16, 17, 1041, 19, 20, 18, 22, 23, 24, 1049, 3226, 1691, 9756, 21, 9378, 10148, 679, 10288, 11128, 2614, 2618, 2366, 14274, 972, 717, 16332, 9423, 1114, 220, 605, 23906, 1135, 17264, 19057, 2550, 1272, 8953, 508]\n"
     ]
    },
    {
     "ename": "AttributeError",
     "evalue": "'list' object has no attribute 'keys'",
     "output_type": "error",
     "traceback": [
      "\u001b[0;31m---------------------------------------------------------------------------\u001b[0m",
      "\u001b[0;31mAttributeError\u001b[0m                            Traceback (most recent call last)",
      "Cell \u001b[0;32mIn[2], line 20\u001b[0m\n\u001b[1;32m     18\u001b[0m data \u001b[38;5;241m=\u001b[39m json\u001b[38;5;241m.\u001b[39mload(f)\n\u001b[1;32m     19\u001b[0m \u001b[38;5;28mprint\u001b[39m(\u001b[38;5;124m\"\u001b[39m\u001b[38;5;124mData: \u001b[39m\u001b[38;5;124m\"\u001b[39m, data)\n\u001b[0;32m---> 20\u001b[0m \u001b[38;5;28mprint\u001b[39m(\u001b[38;5;124m\"\u001b[39m\u001b[38;5;124mKeys: \u001b[39m\u001b[38;5;124m\"\u001b[39m, \u001b[43mdata\u001b[49m\u001b[38;5;241;43m.\u001b[39;49m\u001b[43mkeys\u001b[49m())\n\u001b[1;32m     21\u001b[0m \u001b[38;5;28mprint\u001b[39m(\u001b[38;5;124m\"\u001b[39m\u001b[38;5;124mValues: \u001b[39m\u001b[38;5;124m\"\u001b[39m, data\u001b[38;5;241m.\u001b[39mvalues())\n\u001b[1;32m     22\u001b[0m \u001b[38;5;28mprint\u001b[39m(\u001b[38;5;124m\"\u001b[39m\u001b[38;5;124mItems: \u001b[39m\u001b[38;5;124m\"\u001b[39m, data\u001b[38;5;241m.\u001b[39mitems())\n",
      "\u001b[0;31mAttributeError\u001b[0m: 'list' object has no attribute 'keys'"
     ]
    }
   ],
   "source": [
    "# get all files matching '../results/federer*/'\n",
    "files = glob.glob('../results/federer_p*/')\n",
    "\n",
    "print(\"Length of files: \", files)\n",
    "\n",
    "# now get the {path}/Y_to_U.json and load \n",
    "# the json file and get the values of the keys\n",
    "import json \n",
    "import os\n",
    "\n",
    "file_to_Rt = {}\n",
    "\n",
    "for file in files:\n",
    "    print(\"File: \", file)\n",
    "    json_file = os.path.join(file, 'R_t.json')\n",
    "    print(\"json_file: \", json_file)\n",
    "    with open(json_file) as f:\n",
    "        data = json.load(f)\n",
    "        file_to_Rt[file] = data"
   ]
  },
  {
   "cell_type": "code",
   "execution_count": null,
   "metadata": {},
   "outputs": [],
   "source": []
  }
 ],
 "metadata": {
  "kernelspec": {
   "display_name": "venv",
   "language": "python",
   "name": "python3"
  },
  "language_info": {
   "codemirror_mode": {
    "name": "ipython",
    "version": 3
   },
   "file_extension": ".py",
   "mimetype": "text/x-python",
   "name": "python",
   "nbconvert_exporter": "python",
   "pygments_lexer": "ipython3",
   "version": "3.10.12"
  }
 },
 "nbformat": 4,
 "nbformat_minor": 2
}
