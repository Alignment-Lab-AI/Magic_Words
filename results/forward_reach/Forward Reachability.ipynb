{
 "cells": [
  {
   "cell_type": "markdown",
   "metadata": {},
   "source": [
    "# Forward Reachability \n",
    "\n",
    "Let's see how wide the reachable set is if I just enumerate all possible prompts \n",
    "`u` and see what `y` comes out as the argmax of `P(y | u + x_0)`. \n",
    "\n",
    "We will start with enumerating all single-token control inputs `u` and looking \n",
    "at the diversity of `y` values we get out the other side on a subset of \n",
    "~25 prompts. \n",
    "\n",
    "Next we will do some random tree exploration to search for prompts `u` with length \n",
    "greater than 1 that elicit novel `y` values as the argmax of `P(y | u + x_0)`. \n",
    "\n",
    "**k=1 Experiment 1**: \n",
    "The `forward_reachability.py` script will select a subset of 25 unique states \n",
    "and compute the reachable set with $k=1$ prompt token. \n",
    "\n",
    "```bash\n",
    "python3 scripts/forward_reachability.py \\\n",
    "    --input_file results/wiki_reachability/k10_falcon7b_wiki5k.csv \\\n",
    "    --output_file results/forward_reach/falcon-7b/fwd1_25state_1tok.csv \\\n",
    "    --model falcon-7b \\\n",
    "    --max_prompt_tokens 1 \\\n",
    "    --num_unique_states 25\n",
    "```"
   ]
  }
 ],
 "metadata": {
  "language_info": {
   "name": "python"
  }
 },
 "nbformat": 4,
 "nbformat_minor": 2
}
