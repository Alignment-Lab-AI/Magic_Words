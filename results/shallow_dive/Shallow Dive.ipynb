{
 "cells": [
  {
   "cell_type": "markdown",
   "metadata": {},
   "source": [
    "# Shallow Dive\n",
    "\n",
    "These experiments are on the k-epsilon controllability of the top 75 tokens of \n",
    "25 unique Wikitext sequences. \n",
    "\n",
    "We will leverage much of the same code from the [Deep Dive]() experiments: \n",
    "\n",
    "**The Dataset**\n",
    "\n",
    "We want to get this done over night for a preliminary view tomorrow morning. So \n",
    "let's select 25 unique starting states $x_0$ and make a dataset where the desired \n",
    "tokens $y^*$ for each $x_0$ are the top 75 tokens in terms of $P(y* | x_0)$. \n",
    "\n",
    "```bash \n",
    ">>> python3 scripts/generate_deep_dive.py \\\n",
    "    --input_file results/wiki_reachability/k10_falcon7b_wiki5k.csv \\\n",
    "    --output_file results/shallow_dive/falcon7b_top75_states25_1875.csv \\\n",
    "    --model falcon-7b \\\n",
    "    --skip -1 \\\n",
    "    --num_unique_states 25 \\\n",
    "    --num_shallow 75 \n",
    "```\n",
    "\n",
    "\n",
    "**Reachability Experiments** \n",
    "\n",
    "Now we can run the `scripts/reachability.py` script on this dataset. I'll make a \n",
    "`falcon_shallowdive.sh` script so we can run it with the same convention as \n",
    "usual. \n",
    "\n",
    "```bash\n",
    "CUDA_VISIBLE_DEVICES=0 bash scripts/shallow_dive_falcon7b.sh 0 8  # ran at ~4:30a on Sat Nov 18\n",
    "CUDA_VISIBLE_DEVICES=1 bash scripts/shallow_dive_falcon7b.sh 1 8\n",
    "CUDA_VISIBLE_DEVICES=2 bash scripts/shallow_dive_falcon7b.sh 2 8\n",
    "CUDA_VISIBLE_DEVICES=3 bash scripts/shallow_dive_falcon7b.sh 3 8\n",
    "\n",
    "\n",
    "CUDA_VISIBLE_DEVICES=0 bash scripts/shallow_dive_falcon7b.sh 4 8  # ran at ~4:30a on Sat Nov 18\n",
    "CUDA_VISIBLE_DEVICES=1 bash scripts/shallow_dive_falcon7b.sh 5 8\n",
    "CUDA_VISIBLE_DEVICES=2 bash scripts/shallow_dive_falcon7b.sh 6 8\n",
    "CUDA_VISIBLE_DEVICES=3 bash scripts/shallow_dive_falcon7b.sh 7 8\n",
    "```"
   ]
  },
  {
   "cell_type": "code",
   "execution_count": null,
   "metadata": {},
   "outputs": [],
   "source": []
  }
 ],
 "metadata": {
  "language_info": {
   "name": "python"
  }
 },
 "nbformat": 4,
 "nbformat_minor": 2
}
