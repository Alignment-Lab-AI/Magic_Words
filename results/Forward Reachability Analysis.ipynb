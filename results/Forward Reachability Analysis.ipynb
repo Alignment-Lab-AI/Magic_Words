{
 "cells": [
  {
   "cell_type": "markdown",
   "metadata": {},
   "source": [
    "# Forward Reachability Analysis\n",
    "\n",
    "In this notebook we are going to look at the forward reachability results where \n",
    "we try to find a maximizing set of prompts $U = [\\mathbf u_1, \\mathbf u_2, ...]$\n",
    "such that the reachable output set $\\mathcal R(\\mathbf x_0) = \\{y_i | y_i =\n",
    "\\arg\\max_{y} P_{LM}(y| \\mathbf u_i + \\mathbf x_0)\\}$ is maximized. \n",
    "\n",
    "The first simple test's data was generated with \n",
    "\n",
    "```bash\n",
    "python3 scripts/greedy_forward_single.py \\\n",
    "    --model meta-llama/Meta-Llama-3-8B \\\n",
    "    --x_0 \"helloworld1\" \\\n",
    "    --output_dir results/helloworld1 \\\n",
    "    --max_iters 100 \\\n",
    "    --max_parallel 100 \\\n",
    "    --pool_size 100 \\\n",
    "    --rand_pool \\\n",
    "    --push 0.1 \\\n",
    "    --pull 1.0 \\\n",
    "    --frac_ext 0.2 \n",
    "```\n",
    "\n",
    "Script call with \"Roger Federer\" prompt\n",
    "```bash\n",
    "python3 scripts/greedy_forward_single.py \\\n",
    "    --model meta-llama/Meta-Llama-3-8B \\\n",
    "    --x_0 \"Roger Federer is the greatest\" \\\n",
    "    --output_dir results/greatest2 \\\n",
    "    --max_iters 5 \\\n",
    "    --max_parallel 100 \\\n",
    "    --pool_size 100 \\\n",
    "    --rand_pool \\\n",
    "    --push 0.1 \\\n",
    "    --pull 1.0 \\\n",
    "    --frac_ext 0.02\n",
    "```\n",
    "\n",
    "## Todo\n",
    " - [x] Load hello world results from `helloworld1` -- make a function to grab \n",
    " `args.json`, `Y_to_U.json`, `R_t.json`, `U_t.json`. \n",
    " - [x] Load the model and tokenizer based on `args.json` (under `\"model\"` is the \n",
    " HF model name). \n",
    " - [x] Visualize `Y_to_U.json` as decoded strings (not token ids) this is a dict\n",
    " mapping from an integer representation of a given reachabler $y$ to its \n",
    " corresponding $\\mathbf u$ (list of token ids) that steers the model to $y$ given \n",
    " `x_0` (you can find the string version of `x_0` in `args.json` under `\"x_0\"`).\n",
    " - [ ] Run the ids of `[u_i + x_0]` (concatenated) through the model and cache \n",
    " the last layer activations to disk. Similar to\n",
    " [get_value_reps.py](https://github.com/amanb2000/Emo_LLM/blob/main/scripts/get_value_reps.py)\n",
    " from the LLM emotion project. Store these in the `helloworld1` results folder,\n",
    " and make it programmatic/functionalized (pipeline should work for arbitrary\n",
    " results folder).\n",
    " - [ ] Create PCA plot based on the final layer/final token representation. Label with \n",
    " the reached output (show this if you hover). \n",
    " - [ ] Create PCA plot based on the final token/all layers representation. Label with the reached output (show this if you hover). \n",
    "\n",
    "We want to use plotly and export the plots as HTML files for each consumption. \n",
    "PCA should generally go to dimension 3, and we should have one function for making \n",
    "nice 3D scatter plots of the PCA and another to make 2D scatter plots. \n",
    "\n",
    "\n",
    "\n",
    "\n"
   ]
  },
  {
   "cell_type": "code",
   "execution_count": 39,
   "metadata": {},
   "outputs": [],
   "source": [
    "import json\n",
    "import os\n",
    "from tqdm import tqdm \n",
    "import torch\n",
    "from transformers import AutoTokenizer, AutoModelForCausalLM"
   ]
  },
  {
   "cell_type": "code",
   "execution_count": 2,
   "metadata": {},
   "outputs": [
    {
     "name": "stdout",
     "output_type": "stream",
     "text": [
      "x_0_ids not found. Skipping consistency check.\n"
     ]
    }
   ],
   "source": [
    "def load_results(results_folder):\n",
    "    \"\"\"\n",
    "    Load the results from the specified folder.\n",
    "    \n",
    "    Args:\n",
    "        results_folder (str): Path to the results folder.\n",
    "        \n",
    "    Returns:\n",
    "        tuple: A tuple containing args, Y_to_U, R_t, and U_t.\n",
    "    \"\"\"\n",
    "    with open(os.path.join(results_folder, \"args.json\"), \"r\") as f:\n",
    "        args = json.load(f)\n",
    "        \n",
    "    with open(os.path.join(results_folder, \"Y_to_U.json\"), \"r\") as f:\n",
    "        Y_to_U_ = json.load(f)\n",
    "        # convert all keys to ints\n",
    "        Y_to_U = {int(k): v for k, v in Y_to_U_.items()}\n",
    "        \n",
    "    with open(os.path.join(results_folder, \"R_t.json\"), \"r\") as f:\n",
    "        R_t = json.load(f)\n",
    "        \n",
    "    with open(os.path.join(results_folder, \"U_t.json\"), \"r\") as f:\n",
    "        U_t = json.load(f)\n",
    "\n",
    "    # check if x_0_ids.json is in the results folder. if its there, \n",
    "    # load it. If not, just set x_0_ids to -1\n",
    "    if os.path.exists(os.path.join(results_folder, \"x_0_ids.json\")):\n",
    "        with open(os.path.join(results_folder, \"x_0_ids.json\"), \"r\") as f:\n",
    "            x_0_ids = json.load(f)\n",
    "    else:\n",
    "        x_0_ids = -1\n",
    "\n",
    "        \n",
    "    return args, Y_to_U, R_t, U_t, x_0_ids\n",
    "\n",
    "def check_data_consistency(args, Y_to_U, R_t, U_t, x_0_ids):\n",
    "    \"\"\"\n",
    "    Check the consistency of the loaded data.\n",
    "    \n",
    "    Args:\n",
    "        args (dict): The args dictionary.\n",
    "        Y_to_U (dict): The Y_to_U dictionary.\n",
    "        R_t (list): The R_t list.\n",
    "        U_t (list): The U_t list.\n",
    "    \"\"\"\n",
    "    assert len(R_t) == len(U_t), \"R_t and U_t should have the same length.\"\n",
    "    assert args[\"model\"] is not None, \"Model name should be specified in args.\"\n",
    "    assert args[\"x_0\"] is not None, \"x_0 should be specified in args.\"\n",
    "    if x_0_ids == -1: \n",
    "        print(\"x_0_ids not found. Skipping consistency check.\")\n",
    "\n",
    "    \n",
    "# Example usage\n",
    "results_folder = \"helloworld1\"\n",
    "args, Y_to_U, R_t, U_t, x_0_ids = load_results(results_folder)\n",
    "check_data_consistency(args, Y_to_U, R_t, U_t, x_0_ids)"
   ]
  },
  {
   "cell_type": "code",
   "execution_count": 3,
   "metadata": {},
   "outputs": [],
   "source": [
    "def decode_Y_to_U(Y_to_U, tokenizer):\n",
    "    \"\"\"\n",
    "    Decode the token IDs in Y_to_U using the tokenizer.\n",
    "    \n",
    "    Args:\n",
    "        Y_to_U (dict): The Y_to_U dictionary.\n",
    "        tokenizer (AutoTokenizer): The loaded tokenizer.\n",
    "        \n",
    "    Returns:\n",
    "        dict: A new dictionary with decoded strings for Y and U.\n",
    "    \"\"\"\n",
    "    Y_to_U_str = {}\n",
    "    for y, u_list in Y_to_U.items():\n",
    "        y_str = tokenizer.decode(y)\n",
    "        u_str_list = [tokenizer.decode(u) for u in u_list]\n",
    "        Y_to_U_str[y_str] = u_str_list\n",
    "    return Y_to_U_str"
   ]
  },
  {
   "cell_type": "code",
   "execution_count": 4,
   "metadata": {},
   "outputs": [
    {
     "name": "stdout",
     "output_type": "stream",
     "text": [
      "x_0:  helloworld1\n",
      "Model:  meta-llama/Meta-Llama-3-8B\n",
      "\n",
      "Length fo Y_to_U:  424\n",
      "First 5 elements of Y_to_U:  [{284: [0]}, {198: [5]}, {11: [58665, 81319]}, {2021: [75099, 81319]}, {8: [2432, 81319]}]\n"
     ]
    }
   ],
   "source": [
    "x_0 = args['x_0']\n",
    "print(\"x_0: \", x_0)\n",
    "print(\"Model: \", args['model'])\n",
    "\n",
    "\n",
    "print(\"\\nLength fo Y_to_U: \", len(Y_to_U))\n",
    "print(\"First 5 elements of Y_to_U: \", [{list(Y_to_U.keys())[i]: Y_to_U[list(Y_to_U.keys())[i]]} for i in range(5)])"
   ]
  },
  {
   "cell_type": "code",
   "execution_count": 5,
   "metadata": {},
   "outputs": [
    {
     "name": "stdout",
     "output_type": "stream",
     "text": [
      "Add special tokens is set to True\n"
     ]
    },
    {
     "name": "stderr",
     "output_type": "stream",
     "text": [
      "Special tokens have been added in the vocabulary, make sure the associated word embeddings are fine-tuned or trained.\n"
     ]
    }
   ],
   "source": [
    "if 'add_special_tokens' not in args.keys() or args['add_special_tokens']:\n",
    "    print(\"Add special tokens is set to True\")\n",
    "    add_special_tokens = True\n",
    "else: \n",
    "    print(\"Add special tokens is set to False\")\n",
    "    add_special_tokens = False\n",
    "tokenizer = AutoTokenizer.from_pretrained(args['model'], add_special_tokens=add_special_tokens)\n",
    "\n",
    "# disable bos token \n",
    "tokenizer.pad_token = tokenizer.eos_token"
   ]
  },
  {
   "cell_type": "code",
   "execution_count": 29,
   "metadata": {},
   "outputs": [
    {
     "name": "stderr",
     "output_type": "stream",
     "text": [
      "Loading checkpoint shards: 100%|██████████| 4/4 [00:06<00:00,  1.51s/it]\n",
      "WARNING:root:Some parameters are on the meta device device because they were offloaded to the cpu.\n"
     ]
    },
    {
     "data": {
      "text/plain": [
       "LlamaForCausalLM(\n",
       "  (model): LlamaModel(\n",
       "    (embed_tokens): Embedding(128256, 4096)\n",
       "    (layers): ModuleList(\n",
       "      (0-31): 32 x LlamaDecoderLayer(\n",
       "        (self_attn): LlamaSdpaAttention(\n",
       "          (q_proj): Linear(in_features=4096, out_features=4096, bias=False)\n",
       "          (k_proj): Linear(in_features=4096, out_features=1024, bias=False)\n",
       "          (v_proj): Linear(in_features=4096, out_features=1024, bias=False)\n",
       "          (o_proj): Linear(in_features=4096, out_features=4096, bias=False)\n",
       "          (rotary_emb): LlamaRotaryEmbedding()\n",
       "        )\n",
       "        (mlp): LlamaMLP(\n",
       "          (gate_proj): Linear(in_features=4096, out_features=14336, bias=False)\n",
       "          (up_proj): Linear(in_features=4096, out_features=14336, bias=False)\n",
       "          (down_proj): Linear(in_features=14336, out_features=4096, bias=False)\n",
       "          (act_fn): SiLU()\n",
       "        )\n",
       "        (input_layernorm): LlamaRMSNorm()\n",
       "        (post_attention_layernorm): LlamaRMSNorm()\n",
       "      )\n",
       "    )\n",
       "    (norm): LlamaRMSNorm()\n",
       "  )\n",
       "  (lm_head): Linear(in_features=4096, out_features=128256, bias=False)\n",
       ")"
      ]
     },
     "execution_count": 29,
     "metadata": {},
     "output_type": "execute_result"
    }
   ],
   "source": [
    "model = AutoModelForCausalLM.from_pretrained(args['model'], device_map=\"auto\")\n",
    "model.half()"
   ]
  },
  {
   "cell_type": "code",
   "execution_count": 30,
   "metadata": {},
   "outputs": [
    {
     "name": "stdout",
     "output_type": "stream",
     "text": [
      "Length of Y_to_U_str: 422\n",
      "First 5 elements of Y_to_U_str: [(' =', ['!']), ('\\n', ['&']), (',', [' },', ' Kurdistan']), ('.Text', [' textbox', 'Abb']), (')', [')(', 'Abb'])]\n",
      "x_0:  helloworld1\n",
      "x_0_ids:  tensor([[128000,     71,  96392,     16]], device='cuda:0')\n"
     ]
    }
   ],
   "source": [
    "Y_to_U_str = decode_Y_to_U(Y_to_U, tokenizer)\n",
    "\n",
    "# if x_0_ids is -1, we need to decode it \n",
    "if type(x_0_ids) != list and type(x_0_ids) != torch.Tensor and x_0_ids == -1:\n",
    "    print(\"x_0_ids is -1. Decoding x_0.\\n\")\n",
    "    x_0_ids = tokenizer.encode(x_0, return_tensors=\"pt\", add_special_tokens=add_special_tokens).to(model.device)\n",
    "elif type(x_0_ids) == list: \n",
    "    print(\"x_0_ids is a list. Converting to tensor.\\n\")\n",
    "    x_0_ids = torch.tensor(x_0_ids)\n",
    "    # add singleton dimension 0 \n",
    "    x_0_ids = x_0_ids.unsqueeze(0).to(model.device)\n",
    "else: \n",
    "    assert type(x_0_ids) == torch.Tensor, \"x_0_ids should be a tensor or -1.\"\n",
    "print(\"Length of Y_to_U_str:\", len(Y_to_U_str))\n",
    "print(\"First 5 elements of Y_to_U_str:\", list(Y_to_U_str.items())[:5])\n",
    "print(\"x_0: \", x_0)\n",
    "print(\"x_0_ids: \", x_0_ids)"
   ]
  },
  {
   "cell_type": "code",
   "execution_count": 42,
   "metadata": {},
   "outputs": [
    {
     "name": "stderr",
     "output_type": "stream",
     "text": [
      "100%|██████████| 10/10 [00:26<00:00,  2.63s/it]"
     ]
    },
    {
     "name": "stdout",
     "output_type": "stream",
     "text": [
      "Errors:  0  of  10\n"
     ]
    },
    {
     "name": "stderr",
     "output_type": "stream",
     "text": [
      "\n"
     ]
    }
   ],
   "source": [
    "# sanity check: make sure the argmax is correct \n",
    "def check_argmax(x_0_ids, u_list, model): \n",
    "    \"\"\"\n",
    "    x_0_ids: [1, seq_len] torch tensor on model device\n",
    "    u_list: list of token IDs (1-dim list)\n",
    "    model: the model to use for prediction\n",
    "    \"\"\"\n",
    "    u_tensor = torch.tensor(u_list).unsqueeze(0).to(model.device)\n",
    "    input_ids = torch.cat([u_tensor, x_0_ids], dim=-1)\n",
    "    attn_mask = input_ids != tokenizer.pad_token_id\n",
    "\n",
    "    output = model(input_ids=input_ids, attention_mask=attn_mask)\n",
    "    logits = output.logits\n",
    "    argmax = torch.argmax(logits, dim=-1)\n",
    "    return argmax[0, -1]\n",
    "\n",
    "# check the argmax for the first 5 elements of Y_to_U\n",
    "num_errors = 0\n",
    "num_to_check=10\n",
    "for y, u_list in tqdm(list(Y_to_U.items())[:10]):\n",
    "    argmax = check_argmax(x_0_ids, u_list, model)\n",
    "    if y != argmax: \n",
    "        num_errors += 1\n",
    "        print(f\"[ERR] y: {y}, u_list: {u_list}, argmax: {argmax}\\n\")\n",
    "print(\"Errors: \", num_errors, \" of \", num_to_check)"
   ]
  },
  {
   "cell_type": "markdown",
   "metadata": {},
   "source": [
    "## Get Final Token Reps\n",
    "\n",
    "In this section we will use a similar technique to\n",
    "[get_value_reps.py](https://github.com/amanb2000/Emo_LLM/blob/main/scripts/get_value_reps.py).\n",
    "\n",
    "\n",
    "```python \n",
    "def get_final_token_reps():\n",
    "    \"\"\"\n",
    "    Get the final token representations for the given Y_to_U (dict[int, List[int]]).\n",
    "    x_0_ids should be a tensor of shape [1, seq_len] on the model device.\n",
    "\n",
    "    Returns: \n",
    "        final-token_reps: List[Dict[str, Any]] with dict_keys(['y', 'u_list',\n",
    "        'y_str', 'u_str_list', 'final_token_rep']) where 'final_token_rep' \n",
    "        is a list of length num_layers with each element being a list of length hidden_size \n",
    "        corresponding to the final token reps at the given layer. \n",
    "    \"\"\"\n",
    "```"
   ]
  },
  {
   "cell_type": "code",
   "execution_count": 44,
   "metadata": {},
   "outputs": [
    {
     "data": {
      "text/plain": [
       "dict_items([(284, [0]), (198, [5]), (11, [58665, 81319]), (2021, [75099, 81319]), (8, [2432, 81319]), (13, [80519, 81319]), (29, [59031, 81319]), (3592, [85802, 81319]), (92, [25097, 81319]), (1, [70443, 81319]), (5, [15011, 81319]), (518, [93933, 81319]), (271, [19884, 81319]), (498, [52769, 81319]), (49192, [95510, 81319]), (662, [70617, 81319]), (4924, [73488, 81319]), (60, [65956, 81319]), (9205, [66937, 81319]), (317, [15509, 81319]), (6, [62500, 81319]), (5747, [69372, 81319]), (397, [2043, 81319]), (14, [51148, 81319]), (1882, [2965, 81319]), (3996, [50597, 81319]), (340, [24197, 81319]), (62, [33499, 81319]), (3089, [37114, 81319]), (2247, [92366, 81319]), (91, [106823, 81319]), (2628, [81097, 81319]), (663, [51610, 81319]), (7356, [18761, 81319]), (26, [78682, 81319]), (524, [51260, 81319]), (46636, [46636, 81319]), (4194, [109485, 81319]), (34208, [82363, 81319]), (64, [72441, 81319]), (9297, [80136, 81319]), (909, [91859, 81319]), (16378, [65049, 81319]), (1359, [88973, 81319]), (22990, [78240, 81319]), (8439, [13150, 81319]), (2927, [22471, 81319]), (220, [105141, 81319]), (14778, [66475, 81319]), (916, [82310, 81319]), (612, [91255, 81319]), (334, [334, 81319]), (40709, [43105, 81319]), (35, [54051, 81319]), (7680, [13027, 81319]), (10591, [84451, 81319]), (63, [41281, 81319]), (28728, [48300, 81319]), (9318, [29609, 81319]), (4616, [26369, 81319]), (8022, [78222, 81319]), (3500, [91791, 81319]), (760, [56508, 81319]), (1365, [65422, 81319]), (9554, [114816, 81319]), (9725, [98160, 81319]), (522, [8357, 81319]), (7345, [31380, 81319]), (11585, [44654, 81319]), (16144, [80673, 81319]), (10064, [29110, 81319]), (31, [74203, 81319]), (47670, [47670, 81319]), (75808, [60620, 81319]), (6770, [96512, 81319]), (761, [54798, 81319]), (10251, [60782, 81319]), (59, [82451, 81319]), (429, [11869, 81319]), (1861, [72310, 81319]), (1699, [78654, 81319]), (19963, [48293, 81319]), (368, [27772, 81319]), (863, [40565, 81319]), (12323, [94777, 81319]), (702, [57793, 81319]), (803, [11181, 81319]), (545, [26027, 55754]), (487, [41371, 55754]), (1329, [3599, 55754]), (319, [83394, 55754]), (2501, [15059, 55754]), (5689, [53964, 55754]), (933, [13657, 55754]), (25, [80511, 55754]), (1158, [44246, 55754]), (1865, [74046, 55754]), (9, [92304, 55754]), (565, [81862, 55754]), (330, [90485, 55754]), (746, [99840, 55754]), (5163, [61625, 55754]), (26295, [26295, 55754]), (10197, [13604, 55754]), (534, [53978, 55754]), (345, [9133, 55754]), (624, [14157, 55754]), (280, [54112, 55754]), (5723, [25327, 55754]), (2348, [71937, 55754]), (1174, [2529, 80044]), (335, [48319, 80044]), (80044, [22286, 80044]), (2858, [85328, 51353]), (3108, [30586, 51353]), (2153, [37114, 51353]), (1232, [76786, 51353]), (20391, [20391, 51353]), (870, [41717, 51353]), (47938, [62780, 51353]), (551, [32747, 51353]), (3954, [91791, 51353]), (58509, [49529, 51353]), (3, [41955, 51353]), (374, [38684, 51353]), (13663, [15811, 51353]), (197, [91996, 51353]), (22943, [22943, 51353]), (5283, [39648, 51353]), (681, [18656, 51353]), (995, [64911, 51353]), (3413, [28570, 51353]), (2331, [12005, 51353]), (794, [55829, 51353]), (4, [64454, 51353]), (11085, [93572, 51353]), (489, [81228, 71196]), (883, [53717, 71196]), (1071, [20855, 71196]), (1134, [52176, 71196]), (34058, [12779, 71196]), (8507, [8507, 71196]), (457, [85475, 71196]), (311, [45483, 71196]), (58995, [56063, 71196]), (31407, [81954, 71196]), (17197, [23057, 20562]), (100150, [86349, 20562]), (642, [50689, 20562]), (38689, [80751, 20562]), (11468, [14347, 20562]), (3349, [20657, 20562]), (10, [23280, 20562]), (50473, [50473, 20562]), (1270, [45160, 20562]), (304, [9593, 20562]), (10859, [77855, 20562]), (528, [68311, 20562]), (3343, [54530, 20562]), (25449, [25449, 20562]), (25688, [98899, 20562]), (7171, [29065, 120013]), (364, [93933, 120013]), (314, [19244, 120013]), (65775, [65775, 28847]), (56576, [56576, 28847]), (20182, [57430, 28847]), (765, [64696, 28847]), (4421, [80425, 72090]), (63275, [63275, 72090]), (3332, [93829, 72090]), (28, [56861, 72090]), (13107, [14436, 90785]), (20435, [7909, 90785]), (1500, [76115, 90785]), (13502, [87700, 90785]), (20150, [36795, 90785]), (4544, [4544, 125420]), (85652, [85652, 125420]), (8297, [46833, 125420]), (13268, [20496, 125420]), (477, [63295, 125420]), (1666, [28188, 125420]), (2809, [4431, 46562]), (1703, [78433, 46562]), (405, [82827, 46562]), (14586, [14586, 46562]), (570, [84094, 46562]), (4431, [99995, 46562]), (512, [66447, 46562]), (56237, [88904, 122834]), (22308, [25683, 122834]), (5063, [70925, 122834]), (529, [47355, 122834]), (8345, [107301, 122834]), (13289, [32927, 122834]), (3546, [70868, 122834]), (175, [42523, 175]), (58446, [45532, 175]), (31643, [117590, 175]), (69209, [97850, 175]), (401, [50121, 175]), (30512, [120266, 175]), (1179, [1527, 175]), (10572, [75413, 175]), (323, [33511, 175]), (33821, [82546, 175]), (71, [92389, 175]), (30964, [55666, 175]), (4337, [9924, 175]), (83954, [32412, 175]), (749, [50447, 175]), (81, [16523, 175]), (3505, [92069, 175]), (58422, [44479, 175]), (4142, [33190, 175]), (2095, [26295, 175]), (17295, [70237, 6384]), (1388, [93884, 97818]), (5525, [40695, 97818]), (4425, [74102, 97818]), (10000, [50118, 97818]), (48330, [14798, 97818]), (12746, [47703, 97818]), (9388, [43003, 97818]), (871, [87094, 83562]), (83562, [63216, 83562]), (82760, [81790, 82760]), (27361, [93997, 6384]), (320, [66116, 6384]), (20123, [40703, 6384]), (27799, [27799, 28847]), (18487, [49003, 28847]), (35151, [30009, 28847]), (19524, [27179, 28847]), (85419, [108369, 85419]), (482, [31043, 86375]), (30, [23316, 86375]), (2, [82338, 86375]), (1389, [94897, 86375]), (756, [69860, 86375]), (5638, [6071, 86754]), (5658, [12866, 86754]), (35433, [24389, 86754]), (5474, [64320, 86754]), (22441, [83267, 86754]), (37516, [37516, 86754]), (8656, [57898, 86754]), (1850, [1416, 86754]), (1198, [22274, 65844]), (387, [65127, 65844]), (1801, [87720, 65844]), (91114, [91114, 65844]), (73648, [63984, 65844]), (22831, [47069, 86754]), (14415, [27199, 86754]), (15905, [15905, 86754]), (70712, [70712, 86754]), (59243, [110835, 73386]), (10220, [10220, 73386]), (505, [60044, 73386]), (11923, [56715, 73386]), (389, [62018, 73386]), (2124, [15659, 73386]), (2795, [39469, 73386]), (596, [64397, 73386]), (264, [3041, 73386]), (3138, [88062, 73386]), (2073, [48927, 73386]), (673, [17412, 73386]), (13369, [76586, 73386]), (627, [55059, 91095]), (91476, [68729, 91095]), (341, [9138, 91095]), (2452, [16162, 91095]), (2710, [5800, 91095]), (369, [13359, 91095]), (611, [3605, 60280]), (15585, [90311, 60280]), (313, [13604, 92944]), (6624, [63323, 92944]), (1177, [97661, 92944]), (419, [4508, 92944]), (1734, [67847, 118924]), (46808, [46808, 118924]), (7964, [53198, 118924]), (14854, [42652, 79063]), (873, [36510, 79063]), (4887, [22400, 79063]), (57552, [121042, 57552]), (2056, [39872, 57552]), (2036, [69682, 57552]), (30196, [68812, 57552]), (1876, [67901, 57552]), (1034, [85475, 97792]), (639, [102894, 97792]), (10379, [56861, 97792]), (446, [76493, 97792]), (516, [68629, 123820]), (3211, [99133, 123820]), (123820, [122737, 123820]), (4532, [99023, 79063]), (28992, [43947, 12022]), (493, [26638, 12022]), (5394, [37639, 12022]), (997, [38278, 12022]), (740, [17679, 12022]), (18217, [124620, 12022]), (5401, [45868, 23983]), (81474, [66172, 81474]), (595, [83966, 93908]), (5572, [47534, 93908]), (7705, [116729, 93908]), (4708, [11712, 93908]), (30541, [36768, 93908]), (21413, [21413, 86767]), (7503, [43651, 86767]), (16950, [16950, 86767]), (80650, [40378, 57985]), (14184, [36465, 20188]), (886, [70857, 62813]), (379, [42759, 65844]), (19175, [120602, 88654]), (58, [38007, 37225]), (20993, [30178, 37225]), (11199, [34676, 37225]), (13743, [48300, 37225]), (55201, [55201, 37225]), (18476, [126730, 37225]), (9196, [9422, 37225]), (56040, [127935, 37225]), (19317, [99643, 37225]), (2102, [52287, 37225]), (27980, [65053, 37225]), (72414, [72414, 37225]), (267, [65005, 37225]), (21028, [126303, 37225]), (2965, [87432, 37225]), (87747, [87747, 37225]), (29295, [123090, 37225]), (101307, [119491, 37225]), (15052, [12779, 37225]), (5233, [19500, 37225]), (43013, [39886, 37225]), (94969, [56398, 37225]), (19732, [66383, 37225]), (31934, [61294, 37225]), (6328, [13369, 37225]), (6972, [27761, 37225]), (24782, [41344, 37225]), (24595, [92567, 92944]), (12, [10505, 92944]), (23742, [43642, 92944]), (54629, [68326, 92944]), (36761, [124620, 92944]), (4098, [37584, 92944]), (57754, [107241, 57754]), (4393, [87720, 57754]), (2080, [69647, 57754]), (11657, [35820, 118924]), (70333, [70925, 68001]), (439, [83960, 98960]), (449, [53986, 98960]), (11582, [14436, 12022]), (27454, [27454, 12022]), (14798, [79892, 126061]), (19302, [85951, 57552]), (366, [43207, 91095]), (21666, [62649, 91095]), (54733, [54733, 91095]), (11086, [85213, 91095]), (15875, [17412, 91095]), (17714, [46833, 91095]), (24497, [125873, 91095]), (1210, [25683, 6384]), (33324, [33324, 6384]), (4572, [73371, 99886]), (60098, [35764, 99886]), (4274, [30439, 99886]), (11955, [55834, 99886]), (2511, [87302, 99886]), (3743, [3584, 97792]), (3040, [5800, 97792]), (58467, [58474, 58467]), (59414, [59414, 58467]), (16391, [123420, 58467]), (20608, [14193, 58467]), (578, [12996, 97851]), (6158, [30130, 97818]), (7310, [16775, 49746]), (1237, [96457, 49589]), (45221, [22753, 49589]), (2615, [98846, 49589]), (5378, [79182, 49589]), (12488, [75122, 49589]), (2838, [33428, 49589]), (49589, [74162, 49589]), (90, [64454, 49589]), (1996, [48824, 49589]), (948, [84940, 49589]), (85802, [84248, 81319]), (9883, [39106, 81319]), (353, [51234, 125420]), (2652, [31475, 91095]), (2178, [6493, 49589]), (705, [98924, 49589]), (69915, [69536, 49589]), (39615, [32865, 49589]), (128001, [50027, 49589]), (28393, [74875, 49589]), (1025, [56200, 78054]), (28437, [68189, 78054]), (3588, [60785, 78054]), (14790, [14461, 78054]), (947, [33594, 55751]), (61240, [15822, 89865]), (6976, [14349, 89865]), (1898, [26824, 74294]), (22030, [74835, 51353]), (38624, [120602, 110087]), (2717, [47438, 110087]), (34066, [34066, 97818]), (97818, [1241, 97818]), (555, [96255, 105192])])"
      ]
     },
     "execution_count": 44,
     "metadata": {},
     "output_type": "execute_result"
    }
   ],
   "source": [
    "Y_to_U.items()"
   ]
  },
  {
   "cell_type": "code",
   "execution_count": 94,
   "metadata": {},
   "outputs": [
    {
     "name": "stdout",
     "output_type": "stream",
     "text": [
      "final_token_reps.json already exists. Loading final token reps from disk at helloworld1/final_token_reps.json\n"
     ]
    }
   ],
   "source": [
    "def get_final_token_reps(Y_to_U, x_0_ids, model, tokenizer, max_debug=-1):\n",
    "    \"\"\"\n",
    "    Get the final token representations for the given Y_to_U (dict[int, List[int]]).\n",
    "    x_0_ids should be a tensor of shape [1, seq_len] on the model device.\n",
    "\n",
    "    Returns: \n",
    "        final-token_reps: List[Dict[str, Any]] with dict_keys(['y', 'u_list',\n",
    "        'y_str', 'u_str_list', 'final_token_rep']) where 'final_token_rep' \n",
    "        is a list of length num_layers with each element being a list of length hidden_size \n",
    "        corresponding to the final token reps at the given layer. \n",
    "    \"\"\"\n",
    "    final_token_reps = []\n",
    "    cnt = 0 \n",
    "    for y, u_list in tqdm(Y_to_U.items()):\n",
    "        u_tensor = torch.tensor(u_list).unsqueeze(0).to(model.device)\n",
    "        input_ids = torch.cat([u_tensor, x_0_ids], dim=-1)\n",
    "        attn_mask = input_ids != tokenizer.pad_token_id\n",
    "        with torch.no_grad():\n",
    "            outputs = model(input_ids=input_ids, attention_mask=attn_mask, output_hidden_states=True)\n",
    "            hidden_states = outputs.hidden_states # tuple of length num_layers. \n",
    "            # each outputs.hidden_states[i] is tuple of length batch_size\n",
    "            # each outputs.hidden_states[i][0] is of shape [seq_len, hidden_size]\n",
    "            # since we are passing a single input, we only have one element in the tuple \n",
    "            #   outputs.hidden_states[i]\n",
    "            # we want to grab the final token representations for each layer\n",
    "\n",
    "            final_token_rep = []\n",
    "            for i in range(len(hidden_states)):\n",
    "                final_token_rep.append(hidden_states[i][0][-1, :].cpu().numpy().tolist())\n",
    "\n",
    "        final_token_reps.append({\n",
    "            \"y\": y,\n",
    "            \"u_list\": u_list,\n",
    "            \"y_str\": tokenizer.decode(y),\n",
    "            \"u_str_list\": [tokenizer.decode(u) for u in u_list],\n",
    "            \"final_token_rep\": final_token_rep\n",
    "        })\n",
    "        cnt += 1\n",
    "        if max_debug > 0 and cnt >= max_debug:\n",
    "            break\n",
    "    return final_token_reps\n",
    "\n",
    "# check if it exists yet \n",
    "final_tok_reps_path = os.path.join(results_folder, \"final_token_reps.json\")\n",
    "\n",
    "if os.path.exists(final_tok_reps_path):\n",
    "    print(f\"final_token_reps.json already exists. Loading final token reps from disk at {final_tok_reps_path}\")\n",
    "    # load from disk \n",
    "    with open(final_tok_reps_path, \"r\") as f:\n",
    "        final_token_reps = json.load(f)\n",
    "\n",
    "else: \n",
    "    final_token_reps = get_final_token_reps(Y_to_U, x_0_ids, model, tokenizer)\n",
    "\n",
    "    # Save the final token representations to disk\n",
    "    print(\"Saving final token representations to disk...\")\n",
    "    with open(os.path.join(results_folder, \"final_token_reps.json\"), \"w\") as f:\n",
    "        json.dump(final_token_reps, f)\n",
    "    print(\"Done.\")\n",
    "\n"
   ]
  },
  {
   "cell_type": "code",
   "execution_count": 96,
   "metadata": {},
   "outputs": [
    {
     "data": {
      "text/plain": [
       "dict_keys(['y', 'u_list', 'y_str', 'u_str_list', 'final_token_rep'])"
      ]
     },
     "execution_count": 96,
     "metadata": {},
     "output_type": "execute_result"
    }
   ],
   "source": [
    "final_token_reps[0].keys()"
   ]
  },
  {
   "cell_type": "code",
   "execution_count": 97,
   "metadata": {},
   "outputs": [
    {
     "data": {
      "text/plain": [
       "33"
      ]
     },
     "execution_count": 97,
     "metadata": {},
     "output_type": "execute_result"
    }
   ],
   "source": [
    "len(final_token_reps[0]['final_token_rep']) # 33 layers"
   ]
  },
  {
   "cell_type": "code",
   "execution_count": 99,
   "metadata": {},
   "outputs": [
    {
     "data": {
      "text/plain": [
       "4096"
      ]
     },
     "execution_count": 99,
     "metadata": {},
     "output_type": "execute_result"
    }
   ],
   "source": [
    "len(final_token_reps[0]['final_token_rep'][0]) # 4096 is the final token rep on that layer. "
   ]
  },
  {
   "cell_type": "markdown",
   "metadata": {},
   "source": [
    "## 3: PCA on Token Representations\n",
    "\n",
    "In this section we will perform PCA and visualize the tokens in `final_token_reps`, \n",
    "a list of dicts. Each dict corresponds to one prompt-output-token_rep set. \n",
    "We will need to extract the token reps and merge them all into one numpy file, \n",
    "maintaining the same order as in `final_token_reps`. Each token rep in \n",
    "`final_token_reps[i]['final_token_rep']`. \n",
    "\n",
    "We will begin with `final_token_reps[i]['final_token_rep'][-1]` for all i in \n",
    "range len(final_token_reps). This is the final layer (i.e., directly before \n",
    "the logit readout layer) final token representation, so we should see pretty clear \n",
    "delineation between different output representations."
   ]
  },
  {
   "cell_type": "markdown",
   "metadata": {},
   "source": []
  },
  {
   "cell_type": "code",
   "execution_count": 118,
   "metadata": {},
   "outputs": [],
   "source": [
    "import numpy as np\n",
    "from sklearn.decomposition import PCA\n",
    "import plotly.express as px\n",
    "\n",
    "def extract_final_layer_reps(final_token_reps):\n",
    "    final_layer_reps = []\n",
    "    y_labels = []\n",
    "    for rep_dict in final_token_reps:\n",
    "        final_layer_reps.append(rep_dict['final_token_rep'][-1])\n",
    "        y_labels.append(f'y_ids: {rep_dict[\"y\"]} -- y_str: {rep_dict[\"y_str\"]} -- u_str_list: {rep_dict[\"u_str_list\"]}')\n",
    "    return np.array(final_layer_reps), y_labels\n",
    "\n",
    "def perform_pca(final_layer_reps, n_components=3):\n",
    "    pca = PCA(n_components=n_components)\n",
    "    pca_result = pca.fit_transform(final_layer_reps)\n",
    "    print(f\"Explained variance ratio: {pca.explained_variance_ratio_}\")\n",
    "    return pca_result\n",
    "\n",
    "def plot_pca_results(pca_result, y_labels, final_token_reps):\n",
    "    \"\"\"\n",
    "    Plot the PCA results.\n",
    "    Args:\n",
    "        pca_result (np.ndarray): The PCA result from `perform_pca()` raw from pca.fit_transform().\n",
    "        y_labels (List[str]): The labels for each data point (contains u, y, string versions).\n",
    "        final_token_reps (List[Dict[str, Any]]): The final token reps, with dict_keys(['y', 'u_list',\n",
    "        'y_str', 'u_str_list', 'final_token_rep']) \n",
    "    final_token_reps is used to color the dots based on the length of the u_str_list. (TODO)\n",
    "    \"\"\"\n",
    "    u_lengths = [len(rep_dict['u_str_list']) for rep_dict in final_token_reps]\n",
    "    \n",
    "    if pca_result.shape[1] == 3:\n",
    "        fig = px.scatter_3d(x=pca_result[:, 0], y=pca_result[:, 1], z=pca_result[:, 2],\n",
    "                            color=u_lengths, title='PCA Visualization of Final Layer Token Representations',\n",
    "                            labels={'x': 'PC1', 'y': 'PC2', 'z': 'PC3', 'color': 'U Length'},\n",
    "                            hover_data={'y_label': y_labels, 'u_str_list': [rep_dict['u_str_list'] for rep_dict in final_token_reps]})\n",
    "    else:\n",
    "        fig = px.scatter(x=pca_result[:, 0], y=pca_result[:, 1],\n",
    "                         color=u_lengths, title='PCA Visualization of Final Layer Token Representations',\n",
    "                         labels={'x': 'PC1', 'y': 'PC2', 'color': 'U Length'},\n",
    "                         hover_data={'y_label': y_labels, 'u_str_list': [rep_dict['u_str_list'] for rep_dict in final_token_reps]})\n",
    "        \n",
    "    # set title \n",
    "    fig.update_layout(title_text=\"PCA Visualization of Final Layer Token Representations -- x_0 = \" + args['x_0'] + \" |R| = \" + str(len(R_t)))\n",
    "\n",
    "    # set colorscheme \n",
    "    fig.update_traces(marker=dict(size=5,\n",
    "                                  line=dict(width=2,\n",
    "                                            color='DarkSlateGrey')),\n",
    "                  selector=dict(mode='markers'))\n",
    "    \n",
    "    fig.write_html(os.path.join(results_folder, \"pca_final_layer.html\"))\n",
    "    fig.show()"
   ]
  },
  {
   "cell_type": "code",
   "execution_count": 119,
   "metadata": {},
   "outputs": [
    {
     "name": "stdout",
     "output_type": "stream",
     "text": [
      "Final layer reps shape (|R|, d_model):  (424, 4096)\n",
      "y_labels length:  424\n",
      "y_labels example:  [\"y_ids: 284 -- y_str:  = -- u_str_list: ['!']\", \"y_ids: 198 -- y_str: \\n -- u_str_list: ['&']\", \"y_ids: 11 -- y_str: , -- u_str_list: ['(av', 'Abb']\"]\n"
     ]
    }
   ],
   "source": [
    "# Extract final layer token representations\n",
    "final_layer_reps, y_labels = extract_final_layer_reps(final_token_reps)\n",
    "\n",
    "print(\"Final layer reps shape (|R|, d_model): \", final_layer_reps.shape)\n",
    "print(\"y_labels length: \", len(y_labels))\n",
    "print(\"y_labels example: \", y_labels[0:3])"
   ]
  },
  {
   "cell_type": "code",
   "execution_count": 120,
   "metadata": {},
   "outputs": [
    {
     "name": "stdout",
     "output_type": "stream",
     "text": [
      "Explained variance ratio: [0.14734826 0.07061548 0.06241534]\n"
     ]
    },
    {
     "data": {
      "application/vnd.plotly.v1+json": {
       "config": {
        "plotlyServerURL": "https://plot.ly"
       },
       "data": [
        {
         "customdata": [
          [
           "y_ids: 284 -- y_str:  = -- u_str_list: ['!']",
           [
            "!"
           ]
          ],
          [
           "y_ids: 198 -- y_str: \n -- u_str_list: ['&']",
           [
            "&"
           ]
          ],
          [
           "y_ids: 11 -- y_str: , -- u_str_list: ['(av', 'Abb']",
           [
            "(av",
            "Abb"
           ]
          ],
          [
           "y_ids: 2021 -- y_str: .Text -- u_str_list: [' textbox', 'Abb']",
           [
            " textbox",
            "Abb"
           ]
          ],
          [
           "y_ids: 8 -- y_str: ) -- u_str_list: [')(', 'Abb']",
           [
            ")(",
            "Abb"
           ]
          ],
          [
           "y_ids: 13 -- y_str: . -- u_str_list: ['complexType', 'Abb']",
           [
            "complexType",
            "Abb"
           ]
          ],
          [
           "y_ids: 29 -- y_str: > -- u_str_list: [' {{--<', 'Abb']",
           [
            " {{--<",
            "Abb"
           ]
          ],
          [
           "y_ids: 3592 -- y_str: .png -- u_str_list: ['`](', 'Abb']",
           [
            "`](",
            "Abb"
           ]
          ],
          [
           "y_ids: 92 -- y_str: } -- u_str_list: [\"'{\", 'Abb']",
           [
            "'{",
            "Abb"
           ]
          ],
          [
           "y_ids: 1 -- y_str: \" -- u_str_list: ['===\"', 'Abb']",
           [
            "===\"",
            "Abb"
           ]
          ],
          [
           "y_ids: 5 -- y_str: & -- u_str_list: [')&', 'Abb']",
           [
            ")&",
            "Abb"
           ]
          ],
          [
           "y_ids: 518 -- y_str: ', -- u_str_list: [\" (('\", 'Abb']",
           [
            " (('",
            "Abb"
           ]
          ],
          [
           "y_ids: 271 -- y_str: \n\n -- u_str_list: ['`\\n\\n', 'Abb']",
           [
            "`\n\n",
            "Abb"
           ]
          ],
          [
           "y_ids: 498 -- y_str: \", -- u_str_list: ['__(\"', 'Abb']",
           [
            "__(\"",
            "Abb"
           ]
          ],
          [
           "y_ids: 49192 -- y_str: .setObjectName -- u_str_list: ['.lineEdit', 'Abb']",
           [
            ".lineEdit",
            "Abb"
           ]
          ],
          [
           "y_ids: 662 -- y_str: . -- u_str_list: ['Sexy', 'Abb']",
           [
            "Sexy",
            "Abb"
           ]
          ],
          [
           "y_ids: 4924 -- y_str: .jpg -- u_str_list: ['/inc', 'Abb']",
           [
            "/inc",
            "Abb"
           ]
          ],
          [
           "y_ids: 60 -- y_str: ] -- u_str_list: ['[:,:,', 'Abb']",
           [
            "[:,:,",
            "Abb"
           ]
          ],
          [
           "y_ids: 9205 -- y_str: .xml -- u_str_list: ['+xml', 'Abb']",
           [
            "+xml",
            "Abb"
           ]
          ],
          [
           "y_ids: 317 -- y_str: );\n -- u_str_list: ['*>(', 'Abb']",
           [
            "*>(",
            "Abb"
           ]
          ],
          [
           "y_ids: 6 -- y_str: ' -- u_str_list: [' `%', 'Abb']",
           [
            " `%",
            "Abb"
           ]
          ],
          [
           "y_ids: 5747 -- y_str: .setText -- u_str_list: ['\\ttxt', 'Abb']",
           [
            "\ttxt",
            "Abb"
           ]
          ],
          [
           "y_ids: 397 -- y_str: >\n -- u_str_list: ['\"></', 'Abb']",
           [
            "\"></",
            "Abb"
           ]
          ],
          [
           "y_ids: 14 -- y_str: / -- u_str_list: ['(/^', 'Abb']",
           [
            "(/^",
            "Abb"
           ]
          ],
          [
           "y_ids: 1882 -- y_str: ',' -- u_str_list: [\",'\", 'Abb']",
           [
            ",'",
            "Abb"
           ]
          ],
          [
           "y_ids: 3996 -- y_str: .txt -- u_str_list: ['ifstream', 'Abb']",
           [
            "ifstream",
            "Abb"
           ]
          ],
          [
           "y_ids: 340 -- y_str: )\n -- u_str_list: [\"('',\", 'Abb']",
           [
            "('',",
            "Abb"
           ]
          ],
          [
           "y_ids: 62 -- y_str: _ -- u_str_list: ['<_', 'Abb']",
           [
            "<_",
            "Abb"
           ]
          ],
          [
           "y_ids: 3089 -- y_str: \"\" -- u_str_list: ['(\\\\\"', 'Abb']",
           [
            "(\\\"",
            "Abb"
           ]
          ],
          [
           "y_ids: 2247 -- y_str: \",\" -- u_str_list: ['】,', 'Abb']",
           [
            "】,",
            "Abb"
           ]
          ],
          [
           "y_ids: 91 -- y_str: | -- u_str_list: [' :|', 'Abb']",
           [
            " :|",
            "Abb"
           ]
          ],
          [
           "y_ids: 2628 -- y_str: .html -- u_str_list: ['/problem', 'Abb']",
           [
            "/problem",
            "Abb"
           ]
          ],
          [
           "y_ids: 663 -- y_str: '] -- u_str_list: [\")['\", 'Abb']",
           [
            ")['",
            "Abb"
           ]
          ],
          [
           "y_ids: 7356 -- y_str: .cpp -- u_str_list: [' clang', 'Abb']",
           [
            " clang",
            "Abb"
           ]
          ],
          [
           "y_ids: 26 -- y_str: ; -- u_str_list: ['`;', 'Abb']",
           [
            "`;",
            "Abb"
           ]
          ],
          [
           "y_ids: 524 -- y_str: </ -- u_str_list: ['?>\"></', 'Abb']",
           [
            "?>\"></",
            "Abb"
           ]
          ],
          [
           "y_ids: 46636 -- y_str: _TextChanged -- u_str_list: ['_TextChanged', 'Abb']",
           [
            "_TextChanged",
            "Abb"
           ]
          ],
          [
           "y_ids: 4194 -- y_str:   -- u_str_list: ['\\xa0n', 'Abb']",
           [
            " n",
            "Abb"
           ]
          ],
          [
           "y_ids: 34208 -- y_str: 和 -- u_str_list: [' 如果', 'Abb']",
           [
            " 如果",
            "Abb"
           ]
          ],
          [
           "y_ids: 64 -- y_str: a -- u_str_list: [' <!', 'Abb']",
           [
            " <!",
            "Abb"
           ]
          ],
          [
           "y_ids: 9297 -- y_str:  <- -- u_str_list: [' %>', 'Abb']",
           [
            " %>",
            "Abb"
           ]
          ],
          [
           "y_ids: 909 -- y_str: \") -- u_str_list: ['?(\"', 'Abb']",
           [
            "?(\"",
            "Abb"
           ]
          ],
          [
           "y_ids: 16378 -- y_str: .pdf -- u_str_list: [' epub', 'Abb']",
           [
            " epub",
            "Abb"
           ]
          ],
          [
           "y_ids: 1359 -- y_str: ,\" -- u_str_list: ['=?\",', 'Abb']",
           [
            "=?\",",
            "Abb"
           ]
          ],
          [
           "y_ids: 22990 -- y_str: .dll -- u_str_list: ['.WriteAll', 'Abb']",
           [
            ".WriteAll",
            "Abb"
           ]
          ],
          [
           "y_ids: 8439 -- y_str: '} -- u_str_list: [\"={'\", 'Abb']",
           [
            "={'",
            "Abb"
           ]
          ],
          [
           "y_ids: 2927 -- y_str: .js -- u_str_list: ['/***/', 'Abb']",
           [
            "/***/",
            "Abb"
           ]
          ],
          [
           "y_ids: 220 -- y_str:   -- u_str_list: [' 投稿日', 'Abb']",
           [
            " 投稿日",
            "Abb"
           ]
          ],
          [
           "y_ids: 14778 -- y_str: .o -- u_str_list: ['GNUC', 'Abb']",
           [
            "GNUC",
            "Abb"
           ]
          ],
          [
           "y_ids: 916 -- y_str: .com -- u_str_list: [' Www', 'Abb']",
           [
            " Www",
            "Abb"
           ]
          ],
          [
           "y_ids: 612 -- y_str:  & -- u_str_list: [' \\\\\\\\\\n', 'Abb']",
           [
            " \\\\\n",
            "Abb"
           ]
          ],
          [
           "y_ids: 334 -- y_str: ** -- u_str_list: ['**', 'Abb']",
           [
            "**",
            "Abb"
           ]
          ],
          [
           "y_ids: 40709 -- y_str: ⟩ -- u_str_list: [' ⟨', 'Abb']",
           [
            " ⟨",
            "Abb"
           ]
          ],
          [
           "y_ids: 35 -- y_str: D -- u_str_list: [' Petsc', 'Abb']",
           [
            " Petsc",
            "Abb"
           ]
          ],
          [
           "y_ids: 7680 -- y_str: .Image -- u_str_list: ['.ISupportInitialize', 'Abb']",
           [
            ".ISupportInitialize",
            "Abb"
           ]
          ],
          [
           "y_ids: 10591 -- y_str: @gmail -- u_str_list: [\"'email\", 'Abb']",
           [
            "'email",
            "Abb"
           ]
          ],
          [
           "y_ids: 63 -- y_str: ` -- u_str_list: ['`,`', 'Abb']",
           [
            "`,`",
            "Abb"
           ]
          ],
          [
           "y_ids: 28728 -- y_str: .jar -- u_str_list: ['/java', 'Abb']",
           [
            "/java",
            "Abb"
           ]
          ],
          [
           "y_ids: 9318 -- y_str: .frame -- u_str_list: [':CGRectMake', 'Abb']",
           [
            ":CGRectMake",
            "Abb"
           ]
          ],
          [
           "y_ids: 4616 -- y_str: .Location -- u_str_list: ['.ComboBox', 'Abb']",
           [
            ".ComboBox",
            "Abb"
           ]
          ],
          [
           "y_ids: 8022 -- y_str: .pl -- u_str_list: ['/perl', 'Abb']",
           [
            "/perl",
            "Abb"
           ]
          ],
          [
           "y_ids: 3500 -- y_str: }} -- u_str_list: ['{{{', 'Abb']",
           [
            "{{{",
            "Abb"
           ]
          ],
          [
           "y_ids: 760 -- y_str: \"> -- u_str_list: ['.\"<', 'Abb']",
           [
            ".\"<",
            "Abb"
           ]
          ],
          [
           "y_ids: 1365 -- y_str: \"] -- u_str_list: ['()[\"', 'Abb']",
           [
            "()[\"",
            "Abb"
           ]
          ],
          [
           "y_ids: 9554 -- y_str: 的 -- u_str_list: ['讓', 'Abb']",
           [
            "讓",
            "Abb"
           ]
          ],
          [
           "y_ids: 9725 -- y_str: ]( -- u_str_list: ['![', 'Abb']",
           [
            "![",
            "Abb"
           ]
          ],
          [
           "y_ids: 522 -- y_str: .c -- u_str_list: ['/lib', 'Abb']",
           [
            "/lib",
            "Abb"
           ]
          ],
          [
           "y_ids: 7345 -- y_str: .py -- u_str_list: ['Python', 'Abb']",
           [
            "Python",
            "Abb"
           ]
          ],
          [
           "y_ids: 11585 -- y_str: .Rows -- u_str_list: ['DataGridView', 'Abb']",
           [
            "DataGridView",
            "Abb"
           ]
          ],
          [
           "y_ids: 16144 -- y_str: の -- u_str_list: ['しかし', 'Abb']",
           [
            "しかし",
            "Abb"
           ]
          ],
          [
           "y_ids: 10064 -- y_str: }\" -- u_str_list: ['=\"{', 'Abb']",
           [
            "=\"{",
            "Abb"
           ]
          ],
          [
           "y_ids: 31 -- y_str: @ -- u_str_list: ['.Mail', 'Abb']",
           [
            ".Mail",
            "Abb"
           ]
          ],
          [
           "y_ids: 47670 -- y_str: AppDelegate -- u_str_list: ['AppDelegate', 'Abb']",
           [
            "AppDelegate",
            "Abb"
           ]
          ],
          [
           "y_ids: 75808 -- y_str: .xls -- u_str_list: ['xls', 'Abb']",
           [
            "xls",
            "Abb"
           ]
          ],
          [
           "y_ids: 6770 -- y_str: ViewController -- u_str_list: ['viewController', 'Abb']",
           [
            "viewController",
            "Abb"
           ]
          ],
          [
           "y_ids: 761 -- y_str: \",\n -- u_str_list: ['\\'=>\"', 'Abb']",
           [
            "'=>\"",
            "Abb"
           ]
          ],
          [
           "y_ids: 10251 -- y_str: .sql -- u_str_list: ['/sql', 'Abb']",
           [
            "/sql",
            "Abb"
           ]
          ],
          [
           "y_ids: 59 -- y_str: \\ -- u_str_list: ['\\\\\\\\\\\\', 'Abb']",
           [
            "\\\\\\",
            "Abb"
           ]
          ],
          [
           "y_ids: 429 -- y_str: =\" -- u_str_list: ['<form', 'Abb']",
           [
            "<form",
            "Abb"
           ]
          ],
          [
           "y_ids: 1861 -- y_str: '). -- u_str_list: [\"($('.\", 'Abb']",
           [
            "($('.",
            "Abb"
           ]
          ],
          [
           "y_ids: 1699 -- y_str: .log -- u_str_list: ['/logs', 'Abb']",
           [
            "/logs",
            "Abb"
           ]
          ],
          [
           "y_ids: 19963 -- y_str: .exe -- u_str_list: [' exe', 'Abb']",
           [
            " exe",
            "Abb"
           ]
          ],
          [
           "y_ids: 368 -- y_str: () -- u_str_list: [' performs', 'Abb']",
           [
            " performs",
            "Abb"
           ]
          ],
          [
           "y_ids: 863 -- y_str: ” -- u_str_list: ['“He', 'Abb']",
           [
            "“He",
            "Abb"
           ]
          ],
          [
           "y_ids: 12323 -- y_str: .Items -- u_str_list: [' cbo', 'Abb']",
           [
            " cbo",
            "Abb"
           ]
          ],
          [
           "y_ids: 702 -- y_str: \"\n -- u_str_list: ['\"a', 'Abb']",
           [
            "\"a",
            "Abb"
           ]
          ],
          [
           "y_ids: 803 -- y_str: \");\n -- u_str_list: ['(@\"', 'Abb']",
           [
            "(@\"",
            "Abb"
           ]
          ],
          [
           "y_ids: 545 -- y_str: ();\n -- u_str_list: [\"'])){\\n\", 'Cele']",
           [
            "'])){\n",
            "Cele"
           ]
          ],
          [
           "y_ids: 487 -- y_str: :: -- u_str_list: [' \"<?', 'Cele']",
           [
            " \"<?",
            "Cele"
           ]
          ],
          [
           "y_ids: 1329 -- y_str: ')\n -- u_str_list: [\"('#\", 'Cele']",
           [
            "('#",
            "Cele"
           ]
          ],
          [
           "y_ids: 319 -- y_str: \r\n -- u_str_list: [' -*-\\r\\n', 'Cele']",
           [
            " -*-\r\n",
            "Cele"
           ]
          ],
          [
           "y_ids: 2501 -- y_str: << -- u_str_list: [' \"<<', 'Cele']",
           [
            " \"<<",
            "Cele"
           ]
          ],
          [
           "y_ids: 5689 -- y_str: \"+ -- u_str_list: [']+\"', 'Cele']",
           [
            "]+\"",
            "Cele"
           ]
          ],
          [
           "y_ids: 933 -- y_str: ]\n -- u_str_list: ['#[', 'Cele']",
           [
            "#[",
            "Cele"
           ]
          ],
          [
           "y_ids: 25 -- y_str: : -- u_str_list: [':{}', 'Cele']",
           [
            ":{}",
            "Cele"
           ]
          ],
          [
           "y_ids: 1158 -- y_str: \")\n -- u_str_list: [' \"\\\\(', 'Cele']",
           [
            " \"\\(",
            "Cele"
           ]
          ],
          [
           "y_ids: 1865 -- y_str: \"). -- u_str_list: [' ($(\"#', 'Cele']",
           [
            " ($(\"#",
            "Cele"
           ]
          ],
          [
           "y_ids: 9 -- y_str: * -- u_str_list: [' *\"', 'Cele']",
           [
            " *\"",
            "Cele"
           ]
          ],
          [
           "y_ids: 565 -- y_str: __ -- u_str_list: [\"['__\", 'Cele']",
           [
            "['__",
            "Cele"
           ]
          ],
          [
           "y_ids: 330 -- y_str:  \" -- u_str_list: ['(defvar', 'Cele']",
           [
            "(defvar",
            "Cele"
           ]
          ],
          [
           "y_ids: 746 -- y_str: ()\n -- u_str_list: ['\\tUFUNCTION', 'Cele']",
           [
            "\tUFUNCTION",
            "Cele"
           ]
          ],
          [
           "y_ids: 5163 -- y_str: ]] -- u_str_list: [' ([[', 'Cele']",
           [
            " ([[",
            "Cele"
           ]
          ],
          [
           "y_ids: 26295 -- y_str: .Controllers -- u_str_list: ['.Controllers', 'Cele']",
           [
            ".Controllers",
            "Cele"
           ]
          ],
          [
           "y_ids: 10197 -- y_str: -->\n -- u_str_list: ['><!--', 'Cele']",
           [
            "><!--",
            "Cele"
           ]
          ],
          [
           "y_ids: 534 -- y_str: }\n -- u_str_list: ['>{@', 'Cele']",
           [
            ">{@",
            "Cele"
           ]
          ],
          [
           "y_ids: 345 -- y_str: ,\n -- u_str_list: ['([\\n', 'Cele']",
           [
            "([\n",
            "Cele"
           ]
          ],
          [
           "y_ids: 624 -- y_str:  == -- u_str_list: [' (!(', 'Cele']",
           [
            " (!(",
            "Cele"
           ]
          ],
          [
           "y_ids: 280 -- y_str: ;\n -- u_str_list: ['\\tDECLARE', 'Cele']",
           [
            "\tDECLARE",
            "Cele"
           ]
          ],
          [
           "y_ids: 5723 -- y_str: \\< -- u_str_list: [' (\\\\<', 'Cele']",
           [
            " (\\<",
            "Cele"
           ]
          ],
          [
           "y_ids: 2348 -- y_str: .php -- u_str_list: [\"__.'/\", 'Cele']",
           [
            "__.'/",
            "Cele"
           ]
          ],
          [
           "y_ids: 1174 -- y_str: , -- u_str_list: [' },', ' Kurdistan']",
           [
            " },",
            " Kurdistan"
           ]
          ],
          [
           "y_ids: 335 -- y_str:  } -- u_str_list: [' \"{{', ' Kurdistan']",
           [
            " \"{{",
            " Kurdistan"
           ]
          ],
          [
           "y_ids: 80044 -- y_str:  Kurdistan -- u_str_list: ['(jPanel', ' Kurdistan']",
           [
            "(jPanel",
            " Kurdistan"
           ]
          ],
          [
           "y_ids: 2858 -- y_str: .text -- u_str_list: ['textView', ' McD']",
           [
            "textView",
            " McD"
           ]
          ],
          [
           "y_ids: 3108 -- y_str: (){\n -- u_str_list: ['=function', ' McD']",
           [
            "=function",
            " McD"
           ]
          ],
          [
           "y_ids: 2153 -- y_str: \\\" -- u_str_list: ['(\\\\\"', ' McD']",
           [
            "(\\\"",
            " McD"
           ]
          ],
          [
           "y_ids: 1232 -- y_str: ': -- u_str_list: [\"',{'\", ' McD']",
           [
            "',{'",
            " McD"
           ]
          ],
          [
           "y_ids: 20391 -- y_str: .setFont -- u_str_list: ['.setFont', ' McD']",
           [
            ".setFont",
            " McD"
           ]
          ],
          [
           "y_ids: 870 -- y_str: .h -- u_str_list: ['(QWidget', ' McD']",
           [
            "(QWidget",
            " McD"
           ]
          ],
          [
           "y_ids: 47938 -- y_str: .xlsx -- u_str_list: ['(sheet', ' McD']",
           [
            "(sheet",
            " McD"
           ]
          ],
          [
           "y_ids: 551 -- y_str:  : -- u_str_list: [' forall', ' McD']",
           [
            " forall",
            " McD"
           ]
          ],
          [
           "y_ids: 3954 -- y_str:  }} -- u_str_list: ['{{{', ' McD']",
           [
            "{{{",
            " McD"
           ]
          ],
          [
           "y_ids: 58509 -- y_str: .ml -- u_str_list: ['_Syntax', ' McD']",
           [
            "_Syntax",
            " McD"
           ]
          ],
          [
           "y_ids: 3 -- y_str: $ -- u_str_list: ['_${', ' McD']",
           [
            "_${",
            " McD"
           ]
          ],
          [
           "y_ids: 374 -- y_str:  is -- u_str_list: ['“If', ' McD']",
           [
            "“If",
            " McD"
           ]
          ],
          [
           "y_ids: 13663 -- y_str: .setOnClickListener -- u_str_list: ['.OnClickListener', ' McD']",
           [
            ".OnClickListener",
            " McD"
           ]
          ],
          [
           "y_ids: 197 -- y_str: \t -- u_str_list: ['\\tusers', ' McD']",
           [
            "\tusers",
            " McD"
           ]
          ],
          [
           "y_ids: 22943 -- y_str: .addActionListener -- u_str_list: ['.addActionListener', ' McD']",
           [
            ".addActionListener",
            " McD"
           ]
          ],
          [
           "y_ids: 5283 -- y_str: +\" -- u_str_list: ['=\\'\"+', ' McD']",
           [
            "='\"+",
            " McD"
           ]
          ],
          [
           "y_ids: 681 -- y_str: [' -- u_str_list: [\"'][$\", ' McD']",
           [
            "'][$",
            " McD"
           ]
          ],
          [
           "y_ids: 995 -- y_str: .set -- u_str_list: ['.setPassword', ' McD']",
           [
            ".setPassword",
            " McD"
           ]
          ],
          [
           "y_ids: 3413 -- y_str: Module -- u_str_list: ['@NgModule', ' McD']",
           [
            "@NgModule",
            " McD"
           ]
          ],
          [
           "y_ids: 2331 -- y_str:  ] -- u_str_list: [' ([', ' McD']",
           [
            " ([",
            " McD"
           ]
          ],
          [
           "y_ids: 794 -- y_str: \": -- u_str_list: [',{\"', ' McD']",
           [
            ",{\"",
            " McD"
           ]
          ],
          [
           "y_ids: 4 -- y_str: % -- u_str_list: [\",'%\", ' McD']",
           [
            ",'%",
            " McD"
           ]
          ],
          [
           "y_ids: 11085 -- y_str: .java -- u_str_list: ['RecognitionException', ' McD']",
           [
            "RecognitionException",
            " McD"
           ]
          ],
          [
           "y_ids: 489 -- y_str:  + -- u_str_list: ['[\"+', ' Jeb']",
           [
            "[\"+",
            " Jeb"
           ]
          ],
          [
           "y_ids: 883 -- y_str:  ) -- u_str_list: [' _(', ' Jeb']",
           [
            " _(",
            " Jeb"
           ]
          ],
          [
           "y_ids: 1071 -- y_str:  said -- u_str_list: ['.As', ' Jeb']",
           [
            ".As",
            " Jeb"
           ]
          ],
          [
           "y_ids: 1134 -- y_str:  << -- u_str_list: ['()<<', ' Jeb']",
           [
            "()<<",
            " Jeb"
           ]
          ],
          [
           "y_ids: 34058 -- y_str:  varchar -- u_str_list: [' INTO', ' Jeb']",
           [
            " INTO",
            " Jeb"
           ]
          ],
          [
           "y_ids: 8507 -- y_str: =new -- u_str_list: ['=new', ' Jeb']",
           [
            "=new",
            " Jeb"
           ]
          ],
          [
           "y_ids: 457 -- y_str:  }\n -- u_str_list: ['=\"{!!', ' Jeb']",
           [
            "=\"{!!",
            " Jeb"
           ]
          ],
          [
           "y_ids: 311 -- y_str:  to -- u_str_list: ['(Convert', ' Jeb']",
           [
            "(Convert",
            " Jeb"
           ]
          ],
          [
           "y_ids: 58995 -- y_str: .tex -- u_str_list: ['TeX', ' Jeb']",
           [
            "TeX",
            " Jeb"
           ]
          ],
          [
           "y_ids: 31407 -- y_str: .getSelected -- u_str_list: ['.getValueAt', ' Jeb']",
           [
            ".getValueAt",
            " Jeb"
           ]
          ],
          [
           "y_ids: 17197 -- y_str: ToolStripMenuItem -- u_str_list: ['.ToolStripMenuItem', ' COVID']",
           [
            ".ToolStripMenuItem",
            " COVID"
           ]
          ],
          [
           "y_ids: 100150 -- y_str: .fasta -- u_str_list: [' fasta', ' COVID']",
           [
            " fasta",
            " COVID"
           ]
          ],
          [
           "y_ids: 642 -- y_str:  */ -- u_str_list: ['(/*', ' COVID']",
           [
            "(/*",
            " COVID"
           ]
          ],
          [
           "y_ids: 38689 -- y_str:  VARCHAR -- u_str_list: ['VARCHAR', ' COVID']",
           [
            "VARCHAR",
            " COVID"
           ]
          ],
          [
           "y_ids: 11468 -- y_str: .csv -- u_str_list: ['_csv', ' COVID']",
           [
            "_csv",
            " COVID"
           ]
          ],
          [
           "y_ids: 3349 -- y_str: :( -- u_str_list: ['IBAction', ' COVID']",
           [
            "IBAction",
            " COVID"
           ]
          ],
          [
           "y_ids: 10 -- y_str: + -- u_str_list: ['=\"\\'.$', ' COVID']",
           [
            "=\"'.$",
            " COVID"
           ]
          ],
          [
           "y_ids: 50473 -- y_str: .pem -- u_str_list: ['.pem', ' COVID']",
           [
            ".pem",
            " COVID"
           ]
          ],
          [
           "y_ids: 1270 -- y_str: '\n -- u_str_list: [\"='\\\\\", ' COVID']",
           [
            "='\\",
            " COVID"
           ]
          ],
          [
           "y_ids: 304 -- y_str:  in -- u_str_list: ['\\tforeach', ' COVID']",
           [
            "\tforeach",
            " COVID"
           ]
          ],
          [
           "y_ids: 10859 -- y_str: .addEventListener -- u_str_list: [' fireEvent', ' COVID']",
           [
            " fireEvent",
            " COVID"
           ]
          ],
          [
           "y_ids: 528 -- y_str:  int -- u_str_list: ['\\tId', ' COVID']",
           [
            "\tId",
            " COVID"
           ]
          ],
          [
           "y_ids: 3343 -- y_str: \". -- u_str_list: ['(\"{}', ' COVID']",
           [
            "(\"{}",
            " COVID"
           ]
          ],
          [
           "y_ids: 25449 -- y_str: ActionPerformed -- u_str_list: ['ActionPerformed', ' COVID']",
           [
            "ActionPerformed",
            " COVID"
           ]
          ],
          [
           "y_ids: 25688 -- y_str: .aspx -- u_str_list: ['StartupScript', ' COVID']",
           [
            "StartupScript",
            " COVID"
           ]
          ],
          [
           "y_ids: 7171 -- y_str: \"]\n -- u_str_list: ['=[\"', ' Hlav']",
           [
            "=[\"",
            " Hlav"
           ]
          ],
          [
           "y_ids: 364 -- y_str:  ' -- u_str_list: [\" (('\", ' Hlav']",
           [
            " (('",
            " Hlav"
           ]
          ],
          [
           "y_ids: 314 -- y_str:  { -- u_str_list: [\"$('.\", ' Hlav']",
           [
            "$('.",
            " Hlav"
           ]
          ],
          [
           "y_ids: 65775 -- y_str: .scala -- u_str_list: ['.scala', ' unve']",
           [
            ".scala",
            " unve"
           ]
          ],
          [
           "y_ids: 56576 -- y_str: .bmp -- u_str_list: ['.bmp', ' unve']",
           [
            ".bmp",
            " unve"
           ]
          ],
          [
           "y_ids: 20182 -- y_str: ’, -- u_str_list: [\"[['\", ' unve']",
           [
            "[['",
            " unve"
           ]
          ],
          [
           "y_ids: 765 -- y_str:  | -- u_str_list: [' |\\\\', ' unve']",
           [
            " |\\",
            " unve"
           ]
          ],
          [
           "y_ids: 4421 -- y_str: .json -- u_str_list: ['(JSONObject', '-Israel']",
           [
            "(JSONObject",
            "-Israel"
           ]
          ],
          [
           "y_ids: 63275 -- y_str: ','# -- u_str_list: [\"','#\", '-Israel']",
           [
            "','#",
            "-Israel"
           ]
          ],
          [
           "y_ids: 3332 -- y_str: \":\" -- u_str_list: ['\\\\\":{\\\\\"', '-Israel']",
           [
            "\\\":{\\\"",
            "-Israel"
           ]
          ],
          [
           "y_ids: 28 -- y_str: = -- u_str_list: [\"=\\\\'\", '-Israel']",
           [
            "=\\'",
            "-Israel"
           ]
          ],
          [
           "y_ids: 13107 -- y_str: }}</ -- u_str_list: ['\">{{', 'Celebr']",
           [
            "\">{{",
            "Celebr"
           ]
          ],
          [
           "y_ids: 20435 -- y_str: \"<< -- u_str_list: ['<<\"', 'Celebr']",
           [
            "<<\"",
            "Celebr"
           ]
          ],
          [
           "y_ids: 1500 -- y_str: ></ -- u_str_list: [' }}\"><', 'Celebr']",
           [
            " }}\"><",
            "Celebr"
           ]
          ],
          [
           "y_ids: 13502 -- y_str: .innerHTML -- u_str_list: ['\\'>\"+', 'Celebr']",
           [
            "'>\"+",
            "Celebr"
           ]
          ],
          [
           "y_ids: 20150 -- y_str: >', -- u_str_list: [\"='<\", 'Celebr']",
           [
            "='<",
            "Celebr"
           ]
          ],
          [
           "y_ids: 4544 -- y_str:  \\< -- u_str_list: [' \\\\<', ' Stad']",
           [
            " \\<",
            " Stad"
           ]
          ],
          [
           "y_ids: 85652 -- y_str: .avi -- u_str_list: ['.avi', ' Stad']",
           [
            ".avi",
            " Stad"
           ]
          ],
          [
           "y_ids: 8297 -- y_str: .transform -- u_str_list: ['.localScale', ' Stad']",
           [
            ".localScale",
            " Stad"
           ]
          ],
          [
           "y_ids: 13268 -- y_str: .BackColor -- u_str_list: ['.FromArgb', ' Stad']",
           [
            ".FromArgb",
            " Stad"
           ]
          ],
          [
           "y_ids: 477 -- y_str:  or -- u_str_list: ['Neither', ' Stad']",
           [
            "Neither",
            " Stad"
           ]
          ],
          [
           "y_ids: 1666 -- y_str:  As -- u_str_list: [' ByVal', ' Stad']",
           [
            " ByVal",
            " Stad"
           ]
          ],
          [
           "y_ids: 2809 -- y_str: (const -- u_str_list: ['(void', ' Dipl']",
           [
            "(void",
            " Dipl"
           ]
          ],
          [
           "y_ids: 1703 -- y_str:  := -- u_str_list: ['\\tmock', ' Dipl']",
           [
            "\tmock",
            " Dipl"
           ]
          ],
          [
           "y_ids: 405 -- y_str: -> -- u_str_list: ['.setStyleSheet', ' Dipl']",
           [
            ".setStyleSheet",
            " Dipl"
           ]
          ],
          [
           "y_ids: 14586 -- y_str: ::~ -- u_str_list: ['::~', ' Dipl']",
           [
            "::~",
            " Dipl"
           ]
          ],
          [
           "y_ids: 570 -- y_str: ). -- u_str_list: [' $(\"#\"', ' Dipl']",
           [
            " $(\"#\"",
            " Dipl"
           ]
          ],
          [
           "y_ids: 4431 -- y_str: (void -- u_str_list: [',void', ' Dipl']",
           [
            ",void",
            " Dipl"
           ]
          ],
          [
           "y_ids: 512 -- y_str: :\n -- u_str_list: ['ebp', ' Dipl']",
           [
            "ebp",
            " Dipl"
           ]
          ],
          [
           "y_ids: 56237 -- y_str: .asm -- u_str_list: ['getSource', ' Záp']",
           [
            "getSource",
            " Záp"
           ]
          ],
          [
           "y_ids: 22308 -- y_str: ″ -- u_str_list: ['=\\'\".$', ' Záp']",
           [
            "='\".$",
            " Záp"
           ]
          ],
          [
           "y_ids: 5063 -- y_str: (L -- u_str_list: [' invokevirtual', ' Záp']",
           [
            " invokevirtual",
            " Záp"
           ]
          ],
          [
           "y_ids: 529 -- y_str: ’ -- u_str_list: [\"=('\", ' Záp']",
           [
            "=('",
            " Záp"
           ]
          ],
          [
           "y_ids: 8345 -- y_str:  » -- u_str_list: [' 『', ' Záp']",
           [
            " 『",
            " Záp"
           ]
          ],
          [
           "y_ids: 13289 -- y_str: » -- u_str_list: [\" [['\", ' Záp']",
           [
            " [['",
            " Záp"
           ]
          ],
          [
           "y_ids: 3546 -- y_str: \\x -- u_str_list: [\"('{}\", ' Záp']",
           [
            "('{}",
            " Záp"
           ]
          ],
          [
           "y_ids: 175 -- y_str: � -- u_str_list: [' *****', '�']",
           [
            " *****",
            "�"
           ]
          ],
          [
           "y_ids: 58446 -- y_str: .hs -- u_str_list: [' Perl', '�']",
           [
            " Perl",
            "�"
           ]
          ],
          [
           "y_ids: 31643 -- y_str: ️ -- u_str_list: ['ุตบอล', '�']",
           [
            "ุตบอล",
            "�"
           ]
          ],
          [
           "y_ids: 69209 -- y_str: › -- u_str_list: ['|^', '�']",
           [
            "|^",
            "�"
           ]
          ],
          [
           "y_ids: 401 -- y_str: ;\n\n -- u_str_list: ['.super', '�']",
           [
            ".super",
            "�"
           ]
          ],
          [
           "y_ids: 30512 -- y_str: を -- u_str_list: ['ことに', '�']",
           [
            "ことに",
            "�"
           ]
          ],
          [
           "y_ids: 1179 -- y_str:  import -- u_str_list: ['from', '�']",
           [
            "from",
            "�"
           ]
          ],
          [
           "y_ids: 10572 -- y_str: .Models -- u_str_list: ['HasForeignKey', '�']",
           [
            "HasForeignKey",
            "�"
           ]
          ],
          [
           "y_ids: 323 -- y_str:  and -- u_str_list: [' combines', '�']",
           [
            " combines",
            "�"
           ]
          ],
          [
           "y_ids: 33821 -- y_str: :hover -- u_str_list: ['mouseleave', '�']",
           [
            "mouseleave",
            "�"
           ]
          ],
          [
           "y_ids: 71 -- y_str: h -- u_str_list: ['gcd', '�']",
           [
            "gcd",
            "�"
           ]
          ],
          [
           "y_ids: 30964 -- y_str: .wav -- u_str_list: [' jpeg', '�']",
           [
            " jpeg",
            "�"
           ]
          ],
          [
           "y_ids: 4337 -- y_str: .Controls -- u_str_list: ['.panel', '�']",
           [
            ".panel",
            "�"
           ]
          ],
          [
           "y_ids: 83954 -- y_str: <\\/ -- u_str_list: ['umbnails', '�']",
           [
            "umbnails",
            "�"
           ]
          ],
          [
           "y_ids: 749 -- y_str: .m -- u_str_list: [' MATLAB', '�']",
           [
            " MATLAB",
            "�"
           ]
          ],
          [
           "y_ids: 81 -- y_str: r -- u_str_list: ['[r', '�']",
           [
            "[r",
            "�"
           ]
          ],
          [
           "y_ids: 3505 -- y_str: \\\\ -- u_str_list: ['$filter', '�']",
           [
            "$filter",
            "�"
           ]
          ],
          [
           "y_ids: 58422 -- y_str: .proto -- u_str_list: ['.protobuf', '�']",
           [
            ".protobuf",
            "�"
           ]
          ],
          [
           "y_ids: 4142 -- y_str: Activity -- u_str_list: ['(getActivity', '�']",
           [
            "(getActivity",
            "�"
           ]
          ],
          [
           "y_ids: 2095 -- y_str: Controller -- u_str_list: ['.Controllers', '�']",
           [
            ".Controllers",
            "�"
           ]
          ],
          [
           "y_ids: 17295 -- y_str: .mp -- u_str_list: [' AudioClip', ' Democr']",
           [
            " AudioClip",
            " Democr"
           ]
          ],
          [
           "y_ids: 1388 -- y_str: .add -- u_str_list: ['=add', 'Iraq']",
           [
            "=add",
            "Iraq"
           ]
          ],
          [
           "y_ids: 5525 -- y_str: }) -- u_str_list: [' ``(', 'Iraq']",
           [
            " ``(",
            "Iraq"
           ]
          ],
          [
           "y_ids: 4425 -- y_str: .css -- u_str_list: ['(css', 'Iraq']",
           [
            "(css",
            "Iraq"
           ]
          ],
          [
           "y_ids: 10000 -- y_str: .grid -- u_str_list: ['\\tgrid', 'Iraq']",
           [
            "\tgrid",
            "Iraq"
           ]
          ],
          [
           "y_ids: 48330 -- y_str: .onclick -- u_str_list: ['.click', 'Iraq']",
           [
            ".click",
            "Iraq"
           ]
          ],
          [
           "y_ids: 12746 -- y_str: .appendChild -- u_str_list: ['appendTo', 'Iraq']",
           [
            "appendTo",
            "Iraq"
           ]
          ],
          [
           "y_ids: 9388 -- y_str: \"} -- u_str_list: ['__[\"', 'Iraq']",
           [
            "__[\"",
            "Iraq"
           ]
          ],
          [
           "y_ids: 871 -- y_str:  > -- u_str_list: ['(`<', ' Yah']",
           [
            "(`<",
            " Yah"
           ]
          ],
          [
           "y_ids: 83562 -- y_str:  Yah -- u_str_list: ['\\tiVar', ' Yah']",
           [
            "\tiVar",
            " Yah"
           ]
          ],
          [
           "y_ids: 82760 -- y_str:  Byz -- u_str_list: ['<TreeNode', ' Byz']",
           [
            "<TreeNode",
            " Byz"
           ]
          ],
          [
           "y_ids: 27361 -- y_str: .duration -- u_str_list: ['(withDuration', ' Democr']",
           [
            "(withDuration",
            " Democr"
           ]
          ],
          [
           "y_ids: 320 -- y_str:  ( -- u_str_list: ['_),', ' Democr']",
           [
            "_),",
            " Democr"
           ]
          ],
          [
           "y_ids: 20123 -- y_str: _Load -- u_str_list: ['.ComponentResourceManager', ' Democr']",
           [
            ".ComponentResourceManager",
            " Democr"
           ]
          ],
          [
           "y_ids: 27799 -- y_str: .patch -- u_str_list: ['.patch', ' unve']",
           [
            ".patch",
            " unve"
           ]
          ],
          [
           "y_ids: 18487 -- y_str: .go -- u_str_list: ['\\targ', ' unve']",
           [
            "\targ",
            " unve"
           ]
          ],
          [
           "y_ids: 35151 -- y_str: .sys -- u_str_list: [' Sys', ' unve']",
           [
            " Sys",
            " unve"
           ]
          ],
          [
           "y_ids: 19524 -- y_str:  ” -- u_str_list: [' (“', ' unve']",
           [
            " (“",
            " unve"
           ]
          ],
          [
           "y_ids: 85419 -- y_str:  Heb -- u_str_list: [' بیر', ' Heb']",
           [
            " بیر",
            " Heb"
           ]
          ],
          [
           "y_ids: 482 -- y_str:  - -- u_str_list: ['\\tstrcpy', '?option']",
           [
            "\tstrcpy",
            "?option"
           ]
          ],
          [
           "y_ids: 30 -- y_str: ? -- u_str_list: [' /*!', '?option']",
           [
            " /*!",
            "?option"
           ]
          ],
          [
           "y_ids: 2 -- y_str: # -- u_str_list: [' \"&#', '?option']",
           [
            " \"&#",
            "?option"
           ]
          ],
          [
           "y_ids: 1389 -- y_str:  – -- u_str_list: [' `-', '?option']",
           [
            " `-",
            "?option"
           ]
          ],
          [
           "y_ids: 756 -- y_str: ',\n -- u_str_list: ['(\"\"\"\\n', '?option']",
           [
            "(\"\"\"\n",
            "?option"
           ]
          ],
          [
           "y_ids: 5638 -- y_str: \"]. -- u_str_list: [' $(\"#', 'Prosec']",
           [
            " $(\"#",
            "Prosec"
           ]
          ],
          [
           "y_ids: 5658 -- y_str: }` -- u_str_list: ['=${', 'Prosec']",
           [
            "=${",
            "Prosec"
           ]
          ],
          [
           "y_ids: 35433 -- y_str: \\\",\\\" -- u_str_list: ['\\\\\":\\\\\"', 'Prosec']",
           [
            "\\\":\\\"",
            "Prosec"
           ]
          ],
          [
           "y_ids: 5474 -- y_str: }</ -- u_str_list: [\"'>{\", 'Prosec']",
           [
            "'>{",
            "Prosec"
           ]
          ],
          [
           "y_ids: 22441 -- y_str: .DataSource -- u_str_list: ['.BindingSource', 'Prosec']",
           [
            ".BindingSource",
            "Prosec"
           ]
          ],
          [
           "y_ids: 37516 -- y_str: ].[ -- u_str_list: ['].[', 'Prosec']",
           [
            "].[",
            "Prosec"
           ]
          ],
          [
           "y_ids: 8656 -- y_str: (uint -- u_str_list: [',uint', 'Prosec']",
           [
            ",uint",
            "Prosec"
           ]
          ],
          [
           "y_ids: 1850 -- y_str: */ -- u_str_list: [' /*', 'Prosec']",
           [
            " /*",
            "Prosec"
           ]
          ],
          [
           "y_ids: 1198 -- y_str:  -- -- u_str_list: ['(\"--', ' aseg']",
           [
            "(\"--",
            " aseg"
           ]
          ],
          [
           "y_ids: 387 -- y_str:  be -- u_str_list: ['.Does', ' aseg']",
           [
            ".Does",
            " aseg"
           ]
          ],
          [
           "y_ids: 1801 -- y_str: .id -- u_str_list: ['(SELECT', ' aseg']",
           [
            "(SELECT",
            " aseg"
           ]
          ],
          [
           "y_ids: 91114 -- y_str: .fits -- u_str_list: ['.fits', ' aseg']",
           [
            ".fits",
            " aseg"
           ]
          ],
          [
           "y_ids: 73648 -- y_str: .appspot -- u_str_list: ['.jsdelivr', ' aseg']",
           [
            ".jsdelivr",
            " aseg"
           ]
          ],
          [
           "y_ids: 22831 -- y_str: .views -- u_str_list: [\"/$',\", 'Prosec']",
           [
            "/$',",
            "Prosec"
           ]
          ],
          [
           "y_ids: 14415 -- y_str: $$ -- u_str_list: [' $$', 'Prosec']",
           [
            " $$",
            "Prosec"
           ]
          ],
          [
           "y_ids: 15905 -- y_str: .ResumeLayout -- u_str_list: ['.ResumeLayout', 'Prosec']",
           [
            ".ResumeLayout",
            "Prosec"
           ]
          ],
          [
           "y_ids: 70712 -- y_str: .grpc -- u_str_list: ['.grpc', 'Prosec']",
           [
            ".grpc",
            "Prosec"
           ]
          ],
          [
           "y_ids: 59243 -- y_str:  和 -- u_str_list: ['两个', ' Ibn']",
           [
            "两个",
            " Ibn"
           ]
          ],
          [
           "y_ids: 10220 -- y_str: .getText -- u_str_list: ['.getText', ' Ibn']",
           [
            ".getText",
            " Ibn"
           ]
          ],
          [
           "y_ids: 505 -- y_str:  from -- u_str_list: [' barred', ' Ibn']",
           [
            " barred",
            " Ibn"
           ]
          ],
          [
           "y_ids: 11923 -- y_str: }' -- u_str_list: [\"='{$\", ' Ibn']",
           [
            "='{$",
            " Ibn"
           ]
          ],
          [
           "y_ids: 389 -- y_str:  on -- u_str_list: [' punched', ' Ibn']",
           [
            " punched",
            " Ibn"
           ]
          ],
          [
           "y_ids: 2124 -- y_str: .is -- u_str_list: ['.assertTrue', ' Ibn']",
           [
            ".assertTrue",
            " Ibn"
           ]
          ],
          [
           "y_ids: 2795 -- y_str:  says -- u_str_list: ['\"When', ' Ibn']",
           [
            "\"When",
            " Ibn"
           ]
          ],
          [
           "y_ids: 596 -- y_str: 's -- u_str_list: [' resolves', ' Ibn']",
           [
            " resolves",
            " Ibn"
           ]
          ],
          [
           "y_ids: 264 -- y_str:  a -- u_str_list: [' give', ' Ibn']",
           [
            " give",
            " Ibn"
           ]
          ],
          [
           "y_ids: 3138 -- y_str: _get -- u_str_list: ['gboolean', ' Ibn']",
           [
            "gboolean",
            " Ibn"
           ]
          ],
          [
           "y_ids: 2073 -- y_str:  und -- u_str_list: [' müssen', ' Ibn']",
           [
            " müssen",
            " Ibn"
           ]
          ],
          [
           "y_ids: 673 -- y_str: .get -- u_str_list: [' assertThat', ' Ibn']",
           [
            " assertThat",
            " Ibn"
           ]
          ],
          [
           "y_ids: 13369 -- y_str:  JOIN -- u_str_list: ['JOIN', ' Ibn']",
           [
            "JOIN",
            " Ibn"
           ]
          ],
          [
           "y_ids: 627 -- y_str: .\n -- u_str_list: [' eapply', ' Sharia']",
           [
            " eapply",
            " Sharia"
           ]
          ],
          [
           "y_ids: 91476 -- y_str: .rar -- u_str_list: [' 파일', ' Sharia']",
           [
            " 파일",
            " Sharia"
           ]
          ],
          [
           "y_ids: 341 -- y_str:  {\n -- u_str_list: ['\\tswitch', ' Sharia']",
           [
            "\tswitch",
            " Sharia"
           ]
          ],
          [
           "y_ids: 2452 -- y_str: .sh -- u_str_list: ['=$(', ' Sharia']",
           [
            "=$(",
            " Sharia"
           ]
          ],
          [
           "y_ids: 2710 -- y_str: .name -- u_str_list: ['=\"{{', ' Sharia']",
           [
            "=\"{{",
            " Sharia"
           ]
          ],
          [
           "y_ids: 369 -- y_str:  for -- u_str_list: ['Thank', ' Sharia']",
           [
            "Thank",
            " Sharia"
           ]
          ],
          [
           "y_ids: 611 -- y_str:  / -- u_str_list: [' \"/', ' Scandin']",
           [
            " \"/",
            " Scandin"
           ]
          ],
          [
           "y_ids: 15585 -- y_str: .svg -- u_str_list: ['<path', ' Scandin']",
           [
            "<path",
            " Scandin"
           ]
          ],
          [
           "y_ids: 313 -- y_str: -- -- u_str_list: ['><!--', 'Nike']",
           [
            "><!--",
            "Nike"
           ]
          ],
          [
           "y_ids: 6624 -- y_str: .equals -- u_str_list: [' ElseIf', 'Nike']",
           [
            " ElseIf",
            "Nike"
           ]
          ],
          [
           "y_ids: 1177 -- y_str: ');\n -- u_str_list: [\"=$('#\", 'Nike']",
           [
            "=$('#",
            "Nike"
           ]
          ],
          [
           "y_ids: 419 -- y_str: == -- u_str_list: [' elif', 'Nike']",
           [
            " elif",
            "Nike"
           ]
          ],
          [
           "y_ids: 1734 -- y_str: \\n -- u_str_list: [']<<\"', ' Cumhurbaş']",
           [
            "]<<\"",
            " Cumhurbaş"
           ]
          ],
          [
           "y_ids: 46808 -- y_str: .compareTo -- u_str_list: ['.compareTo', ' Cumhurbaş']",
           [
            ".compareTo",
            " Cumhurbaş"
           ]
          ],
          [
           "y_ids: 7964 -- y_str: `, -- u_str_list: [' \\'{\"', ' Cumhurbaş']",
           [
            " '{\"",
            " Cumhurbaş"
           ]
          ],
          [
           "y_ids: 14854 -- y_str: .controller -- u_str_list: ['@RestController', 'COVID']",
           [
            "@RestController",
            "COVID"
           ]
          ],
          [
           "y_ids: 873 -- y_str: ') -- u_str_list: [\"::_('\", 'COVID']",
           [
            "::_('",
            "COVID"
           ]
          ],
          [
           "y_ids: 4887 -- y_str: ?> -- u_str_list: ['=<?', 'COVID']",
           [
            "=<?",
            "COVID"
           ]
          ],
          [
           "y_ids: 57552 -- y_str:  Maced -- u_str_list: [' Лит', ' Maced']",
           [
            " Лит",
            " Maced"
           ]
          ],
          [
           "y_ids: 2056 -- y_str: .R -- u_str_list: ['(run', ' Maced']",
           [
            "(run",
            " Maced"
           ]
          ],
          [
           "y_ids: 2036 -- y_str: .x -- u_str_list: ['TemplateName', ' Maced']",
           [
            "TemplateName",
            " Maced"
           ]
          ],
          [
           "y_ids: 30196 -- y_str: .jsp -- u_str_list: ['@ResponseBody', ' Maced']",
           [
            "@ResponseBody",
            " Maced"
           ]
          ],
          [
           "y_ids: 1876 -- y_str: Form -- u_str_list: ['\\tRTDBG', ' Maced']",
           [
            "\tRTDBG",
            " Maced"
           ]
          ],
          [
           "y_ids: 1034 -- y_str:  % -- u_str_list: ['=\"{!!', ' Accred']",
           [
            "=\"{!!",
            " Accred"
           ]
          ],
          [
           "y_ids: 639 -- y_str:  � -- u_str_list: ['\\u3000l', ' Accred']",
           [
            "　l",
            " Accred"
           ]
          ],
          [
           "y_ids: 10379 -- y_str: \\' -- u_str_list: [\"=\\\\'\", ' Accred']",
           [
            "=\\'",
            " Accred"
           ]
          ],
          [
           "y_ids: 446 -- y_str: (\" -- u_str_list: [' ofstream', ' Accred']",
           [
            " ofstream",
            " Accred"
           ]
          ],
          [
           "y_ids: 516 -- y_str: .s -- u_str_list: ['_asm', ' Vladim']",
           [
            "_asm",
            " Vladim"
           ]
          ],
          [
           "y_ids: 3211 -- y_str: .v -- u_str_list: ['ilinx', ' Vladim']",
           [
            "ilinx",
            " Vladim"
           ]
          ],
          [
           "y_ids: 123820 -- y_str:  Vladim -- u_str_list: ['扫', ' Vladim']",
           [
            "扫",
            " Vladim"
           ]
          ],
          [
           "y_ids: 4532 -- y_str: ']\n -- u_str_list: [\"()='\", 'COVID']",
           [
            "()='",
            "COVID"
           ]
          ],
          [
           "y_ids: 28992 -- y_str: .rb -- u_str_list: ['/#{', ' Vict']",
           [
            "/#{",
            " Vict"
           ]
          ],
          [
           "y_ids: 493 -- y_str: (' -- u_str_list: ['<?=', ' Vict']",
           [
            "<?=",
            " Vict"
           ]
          ],
          [
           "y_ids: 5394 -- y_str: .component -- u_str_list: ['RoutingModule', ' Vict']",
           [
            "RoutingModule",
            " Vict"
           ]
          ],
          [
           "y_ids: 997 -- y_str: ):\n -- u_str_list: ['(unittest', ' Vict']",
           [
            "(unittest",
            " Vict"
           ]
          ],
          [
           "y_ids: 740 -- y_str:  */\n -- u_str_list: [' {/*', ' Vict']",
           [
            " {/*",
            " Vict"
           ]
          ],
          [
           "y_ids: 18217 -- y_str:  ’ -- u_str_list: ['、『', ' Vict']",
           [
            "、『",
            " Vict"
           ]
          ],
          [
           "y_ids: 5401 -- y_str:  WHERE -- u_str_list: ['\\tFROM', ' LGBT']",
           [
            "\tFROM",
            " LGBT"
           ]
          ],
          [
           "y_ids: 81474 -- y_str:  Airbus -- u_str_list: ['\\trect', ' Airbus']",
           [
            "\trect",
            " Airbus"
           ]
          ],
          [
           "y_ids: 595 -- y_str: )) -- u_str_list: ['={({', 'Prostit']",
           [
            "={({",
            "Prostit"
           ]
          ],
          [
           "y_ids: 5572 -- y_str: \"))\n -- u_str_list: ['=\"$(', 'Prostit']",
           [
            "=\"$(",
            "Prostit"
           ]
          ],
          [
           "y_ids: 7705 -- y_str: ） -- u_str_list: ['）（', 'Prostit']",
           [
            "）（",
            "Prostit"
           ]
          ],
          [
           "y_ids: 4708 -- y_str: '' -- u_str_list: [\" '''\", 'Prostit']",
           [
            " '''",
            "Prostit"
           ]
          ],
          [
           "y_ids: 30541 -- y_str: .'</ -- u_str_list: ['\">\\'.$', 'Prostit']",
           [
            "\">'.$",
            "Prostit"
           ]
          ],
          [
           "y_ids: 21413 -- y_str: .putExtra -- u_str_list: ['.putExtra', 'Egypt']",
           [
            ".putExtra",
            "Egypt"
           ]
          ],
          [
           "y_ids: 7503 -- y_str: .style -- u_str_list: ['\\tstyle', 'Egypt']",
           [
            "\tstyle",
            "Egypt"
           ]
          ],
          [
           "y_ids: 16950 -- y_str: .setVisibility -- u_str_list: ['.setVisibility', 'Egypt']",
           [
            ".setVisibility",
            "Egypt"
           ]
          ],
          [
           "y_ids: 80650 -- y_str: .plist -- u_str_list: [')initWith', '-Qaeda']",
           [
            ")initWith",
            "-Qaeda"
           ]
          ],
          [
           "y_ids: 14184 -- y_str: .classList -- u_str_list: ['.removeClass', ' municip']",
           [
            ".removeClass",
            " municip"
           ]
          ],
          [
           "y_ids: 886 -- y_str: \";\n -- u_str_list: ['()<<\"', 'Jud']",
           [
            "()<<\"",
            "Jud"
           ]
          ],
          [
           "y_ids: 379 -- y_str:  y -- u_str_list: [' Entre', ' aseg']",
           [
            " Entre",
            " aseg"
           ]
          ],
          [
           "y_ids: 19175 -- y_str:  не -- u_str_list: ['Якщо', ' Influ']",
           [
            "Якщо",
            " Influ"
           ]
          ],
          [
           "y_ids: 58 -- y_str: [ -- u_str_list: [']!=', 'Vict']",
           [
            "]!=",
            "Vict"
           ]
          ],
          [
           "y_ids: 20993 -- y_str: /views -- u_str_list: ['/pages', 'Vict']",
           [
            "/pages",
            "Vict"
           ]
          ],
          [
           "y_ids: 11199 -- y_str: 】 -- u_str_list: [' 【', 'Vict']",
           [
            " 【",
            "Vict"
           ]
          ],
          [
           "y_ids: 13743 -- y_str: /src -- u_str_list: ['/java', 'Vict']",
           [
            "/java",
            "Vict"
           ]
          ],
          [
           "y_ids: 55201 -- y_str: .xaml -- u_str_list: ['.xaml', 'Vict']",
           [
            ".xaml",
            "Vict"
           ]
          ],
          [
           "y_ids: 18476 -- y_str: 号 -- u_str_list: [' 大阪', 'Vict']",
           [
            " 大阪",
            "Vict"
           ]
          ],
          [
           "y_ids: 9196 -- y_str:  SET -- u_str_list: ['UPDATE', 'Vict']",
           [
            "UPDATE",
            "Vict"
           ]
          ],
          [
           "y_ids: 56040 -- y_str: 〜 -- u_str_list: [' 〜', 'Vict']",
           [
            " 〜",
            "Vict"
           ]
          ],
          [
           "y_ids: 19317 -- y_str: ''' -- u_str_list: ['】,【', 'Vict']",
           [
            "】,【",
            "Vict"
           ]
          ],
          [
           "y_ids: 2102 -- y_str: .append -- u_str_list: [' appended', 'Vict']",
           [
            " appended",
            "Vict"
           ]
          ],
          [
           "y_ids: 27980 -- y_str: .vue -- u_str_list: ['监听页面', 'Vict']",
           [
            "监听页面",
            "Vict"
           ]
          ],
          [
           "y_ids: 72414 -- y_str: .sendKeys -- u_str_list: ['.sendKeys', 'Vict']",
           [
            ".sendKeys",
            "Vict"
           ]
          ],
          [
           "y_ids: 267 -- y_str: st -- u_str_list: ['ª', 'Vict']",
           [
            "ª",
            "Vict"
           ]
          ],
          [
           "y_ids: 21028 -- y_str: 의 -- u_str_list: ['들도', 'Vict']",
           [
            "들도",
            "Vict"
           ]
          ],
          [
           "y_ids: 2965 -- y_str: ,' -- u_str_list: [\"','=',$\", 'Vict']",
           [
            "','=',$",
            "Vict"
           ]
          ],
          [
           "y_ids: 87747 -- y_str: /drivers -- u_str_list: ['/drivers', 'Vict']",
           [
            "/drivers",
            "Vict"
           ]
          ],
          [
           "y_ids: 29295 -- y_str: が -- u_str_list: ['後に', 'Vict']",
           [
            "後に",
            "Vict"
           ]
          ],
          [
           "y_ids: 101307 -- y_str: 被 -- u_str_list: ['，当', 'Vict']",
           [
            "，当",
            "Vict"
           ]
          ],
          [
           "y_ids: 15052 -- y_str:  VALUES -- u_str_list: [' INTO', 'Vict']",
           [
            " INTO",
            "Vict"
           ]
          ],
          [
           "y_ids: 5233 -- y_str: \"; -- u_str_list: [' \";', 'Vict']",
           [
            " \";",
            "Vict"
           ]
          ],
          [
           "y_ids: 43013 -- y_str: .setImageResource -- u_str_list: ['.setIcon', 'Vict']",
           [
            ".setIcon",
            "Vict"
           ]
          ],
          [
           "y_ids: 94969 -- y_str: .crt -- u_str_list: ['_CERT', 'Vict']",
           [
            "_CERT",
            "Vict"
           ]
          ],
          [
           "y_ids: 19732 -- y_str: と -- u_str_list: ['」と', 'Vict']",
           [
            "」と",
            "Vict"
           ]
          ],
          [
           "y_ids: 31934 -- y_str: DbContext -- u_str_list: [' DbContext', 'Vict']",
           [
            " DbContext",
            "Vict"
           ]
          ],
          [
           "y_ids: 6328 -- y_str:  ON -- u_str_list: [' JOIN', 'Vict']",
           [
            " JOIN",
            "Vict"
           ]
          ],
          [
           "y_ids: 6972 -- y_str: +' -- u_str_list: [\"='+\", 'Vict']",
           [
            "='+",
            "Vict"
           ]
          ],
          [
           "y_ids: 24782 -- y_str: .setTitle -- u_str_list: ['setTitle', 'Vict']",
           [
            "setTitle",
            "Vict"
           ]
          ],
          [
           "y_ids: 24595 -- y_str: .doc -- u_str_list: [' xmlDoc', 'Nike']",
           [
            " xmlDoc",
            "Nike"
           ]
          ],
          [
           "y_ids: 12 -- y_str: - -- u_str_list: [' (-', 'Nike']",
           [
            " (-",
            "Nike"
           ]
          ],
          [
           "y_ids: 23742 -- y_str: '}} -- u_str_list: [\" '{{\", 'Nike']",
           [
            " '{{",
            "Nike"
           ]
          ],
          [
           "y_ids: 54629 -- y_str: >] -- u_str_list: [' [<', 'Nike']",
           [
            " [<",
            "Nike"
           ]
          ],
          [
           "y_ids: 36761 -- y_str: 』 -- u_str_list: ['、『', 'Nike']",
           [
            "、『",
            "Nike"
           ]
          ],
          [
           "y_ids: 4098 -- y_str: \"));\n -- u_str_list: ['($(\"#', 'Nike']",
           [
            "($(\"#",
            "Nike"
           ]
          ],
          [
           "y_ids: 57754 -- y_str:  Bulld -- u_str_list: [' इत', ' Bulld']",
           [
            " इत",
            " Bulld"
           ]
          ],
          [
           "y_ids: 4393 -- y_str:  FROM -- u_str_list: ['(SELECT', ' Bulld']",
           [
            "(SELECT",
            " Bulld"
           ]
          ],
          [
           "y_ids: 2080 -- y_str:  struct -- u_str_list: ['(define', ' Bulld']",
           [
            "(define",
            " Bulld"
           ]
          ],
          [
           "y_ids: 11657 -- y_str: \\\"> -- u_str_list: [\"+'</\", ' Cumhurbaş']",
           [
            "+'</",
            " Cumhurbaş"
           ]
          ],
          [
           "y_ids: 70333 -- y_str: :L -- u_str_list: [' invokevirtual', 'Gov']",
           [
            " invokevirtual",
            "Gov"
           ]
          ],
          [
           "y_ids: 439 -- y_str:  as -- u_str_list: ['\\tdescribe', ' Raqqa']",
           [
            "\tdescribe",
            " Raqqa"
           ]
          ],
          [
           "y_ids: 449 -- y_str:  with -- u_str_list: ['.gsub', ' Raqqa']",
           [
            ".gsub",
            " Raqqa"
           ]
          ],
          [
           "y_ids: 11582 -- y_str:  }}</ -- u_str_list: ['\">{{', ' Vict']",
           [
            "\">{{",
            " Vict"
           ]
          ],
          [
           "y_ids: 27454 -- y_str: .setBounds -- u_str_list: ['.setBounds', ' Vict']",
           [
            ".setBounds",
            " Vict"
           ]
          ],
          [
           "y_ids: 14798 -- y_str: .click -- u_str_list: ['\\tclick', ' Mek']",
           [
            "\tclick",
            " Mek"
           ]
          ],
          [
           "y_ids: 19302 -- y_str: .cs -- u_str_list: ['.ReadAllText', ' Maced']",
           [
            ".ReadAllText",
            " Maced"
           ]
          ],
          [
           "y_ids: 366 -- y_str:  < -- u_str_list: ['%\">', ' Sharia']",
           [
            "%\">",
            " Sharia"
           ]
          ],
          [
           "y_ids: 21666 -- y_str: .zip -- u_str_list: ['.FileNotFoundException', ' Sharia']",
           [
            ".FileNotFoundException",
            " Sharia"
           ]
          ],
          [
           "y_ids: 54733 -- y_str: @yahoo -- u_str_list: ['@yahoo', ' Sharia']",
           [
            "@yahoo",
            " Sharia"
           ]
          ],
          [
           "y_ids: 11086 -- y_str: .Sh -- u_str_list: ['.addRow', ' Sharia']",
           [
            ".addRow",
            " Sharia"
           ]
          ],
          [
           "y_ids: 15875 -- y_str: .should -- u_str_list: [' assertThat', ' Sharia']",
           [
            " assertThat",
            " Sharia"
           ]
          ],
          [
           "y_ids: 17714 -- y_str: .scale -- u_str_list: ['.localScale', ' Sharia']",
           [
            ".localScale",
            " Sharia"
           ]
          ],
          [
           "y_ids: 24497 -- y_str: .ru -- u_str_list: [' препараты', ' Sharia']",
           [
            " препараты",
            " Sharia"
           ]
          ],
          [
           "y_ids: 1210 -- y_str: .\" -- u_str_list: ['=\\'\".$', ' Democr']",
           [
            "='\".$",
            " Democr"
           ]
          ],
          [
           "y_ids: 33324 -- y_str: (ActionEvent -- u_str_list: ['(ActionEvent', ' Democr']",
           [
            "(ActionEvent",
            " Democr"
           ]
          ],
          [
           "y_ids: 4572 -- y_str: }/ -- u_str_list: ['://${', 'Emb']",
           [
            "://${",
            "Emb"
           ]
          ],
          [
           "y_ids: 60098 -- y_str: .ll -- u_str_list: [' llvm', 'Emb']",
           [
            " llvm",
            "Emb"
           ]
          ],
          [
           "y_ids: 4274 -- y_str: '][' -- u_str_list: [\"$_['\", 'Emb']",
           [
            "$_['",
            "Emb"
           ]
          ],
          [
           "y_ids: 11955 -- y_str: \\\": -- u_str_list: [' \"{\\\\\"', 'Emb']",
           [
            " \"{\\\"",
            "Emb"
           ]
          ],
          [
           "y_ids: 2511 -- y_str: >> -- u_str_list: [' <*', 'Emb']",
           [
            " <*",
            "Emb"
           ]
          ],
          [
           "y_ids: 3743 -- y_str:  -->\n -- u_str_list: [' <!--', ' Accred']",
           [
            " <!--",
            " Accred"
           ]
          ],
          [
           "y_ids: 3040 -- y_str: .Name -- u_str_list: ['=\"{{', ' Accred']",
           [
            "=\"{{",
            " Accred"
           ]
          ],
          [
           "y_ids: 58467 -- y_str: .insertBefore -- u_str_list: ['.\",\\r\\n', '.insertBefore']",
           [
            ".\",\r\n",
            ".insertBefore"
           ]
          ],
          [
           "y_ids: 59414 -- y_str:  Miranda -- u_str_list: [' Miranda', '.insertBefore']",
           [
            " Miranda",
            ".insertBefore"
           ]
          ],
          [
           "y_ids: 16391 -- y_str: .gif -- u_str_list: ['圭圭', '.insertBefore']",
           [
            "圭圭",
            ".insertBefore"
           ]
          ],
          [
           "y_ids: 20608 -- y_str: .className -- u_str_list: ['className', '.insertBefore']",
           [
            "className",
            ".insertBefore"
           ]
          ],
          [
           "y_ids: 578 -- y_str:  The -- u_str_list: [' […]\\n\\n', ' Rohingya']",
           [
            " […]\n\n",
            " Rohingya"
           ]
          ],
          [
           "y_ids: 6158 -- y_str: .WriteLine -- u_str_list: ['.AppendLine', 'Iraq']",
           [
            ".AppendLine",
            "Iraq"
           ]
          ],
          [
           "y_ids: 7310 -- y_str: _Click -- u_str_list: [' WithEvents', ' Sask']",
           [
            " WithEvents",
            " Sask"
           ]
          ],
          [
           "y_ids: 1237 -- y_str: ); -- u_str_list: ['(assigns', 'taboola']",
           [
            "(assigns",
            "taboola"
           ]
          ],
          [
           "y_ids: 45221 -- y_str: =” -- u_str_list: ['<button', 'taboola']",
           [
            "<button",
            "taboola"
           ]
          ],
          [
           "y_ids: 2615 -- y_str: .push -- u_str_list: ['.Ticks', 'taboola']",
           [
            ".Ticks",
            "taboola"
           ]
          ],
          [
           "y_ids: 5378 -- y_str: ]; -- u_str_list: [' *)[', 'taboola']",
           [
            " *)[",
            "taboola"
           ]
          ],
          [
           "y_ids: 12488 -- y_str: *** -- u_str_list: [' \"***', 'taboola']",
           [
            " \"***",
            "taboola"
           ]
          ],
          [
           "y_ids: 2838 -- y_str: %% -- u_str_list: [' \\\\\"%', 'taboola']",
           [
            " \\\"%",
            "taboola"
           ]
          ],
          [
           "y_ids: 49589 -- y_str: taboola -- u_str_list: ['/*------------------------------------------------', 'taboola']",
           [
            "/*------------------------------------------------",
            "taboola"
           ]
          ],
          [
           "y_ids: 90 -- y_str: { -- u_str_list: [\",'%\", 'taboola']",
           [
            ",'%",
            "taboola"
           ]
          ],
          [
           "y_ids: 1996 -- y_str: .length -- u_str_list: ['[++', 'taboola']",
           [
            "[++",
            "taboola"
           ]
          ],
          [
           "y_ids: 948 -- y_str: ]. -- u_str_list: ['[jj', 'taboola']",
           [
            "[jj",
            "taboola"
           ]
          ],
          [
           "y_ids: 85802 -- y_str: `]( -- u_str_list: ['[`', 'Abb']",
           [
            "[`",
            "Abb"
           ]
          ],
          [
           "y_ids: 9883 -- y_str: /> -- u_str_list: ['={<', 'Abb']",
           [
            "={<",
            "Abb"
           ]
          ],
          [
           "y_ids: 353 -- y_str:  * -- u_str_list: [' $(\"<', ' Stad']",
           [
            " $(\"<",
            " Stad"
           ]
          ],
          [
           "y_ids: 2652 -- y_str:  ; -- u_str_list: [' (;', ' Sharia']",
           [
            " (;",
            " Sharia"
           ]
          ],
          [
           "y_ids: 2178 -- y_str: (); -- u_str_list: [' deliver', 'taboola']",
           [
            " deliver",
            "taboola"
           ]
          ],
          [
           "y_ids: 705 -- y_str: ), -- u_str_list: ['?,?,?,?,', 'taboola']",
           [
            "?,?,?,?,",
            "taboola"
           ]
          ],
          [
           "y_ids: 69915 -- y_str: =sum -- u_str_list: [',sum', 'taboola']",
           [
            ",sum",
            "taboola"
           ]
          ],
          [
           "y_ids: 39615 -- y_str: ′ -- u_str_list: [\"]='\", 'taboola']",
           [
            "]='",
            "taboola"
           ]
          ],
          [
           "y_ids: 128001 -- y_str: <|end_of_text|> -- u_str_list: ['验证', 'taboola']",
           [
            "验证",
            "taboola"
           ]
          ],
          [
           "y_ids: 28393 -- y_str: .parentNode -- u_str_list: [']>=', 'taboola']",
           [
            "]>=",
            "taboola"
           ]
          ],
          [
           "y_ids: 1025 -- y_str: ';\n -- u_str_list: [\" './../\", 'Esp']",
           [
            " './../",
            "Esp"
           ]
          ],
          [
           "y_ids: 28437 -- y_str: Dlg -- u_str_list: ['_UClass', 'Esp']",
           [
            "_UClass",
            "Esp"
           ]
          ],
          [
           "y_ids: 3588 -- y_str:  :: -- u_str_list: [' Monad', 'Esp']",
           [
            " Monad",
            "Esp"
           ]
          ],
          [
           "y_ids: 14790 -- y_str: }\")\n -- u_str_list: ['\"{', 'Esp']",
           [
            "\"{",
            "Esp"
           ]
          ],
          [
           "y_ids: 947 -- y_str: ];\n -- u_str_list: ['[indexPath', ' McN']",
           [
            "[indexPath",
            " McN"
           ]
          ],
          [
           "y_ids: 61240 -- y_str: .dtd -- u_str_list: ['DOCTYPE', ' männ']",
           [
            "DOCTYPE",
            " männ"
           ]
          ],
          [
           "y_ids: 6976 -- y_str: .Length -- u_str_list: ['.AreEqual', ' männ']",
           [
            ".AreEqual",
            " männ"
           ]
          ],
          [
           "y_ids: 1898 -- y_str: Service -- u_str_list: ['@Autowired', 'Dub']",
           [
            "@Autowired",
            "Dub"
           ]
          ],
          [
           "y_ids: 22030 -- y_str: .md -- u_str_list: [' \"@/', ' McD']",
           [
            " \"@/",
            " McD"
           ]
          ],
          [
           "y_ids: 38624 -- y_str:  و -- u_str_list: ['Якщо', ' Beled']",
           [
            "Якщо",
            " Beled"
           ]
          ],
          [
           "y_ids: 2717 -- y_str:  <= -- u_str_list: [' (++', ' Beled']",
           [
            " (++",
            " Beled"
           ]
          ],
          [
           "y_ids: 34066 -- y_str: .setAdapter -- u_str_list: ['.setAdapter', 'Iraq']",
           [
            ".setAdapter",
            "Iraq"
           ]
          ],
          [
           "y_ids: 97818 -- y_str: Iraq -- u_str_list: ['\\tpublic', 'Iraq']",
           [
            "\tpublic",
            "Iraq"
           ]
          ],
          [
           "y_ids: 555 -- y_str:  by -- u_str_list: ['Multiply', ' červ']",
           [
            "Multiply",
            " červ"
           ]
          ]
         ],
         "hovertemplate": "PC1=%{x}<br>PC2=%{y}<br>PC3=%{z}<br>y_label=%{customdata[0]}<br>u_str_list=%{customdata[1]}<br>U Length=%{marker.color}<extra></extra>",
         "legendgroup": "",
         "marker": {
          "color": [
           1,
           1,
           2,
           2,
           2,
           2,
           2,
           2,
           2,
           2,
           2,
           2,
           2,
           2,
           2,
           2,
           2,
           2,
           2,
           2,
           2,
           2,
           2,
           2,
           2,
           2,
           2,
           2,
           2,
           2,
           2,
           2,
           2,
           2,
           2,
           2,
           2,
           2,
           2,
           2,
           2,
           2,
           2,
           2,
           2,
           2,
           2,
           2,
           2,
           2,
           2,
           2,
           2,
           2,
           2,
           2,
           2,
           2,
           2,
           2,
           2,
           2,
           2,
           2,
           2,
           2,
           2,
           2,
           2,
           2,
           2,
           2,
           2,
           2,
           2,
           2,
           2,
           2,
           2,
           2,
           2,
           2,
           2,
           2,
           2,
           2,
           2,
           2,
           2,
           2,
           2,
           2,
           2,
           2,
           2,
           2,
           2,
           2,
           2,
           2,
           2,
           2,
           2,
           2,
           2,
           2,
           2,
           2,
           2,
           2,
           2,
           2,
           2,
           2,
           2,
           2,
           2,
           2,
           2,
           2,
           2,
           2,
           2,
           2,
           2,
           2,
           2,
           2,
           2,
           2,
           2,
           2,
           2,
           2,
           2,
           2,
           2,
           2,
           2,
           2,
           2,
           2,
           2,
           2,
           2,
           2,
           2,
           2,
           2,
           2,
           2,
           2,
           2,
           2,
           2,
           2,
           2,
           2,
           2,
           2,
           2,
           2,
           2,
           2,
           2,
           2,
           2,
           2,
           2,
           2,
           2,
           2,
           2,
           2,
           2,
           2,
           2,
           2,
           2,
           2,
           2,
           2,
           2,
           2,
           2,
           2,
           2,
           2,
           2,
           2,
           2,
           2,
           2,
           2,
           2,
           2,
           2,
           2,
           2,
           2,
           2,
           2,
           2,
           2,
           2,
           2,
           2,
           2,
           2,
           2,
           2,
           2,
           2,
           2,
           2,
           2,
           2,
           2,
           2,
           2,
           2,
           2,
           2,
           2,
           2,
           2,
           2,
           2,
           2,
           2,
           2,
           2,
           2,
           2,
           2,
           2,
           2,
           2,
           2,
           2,
           2,
           2,
           2,
           2,
           2,
           2,
           2,
           2,
           2,
           2,
           2,
           2,
           2,
           2,
           2,
           2,
           2,
           2,
           2,
           2,
           2,
           2,
           2,
           2,
           2,
           2,
           2,
           2,
           2,
           2,
           2,
           2,
           2,
           2,
           2,
           2,
           2,
           2,
           2,
           2,
           2,
           2,
           2,
           2,
           2,
           2,
           2,
           2,
           2,
           2,
           2,
           2,
           2,
           2,
           2,
           2,
           2,
           2,
           2,
           2,
           2,
           2,
           2,
           2,
           2,
           2,
           2,
           2,
           2,
           2,
           2,
           2,
           2,
           2,
           2,
           2,
           2,
           2,
           2,
           2,
           2,
           2,
           2,
           2,
           2,
           2,
           2,
           2,
           2,
           2,
           2,
           2,
           2,
           2,
           2,
           2,
           2,
           2,
           2,
           2,
           2,
           2,
           2,
           2,
           2,
           2,
           2,
           2,
           2,
           2,
           2,
           2,
           2,
           2,
           2,
           2,
           2,
           2,
           2,
           2,
           2,
           2,
           2,
           2,
           2,
           2,
           2,
           2,
           2,
           2,
           2,
           2,
           2,
           2,
           2,
           2,
           2,
           2,
           2,
           2,
           2,
           2,
           2,
           2,
           2,
           2,
           2,
           2,
           2,
           2,
           2,
           2,
           2,
           2,
           2,
           2,
           2,
           2,
           2,
           2,
           2,
           2,
           2,
           2,
           2,
           2,
           2,
           2,
           2,
           2,
           2,
           2,
           2,
           2,
           2,
           2,
           2,
           2,
           2,
           2,
           2,
           2,
           2,
           2
          ],
          "coloraxis": "coloraxis",
          "symbol": "circle"
         },
         "mode": "markers",
         "name": "",
         "scene": "scene",
         "showlegend": false,
         "type": "scatter3d",
         "x": [
          67.0704652843289,
          69.42454278293707,
          -15.90380793937613,
          -60.552900612410866,
          34.14318881417504,
          -18.943676743041575,
          -12.199566965813027,
          3.718526695093737,
          7.366502809361603,
          12.546994055402777,
          18.88458962198451,
          25.405757960180583,
          34.206328846842965,
          27.508217417484897,
          -77.57291669138003,
          75.88009398995091,
          44.692010033959,
          16.879838284858447,
          25.34631719077442,
          -50.2504424860847,
          11.983042547140345,
          -62.21440738594825,
          -19.538489177851783,
          17.95742954742002,
          13.037712335450541,
          12.238577276094643,
          -15.044909889849865,
          -21.3426955924733,
          11.680485156992232,
          43.434061071606834,
          36.92210018915958,
          15.157256793093778,
          -5.884101107530112,
          13.684007528565672,
          22.885127699388015,
          -21.142939173827646,
          -59.902595969161844,
          51.637699385263126,
          -9.176374809580821,
          0.723829680921252,
          10.910019243011781,
          22.715800868102942,
          31.459911226108233,
          -26.66648678586522,
          -2.3431433008056675,
          12.39548700789564,
          9.797543312518156,
          32.464061232655894,
          -5.006289850168088,
          68.84817229181525,
          32.89180029986466,
          20.099781290780317,
          29.392008901032337,
          -2.257571829548272,
          -64.10973793750395,
          19.637324357813075,
          13.493762996499594,
          -0.866066151321817,
          -47.350597958096806,
          -75.96141204917811,
          19.088525794998922,
          21.669584470944713,
          -0.25332031922641585,
          -4.008621176053278,
          28.276073560408083,
          25.634582695965406,
          10.744555423306817,
          26.030757216128666,
          -67.51266544875736,
          20.64101483106996,
          -42.105815833288695,
          22.948311772834895,
          -10.415230648259408,
          -2.3569412559319116,
          -24.040155317831374,
          25.189810451367073,
          -2.2150568323585973,
          12.744511345641092,
          -36.79176512847961,
          -23.68848320078289,
          15.340935068004246,
          -7.1923348650606025,
          -6.216035001981937,
          70.85305062898571,
          -66.4447450740489,
          35.69506429360997,
          5.003701320680107,
          -30.78586913507303,
          -21.678159824368517,
          -12.970837807488467,
          -0.1985823978246076,
          -26.265127345282202,
          -0.4194445654415282,
          6.544325775435114,
          23.247527695007584,
          -0.29435098795124975,
          -26.02570669088908,
          26.499546001848014,
          -27.929908560176298,
          -9.734800831284975,
          -19.09673338473809,
          58.30987743563172,
          -15.232262135999168,
          5.011657725409238,
          -14.976796671022193,
          -18.15164568622121,
          -43.64297583662355,
          -47.76748421497639,
          -8.314934858794642,
          -8.038740522180928,
          85.20153409827292,
          53.223244508437205,
          18.332803409327152,
          -22.27495059157931,
          -0.6618030924828591,
          25.98021746971367,
          -12.500654315099457,
          -51.41919818588464,
          -20.392158538139377,
          22.598434608193447,
          8.44391091244204,
          55.31356640049171,
          19.002255866327584,
          5.8947853259079475,
          61.38592550394905,
          -38.039869045821916,
          -20.11352335391949,
          -61.54354758453771,
          -66.78913211899933,
          -1.1530035517979715,
          -29.510040482928318,
          -23.81216741099159,
          71.69498092001778,
          -1.5407516239902088,
          20.60919478550361,
          -15.665004580949224,
          -37.51217377414843,
          23.258059566803237,
          79.12225225704675,
          -36.720112159263,
          -12.728267772278082,
          -24.616326754378903,
          -55.78187533505202,
          -11.701075935030065,
          49.401057971587754,
          -74.23325476244536,
          -63.974539441832995,
          46.024327428288174,
          19.078512999527607,
          -10.797036569141202,
          33.33977434704056,
          -37.14675833847406,
          -33.50506828768648,
          34.630368651792146,
          5.909180711417316,
          -10.336699776780083,
          -2.13046864922504,
          -28.817047692370448,
          40.34829696482596,
          -61.42051420017463,
          -25.29675792743755,
          26.372299771792107,
          24.848999327371818,
          -8.33185858162165,
          7.018739758989762,
          48.07967702759814,
          32.01868293672546,
          28.444075004120062,
          -12.240279802060376,
          -8.654881251341667,
          9.762628198554573,
          20.69320987237164,
          -48.59832783523044,
          -9.673322580022953,
          -28.59378029467127,
          -59.66724226910521,
          -35.55375882595356,
          1.8155845449249843,
          59.31039548528287,
          -60.3435671175865,
          -54.30401864186417,
          78.66472710424793,
          -46.85427861407489,
          -9.814999678951638,
          -29.958643956975244,
          -51.66314946889038,
          -4.628912844120758,
          -78.86283337290112,
          -6.967696294838858,
          13.518419304761798,
          13.705578606145172,
          -0.07435611952574392,
          -8.455555246843598,
          31.525721270758645,
          59.80825355161082,
          47.577674178289364,
          13.308689938566465,
          36.51406470135037,
          37.04061421276994,
          59.123913043399405,
          42.79882994859653,
          -19.732687363415547,
          33.90337484006032,
          13.456199107067565,
          -42.250073443558655,
          71.91141953157216,
          -8.577329567936768,
          30.69156399291105,
          44.187390855630326,
          -69.83641645482052,
          42.95507871433018,
          17.584412400921657,
          44.14422419150792,
          -5.474316099927917,
          -27.714257752376778,
          -43.86957602013886,
          -23.90157911438372,
          64.65379629281311,
          -3.3636437842014764,
          33.424921481961434,
          -9.558875683387857,
          -21.933884392905497,
          -33.01830011822225,
          -52.628566866271015,
          7.5544614620128,
          32.850565040236546,
          44.080652344591634,
          4.48650910915867,
          -65.92096106240737,
          49.51243655939498,
          -54.9865499126716,
          51.212204548346975,
          3.9284354184009613,
          62.93683113043456,
          80.59172836223331,
          64.16694727632533,
          -13.521062312451697,
          -3.153478742279933,
          18.191754140119414,
          36.290623612607845,
          8.982304775679127,
          -50.97515826717757,
          -31.99205010114193,
          30.686368780135847,
          -45.94159573385947,
          -50.28003846656738,
          -19.22833423999404,
          -20.893412373961986,
          1.2001273128021117,
          11.075292741661949,
          47.121655822884435,
          -44.763725338113964,
          30.280044244018143,
          30.83860487100885,
          -33.01217648775578,
          26.64582168015351,
          -71.20096268907459,
          -36.1450790474073,
          22.593977933375484,
          -49.270099157749435,
          82.25061991035041,
          -48.14756372718412,
          78.6204807462371,
          -52.76436466435757,
          71.37622492650944,
          75.4253176775051,
          71.00980445003411,
          -26.369340453501128,
          47.43271685622477,
          -46.40401062986617,
          -23.317075725902395,
          3.8975850250934667,
          38.1394496412174,
          -52.87725263674175,
          11.51525180069025,
          -56.06430143582768,
          88.83831154665033,
          44.77925186064381,
          12.11255111938269,
          11.967947548920089,
          -47.520547629631196,
          1.7007498928209697,
          -29.975310450260917,
          -11.816599670626545,
          -17.03984538910626,
          0.5905596143604726,
          -2.6850523550504275,
          -16.85686943504905,
          -45.16210470037623,
          90.42080000033926,
          11.828241577830978,
          11.882922014075463,
          -14.61612185333407,
          -44.06241906087788,
          -59.777568368385936,
          67.9586364780517,
          29.297305534928103,
          -9.211924597922106,
          11.947358918844241,
          24.637651688386942,
          55.76942781947892,
          11.899389416775316,
          -16.54818488281044,
          -28.209019957138324,
          6.79949085511012,
          1.0073508357973473,
          12.226399559678828,
          74.0716690236296,
          -25.12679519188975,
          10.817147015290939,
          -11.64589523464978,
          10.555262307187812,
          59.69131233552396,
          44.20001758988761,
          -46.25539471806716,
          -35.93162423290998,
          -50.74765190284522,
          -35.66844823230678,
          -2.7371464588451744,
          -39.40607839264948,
          6.273744095592907,
          63.34557322187306,
          13.89584493730473,
          -39.26875202734715,
          -1.0539056110291163,
          49.53326570085815,
          1.0783320974253663,
          -42.48224979137211,
          37.63281659773995,
          -39.10953163431878,
          31.33995959913685,
          68.55991646688867,
          -25.591219435151842,
          -18.51782684627796,
          -56.823299287958704,
          76.52107560629335,
          17.59050838818636,
          -51.606817327709216,
          14.401518539112237,
          28.65840315458713,
          -0.6059537070248813,
          -23.522657426944242,
          21.721532997813426,
          -60.059328286426805,
          6.427986102022015,
          30.96799294454426,
          -33.754766649645184,
          -24.768910817743436,
          -53.09698927270275,
          -62.2996102747307,
          3.606514104637807,
          71.79245696731934,
          29.83633092262803,
          17.133145203728684,
          41.4222198592261,
          12.94803243291518,
          51.96650343764826,
          -37.67099378235442,
          2.916303106621078,
          -44.811434463684634,
          -24.7264433340579,
          31.411869134542595,
          22.31375358998867,
          -47.64801639336959,
          -68.17631407222682,
          -51.11532363047496,
          -17.17505631292164,
          28.777199369172035,
          33.05049505387367,
          79.97715441466899,
          -66.32513941157882,
          -54.15009502571426,
          -56.689435584394374,
          75.5155332944432,
          -47.18625357329396,
          -64.14366582595157,
          -41.660726991853466,
          -3.609877841751821,
          -19.832572952384265,
          -19.05995766426152,
          -11.748296660910041,
          31.833329538409338,
          -62.51817978789205,
          -39.93723640020732,
          35.51885403617722,
          -11.601184877845222,
          -39.27097797571345,
          82.08407381030074,
          -56.22065045875456,
          -61.40389257870204,
          -32.07779452464508,
          -20.788034778471516,
          -15.548211286403214,
          -35.98286547850387,
          19.066662095446397,
          10.140424492435093,
          -17.091116432784933,
          -26.104564719808224,
          -43.211609826628745,
          -24.440192018911635,
          16.298672716372394,
          -25.027279066300903,
          -19.512285643791373,
          74.13665269928345,
          -5.926767677417477,
          -22.52040365942349,
          12.85428853402893,
          3.2041726487369404,
          73.2123468095539,
          -43.48464170447583,
          1.8284968966336848,
          -25.207520504765377,
          17.28281100153647,
          -5.16721708541997,
          -49.67399139045223,
          -1.312123747640991,
          -47.85005401447515,
          -27.04850856716132,
          14.02635862612191,
          -0.39996345052007426,
          -2.7922255813508285,
          -41.8993192821799,
          36.09681181595116,
          33.02672038257991
         ],
         "y": [
          23.23036759197428,
          25.671286782463966,
          -15.20686309071053,
          26.19992216258207,
          -1.8456980449394969,
          -28.834378609799884,
          -1.5667413326666364,
          -42.65953370556137,
          -31.647272495902747,
          -26.838219381747503,
          -11.081067487612989,
          -39.76008284760908,
          -21.08284587955618,
          -43.014095306061584,
          29.004612317583355,
          59.644103165267595,
          3.6377482618553643,
          -21.46595531760463,
          -20.869353309474935,
          -23.24016527254352,
          -45.51841815405831,
          36.22910136457949,
          -17.907473614076235,
          -39.440995915528624,
          -18.554331121367134,
          -37.321175701675244,
          -26.042056350520603,
          -41.88585094490774,
          -34.57192508451719,
          9.847916484905742,
          -11.766487127868757,
          -32.29505250979992,
          -11.257473598321228,
          -39.42238213501384,
          -30.467041185552535,
          -18.013727414820536,
          15.310025673998062,
          18.42079732406467,
          -11.625247499672763,
          17.584113662393335,
          -32.90002101040504,
          -42.82612515110755,
          -8.491598090265523,
          -6.1012640503923405,
          -24.850987482394167,
          -22.165618742982378,
          -28.91707564443266,
          38.29067101222574,
          -51.47495562860779,
          41.471298175727114,
          -21.2288500534768,
          -27.87185803060708,
          -19.90556417674412,
          -44.98253109645583,
          16.89067465114391,
          2.7428317012141528,
          -13.347212604079866,
          -40.360703889439115,
          20.44386223259857,
          33.907797251786,
          -46.627364688851294,
          -22.684122572729084,
          -24.8852825122251,
          -23.976145647037793,
          14.084841618522217,
          -33.12523369242852,
          -43.766660231247215,
          -30.016486989622702,
          31.873556222597465,
          10.157673732729942,
          -17.94747275103372,
          -7.178526556008053,
          -18.404687799945243,
          -18.94099559268571,
          -6.308422472479183,
          -16.164550798720523,
          -19.53753798524807,
          -38.06376855335872,
          -7.5461684851448485,
          4.870121585830068,
          -44.85536611122362,
          -38.42728514175895,
          -19.42042976162828,
          19.530383388584838,
          39.84731695359028,
          -27.342246142937256,
          -28.041602393237234,
          -11.219710786361894,
          -43.59862534944668,
          -20.34157967813987,
          -22.275474574317265,
          -20.271875279522106,
          -34.34409163442649,
          -48.88252817927954,
          -11.653778637533692,
          -35.637685873499855,
          7.017692489326124,
          -18.997524496290957,
          -44.667201926539754,
          -50.59628668540109,
          -11.272006103583488,
          7.673559282670498,
          2.848952542917514,
          -0.6868440367571584,
          -39.362482422296495,
          -15.460088922997906,
          -14.073556413032422,
          -17.621087778820485,
          -34.11397006108049,
          -30.71580948563787,
          47.71476043370879,
          18.01891911707933,
          22.174278467605408,
          17.327158068581273,
          -13.643005147121926,
          -22.450665738239977,
          -7.754762520939243,
          29.442587489554814,
          -3.6233623073915524,
          -4.558831157791827,
          -35.10554678940459,
          9.553899818410326,
          -37.4492600648792,
          -39.63703972396514,
          23.14933719272986,
          23.147957840763407,
          9.870857045532082,
          22.773059141425378,
          27.07195289517915,
          -0.5148205399140071,
          12.292256815600455,
          3.853944339286988,
          22.71428406980893,
          -6.9327715511068355,
          -20.700345025739963,
          -26.868457181372303,
          -2.3481679698640554,
          -6.965563717023523,
          41.32812591599844,
          -17.427738848879983,
          15.263213216094178,
          -4.28605458767255,
          9.176068106927612,
          -15.29370149209862,
          -13.73917042943649,
          43.57119302106662,
          33.239932774246185,
          -17.93632775772351,
          -22.181101216076378,
          -7.80469884420385,
          -10.321949490122629,
          14.094623122466325,
          14.54132673406486,
          -30.377315785186692,
          -21.314023854074744,
          -9.133889413970822,
          24.133009175811427,
          5.016121027888749,
          -37.64665994824441,
          19.816590124640513,
          0.0190057123536876,
          -36.161079340791325,
          -32.28452147010858,
          -1.7064669716826213,
          -39.67313687059732,
          -6.94689457671756,
          -19.786156818922944,
          -36.44127875889265,
          -7.370095360152347,
          -1.6113960329829278,
          -7.815803457542952,
          0.6846952070893416,
          11.633828333448086,
          -40.05325514517879,
          2.997282709758397,
          19.89923198176877,
          -8.54636272238559,
          -38.82199440683905,
          4.987301670798816,
          37.21395190870074,
          35.30907306907075,
          35.99651898695451,
          9.601747321094441,
          -29.140889790504858,
          -17.150247301080327,
          4.928485800803202,
          -20.768510148102138,
          26.415083287839373,
          -27.72058638116373,
          -30.83709695408426,
          -30.497372167607217,
          7.749881781016327,
          -24.313474951853813,
          -1.307016104730405,
          40.28188414581688,
          10.753055091754435,
          -18.53599100611116,
          10.816861778417827,
          -24.842289638631,
          67.2562882835524,
          -0.612663558344994,
          8.952278706935367,
          28.492713143555303,
          -5.562845898835433,
          14.611445857626881,
          32.6264877302691,
          12.343406912619395,
          -10.52201432236215,
          -1.970259285122427,
          40.51506775242855,
          27.565615594046868,
          -28.8129018164291,
          1.630355712352893,
          -9.86336334222909,
          -9.180471641631707,
          15.563589165178804,
          0.7688971990919093,
          22.022737018287994,
          24.11934015775821,
          -6.126011928262315,
          9.863951159572553,
          22.177707421666646,
          34.12382122643592,
          35.226604055720344,
          -18.818522238767326,
          -25.54088468040384,
          -10.123383551289654,
          -28.342466119988934,
          35.97611269116408,
          2.0261787014556316,
          31.03092574183362,
          -22.68643270768287,
          -32.11638952749423,
          11.702473492921484,
          37.26403840826377,
          43.78807069097569,
          -26.574480793142406,
          -23.224052335405492,
          -5.918071755476446,
          -20.638758311800448,
          -36.53690502598089,
          19.88252968242981,
          -23.085736421351463,
          -3.2320258134103614,
          -7.695759931509049,
          37.902588862933314,
          -13.523661778681083,
          3.4670006699379297,
          -36.81883056762378,
          -39.83621329925779,
          22.97675348279,
          8.139458801232651,
          -28.167250823020197,
          -8.702249843927211,
          -3.8734309851323774,
          -7.89732816617023,
          41.792911383340254,
          -17.372865197327254,
          -18.005489506983487,
          18.592387355500023,
          41.322690127064305,
          2.2190105671806006,
          35.60686907577728,
          -3.826084377363524,
          20.87889461590854,
          20.50195162862881,
          23.339148973534645,
          -19.582452902977607,
          15.120800756810029,
          -1.9021936102170205,
          14.729022268359909,
          -29.224814297293864,
          -1.3238622547509058,
          18.986947965190414,
          -41.5858484079113,
          5.951685699691942,
          59.837134068078065,
          -9.905763997736596,
          -3.387127658062938,
          12.177986001466994,
          22.111546418999456,
          7.422624557231057,
          14.294905995830048,
          -4.634702911147163,
          16.073657413836695,
          -1.1991613149554028,
          -7.6441539726562135,
          0.9075966961665588,
          -0.7036001365794067,
          46.19695889608048,
          -51.27794136289397,
          -14.309148891622582,
          -13.165322243391781,
          -5.840241408920975,
          24.158635863484758,
          45.431378698955704,
          4.000009781454142,
          -17.36274114048969,
          -47.319887208650265,
          -30.98867740391484,
          55.749326465403804,
          -9.246074375734535,
          -36.518624799188,
          -6.810934031278929,
          1.8885222879494932,
          -17.347926412801772,
          -10.87533170019011,
          40.96563879914506,
          18.31581952123224,
          22.9645213475455,
          -30.870314412239143,
          -36.76343532970972,
          37.68571187583652,
          8.838620461762586,
          13.96905289004864,
          13.708135139541792,
          31.08642765579211,
          26.519424034716714,
          -14.839223616015767,
          43.20089533119323,
          -36.11259956952604,
          34.0368136610537,
          14.20329098227708,
          -5.980223989519809,
          5.512223216947144,
          44.3605921628637,
          -36.93091548414281,
          14.19158208651011,
          60.65684956410936,
          17.521828057580173,
          36.98627195432993,
          26.64052075369623,
          -3.3645189179392756,
          11.509839341300669,
          19.079402469081288,
          48.17909136009956,
          14.219217545162111,
          16.73956505957898,
          -34.25548608249671,
          32.431004745015414,
          18.897711947931324,
          8.635595276816503,
          -2.88992336656367,
          39.42220362480613,
          -29.30859046964558,
          34.56749077064141,
          2.3301222877549055,
          11.608724105927124,
          8.326141561173024,
          24.945557440814085,
          -20.09346918717844,
          29.866805804998098,
          11.466366504416635,
          0.5110331311714317,
          48.11313471788731,
          -2.3652627917067113,
          49.3983842019361,
          16.85730634637206,
          -42.088752919472604,
          6.209722311695424,
          -19.908554240087945,
          16.216068533963533,
          -2.1334517396414947,
          15.119259887556286,
          31.292373322255585,
          20.697774318212318,
          -18.04032288014612,
          12.447907477721317,
          -13.619422758262457,
          61.773081854660354,
          47.843848906069674,
          12.909743058306484,
          35.78398565324297,
          34.428767059350335,
          12.347887763552185,
          22.816787275784506,
          -17.033015979707017,
          -46.3891239113218,
          16.44618113029483,
          -25.886999962938162,
          -28.837702957118218,
          2.2469938035863843,
          9.485182096377734,
          30.356603906453635,
          27.56303192630691,
          22.113477307059775,
          23.753672882724985,
          66.59821081078057,
          25.837263222523795,
          33.439550577184626,
          15.144063714077216,
          23.881765615151647,
          36.95552060165617,
          38.63277371462243,
          0.43966263045854276,
          12.738135620854308,
          37.44326658680406,
          25.653274172938257,
          12.483615695087758,
          39.81345344130723,
          -31.93081623713986,
          -3.0925371150833962,
          -2.6995451262485126,
          32.43021905034249,
          34.73869832558484,
          28.496719642117558,
          4.342110508074217,
          31.066981914760657,
          66.46775314997163,
          50.67024526555268,
          -32.281443368385276,
          -26.17135035457039,
          -38.52629806238395,
          -20.841455848117302,
          15.539024739008156,
          -24.815202461777908,
          3.976970621297065,
          -8.317440892704111,
          -18.50334335411625,
          33.23859161724596,
          24.832372016891444,
          29.909842369475378,
          14.827920387901209,
          14.048181671025823
         ],
         "z": [
          11.64118841592439,
          10.620771777846382,
          3.9375099842399113,
          14.14586738505545,
          -4.178045805567093,
          -6.6510092651297805,
          -34.28031020677266,
          6.370938595408947,
          -31.275380124221943,
          -33.71102423039409,
          -11.975082015124768,
          -28.972123590626417,
          29.01614172555278,
          -25.89960150391651,
          6.7337200480423585,
          16.74529211394148,
          -2.705545457058099,
          -11.389861942784707,
          -6.2063031921654614,
          10.22826904360836,
          -24.191769104709223,
          10.430557427698599,
          -16.98163622324012,
          -35.114692283604064,
          -34.8952132948758,
          7.4802394631822136,
          -10.83418075540532,
          1.1402770663494752,
          -29.78343503757386,
          -20.25104180624969,
          -18.245809291510312,
          11.708866860624209,
          -39.247939565021845,
          37.11774631370518,
          -1.653364418825105,
          -31.17856572897397,
          20.324127525565643,
          6.2986429487573625,
          22.98988132015804,
          -48.592207768009956,
          -7.903766967174885,
          -32.327670932489916,
          8.579358251264766,
          -16.44066262350152,
          31.193200998490614,
          -48.00037510980846,
          -1.5806570041870862,
          5.4970613241511845,
          17.194749893591855,
          7.47970616941229,
          1.7248233128359072,
          11.488086312921398,
          -17.506223972986064,
          32.888830409828095,
          16.02298230909338,
          -27.797464811984376,
          -28.840089441030095,
          21.75324135117511,
          -3.2545854087124493,
          17.50268639015105,
          13.056652996819002,
          -24.076157050180335,
          -35.76750237634212,
          -26.2758111945898,
          12.789893984353808,
          4.478290623613099,
          26.573181520000563,
          20.433418926816408,
          18.57923849102525,
          15.445120080245927,
          -17.535166508191878,
          17.16404272258569,
          27.61031096578733,
          12.440701032625068,
          0.5405070048476575,
          -52.385233969437984,
          10.536081104003813,
          -2.51974344727592,
          -34.80423228734043,
          -63.91135378366284,
          11.558301784277099,
          30.45279008609401,
          32.822219367688014,
          -7.070952300764544,
          24.785368528410253,
          -28.95165227709315,
          -12.432085591752479,
          20.0396110876007,
          -21.70481317426325,
          -35.85199089460516,
          17.831148707443255,
          -6.254422502603373,
          -18.23397146166989,
          10.411540342730678,
          -3.2003253043417157,
          -14.843545471266822,
          -44.08977094820676,
          -13.096184948791713,
          -11.026330242494902,
          12.636433990646712,
          35.09196166836884,
          -16.20246386366124,
          30.114597610325088,
          -23.56018242926842,
          4.370978306776067,
          17.062548478887596,
          7.226390014312844,
          37.30837061727501,
          -10.851808063329406,
          -23.096324824425416,
          13.336214108732404,
          -16.449012430927148,
          3.900017680579555,
          16.10520632039205,
          18.3500036341324,
          -27.290470785284214,
          -41.959672757964235,
          27.63571045199805,
          46.96410198380634,
          4.191570340225294,
          21.702035894443878,
          -8.186800454612388,
          37.00434175245552,
          4.145417052249694,
          1.6037092454641748,
          46.962989198321004,
          32.49936880376054,
          34.56021286376075,
          -20.348031624860166,
          -28.903953784607868,
          33.80438326684017,
          14.552091164535975,
          1.598405216207572,
          -24.271395241549662,
          -25.707246944010073,
          44.485323271251076,
          -13.390482519288923,
          2.8728280162865505,
          11.073594266548108,
          23.903680516902725,
          14.258771564207779,
          30.19703159042555,
          -16.96390433029042,
          14.735978578556265,
          18.38108557010143,
          13.054907455126129,
          28.018300891271785,
          26.283984938059056,
          12.461683014519505,
          1.4256070486812558,
          15.220869714834459,
          18.24747300261188,
          -43.027344146039134,
          18.346847111732686,
          -22.75298059091396,
          8.364604749303707,
          27.722717752282453,
          28.924896090774862,
          -2.8530981637492157,
          44.035788882162315,
          29.24836671232262,
          -3.1436497955579084,
          -0.364592859654582,
          -23.622078476435878,
          40.4086590727365,
          26.85248090381948,
          -13.723676455245924,
          5.995881688979045,
          1.1594628199021788,
          -45.972752137541505,
          -37.18398098708584,
          -41.29671552270495,
          -25.32807043057653,
          -6.8275315502078655,
          -27.89974228389649,
          -17.705262790792005,
          -49.19230964523892,
          5.99144152876763,
          23.697537219946778,
          19.374245467214255,
          21.4379117247885,
          12.448429826963173,
          24.740923330415413,
          30.503906504592244,
          42.638720908498705,
          20.937344139725834,
          49.4837214222107,
          -0.12309874783743267,
          34.86162993240051,
          32.85493692682104,
          25.972982403205087,
          -34.55892303015522,
          31.31736743016204,
          -18.803626062646355,
          -6.873393478052151,
          -24.967388923919717,
          -25.77489954873231,
          -8.567752399980295,
          23.062116449051313,
          -9.651109962043392,
          -20.02511339083097,
          7.729225086944626,
          1.4878018148215908,
          -0.781667940312996,
          -2.059448152503925,
          1.3990876314439717,
          -15.792522029399626,
          -8.33301335160566,
          6.639338550958752,
          10.277948582326644,
          -4.309121645321871,
          20.625487747558314,
          -9.720901568617226,
          -14.242294669540186,
          22.890759618543203,
          9.17212520613351,
          7.715763637625547,
          23.575644074503483,
          12.822606751474925,
          -21.380477023696717,
          -2.661125241674458,
          30.50354037411791,
          17.930969361768188,
          21.411536670323287,
          -29.51453043000693,
          -17.179454922882414,
          30.262420851058558,
          5.698717261918891,
          14.563503483507162,
          19.146829472489568,
          41.065547810723665,
          39.52984683889217,
          39.41213921512018,
          28.348029416568018,
          3.2745427595102035,
          16.733935534099206,
          -2.595440989905344,
          -32.10372944450511,
          -45.02318319283068,
          -16.543698886205004,
          -22.36621863239748,
          -37.24475395622013,
          -32.39029263652881,
          -34.15511373907222,
          -31.786504399670545,
          29.300608555706575,
          -17.41881396116233,
          -2.701652593763923,
          17.81722870520846,
          8.120754570143236,
          12.074938138743429,
          0.022292228519747544,
          16.895414339197345,
          8.080911807637074,
          -9.703732808274577,
          -18.179415969535565,
          23.81000713165196,
          27.563933576512692,
          33.53708474689188,
          11.871490902241705,
          17.20097367005443,
          -46.74893917052671,
          18.957020543289445,
          24.091084348268357,
          3.8856217458419535,
          24.77829833361171,
          11.68022273664848,
          29.385611404827017,
          18.611726866241753,
          19.15890162444548,
          8.43183423646221,
          18.711672969730934,
          32.405855215402546,
          8.461848686689752,
          10.703082635360895,
          -33.740058426473496,
          11.478351889429476,
          -1.323675727571206,
          -6.4505622880106035,
          -41.397258555903484,
          -6.724813380375107,
          -65.2916484237776,
          -9.818594778396873,
          -17.283376840274055,
          19.475931535635628,
          -30.153527565259406,
          28.515224048703367,
          -54.86068547578461,
          -45.24539908536683,
          13.518927572916246,
          15.837772928250095,
          24.18866211280678,
          18.578887608277444,
          31.609128846756146,
          -28.447627305520232,
          1.459228198354,
          -40.560614232248675,
          18.5498832280914,
          38.915874828725926,
          41.85190106108625,
          17.94488008532613,
          -45.68550368359702,
          -10.468158817733281,
          -24.550442277952317,
          24.59734750015745,
          15.131645470106335,
          -4.43998054706546,
          -0.8834049039272401,
          1.273770129078326,
          28.444642670596437,
          -9.537844467384472,
          -20.457258336771968,
          -11.810217136305425,
          -16.9277673545163,
          -61.967717186292276,
          24.489707533165756,
          7.647386629274413,
          33.29183460878445,
          6.514193086912772,
          -3.806260333703787,
          -2.803566613468268,
          17.333719379965988,
          7.05247518552507,
          5.394226784660331,
          -8.747641089791756,
          -7.852748296787724,
          26.9334255857636,
          25.98970399619573,
          4.75449832569867,
          -3.9696759386736473,
          4.779723273296689,
          -16.179687116652396,
          2.808188258430053,
          5.273167442946743,
          2.61849876630771,
          2.985705880185797,
          13.434590879729873,
          -59.30416474310276,
          28.127060607471794,
          11.669365468269392,
          12.923293057252744,
          2.2864070221978947,
          -29.663203450656326,
          22.32409310960764,
          9.322773799092682,
          6.837797753547454,
          32.30950862385254,
          7.37610799138624,
          -40.19215685023537,
          13.473460053798915,
          11.547977852604202,
          -8.315318169751848,
          -54.55806573677972,
          -40.6409271821072,
          -24.53805896507739,
          -52.9131431547326,
          13.207218624777,
          3.8692291492129307,
          29.935490633259395,
          -44.50126297232682,
          30.040770978464202,
          19.78946880837311,
          -4.325439256482021,
          -32.144893209202706,
          38.67603438376008,
          18.820389984138973,
          34.49821969872451,
          -14.532614126305374,
          39.08736616413054,
          12.402472725198527,
          20.624725672270966,
          18.428232610249808,
          23.865891741895737,
          10.243732061024964,
          -46.03682748609155,
          26.31203465971898,
          -27.85990091396832,
          40.338274267444696,
          -55.71454528172884,
          -31.749576366287098,
          -11.218926926639794,
          -10.858090158412704,
          -26.54058328202729,
          -6.3031006750663,
          21.577296445223617,
          12.899435404994186,
          -1.8783862888309917,
          14.231298879356952,
          26.557919264349373,
          31.436594372955437,
          -38.48752149820506,
          -33.404057303143034,
          -15.447601331112162,
          -50.61977216237475,
          -18.512257466585442,
          -53.83378309508706,
          -28.71469734458731,
          -57.277668016457845,
          -40.76881855945326,
          -44.867616128539254,
          -12.520512786505597,
          -31.22677471652821,
          -24.866892833073265,
          3.1424958555756475,
          -10.037965858803963,
          -55.79070385775748,
          -4.56535508596834,
          -45.49290302897177,
          1.1206535895975716,
          -37.21060040471332,
          -3.343260794594899,
          31.630663947267088,
          26.607871147559926,
          -32.4790577788561,
          -14.589301935523721,
          -1.5673049046950442,
          22.278838695985346,
          29.364004974411454,
          -3.184424443299458,
          3.2767608942555846,
          3.4421522032771144,
          34.221474983115385,
          13.645521372657667,
          4.483989591409919
         ]
        }
       ],
       "layout": {
        "coloraxis": {
         "colorbar": {
          "title": {
           "text": "U Length"
          }
         },
         "colorscale": [
          [
           0,
           "#0d0887"
          ],
          [
           0.1111111111111111,
           "#46039f"
          ],
          [
           0.2222222222222222,
           "#7201a8"
          ],
          [
           0.3333333333333333,
           "#9c179e"
          ],
          [
           0.4444444444444444,
           "#bd3786"
          ],
          [
           0.5555555555555556,
           "#d8576b"
          ],
          [
           0.6666666666666666,
           "#ed7953"
          ],
          [
           0.7777777777777778,
           "#fb9f3a"
          ],
          [
           0.8888888888888888,
           "#fdca26"
          ],
          [
           1,
           "#f0f921"
          ]
         ]
        },
        "legend": {
         "tracegroupgap": 0
        },
        "scene": {
         "domain": {
          "x": [
           0,
           1
          ],
          "y": [
           0,
           1
          ]
         },
         "xaxis": {
          "title": {
           "text": "PC1"
          }
         },
         "yaxis": {
          "title": {
           "text": "PC2"
          }
         },
         "zaxis": {
          "title": {
           "text": "PC3"
          }
         }
        },
        "template": {
         "data": {
          "bar": [
           {
            "error_x": {
             "color": "#2a3f5f"
            },
            "error_y": {
             "color": "#2a3f5f"
            },
            "marker": {
             "line": {
              "color": "#E5ECF6",
              "width": 0.5
             },
             "pattern": {
              "fillmode": "overlay",
              "size": 10,
              "solidity": 0.2
             }
            },
            "type": "bar"
           }
          ],
          "barpolar": [
           {
            "marker": {
             "line": {
              "color": "#E5ECF6",
              "width": 0.5
             },
             "pattern": {
              "fillmode": "overlay",
              "size": 10,
              "solidity": 0.2
             }
            },
            "type": "barpolar"
           }
          ],
          "carpet": [
           {
            "aaxis": {
             "endlinecolor": "#2a3f5f",
             "gridcolor": "white",
             "linecolor": "white",
             "minorgridcolor": "white",
             "startlinecolor": "#2a3f5f"
            },
            "baxis": {
             "endlinecolor": "#2a3f5f",
             "gridcolor": "white",
             "linecolor": "white",
             "minorgridcolor": "white",
             "startlinecolor": "#2a3f5f"
            },
            "type": "carpet"
           }
          ],
          "choropleth": [
           {
            "colorbar": {
             "outlinewidth": 0,
             "ticks": ""
            },
            "type": "choropleth"
           }
          ],
          "contour": [
           {
            "colorbar": {
             "outlinewidth": 0,
             "ticks": ""
            },
            "colorscale": [
             [
              0,
              "#0d0887"
             ],
             [
              0.1111111111111111,
              "#46039f"
             ],
             [
              0.2222222222222222,
              "#7201a8"
             ],
             [
              0.3333333333333333,
              "#9c179e"
             ],
             [
              0.4444444444444444,
              "#bd3786"
             ],
             [
              0.5555555555555556,
              "#d8576b"
             ],
             [
              0.6666666666666666,
              "#ed7953"
             ],
             [
              0.7777777777777778,
              "#fb9f3a"
             ],
             [
              0.8888888888888888,
              "#fdca26"
             ],
             [
              1,
              "#f0f921"
             ]
            ],
            "type": "contour"
           }
          ],
          "contourcarpet": [
           {
            "colorbar": {
             "outlinewidth": 0,
             "ticks": ""
            },
            "type": "contourcarpet"
           }
          ],
          "heatmap": [
           {
            "colorbar": {
             "outlinewidth": 0,
             "ticks": ""
            },
            "colorscale": [
             [
              0,
              "#0d0887"
             ],
             [
              0.1111111111111111,
              "#46039f"
             ],
             [
              0.2222222222222222,
              "#7201a8"
             ],
             [
              0.3333333333333333,
              "#9c179e"
             ],
             [
              0.4444444444444444,
              "#bd3786"
             ],
             [
              0.5555555555555556,
              "#d8576b"
             ],
             [
              0.6666666666666666,
              "#ed7953"
             ],
             [
              0.7777777777777778,
              "#fb9f3a"
             ],
             [
              0.8888888888888888,
              "#fdca26"
             ],
             [
              1,
              "#f0f921"
             ]
            ],
            "type": "heatmap"
           }
          ],
          "heatmapgl": [
           {
            "colorbar": {
             "outlinewidth": 0,
             "ticks": ""
            },
            "colorscale": [
             [
              0,
              "#0d0887"
             ],
             [
              0.1111111111111111,
              "#46039f"
             ],
             [
              0.2222222222222222,
              "#7201a8"
             ],
             [
              0.3333333333333333,
              "#9c179e"
             ],
             [
              0.4444444444444444,
              "#bd3786"
             ],
             [
              0.5555555555555556,
              "#d8576b"
             ],
             [
              0.6666666666666666,
              "#ed7953"
             ],
             [
              0.7777777777777778,
              "#fb9f3a"
             ],
             [
              0.8888888888888888,
              "#fdca26"
             ],
             [
              1,
              "#f0f921"
             ]
            ],
            "type": "heatmapgl"
           }
          ],
          "histogram": [
           {
            "marker": {
             "pattern": {
              "fillmode": "overlay",
              "size": 10,
              "solidity": 0.2
             }
            },
            "type": "histogram"
           }
          ],
          "histogram2d": [
           {
            "colorbar": {
             "outlinewidth": 0,
             "ticks": ""
            },
            "colorscale": [
             [
              0,
              "#0d0887"
             ],
             [
              0.1111111111111111,
              "#46039f"
             ],
             [
              0.2222222222222222,
              "#7201a8"
             ],
             [
              0.3333333333333333,
              "#9c179e"
             ],
             [
              0.4444444444444444,
              "#bd3786"
             ],
             [
              0.5555555555555556,
              "#d8576b"
             ],
             [
              0.6666666666666666,
              "#ed7953"
             ],
             [
              0.7777777777777778,
              "#fb9f3a"
             ],
             [
              0.8888888888888888,
              "#fdca26"
             ],
             [
              1,
              "#f0f921"
             ]
            ],
            "type": "histogram2d"
           }
          ],
          "histogram2dcontour": [
           {
            "colorbar": {
             "outlinewidth": 0,
             "ticks": ""
            },
            "colorscale": [
             [
              0,
              "#0d0887"
             ],
             [
              0.1111111111111111,
              "#46039f"
             ],
             [
              0.2222222222222222,
              "#7201a8"
             ],
             [
              0.3333333333333333,
              "#9c179e"
             ],
             [
              0.4444444444444444,
              "#bd3786"
             ],
             [
              0.5555555555555556,
              "#d8576b"
             ],
             [
              0.6666666666666666,
              "#ed7953"
             ],
             [
              0.7777777777777778,
              "#fb9f3a"
             ],
             [
              0.8888888888888888,
              "#fdca26"
             ],
             [
              1,
              "#f0f921"
             ]
            ],
            "type": "histogram2dcontour"
           }
          ],
          "mesh3d": [
           {
            "colorbar": {
             "outlinewidth": 0,
             "ticks": ""
            },
            "type": "mesh3d"
           }
          ],
          "parcoords": [
           {
            "line": {
             "colorbar": {
              "outlinewidth": 0,
              "ticks": ""
             }
            },
            "type": "parcoords"
           }
          ],
          "pie": [
           {
            "automargin": true,
            "type": "pie"
           }
          ],
          "scatter": [
           {
            "fillpattern": {
             "fillmode": "overlay",
             "size": 10,
             "solidity": 0.2
            },
            "type": "scatter"
           }
          ],
          "scatter3d": [
           {
            "line": {
             "colorbar": {
              "outlinewidth": 0,
              "ticks": ""
             }
            },
            "marker": {
             "colorbar": {
              "outlinewidth": 0,
              "ticks": ""
             }
            },
            "type": "scatter3d"
           }
          ],
          "scattercarpet": [
           {
            "marker": {
             "colorbar": {
              "outlinewidth": 0,
              "ticks": ""
             }
            },
            "type": "scattercarpet"
           }
          ],
          "scattergeo": [
           {
            "marker": {
             "colorbar": {
              "outlinewidth": 0,
              "ticks": ""
             }
            },
            "type": "scattergeo"
           }
          ],
          "scattergl": [
           {
            "marker": {
             "colorbar": {
              "outlinewidth": 0,
              "ticks": ""
             }
            },
            "type": "scattergl"
           }
          ],
          "scattermapbox": [
           {
            "marker": {
             "colorbar": {
              "outlinewidth": 0,
              "ticks": ""
             }
            },
            "type": "scattermapbox"
           }
          ],
          "scatterpolar": [
           {
            "marker": {
             "colorbar": {
              "outlinewidth": 0,
              "ticks": ""
             }
            },
            "type": "scatterpolar"
           }
          ],
          "scatterpolargl": [
           {
            "marker": {
             "colorbar": {
              "outlinewidth": 0,
              "ticks": ""
             }
            },
            "type": "scatterpolargl"
           }
          ],
          "scatterternary": [
           {
            "marker": {
             "colorbar": {
              "outlinewidth": 0,
              "ticks": ""
             }
            },
            "type": "scatterternary"
           }
          ],
          "surface": [
           {
            "colorbar": {
             "outlinewidth": 0,
             "ticks": ""
            },
            "colorscale": [
             [
              0,
              "#0d0887"
             ],
             [
              0.1111111111111111,
              "#46039f"
             ],
             [
              0.2222222222222222,
              "#7201a8"
             ],
             [
              0.3333333333333333,
              "#9c179e"
             ],
             [
              0.4444444444444444,
              "#bd3786"
             ],
             [
              0.5555555555555556,
              "#d8576b"
             ],
             [
              0.6666666666666666,
              "#ed7953"
             ],
             [
              0.7777777777777778,
              "#fb9f3a"
             ],
             [
              0.8888888888888888,
              "#fdca26"
             ],
             [
              1,
              "#f0f921"
             ]
            ],
            "type": "surface"
           }
          ],
          "table": [
           {
            "cells": {
             "fill": {
              "color": "#EBF0F8"
             },
             "line": {
              "color": "white"
             }
            },
            "header": {
             "fill": {
              "color": "#C8D4E3"
             },
             "line": {
              "color": "white"
             }
            },
            "type": "table"
           }
          ]
         },
         "layout": {
          "annotationdefaults": {
           "arrowcolor": "#2a3f5f",
           "arrowhead": 0,
           "arrowwidth": 1
          },
          "autotypenumbers": "strict",
          "coloraxis": {
           "colorbar": {
            "outlinewidth": 0,
            "ticks": ""
           }
          },
          "colorscale": {
           "diverging": [
            [
             0,
             "#8e0152"
            ],
            [
             0.1,
             "#c51b7d"
            ],
            [
             0.2,
             "#de77ae"
            ],
            [
             0.3,
             "#f1b6da"
            ],
            [
             0.4,
             "#fde0ef"
            ],
            [
             0.5,
             "#f7f7f7"
            ],
            [
             0.6,
             "#e6f5d0"
            ],
            [
             0.7,
             "#b8e186"
            ],
            [
             0.8,
             "#7fbc41"
            ],
            [
             0.9,
             "#4d9221"
            ],
            [
             1,
             "#276419"
            ]
           ],
           "sequential": [
            [
             0,
             "#0d0887"
            ],
            [
             0.1111111111111111,
             "#46039f"
            ],
            [
             0.2222222222222222,
             "#7201a8"
            ],
            [
             0.3333333333333333,
             "#9c179e"
            ],
            [
             0.4444444444444444,
             "#bd3786"
            ],
            [
             0.5555555555555556,
             "#d8576b"
            ],
            [
             0.6666666666666666,
             "#ed7953"
            ],
            [
             0.7777777777777778,
             "#fb9f3a"
            ],
            [
             0.8888888888888888,
             "#fdca26"
            ],
            [
             1,
             "#f0f921"
            ]
           ],
           "sequentialminus": [
            [
             0,
             "#0d0887"
            ],
            [
             0.1111111111111111,
             "#46039f"
            ],
            [
             0.2222222222222222,
             "#7201a8"
            ],
            [
             0.3333333333333333,
             "#9c179e"
            ],
            [
             0.4444444444444444,
             "#bd3786"
            ],
            [
             0.5555555555555556,
             "#d8576b"
            ],
            [
             0.6666666666666666,
             "#ed7953"
            ],
            [
             0.7777777777777778,
             "#fb9f3a"
            ],
            [
             0.8888888888888888,
             "#fdca26"
            ],
            [
             1,
             "#f0f921"
            ]
           ]
          },
          "colorway": [
           "#636efa",
           "#EF553B",
           "#00cc96",
           "#ab63fa",
           "#FFA15A",
           "#19d3f3",
           "#FF6692",
           "#B6E880",
           "#FF97FF",
           "#FECB52"
          ],
          "font": {
           "color": "#2a3f5f"
          },
          "geo": {
           "bgcolor": "white",
           "lakecolor": "white",
           "landcolor": "#E5ECF6",
           "showlakes": true,
           "showland": true,
           "subunitcolor": "white"
          },
          "hoverlabel": {
           "align": "left"
          },
          "hovermode": "closest",
          "mapbox": {
           "style": "light"
          },
          "paper_bgcolor": "white",
          "plot_bgcolor": "#E5ECF6",
          "polar": {
           "angularaxis": {
            "gridcolor": "white",
            "linecolor": "white",
            "ticks": ""
           },
           "bgcolor": "#E5ECF6",
           "radialaxis": {
            "gridcolor": "white",
            "linecolor": "white",
            "ticks": ""
           }
          },
          "scene": {
           "xaxis": {
            "backgroundcolor": "#E5ECF6",
            "gridcolor": "white",
            "gridwidth": 2,
            "linecolor": "white",
            "showbackground": true,
            "ticks": "",
            "zerolinecolor": "white"
           },
           "yaxis": {
            "backgroundcolor": "#E5ECF6",
            "gridcolor": "white",
            "gridwidth": 2,
            "linecolor": "white",
            "showbackground": true,
            "ticks": "",
            "zerolinecolor": "white"
           },
           "zaxis": {
            "backgroundcolor": "#E5ECF6",
            "gridcolor": "white",
            "gridwidth": 2,
            "linecolor": "white",
            "showbackground": true,
            "ticks": "",
            "zerolinecolor": "white"
           }
          },
          "shapedefaults": {
           "line": {
            "color": "#2a3f5f"
           }
          },
          "ternary": {
           "aaxis": {
            "gridcolor": "white",
            "linecolor": "white",
            "ticks": ""
           },
           "baxis": {
            "gridcolor": "white",
            "linecolor": "white",
            "ticks": ""
           },
           "bgcolor": "#E5ECF6",
           "caxis": {
            "gridcolor": "white",
            "linecolor": "white",
            "ticks": ""
           }
          },
          "title": {
           "x": 0.05
          },
          "xaxis": {
           "automargin": true,
           "gridcolor": "white",
           "linecolor": "white",
           "ticks": "",
           "title": {
            "standoff": 15
           },
           "zerolinecolor": "white",
           "zerolinewidth": 2
          },
          "yaxis": {
           "automargin": true,
           "gridcolor": "white",
           "linecolor": "white",
           "ticks": "",
           "title": {
            "standoff": 15
           },
           "zerolinecolor": "white",
           "zerolinewidth": 2
          }
         }
        },
        "title": {
         "text": "PCA Visualization of Final Layer Token Representations -- x_0 = helloworld1 |R| = 424"
        }
       }
      },
      "text/html": [
       "<div>                            <div id=\"7f80f548-abe6-4efe-a00f-881f37150ad2\" class=\"plotly-graph-div\" style=\"height:525px; width:100%;\"></div>            <script type=\"text/javascript\">                require([\"plotly\"], function(Plotly) {                    window.PLOTLYENV=window.PLOTLYENV || {};                                    if (document.getElementById(\"7f80f548-abe6-4efe-a00f-881f37150ad2\")) {                    Plotly.newPlot(                        \"7f80f548-abe6-4efe-a00f-881f37150ad2\",                        [{\"customdata\":[[\"y_ids: 284 -- y_str:  = -- u_str_list: ['!']\",[\"!\"]],[\"y_ids: 198 -- y_str: \\n -- u_str_list: ['&']\",[\"&\"]],[\"y_ids: 11 -- y_str: , -- u_str_list: ['(av', 'Abb']\",[\"(av\",\"Abb\"]],[\"y_ids: 2021 -- y_str: .Text -- u_str_list: [' textbox', 'Abb']\",[\" textbox\",\"Abb\"]],[\"y_ids: 8 -- y_str: ) -- u_str_list: [')(', 'Abb']\",[\")(\",\"Abb\"]],[\"y_ids: 13 -- y_str: . -- u_str_list: ['complexType', 'Abb']\",[\"complexType\",\"Abb\"]],[\"y_ids: 29 -- y_str: \\u003e -- u_str_list: [' {{--\\u003c', 'Abb']\",[\" {{--\\u003c\",\"Abb\"]],[\"y_ids: 3592 -- y_str: .png -- u_str_list: ['`](', 'Abb']\",[\"`](\",\"Abb\"]],[\"y_ids: 92 -- y_str: } -- u_str_list: [\\\"'{\\\", 'Abb']\",[\"'{\",\"Abb\"]],[\"y_ids: 1 -- y_str: \\\" -- u_str_list: ['===\\\"', 'Abb']\",[\"===\\\"\",\"Abb\"]],[\"y_ids: 5 -- y_str: & -- u_str_list: [')&', 'Abb']\",[\")&\",\"Abb\"]],[\"y_ids: 518 -- y_str: ', -- u_str_list: [\\\" (('\\\", 'Abb']\",[\" (('\",\"Abb\"]],[\"y_ids: 271 -- y_str: \\n\\n -- u_str_list: ['`\\\\n\\\\n', 'Abb']\",[\"`\\n\\n\",\"Abb\"]],[\"y_ids: 498 -- y_str: \\\", -- u_str_list: ['__(\\\"', 'Abb']\",[\"__(\\\"\",\"Abb\"]],[\"y_ids: 49192 -- y_str: .setObjectName -- u_str_list: ['.lineEdit', 'Abb']\",[\".lineEdit\",\"Abb\"]],[\"y_ids: 662 -- y_str: . -- u_str_list: ['Sexy', 'Abb']\",[\"Sexy\",\"Abb\"]],[\"y_ids: 4924 -- y_str: .jpg -- u_str_list: ['\\u002finc', 'Abb']\",[\"\\u002finc\",\"Abb\"]],[\"y_ids: 60 -- y_str: ] -- u_str_list: ['[:,:,', 'Abb']\",[\"[:,:,\",\"Abb\"]],[\"y_ids: 9205 -- y_str: .xml -- u_str_list: ['+xml', 'Abb']\",[\"+xml\",\"Abb\"]],[\"y_ids: 317 -- y_str: );\\n -- u_str_list: ['*\\u003e(', 'Abb']\",[\"*\\u003e(\",\"Abb\"]],[\"y_ids: 6 -- y_str: ' -- u_str_list: [' `%', 'Abb']\",[\" `%\",\"Abb\"]],[\"y_ids: 5747 -- y_str: .setText -- u_str_list: ['\\\\ttxt', 'Abb']\",[\"\\ttxt\",\"Abb\"]],[\"y_ids: 397 -- y_str: \\u003e\\n -- u_str_list: ['\\\"\\u003e\\u003c\\u002f', 'Abb']\",[\"\\\"\\u003e\\u003c\\u002f\",\"Abb\"]],[\"y_ids: 14 -- y_str: \\u002f -- u_str_list: ['(\\u002f^', 'Abb']\",[\"(\\u002f^\",\"Abb\"]],[\"y_ids: 1882 -- y_str: ',' -- u_str_list: [\\\",'\\\", 'Abb']\",[\",'\",\"Abb\"]],[\"y_ids: 3996 -- y_str: .txt -- u_str_list: ['ifstream', 'Abb']\",[\"ifstream\",\"Abb\"]],[\"y_ids: 340 -- y_str: )\\n -- u_str_list: [\\\"('',\\\", 'Abb']\",[\"('',\",\"Abb\"]],[\"y_ids: 62 -- y_str: _ -- u_str_list: ['\\u003c_', 'Abb']\",[\"\\u003c_\",\"Abb\"]],[\"y_ids: 3089 -- y_str: \\\"\\\" -- u_str_list: ['(\\\\\\\\\\\"', 'Abb']\",[\"(\\\\\\\"\",\"Abb\"]],[\"y_ids: 2247 -- y_str: \\\",\\\" -- u_str_list: ['\\u3011,', 'Abb']\",[\"\\u3011,\",\"Abb\"]],[\"y_ids: 91 -- y_str: | -- u_str_list: [' :|', 'Abb']\",[\" :|\",\"Abb\"]],[\"y_ids: 2628 -- y_str: .html -- u_str_list: ['\\u002fproblem', 'Abb']\",[\"\\u002fproblem\",\"Abb\"]],[\"y_ids: 663 -- y_str: '] -- u_str_list: [\\\")['\\\", 'Abb']\",[\")['\",\"Abb\"]],[\"y_ids: 7356 -- y_str: .cpp -- u_str_list: [' clang', 'Abb']\",[\" clang\",\"Abb\"]],[\"y_ids: 26 -- y_str: ; -- u_str_list: ['`;', 'Abb']\",[\"`;\",\"Abb\"]],[\"y_ids: 524 -- y_str: \\u003c\\u002f -- u_str_list: ['?\\u003e\\\"\\u003e\\u003c\\u002f', 'Abb']\",[\"?\\u003e\\\"\\u003e\\u003c\\u002f\",\"Abb\"]],[\"y_ids: 46636 -- y_str: _TextChanged -- u_str_list: ['_TextChanged', 'Abb']\",[\"_TextChanged\",\"Abb\"]],[\"y_ids: 4194 -- y_str: \\u00a0 -- u_str_list: ['\\\\xa0n', 'Abb']\",[\"\\u00a0n\",\"Abb\"]],[\"y_ids: 34208 -- y_str: \\u548c -- u_str_list: [' \\u5982\\u679c', 'Abb']\",[\" \\u5982\\u679c\",\"Abb\"]],[\"y_ids: 64 -- y_str: a -- u_str_list: [' \\u003c!', 'Abb']\",[\" \\u003c!\",\"Abb\"]],[\"y_ids: 9297 -- y_str:  \\u003c- -- u_str_list: [' %\\u003e', 'Abb']\",[\" %\\u003e\",\"Abb\"]],[\"y_ids: 909 -- y_str: \\\") -- u_str_list: ['?(\\\"', 'Abb']\",[\"?(\\\"\",\"Abb\"]],[\"y_ids: 16378 -- y_str: .pdf -- u_str_list: [' epub', 'Abb']\",[\" epub\",\"Abb\"]],[\"y_ids: 1359 -- y_str: ,\\\" -- u_str_list: ['=?\\\",', 'Abb']\",[\"=?\\\",\",\"Abb\"]],[\"y_ids: 22990 -- y_str: .dll -- u_str_list: ['.WriteAll', 'Abb']\",[\".WriteAll\",\"Abb\"]],[\"y_ids: 8439 -- y_str: '} -- u_str_list: [\\\"={'\\\", 'Abb']\",[\"={'\",\"Abb\"]],[\"y_ids: 2927 -- y_str: .js -- u_str_list: ['\\u002f***\\u002f', 'Abb']\",[\"\\u002f***\\u002f\",\"Abb\"]],[\"y_ids: 220 -- y_str:   -- u_str_list: [' \\u6295\\u7a3f\\u65e5', 'Abb']\",[\" \\u6295\\u7a3f\\u65e5\",\"Abb\"]],[\"y_ids: 14778 -- y_str: .o -- u_str_list: ['GNUC', 'Abb']\",[\"GNUC\",\"Abb\"]],[\"y_ids: 916 -- y_str: .com -- u_str_list: [' Www', 'Abb']\",[\" Www\",\"Abb\"]],[\"y_ids: 612 -- y_str:  & -- u_str_list: [' \\\\\\\\\\\\\\\\\\\\n', 'Abb']\",[\" \\\\\\\\\\n\",\"Abb\"]],[\"y_ids: 334 -- y_str: ** -- u_str_list: ['**', 'Abb']\",[\"**\",\"Abb\"]],[\"y_ids: 40709 -- y_str: \\u27e9 -- u_str_list: [' \\u27e8', 'Abb']\",[\" \\u27e8\",\"Abb\"]],[\"y_ids: 35 -- y_str: D -- u_str_list: [' Petsc', 'Abb']\",[\" Petsc\",\"Abb\"]],[\"y_ids: 7680 -- y_str: .Image -- u_str_list: ['.ISupportInitialize', 'Abb']\",[\".ISupportInitialize\",\"Abb\"]],[\"y_ids: 10591 -- y_str: @gmail -- u_str_list: [\\\"'email\\\", 'Abb']\",[\"'email\",\"Abb\"]],[\"y_ids: 63 -- y_str: ` -- u_str_list: ['`,`', 'Abb']\",[\"`,`\",\"Abb\"]],[\"y_ids: 28728 -- y_str: .jar -- u_str_list: ['\\u002fjava', 'Abb']\",[\"\\u002fjava\",\"Abb\"]],[\"y_ids: 9318 -- y_str: .frame -- u_str_list: [':CGRectMake', 'Abb']\",[\":CGRectMake\",\"Abb\"]],[\"y_ids: 4616 -- y_str: .Location -- u_str_list: ['.ComboBox', 'Abb']\",[\".ComboBox\",\"Abb\"]],[\"y_ids: 8022 -- y_str: .pl -- u_str_list: ['\\u002fperl', 'Abb']\",[\"\\u002fperl\",\"Abb\"]],[\"y_ids: 3500 -- y_str: }} -- u_str_list: ['{{{', 'Abb']\",[\"{{{\",\"Abb\"]],[\"y_ids: 760 -- y_str: \\\"\\u003e -- u_str_list: ['.\\\"\\u003c', 'Abb']\",[\".\\\"\\u003c\",\"Abb\"]],[\"y_ids: 1365 -- y_str: \\\"] -- u_str_list: ['()[\\\"', 'Abb']\",[\"()[\\\"\",\"Abb\"]],[\"y_ids: 9554 -- y_str: \\u7684 -- u_str_list: ['\\u8b93', 'Abb']\",[\"\\u8b93\",\"Abb\"]],[\"y_ids: 9725 -- y_str: ]( -- u_str_list: ['![', 'Abb']\",[\"![\",\"Abb\"]],[\"y_ids: 522 -- y_str: .c -- u_str_list: ['\\u002flib', 'Abb']\",[\"\\u002flib\",\"Abb\"]],[\"y_ids: 7345 -- y_str: .py -- u_str_list: ['Python', 'Abb']\",[\"Python\",\"Abb\"]],[\"y_ids: 11585 -- y_str: .Rows -- u_str_list: ['DataGridView', 'Abb']\",[\"DataGridView\",\"Abb\"]],[\"y_ids: 16144 -- y_str: \\u306e -- u_str_list: ['\\u3057\\u304b\\u3057', 'Abb']\",[\"\\u3057\\u304b\\u3057\",\"Abb\"]],[\"y_ids: 10064 -- y_str: }\\\" -- u_str_list: ['=\\\"{', 'Abb']\",[\"=\\\"{\",\"Abb\"]],[\"y_ids: 31 -- y_str: @ -- u_str_list: ['.Mail', 'Abb']\",[\".Mail\",\"Abb\"]],[\"y_ids: 47670 -- y_str: AppDelegate -- u_str_list: ['AppDelegate', 'Abb']\",[\"AppDelegate\",\"Abb\"]],[\"y_ids: 75808 -- y_str: .xls -- u_str_list: ['xls', 'Abb']\",[\"xls\",\"Abb\"]],[\"y_ids: 6770 -- y_str: ViewController -- u_str_list: ['viewController', 'Abb']\",[\"viewController\",\"Abb\"]],[\"y_ids: 761 -- y_str: \\\",\\n -- u_str_list: ['\\\\'=\\u003e\\\"', 'Abb']\",[\"'=\\u003e\\\"\",\"Abb\"]],[\"y_ids: 10251 -- y_str: .sql -- u_str_list: ['\\u002fsql', 'Abb']\",[\"\\u002fsql\",\"Abb\"]],[\"y_ids: 59 -- y_str: \\\\ -- u_str_list: ['\\\\\\\\\\\\\\\\\\\\\\\\', 'Abb']\",[\"\\\\\\\\\\\\\",\"Abb\"]],[\"y_ids: 429 -- y_str: =\\\" -- u_str_list: ['\\u003cform', 'Abb']\",[\"\\u003cform\",\"Abb\"]],[\"y_ids: 1861 -- y_str: '). -- u_str_list: [\\\"($('.\\\", 'Abb']\",[\"($('.\",\"Abb\"]],[\"y_ids: 1699 -- y_str: .log -- u_str_list: ['\\u002flogs', 'Abb']\",[\"\\u002flogs\",\"Abb\"]],[\"y_ids: 19963 -- y_str: .exe -- u_str_list: [' exe', 'Abb']\",[\" exe\",\"Abb\"]],[\"y_ids: 368 -- y_str: () -- u_str_list: [' performs', 'Abb']\",[\" performs\",\"Abb\"]],[\"y_ids: 863 -- y_str: \\u201d -- u_str_list: ['\\u201cHe', 'Abb']\",[\"\\u201cHe\",\"Abb\"]],[\"y_ids: 12323 -- y_str: .Items -- u_str_list: [' cbo', 'Abb']\",[\" cbo\",\"Abb\"]],[\"y_ids: 702 -- y_str: \\\"\\n -- u_str_list: ['\\\"a', 'Abb']\",[\"\\\"a\",\"Abb\"]],[\"y_ids: 803 -- y_str: \\\");\\n -- u_str_list: ['(@\\\"', 'Abb']\",[\"(@\\\"\",\"Abb\"]],[\"y_ids: 545 -- y_str: ();\\n -- u_str_list: [\\\"'])){\\\\n\\\", 'Cele']\",[\"'])){\\n\",\"Cele\"]],[\"y_ids: 487 -- y_str: :: -- u_str_list: [' \\\"\\u003c?', 'Cele']\",[\" \\\"\\u003c?\",\"Cele\"]],[\"y_ids: 1329 -- y_str: ')\\n -- u_str_list: [\\\"('#\\\", 'Cele']\",[\"('#\",\"Cele\"]],[\"y_ids: 319 -- y_str: \\r\\n -- u_str_list: [' -*-\\\\r\\\\n', 'Cele']\",[\" -*-\\r\\n\",\"Cele\"]],[\"y_ids: 2501 -- y_str: \\u003c\\u003c -- u_str_list: [' \\\"\\u003c\\u003c', 'Cele']\",[\" \\\"\\u003c\\u003c\",\"Cele\"]],[\"y_ids: 5689 -- y_str: \\\"+ -- u_str_list: [']+\\\"', 'Cele']\",[\"]+\\\"\",\"Cele\"]],[\"y_ids: 933 -- y_str: ]\\n -- u_str_list: ['#[', 'Cele']\",[\"#[\",\"Cele\"]],[\"y_ids: 25 -- y_str: : -- u_str_list: [':{}', 'Cele']\",[\":{}\",\"Cele\"]],[\"y_ids: 1158 -- y_str: \\\")\\n -- u_str_list: [' \\\"\\\\\\\\(', 'Cele']\",[\" \\\"\\\\(\",\"Cele\"]],[\"y_ids: 1865 -- y_str: \\\"). -- u_str_list: [' ($(\\\"#', 'Cele']\",[\" ($(\\\"#\",\"Cele\"]],[\"y_ids: 9 -- y_str: * -- u_str_list: [' *\\\"', 'Cele']\",[\" *\\\"\",\"Cele\"]],[\"y_ids: 565 -- y_str: __ -- u_str_list: [\\\"['__\\\", 'Cele']\",[\"['__\",\"Cele\"]],[\"y_ids: 330 -- y_str:  \\\" -- u_str_list: ['(defvar', 'Cele']\",[\"(defvar\",\"Cele\"]],[\"y_ids: 746 -- y_str: ()\\n -- u_str_list: ['\\\\tUFUNCTION', 'Cele']\",[\"\\tUFUNCTION\",\"Cele\"]],[\"y_ids: 5163 -- y_str: ]] -- u_str_list: [' ([[', 'Cele']\",[\" ([[\",\"Cele\"]],[\"y_ids: 26295 -- y_str: .Controllers -- u_str_list: ['.Controllers', 'Cele']\",[\".Controllers\",\"Cele\"]],[\"y_ids: 10197 -- y_str: --\\u003e\\n -- u_str_list: ['\\u003e\\u003c!--', 'Cele']\",[\"\\u003e\\u003c!--\",\"Cele\"]],[\"y_ids: 534 -- y_str: }\\n -- u_str_list: ['\\u003e{@', 'Cele']\",[\"\\u003e{@\",\"Cele\"]],[\"y_ids: 345 -- y_str: ,\\n -- u_str_list: ['([\\\\n', 'Cele']\",[\"([\\n\",\"Cele\"]],[\"y_ids: 624 -- y_str:  == -- u_str_list: [' (!(', 'Cele']\",[\" (!(\",\"Cele\"]],[\"y_ids: 280 -- y_str: ;\\n -- u_str_list: ['\\\\tDECLARE', 'Cele']\",[\"\\tDECLARE\",\"Cele\"]],[\"y_ids: 5723 -- y_str: \\\\\\u003c -- u_str_list: [' (\\\\\\\\\\u003c', 'Cele']\",[\" (\\\\\\u003c\",\"Cele\"]],[\"y_ids: 2348 -- y_str: .php -- u_str_list: [\\\"__.'\\u002f\\\", 'Cele']\",[\"__.'\\u002f\",\"Cele\"]],[\"y_ids: 1174 -- y_str: , -- u_str_list: [' },', ' Kurdistan']\",[\" },\",\" Kurdistan\"]],[\"y_ids: 335 -- y_str:  } -- u_str_list: [' \\\"{{', ' Kurdistan']\",[\" \\\"{{\",\" Kurdistan\"]],[\"y_ids: 80044 -- y_str:  Kurdistan -- u_str_list: ['(jPanel', ' Kurdistan']\",[\"(jPanel\",\" Kurdistan\"]],[\"y_ids: 2858 -- y_str: .text -- u_str_list: ['textView', ' McD']\",[\"textView\",\" McD\"]],[\"y_ids: 3108 -- y_str: (){\\n -- u_str_list: ['=function', ' McD']\",[\"=function\",\" McD\"]],[\"y_ids: 2153 -- y_str: \\\\\\\" -- u_str_list: ['(\\\\\\\\\\\"', ' McD']\",[\"(\\\\\\\"\",\" McD\"]],[\"y_ids: 1232 -- y_str: ': -- u_str_list: [\\\"',{'\\\", ' McD']\",[\"',{'\",\" McD\"]],[\"y_ids: 20391 -- y_str: .setFont -- u_str_list: ['.setFont', ' McD']\",[\".setFont\",\" McD\"]],[\"y_ids: 870 -- y_str: .h -- u_str_list: ['(QWidget', ' McD']\",[\"(QWidget\",\" McD\"]],[\"y_ids: 47938 -- y_str: .xlsx -- u_str_list: ['(sheet', ' McD']\",[\"(sheet\",\" McD\"]],[\"y_ids: 551 -- y_str:  : -- u_str_list: [' forall', ' McD']\",[\" forall\",\" McD\"]],[\"y_ids: 3954 -- y_str:  }} -- u_str_list: ['{{{', ' McD']\",[\"{{{\",\" McD\"]],[\"y_ids: 58509 -- y_str: .ml -- u_str_list: ['_Syntax', ' McD']\",[\"_Syntax\",\" McD\"]],[\"y_ids: 3 -- y_str: $ -- u_str_list: ['_${', ' McD']\",[\"_${\",\" McD\"]],[\"y_ids: 374 -- y_str:  is -- u_str_list: ['\\u201cIf', ' McD']\",[\"\\u201cIf\",\" McD\"]],[\"y_ids: 13663 -- y_str: .setOnClickListener -- u_str_list: ['.OnClickListener', ' McD']\",[\".OnClickListener\",\" McD\"]],[\"y_ids: 197 -- y_str: \\t -- u_str_list: ['\\\\tusers', ' McD']\",[\"\\tusers\",\" McD\"]],[\"y_ids: 22943 -- y_str: .addActionListener -- u_str_list: ['.addActionListener', ' McD']\",[\".addActionListener\",\" McD\"]],[\"y_ids: 5283 -- y_str: +\\\" -- u_str_list: ['=\\\\'\\\"+', ' McD']\",[\"='\\\"+\",\" McD\"]],[\"y_ids: 681 -- y_str: [' -- u_str_list: [\\\"'][$\\\", ' McD']\",[\"'][$\",\" McD\"]],[\"y_ids: 995 -- y_str: .set -- u_str_list: ['.setPassword', ' McD']\",[\".setPassword\",\" McD\"]],[\"y_ids: 3413 -- y_str: Module -- u_str_list: ['@NgModule', ' McD']\",[\"@NgModule\",\" McD\"]],[\"y_ids: 2331 -- y_str:  ] -- u_str_list: [' ([', ' McD']\",[\" ([\",\" McD\"]],[\"y_ids: 794 -- y_str: \\\": -- u_str_list: [',{\\\"', ' McD']\",[\",{\\\"\",\" McD\"]],[\"y_ids: 4 -- y_str: % -- u_str_list: [\\\",'%\\\", ' McD']\",[\",'%\",\" McD\"]],[\"y_ids: 11085 -- y_str: .java -- u_str_list: ['RecognitionException', ' McD']\",[\"RecognitionException\",\" McD\"]],[\"y_ids: 489 -- y_str:  + -- u_str_list: ['[\\\"+', ' Jeb']\",[\"[\\\"+\",\" Jeb\"]],[\"y_ids: 883 -- y_str:  ) -- u_str_list: [' _(', ' Jeb']\",[\" _(\",\" Jeb\"]],[\"y_ids: 1071 -- y_str:  said -- u_str_list: ['.As', ' Jeb']\",[\".As\",\" Jeb\"]],[\"y_ids: 1134 -- y_str:  \\u003c\\u003c -- u_str_list: ['()\\u003c\\u003c', ' Jeb']\",[\"()\\u003c\\u003c\",\" Jeb\"]],[\"y_ids: 34058 -- y_str:  varchar -- u_str_list: [' INTO', ' Jeb']\",[\" INTO\",\" Jeb\"]],[\"y_ids: 8507 -- y_str: =new -- u_str_list: ['=new', ' Jeb']\",[\"=new\",\" Jeb\"]],[\"y_ids: 457 -- y_str:  }\\n -- u_str_list: ['=\\\"{!!', ' Jeb']\",[\"=\\\"{!!\",\" Jeb\"]],[\"y_ids: 311 -- y_str:  to -- u_str_list: ['(Convert', ' Jeb']\",[\"(Convert\",\" Jeb\"]],[\"y_ids: 58995 -- y_str: .tex -- u_str_list: ['TeX', ' Jeb']\",[\"TeX\",\" Jeb\"]],[\"y_ids: 31407 -- y_str: .getSelected -- u_str_list: ['.getValueAt', ' Jeb']\",[\".getValueAt\",\" Jeb\"]],[\"y_ids: 17197 -- y_str: ToolStripMenuItem -- u_str_list: ['.ToolStripMenuItem', ' COVID']\",[\".ToolStripMenuItem\",\" COVID\"]],[\"y_ids: 100150 -- y_str: .fasta -- u_str_list: [' fasta', ' COVID']\",[\" fasta\",\" COVID\"]],[\"y_ids: 642 -- y_str:  *\\u002f -- u_str_list: ['(\\u002f*', ' COVID']\",[\"(\\u002f*\",\" COVID\"]],[\"y_ids: 38689 -- y_str:  VARCHAR -- u_str_list: ['VARCHAR', ' COVID']\",[\"VARCHAR\",\" COVID\"]],[\"y_ids: 11468 -- y_str: .csv -- u_str_list: ['_csv', ' COVID']\",[\"_csv\",\" COVID\"]],[\"y_ids: 3349 -- y_str: :( -- u_str_list: ['IBAction', ' COVID']\",[\"IBAction\",\" COVID\"]],[\"y_ids: 10 -- y_str: + -- u_str_list: ['=\\\"\\\\'.$', ' COVID']\",[\"=\\\"'.$\",\" COVID\"]],[\"y_ids: 50473 -- y_str: .pem -- u_str_list: ['.pem', ' COVID']\",[\".pem\",\" COVID\"]],[\"y_ids: 1270 -- y_str: '\\n -- u_str_list: [\\\"='\\\\\\\\\\\", ' COVID']\",[\"='\\\\\",\" COVID\"]],[\"y_ids: 304 -- y_str:  in -- u_str_list: ['\\\\tforeach', ' COVID']\",[\"\\tforeach\",\" COVID\"]],[\"y_ids: 10859 -- y_str: .addEventListener -- u_str_list: [' fireEvent', ' COVID']\",[\" fireEvent\",\" COVID\"]],[\"y_ids: 528 -- y_str:  int -- u_str_list: ['\\\\tId', ' COVID']\",[\"\\tId\",\" COVID\"]],[\"y_ids: 3343 -- y_str: \\\". -- u_str_list: ['(\\\"{}', ' COVID']\",[\"(\\\"{}\",\" COVID\"]],[\"y_ids: 25449 -- y_str: ActionPerformed -- u_str_list: ['ActionPerformed', ' COVID']\",[\"ActionPerformed\",\" COVID\"]],[\"y_ids: 25688 -- y_str: .aspx -- u_str_list: ['StartupScript', ' COVID']\",[\"StartupScript\",\" COVID\"]],[\"y_ids: 7171 -- y_str: \\\"]\\n -- u_str_list: ['=[\\\"', ' Hlav']\",[\"=[\\\"\",\" Hlav\"]],[\"y_ids: 364 -- y_str:  ' -- u_str_list: [\\\" (('\\\", ' Hlav']\",[\" (('\",\" Hlav\"]],[\"y_ids: 314 -- y_str:  { -- u_str_list: [\\\"$('.\\\", ' Hlav']\",[\"$('.\",\" Hlav\"]],[\"y_ids: 65775 -- y_str: .scala -- u_str_list: ['.scala', ' unve']\",[\".scala\",\" unve\"]],[\"y_ids: 56576 -- y_str: .bmp -- u_str_list: ['.bmp', ' unve']\",[\".bmp\",\" unve\"]],[\"y_ids: 20182 -- y_str: \\u2019, -- u_str_list: [\\\"[['\\\", ' unve']\",[\"[['\",\" unve\"]],[\"y_ids: 765 -- y_str:  | -- u_str_list: [' |\\\\\\\\', ' unve']\",[\" |\\\\\",\" unve\"]],[\"y_ids: 4421 -- y_str: .json -- u_str_list: ['(JSONObject', '-Israel']\",[\"(JSONObject\",\"-Israel\"]],[\"y_ids: 63275 -- y_str: ','# -- u_str_list: [\\\"','#\\\", '-Israel']\",[\"','#\",\"-Israel\"]],[\"y_ids: 3332 -- y_str: \\\":\\\" -- u_str_list: ['\\\\\\\\\\\":{\\\\\\\\\\\"', '-Israel']\",[\"\\\\\\\":{\\\\\\\"\",\"-Israel\"]],[\"y_ids: 28 -- y_str: = -- u_str_list: [\\\"=\\\\\\\\'\\\", '-Israel']\",[\"=\\\\'\",\"-Israel\"]],[\"y_ids: 13107 -- y_str: }}\\u003c\\u002f -- u_str_list: ['\\\"\\u003e{{', 'Celebr']\",[\"\\\"\\u003e{{\",\"Celebr\"]],[\"y_ids: 20435 -- y_str: \\\"\\u003c\\u003c -- u_str_list: ['\\u003c\\u003c\\\"', 'Celebr']\",[\"\\u003c\\u003c\\\"\",\"Celebr\"]],[\"y_ids: 1500 -- y_str: \\u003e\\u003c\\u002f -- u_str_list: [' }}\\\"\\u003e\\u003c', 'Celebr']\",[\" }}\\\"\\u003e\\u003c\",\"Celebr\"]],[\"y_ids: 13502 -- y_str: .innerHTML -- u_str_list: ['\\\\'\\u003e\\\"+', 'Celebr']\",[\"'\\u003e\\\"+\",\"Celebr\"]],[\"y_ids: 20150 -- y_str: \\u003e', -- u_str_list: [\\\"='\\u003c\\\", 'Celebr']\",[\"='\\u003c\",\"Celebr\"]],[\"y_ids: 4544 -- y_str:  \\\\\\u003c -- u_str_list: [' \\\\\\\\\\u003c', ' Stad']\",[\" \\\\\\u003c\",\" Stad\"]],[\"y_ids: 85652 -- y_str: .avi -- u_str_list: ['.avi', ' Stad']\",[\".avi\",\" Stad\"]],[\"y_ids: 8297 -- y_str: .transform -- u_str_list: ['.localScale', ' Stad']\",[\".localScale\",\" Stad\"]],[\"y_ids: 13268 -- y_str: .BackColor -- u_str_list: ['.FromArgb', ' Stad']\",[\".FromArgb\",\" Stad\"]],[\"y_ids: 477 -- y_str:  or -- u_str_list: ['Neither', ' Stad']\",[\"Neither\",\" Stad\"]],[\"y_ids: 1666 -- y_str:  As -- u_str_list: [' ByVal', ' Stad']\",[\" ByVal\",\" Stad\"]],[\"y_ids: 2809 -- y_str: (const -- u_str_list: ['(void', ' Dipl']\",[\"(void\",\" Dipl\"]],[\"y_ids: 1703 -- y_str:  := -- u_str_list: ['\\\\tmock', ' Dipl']\",[\"\\tmock\",\" Dipl\"]],[\"y_ids: 405 -- y_str: -\\u003e -- u_str_list: ['.setStyleSheet', ' Dipl']\",[\".setStyleSheet\",\" Dipl\"]],[\"y_ids: 14586 -- y_str: ::~ -- u_str_list: ['::~', ' Dipl']\",[\"::~\",\" Dipl\"]],[\"y_ids: 570 -- y_str: ). -- u_str_list: [' $(\\\"#\\\"', ' Dipl']\",[\" $(\\\"#\\\"\",\" Dipl\"]],[\"y_ids: 4431 -- y_str: (void -- u_str_list: [',void', ' Dipl']\",[\",void\",\" Dipl\"]],[\"y_ids: 512 -- y_str: :\\n -- u_str_list: ['ebp', ' Dipl']\",[\"ebp\",\" Dipl\"]],[\"y_ids: 56237 -- y_str: .asm -- u_str_list: ['getSource', ' Z\\u00e1p']\",[\"getSource\",\" Z\\u00e1p\"]],[\"y_ids: 22308 -- y_str: \\u2033 -- u_str_list: ['=\\\\'\\\".$', ' Z\\u00e1p']\",[\"='\\\".$\",\" Z\\u00e1p\"]],[\"y_ids: 5063 -- y_str: (L -- u_str_list: [' invokevirtual', ' Z\\u00e1p']\",[\" invokevirtual\",\" Z\\u00e1p\"]],[\"y_ids: 529 -- y_str: \\u2019 -- u_str_list: [\\\"=('\\\", ' Z\\u00e1p']\",[\"=('\",\" Z\\u00e1p\"]],[\"y_ids: 8345 -- y_str:  \\u00bb -- u_str_list: [' \\u300e', ' Z\\u00e1p']\",[\" \\u300e\",\" Z\\u00e1p\"]],[\"y_ids: 13289 -- y_str: \\u00bb -- u_str_list: [\\\" [['\\\", ' Z\\u00e1p']\",[\" [['\",\" Z\\u00e1p\"]],[\"y_ids: 3546 -- y_str: \\\\x -- u_str_list: [\\\"('{}\\\", ' Z\\u00e1p']\",[\"('{}\",\" Z\\u00e1p\"]],[\"y_ids: 175 -- y_str: \\ufffd -- u_str_list: [' *****', '\\ufffd']\",[\" *****\",\"\\ufffd\"]],[\"y_ids: 58446 -- y_str: .hs -- u_str_list: [' Perl', '\\ufffd']\",[\" Perl\",\"\\ufffd\"]],[\"y_ids: 31643 -- y_str: \\ufe0f -- u_str_list: ['\\u0e38\\u0e15\\u0e1a\\u0e2d\\u0e25', '\\ufffd']\",[\"\\u0e38\\u0e15\\u0e1a\\u0e2d\\u0e25\",\"\\ufffd\"]],[\"y_ids: 69209 -- y_str: \\u203a -- u_str_list: ['|^', '\\ufffd']\",[\"|^\",\"\\ufffd\"]],[\"y_ids: 401 -- y_str: ;\\n\\n -- u_str_list: ['.super', '\\ufffd']\",[\".super\",\"\\ufffd\"]],[\"y_ids: 30512 -- y_str: \\u3092 -- u_str_list: ['\\u3053\\u3068\\u306b', '\\ufffd']\",[\"\\u3053\\u3068\\u306b\",\"\\ufffd\"]],[\"y_ids: 1179 -- y_str:  import -- u_str_list: ['from', '\\ufffd']\",[\"from\",\"\\ufffd\"]],[\"y_ids: 10572 -- y_str: .Models -- u_str_list: ['HasForeignKey', '\\ufffd']\",[\"HasForeignKey\",\"\\ufffd\"]],[\"y_ids: 323 -- y_str:  and -- u_str_list: [' combines', '\\ufffd']\",[\" combines\",\"\\ufffd\"]],[\"y_ids: 33821 -- y_str: :hover -- u_str_list: ['mouseleave', '\\ufffd']\",[\"mouseleave\",\"\\ufffd\"]],[\"y_ids: 71 -- y_str: h -- u_str_list: ['gcd', '\\ufffd']\",[\"gcd\",\"\\ufffd\"]],[\"y_ids: 30964 -- y_str: .wav -- u_str_list: [' jpeg', '\\ufffd']\",[\" jpeg\",\"\\ufffd\"]],[\"y_ids: 4337 -- y_str: .Controls -- u_str_list: ['.panel', '\\ufffd']\",[\".panel\",\"\\ufffd\"]],[\"y_ids: 83954 -- y_str: \\u003c\\\\\\u002f -- u_str_list: ['umbnails', '\\ufffd']\",[\"umbnails\",\"\\ufffd\"]],[\"y_ids: 749 -- y_str: .m -- u_str_list: [' MATLAB', '\\ufffd']\",[\" MATLAB\",\"\\ufffd\"]],[\"y_ids: 81 -- y_str: r -- u_str_list: ['[r', '\\ufffd']\",[\"[r\",\"\\ufffd\"]],[\"y_ids: 3505 -- y_str: \\\\\\\\ -- u_str_list: ['$filter', '\\ufffd']\",[\"$filter\",\"\\ufffd\"]],[\"y_ids: 58422 -- y_str: .proto -- u_str_list: ['.protobuf', '\\ufffd']\",[\".protobuf\",\"\\ufffd\"]],[\"y_ids: 4142 -- y_str: Activity -- u_str_list: ['(getActivity', '\\ufffd']\",[\"(getActivity\",\"\\ufffd\"]],[\"y_ids: 2095 -- y_str: Controller -- u_str_list: ['.Controllers', '\\ufffd']\",[\".Controllers\",\"\\ufffd\"]],[\"y_ids: 17295 -- y_str: .mp -- u_str_list: [' AudioClip', ' Democr']\",[\" AudioClip\",\" Democr\"]],[\"y_ids: 1388 -- y_str: .add -- u_str_list: ['=add', 'Iraq']\",[\"=add\",\"Iraq\"]],[\"y_ids: 5525 -- y_str: }) -- u_str_list: [' ``(', 'Iraq']\",[\" ``(\",\"Iraq\"]],[\"y_ids: 4425 -- y_str: .css -- u_str_list: ['(css', 'Iraq']\",[\"(css\",\"Iraq\"]],[\"y_ids: 10000 -- y_str: .grid -- u_str_list: ['\\\\tgrid', 'Iraq']\",[\"\\tgrid\",\"Iraq\"]],[\"y_ids: 48330 -- y_str: .onclick -- u_str_list: ['.click', 'Iraq']\",[\".click\",\"Iraq\"]],[\"y_ids: 12746 -- y_str: .appendChild -- u_str_list: ['appendTo', 'Iraq']\",[\"appendTo\",\"Iraq\"]],[\"y_ids: 9388 -- y_str: \\\"} -- u_str_list: ['__[\\\"', 'Iraq']\",[\"__[\\\"\",\"Iraq\"]],[\"y_ids: 871 -- y_str:  \\u003e -- u_str_list: ['(`\\u003c', ' Yah']\",[\"(`\\u003c\",\" Yah\"]],[\"y_ids: 83562 -- y_str:  Yah -- u_str_list: ['\\\\tiVar', ' Yah']\",[\"\\tiVar\",\" Yah\"]],[\"y_ids: 82760 -- y_str:  Byz -- u_str_list: ['\\u003cTreeNode', ' Byz']\",[\"\\u003cTreeNode\",\" Byz\"]],[\"y_ids: 27361 -- y_str: .duration -- u_str_list: ['(withDuration', ' Democr']\",[\"(withDuration\",\" Democr\"]],[\"y_ids: 320 -- y_str:  ( -- u_str_list: ['_),', ' Democr']\",[\"_),\",\" Democr\"]],[\"y_ids: 20123 -- y_str: _Load -- u_str_list: ['.ComponentResourceManager', ' Democr']\",[\".ComponentResourceManager\",\" Democr\"]],[\"y_ids: 27799 -- y_str: .patch -- u_str_list: ['.patch', ' unve']\",[\".patch\",\" unve\"]],[\"y_ids: 18487 -- y_str: .go -- u_str_list: ['\\\\targ', ' unve']\",[\"\\targ\",\" unve\"]],[\"y_ids: 35151 -- y_str: .sys -- u_str_list: [' Sys', ' unve']\",[\" Sys\",\" unve\"]],[\"y_ids: 19524 -- y_str:  \\u201d -- u_str_list: [' (\\u201c', ' unve']\",[\" (\\u201c\",\" unve\"]],[\"y_ids: 85419 -- y_str:  Heb -- u_str_list: [' \\u0628\\u06cc\\u0631', ' Heb']\",[\" \\u0628\\u06cc\\u0631\",\" Heb\"]],[\"y_ids: 482 -- y_str:  - -- u_str_list: ['\\\\tstrcpy', '?option']\",[\"\\tstrcpy\",\"?option\"]],[\"y_ids: 30 -- y_str: ? -- u_str_list: [' \\u002f*!', '?option']\",[\" \\u002f*!\",\"?option\"]],[\"y_ids: 2 -- y_str: # -- u_str_list: [' \\\"&#', '?option']\",[\" \\\"&#\",\"?option\"]],[\"y_ids: 1389 -- y_str:  \\u2013 -- u_str_list: [' `-', '?option']\",[\" `-\",\"?option\"]],[\"y_ids: 756 -- y_str: ',\\n -- u_str_list: ['(\\\"\\\"\\\"\\\\n', '?option']\",[\"(\\\"\\\"\\\"\\n\",\"?option\"]],[\"y_ids: 5638 -- y_str: \\\"]. -- u_str_list: [' $(\\\"#', 'Prosec']\",[\" $(\\\"#\",\"Prosec\"]],[\"y_ids: 5658 -- y_str: }` -- u_str_list: ['=${', 'Prosec']\",[\"=${\",\"Prosec\"]],[\"y_ids: 35433 -- y_str: \\\\\\\",\\\\\\\" -- u_str_list: ['\\\\\\\\\\\":\\\\\\\\\\\"', 'Prosec']\",[\"\\\\\\\":\\\\\\\"\",\"Prosec\"]],[\"y_ids: 5474 -- y_str: }\\u003c\\u002f -- u_str_list: [\\\"'\\u003e{\\\", 'Prosec']\",[\"'\\u003e{\",\"Prosec\"]],[\"y_ids: 22441 -- y_str: .DataSource -- u_str_list: ['.BindingSource', 'Prosec']\",[\".BindingSource\",\"Prosec\"]],[\"y_ids: 37516 -- y_str: ].[ -- u_str_list: ['].[', 'Prosec']\",[\"].[\",\"Prosec\"]],[\"y_ids: 8656 -- y_str: (uint -- u_str_list: [',uint', 'Prosec']\",[\",uint\",\"Prosec\"]],[\"y_ids: 1850 -- y_str: *\\u002f -- u_str_list: [' \\u002f*', 'Prosec']\",[\" \\u002f*\",\"Prosec\"]],[\"y_ids: 1198 -- y_str:  -- -- u_str_list: ['(\\\"--', ' aseg']\",[\"(\\\"--\",\" aseg\"]],[\"y_ids: 387 -- y_str:  be -- u_str_list: ['.Does', ' aseg']\",[\".Does\",\" aseg\"]],[\"y_ids: 1801 -- y_str: .id -- u_str_list: ['(SELECT', ' aseg']\",[\"(SELECT\",\" aseg\"]],[\"y_ids: 91114 -- y_str: .fits -- u_str_list: ['.fits', ' aseg']\",[\".fits\",\" aseg\"]],[\"y_ids: 73648 -- y_str: .appspot -- u_str_list: ['.jsdelivr', ' aseg']\",[\".jsdelivr\",\" aseg\"]],[\"y_ids: 22831 -- y_str: .views -- u_str_list: [\\\"\\u002f$',\\\", 'Prosec']\",[\"\\u002f$',\",\"Prosec\"]],[\"y_ids: 14415 -- y_str: $$ -- u_str_list: [' $$', 'Prosec']\",[\" $$\",\"Prosec\"]],[\"y_ids: 15905 -- y_str: .ResumeLayout -- u_str_list: ['.ResumeLayout', 'Prosec']\",[\".ResumeLayout\",\"Prosec\"]],[\"y_ids: 70712 -- y_str: .grpc -- u_str_list: ['.grpc', 'Prosec']\",[\".grpc\",\"Prosec\"]],[\"y_ids: 59243 -- y_str:  \\u548c -- u_str_list: ['\\u4e24\\u4e2a', ' Ibn']\",[\"\\u4e24\\u4e2a\",\" Ibn\"]],[\"y_ids: 10220 -- y_str: .getText -- u_str_list: ['.getText', ' Ibn']\",[\".getText\",\" Ibn\"]],[\"y_ids: 505 -- y_str:  from -- u_str_list: [' barred', ' Ibn']\",[\" barred\",\" Ibn\"]],[\"y_ids: 11923 -- y_str: }' -- u_str_list: [\\\"='{$\\\", ' Ibn']\",[\"='{$\",\" Ibn\"]],[\"y_ids: 389 -- y_str:  on -- u_str_list: [' punched', ' Ibn']\",[\" punched\",\" Ibn\"]],[\"y_ids: 2124 -- y_str: .is -- u_str_list: ['.assertTrue', ' Ibn']\",[\".assertTrue\",\" Ibn\"]],[\"y_ids: 2795 -- y_str:  says -- u_str_list: ['\\\"When', ' Ibn']\",[\"\\\"When\",\" Ibn\"]],[\"y_ids: 596 -- y_str: 's -- u_str_list: [' resolves', ' Ibn']\",[\" resolves\",\" Ibn\"]],[\"y_ids: 264 -- y_str:  a -- u_str_list: [' give', ' Ibn']\",[\" give\",\" Ibn\"]],[\"y_ids: 3138 -- y_str: _get -- u_str_list: ['gboolean', ' Ibn']\",[\"gboolean\",\" Ibn\"]],[\"y_ids: 2073 -- y_str:  und -- u_str_list: [' m\\u00fcssen', ' Ibn']\",[\" m\\u00fcssen\",\" Ibn\"]],[\"y_ids: 673 -- y_str: .get -- u_str_list: [' assertThat', ' Ibn']\",[\" assertThat\",\" Ibn\"]],[\"y_ids: 13369 -- y_str:  JOIN -- u_str_list: ['JOIN', ' Ibn']\",[\"JOIN\",\" Ibn\"]],[\"y_ids: 627 -- y_str: .\\n -- u_str_list: [' eapply', ' Sharia']\",[\" eapply\",\" Sharia\"]],[\"y_ids: 91476 -- y_str: .rar -- u_str_list: [' \\ud30c\\uc77c', ' Sharia']\",[\" \\ud30c\\uc77c\",\" Sharia\"]],[\"y_ids: 341 -- y_str:  {\\n -- u_str_list: ['\\\\tswitch', ' Sharia']\",[\"\\tswitch\",\" Sharia\"]],[\"y_ids: 2452 -- y_str: .sh -- u_str_list: ['=$(', ' Sharia']\",[\"=$(\",\" Sharia\"]],[\"y_ids: 2710 -- y_str: .name -- u_str_list: ['=\\\"{{', ' Sharia']\",[\"=\\\"{{\",\" Sharia\"]],[\"y_ids: 369 -- y_str:  for -- u_str_list: ['Thank', ' Sharia']\",[\"Thank\",\" Sharia\"]],[\"y_ids: 611 -- y_str:  \\u002f -- u_str_list: [' \\\"\\u002f', ' Scandin']\",[\" \\\"\\u002f\",\" Scandin\"]],[\"y_ids: 15585 -- y_str: .svg -- u_str_list: ['\\u003cpath', ' Scandin']\",[\"\\u003cpath\",\" Scandin\"]],[\"y_ids: 313 -- y_str: -- -- u_str_list: ['\\u003e\\u003c!--', 'Nike']\",[\"\\u003e\\u003c!--\",\"Nike\"]],[\"y_ids: 6624 -- y_str: .equals -- u_str_list: [' ElseIf', 'Nike']\",[\" ElseIf\",\"Nike\"]],[\"y_ids: 1177 -- y_str: ');\\n -- u_str_list: [\\\"=$('#\\\", 'Nike']\",[\"=$('#\",\"Nike\"]],[\"y_ids: 419 -- y_str: == -- u_str_list: [' elif', 'Nike']\",[\" elif\",\"Nike\"]],[\"y_ids: 1734 -- y_str: \\\\n -- u_str_list: [']\\u003c\\u003c\\\"', ' Cumhurba\\u015f']\",[\"]\\u003c\\u003c\\\"\",\" Cumhurba\\u015f\"]],[\"y_ids: 46808 -- y_str: .compareTo -- u_str_list: ['.compareTo', ' Cumhurba\\u015f']\",[\".compareTo\",\" Cumhurba\\u015f\"]],[\"y_ids: 7964 -- y_str: `, -- u_str_list: [' \\\\'{\\\"', ' Cumhurba\\u015f']\",[\" '{\\\"\",\" Cumhurba\\u015f\"]],[\"y_ids: 14854 -- y_str: .controller -- u_str_list: ['@RestController', 'COVID']\",[\"@RestController\",\"COVID\"]],[\"y_ids: 873 -- y_str: ') -- u_str_list: [\\\"::_('\\\", 'COVID']\",[\"::_('\",\"COVID\"]],[\"y_ids: 4887 -- y_str: ?\\u003e -- u_str_list: ['=\\u003c?', 'COVID']\",[\"=\\u003c?\",\"COVID\"]],[\"y_ids: 57552 -- y_str:  Maced -- u_str_list: [' \\u041b\\u0438\\u0442', ' Maced']\",[\" \\u041b\\u0438\\u0442\",\" Maced\"]],[\"y_ids: 2056 -- y_str: .R -- u_str_list: ['(run', ' Maced']\",[\"(run\",\" Maced\"]],[\"y_ids: 2036 -- y_str: .x -- u_str_list: ['TemplateName', ' Maced']\",[\"TemplateName\",\" Maced\"]],[\"y_ids: 30196 -- y_str: .jsp -- u_str_list: ['@ResponseBody', ' Maced']\",[\"@ResponseBody\",\" Maced\"]],[\"y_ids: 1876 -- y_str: Form -- u_str_list: ['\\\\tRTDBG', ' Maced']\",[\"\\tRTDBG\",\" Maced\"]],[\"y_ids: 1034 -- y_str:  % -- u_str_list: ['=\\\"{!!', ' Accred']\",[\"=\\\"{!!\",\" Accred\"]],[\"y_ids: 639 -- y_str:  \\ufffd -- u_str_list: ['\\\\u3000l', ' Accred']\",[\"\\u3000l\",\" Accred\"]],[\"y_ids: 10379 -- y_str: \\\\' -- u_str_list: [\\\"=\\\\\\\\'\\\", ' Accred']\",[\"=\\\\'\",\" Accred\"]],[\"y_ids: 446 -- y_str: (\\\" -- u_str_list: [' ofstream', ' Accred']\",[\" ofstream\",\" Accred\"]],[\"y_ids: 516 -- y_str: .s -- u_str_list: ['_asm', ' Vladim']\",[\"_asm\",\" Vladim\"]],[\"y_ids: 3211 -- y_str: .v -- u_str_list: ['ilinx', ' Vladim']\",[\"ilinx\",\" Vladim\"]],[\"y_ids: 123820 -- y_str:  Vladim -- u_str_list: ['\\u626b', ' Vladim']\",[\"\\u626b\",\" Vladim\"]],[\"y_ids: 4532 -- y_str: ']\\n -- u_str_list: [\\\"()='\\\", 'COVID']\",[\"()='\",\"COVID\"]],[\"y_ids: 28992 -- y_str: .rb -- u_str_list: ['\\u002f#{', ' Vict']\",[\"\\u002f#{\",\" Vict\"]],[\"y_ids: 493 -- y_str: (' -- u_str_list: ['\\u003c?=', ' Vict']\",[\"\\u003c?=\",\" Vict\"]],[\"y_ids: 5394 -- y_str: .component -- u_str_list: ['RoutingModule', ' Vict']\",[\"RoutingModule\",\" Vict\"]],[\"y_ids: 997 -- y_str: ):\\n -- u_str_list: ['(unittest', ' Vict']\",[\"(unittest\",\" Vict\"]],[\"y_ids: 740 -- y_str:  *\\u002f\\n -- u_str_list: [' {\\u002f*', ' Vict']\",[\" {\\u002f*\",\" Vict\"]],[\"y_ids: 18217 -- y_str:  \\u2019 -- u_str_list: ['\\u3001\\u300e', ' Vict']\",[\"\\u3001\\u300e\",\" Vict\"]],[\"y_ids: 5401 -- y_str:  WHERE -- u_str_list: ['\\\\tFROM', ' LGBT']\",[\"\\tFROM\",\" LGBT\"]],[\"y_ids: 81474 -- y_str:  Airbus -- u_str_list: ['\\\\trect', ' Airbus']\",[\"\\trect\",\" Airbus\"]],[\"y_ids: 595 -- y_str: )) -- u_str_list: ['={({', 'Prostit']\",[\"={({\",\"Prostit\"]],[\"y_ids: 5572 -- y_str: \\\"))\\n -- u_str_list: ['=\\\"$(', 'Prostit']\",[\"=\\\"$(\",\"Prostit\"]],[\"y_ids: 7705 -- y_str: \\uff09 -- u_str_list: ['\\uff09\\uff08', 'Prostit']\",[\"\\uff09\\uff08\",\"Prostit\"]],[\"y_ids: 4708 -- y_str: '' -- u_str_list: [\\\" '''\\\", 'Prostit']\",[\" '''\",\"Prostit\"]],[\"y_ids: 30541 -- y_str: .'\\u003c\\u002f -- u_str_list: ['\\\"\\u003e\\\\'.$', 'Prostit']\",[\"\\\"\\u003e'.$\",\"Prostit\"]],[\"y_ids: 21413 -- y_str: .putExtra -- u_str_list: ['.putExtra', 'Egypt']\",[\".putExtra\",\"Egypt\"]],[\"y_ids: 7503 -- y_str: .style -- u_str_list: ['\\\\tstyle', 'Egypt']\",[\"\\tstyle\",\"Egypt\"]],[\"y_ids: 16950 -- y_str: .setVisibility -- u_str_list: ['.setVisibility', 'Egypt']\",[\".setVisibility\",\"Egypt\"]],[\"y_ids: 80650 -- y_str: .plist -- u_str_list: [')initWith', '-Qaeda']\",[\")initWith\",\"-Qaeda\"]],[\"y_ids: 14184 -- y_str: .classList -- u_str_list: ['.removeClass', ' municip']\",[\".removeClass\",\" municip\"]],[\"y_ids: 886 -- y_str: \\\";\\n -- u_str_list: ['()\\u003c\\u003c\\\"', 'Jud']\",[\"()\\u003c\\u003c\\\"\",\"Jud\"]],[\"y_ids: 379 -- y_str:  y -- u_str_list: [' Entre', ' aseg']\",[\" Entre\",\" aseg\"]],[\"y_ids: 19175 -- y_str:  \\u043d\\u0435 -- u_str_list: ['\\u042f\\u043a\\u0449\\u043e', ' Influ']\",[\"\\u042f\\u043a\\u0449\\u043e\",\" Influ\"]],[\"y_ids: 58 -- y_str: [ -- u_str_list: [']!=', 'Vict']\",[\"]!=\",\"Vict\"]],[\"y_ids: 20993 -- y_str: \\u002fviews -- u_str_list: ['\\u002fpages', 'Vict']\",[\"\\u002fpages\",\"Vict\"]],[\"y_ids: 11199 -- y_str: \\u3011 -- u_str_list: [' \\u3010', 'Vict']\",[\" \\u3010\",\"Vict\"]],[\"y_ids: 13743 -- y_str: \\u002fsrc -- u_str_list: ['\\u002fjava', 'Vict']\",[\"\\u002fjava\",\"Vict\"]],[\"y_ids: 55201 -- y_str: .xaml -- u_str_list: ['.xaml', 'Vict']\",[\".xaml\",\"Vict\"]],[\"y_ids: 18476 -- y_str: \\u53f7 -- u_str_list: [' \\u5927\\u962a', 'Vict']\",[\" \\u5927\\u962a\",\"Vict\"]],[\"y_ids: 9196 -- y_str:  SET -- u_str_list: ['UPDATE', 'Vict']\",[\"UPDATE\",\"Vict\"]],[\"y_ids: 56040 -- y_str: \\u301c -- u_str_list: [' \\u301c', 'Vict']\",[\" \\u301c\",\"Vict\"]],[\"y_ids: 19317 -- y_str: ''' -- u_str_list: ['\\u3011,\\u3010', 'Vict']\",[\"\\u3011,\\u3010\",\"Vict\"]],[\"y_ids: 2102 -- y_str: .append -- u_str_list: [' appended', 'Vict']\",[\" appended\",\"Vict\"]],[\"y_ids: 27980 -- y_str: .vue -- u_str_list: ['\\u76d1\\u542c\\u9875\\u9762', 'Vict']\",[\"\\u76d1\\u542c\\u9875\\u9762\",\"Vict\"]],[\"y_ids: 72414 -- y_str: .sendKeys -- u_str_list: ['.sendKeys', 'Vict']\",[\".sendKeys\",\"Vict\"]],[\"y_ids: 267 -- y_str: st -- u_str_list: ['\\u00aa', 'Vict']\",[\"\\u00aa\",\"Vict\"]],[\"y_ids: 21028 -- y_str: \\uc758 -- u_str_list: ['\\ub4e4\\ub3c4', 'Vict']\",[\"\\ub4e4\\ub3c4\",\"Vict\"]],[\"y_ids: 2965 -- y_str: ,' -- u_str_list: [\\\"','=',$\\\", 'Vict']\",[\"','=',$\",\"Vict\"]],[\"y_ids: 87747 -- y_str: \\u002fdrivers -- u_str_list: ['\\u002fdrivers', 'Vict']\",[\"\\u002fdrivers\",\"Vict\"]],[\"y_ids: 29295 -- y_str: \\u304c -- u_str_list: ['\\u5f8c\\u306b', 'Vict']\",[\"\\u5f8c\\u306b\",\"Vict\"]],[\"y_ids: 101307 -- y_str: \\u88ab -- u_str_list: ['\\uff0c\\u5f53', 'Vict']\",[\"\\uff0c\\u5f53\",\"Vict\"]],[\"y_ids: 15052 -- y_str:  VALUES -- u_str_list: [' INTO', 'Vict']\",[\" INTO\",\"Vict\"]],[\"y_ids: 5233 -- y_str: \\\"; -- u_str_list: [' \\\";', 'Vict']\",[\" \\\";\",\"Vict\"]],[\"y_ids: 43013 -- y_str: .setImageResource -- u_str_list: ['.setIcon', 'Vict']\",[\".setIcon\",\"Vict\"]],[\"y_ids: 94969 -- y_str: .crt -- u_str_list: ['_CERT', 'Vict']\",[\"_CERT\",\"Vict\"]],[\"y_ids: 19732 -- y_str: \\u3068 -- u_str_list: ['\\u300d\\u3068', 'Vict']\",[\"\\u300d\\u3068\",\"Vict\"]],[\"y_ids: 31934 -- y_str: DbContext -- u_str_list: [' DbContext', 'Vict']\",[\" DbContext\",\"Vict\"]],[\"y_ids: 6328 -- y_str:  ON -- u_str_list: [' JOIN', 'Vict']\",[\" JOIN\",\"Vict\"]],[\"y_ids: 6972 -- y_str: +' -- u_str_list: [\\\"='+\\\", 'Vict']\",[\"='+\",\"Vict\"]],[\"y_ids: 24782 -- y_str: .setTitle -- u_str_list: ['setTitle', 'Vict']\",[\"setTitle\",\"Vict\"]],[\"y_ids: 24595 -- y_str: .doc -- u_str_list: [' xmlDoc', 'Nike']\",[\" xmlDoc\",\"Nike\"]],[\"y_ids: 12 -- y_str: - -- u_str_list: [' (-', 'Nike']\",[\" (-\",\"Nike\"]],[\"y_ids: 23742 -- y_str: '}} -- u_str_list: [\\\" '{{\\\", 'Nike']\",[\" '{{\",\"Nike\"]],[\"y_ids: 54629 -- y_str: \\u003e] -- u_str_list: [' [\\u003c', 'Nike']\",[\" [\\u003c\",\"Nike\"]],[\"y_ids: 36761 -- y_str: \\u300f -- u_str_list: ['\\u3001\\u300e', 'Nike']\",[\"\\u3001\\u300e\",\"Nike\"]],[\"y_ids: 4098 -- y_str: \\\"));\\n -- u_str_list: ['($(\\\"#', 'Nike']\",[\"($(\\\"#\",\"Nike\"]],[\"y_ids: 57754 -- y_str:  Bulld -- u_str_list: [' \\u0907\\u0924', ' Bulld']\",[\" \\u0907\\u0924\",\" Bulld\"]],[\"y_ids: 4393 -- y_str:  FROM -- u_str_list: ['(SELECT', ' Bulld']\",[\"(SELECT\",\" Bulld\"]],[\"y_ids: 2080 -- y_str:  struct -- u_str_list: ['(define', ' Bulld']\",[\"(define\",\" Bulld\"]],[\"y_ids: 11657 -- y_str: \\\\\\\"\\u003e -- u_str_list: [\\\"+'\\u003c\\u002f\\\", ' Cumhurba\\u015f']\",[\"+'\\u003c\\u002f\",\" Cumhurba\\u015f\"]],[\"y_ids: 70333 -- y_str: :L -- u_str_list: [' invokevirtual', 'Gov']\",[\" invokevirtual\",\"Gov\"]],[\"y_ids: 439 -- y_str:  as -- u_str_list: ['\\\\tdescribe', ' Raqqa']\",[\"\\tdescribe\",\" Raqqa\"]],[\"y_ids: 449 -- y_str:  with -- u_str_list: ['.gsub', ' Raqqa']\",[\".gsub\",\" Raqqa\"]],[\"y_ids: 11582 -- y_str:  }}\\u003c\\u002f -- u_str_list: ['\\\"\\u003e{{', ' Vict']\",[\"\\\"\\u003e{{\",\" Vict\"]],[\"y_ids: 27454 -- y_str: .setBounds -- u_str_list: ['.setBounds', ' Vict']\",[\".setBounds\",\" Vict\"]],[\"y_ids: 14798 -- y_str: .click -- u_str_list: ['\\\\tclick', ' Mek']\",[\"\\tclick\",\" Mek\"]],[\"y_ids: 19302 -- y_str: .cs -- u_str_list: ['.ReadAllText', ' Maced']\",[\".ReadAllText\",\" Maced\"]],[\"y_ids: 366 -- y_str:  \\u003c -- u_str_list: ['%\\\"\\u003e', ' Sharia']\",[\"%\\\"\\u003e\",\" Sharia\"]],[\"y_ids: 21666 -- y_str: .zip -- u_str_list: ['.FileNotFoundException', ' Sharia']\",[\".FileNotFoundException\",\" Sharia\"]],[\"y_ids: 54733 -- y_str: @yahoo -- u_str_list: ['@yahoo', ' Sharia']\",[\"@yahoo\",\" Sharia\"]],[\"y_ids: 11086 -- y_str: .Sh -- u_str_list: ['.addRow', ' Sharia']\",[\".addRow\",\" Sharia\"]],[\"y_ids: 15875 -- y_str: .should -- u_str_list: [' assertThat', ' Sharia']\",[\" assertThat\",\" Sharia\"]],[\"y_ids: 17714 -- y_str: .scale -- u_str_list: ['.localScale', ' Sharia']\",[\".localScale\",\" Sharia\"]],[\"y_ids: 24497 -- y_str: .ru -- u_str_list: [' \\u043f\\u0440\\u0435\\u043f\\u0430\\u0440\\u0430\\u0442\\u044b', ' Sharia']\",[\" \\u043f\\u0440\\u0435\\u043f\\u0430\\u0440\\u0430\\u0442\\u044b\",\" Sharia\"]],[\"y_ids: 1210 -- y_str: .\\\" -- u_str_list: ['=\\\\'\\\".$', ' Democr']\",[\"='\\\".$\",\" Democr\"]],[\"y_ids: 33324 -- y_str: (ActionEvent -- u_str_list: ['(ActionEvent', ' Democr']\",[\"(ActionEvent\",\" Democr\"]],[\"y_ids: 4572 -- y_str: }\\u002f -- u_str_list: [':\\u002f\\u002f${', 'Emb']\",[\":\\u002f\\u002f${\",\"Emb\"]],[\"y_ids: 60098 -- y_str: .ll -- u_str_list: [' llvm', 'Emb']\",[\" llvm\",\"Emb\"]],[\"y_ids: 4274 -- y_str: '][' -- u_str_list: [\\\"$_['\\\", 'Emb']\",[\"$_['\",\"Emb\"]],[\"y_ids: 11955 -- y_str: \\\\\\\": -- u_str_list: [' \\\"{\\\\\\\\\\\"', 'Emb']\",[\" \\\"{\\\\\\\"\",\"Emb\"]],[\"y_ids: 2511 -- y_str: \\u003e\\u003e -- u_str_list: [' \\u003c*', 'Emb']\",[\" \\u003c*\",\"Emb\"]],[\"y_ids: 3743 -- y_str:  --\\u003e\\n -- u_str_list: [' \\u003c!--', ' Accred']\",[\" \\u003c!--\",\" Accred\"]],[\"y_ids: 3040 -- y_str: .Name -- u_str_list: ['=\\\"{{', ' Accred']\",[\"=\\\"{{\",\" Accred\"]],[\"y_ids: 58467 -- y_str: .insertBefore -- u_str_list: ['.\\\",\\\\r\\\\n', '.insertBefore']\",[\".\\\",\\r\\n\",\".insertBefore\"]],[\"y_ids: 59414 -- y_str:  Miranda -- u_str_list: [' Miranda', '.insertBefore']\",[\" Miranda\",\".insertBefore\"]],[\"y_ids: 16391 -- y_str: .gif -- u_str_list: ['\\u572d\\u572d', '.insertBefore']\",[\"\\u572d\\u572d\",\".insertBefore\"]],[\"y_ids: 20608 -- y_str: .className -- u_str_list: ['className', '.insertBefore']\",[\"className\",\".insertBefore\"]],[\"y_ids: 578 -- y_str:  The -- u_str_list: [' [\\u2026]\\\\n\\\\n', ' Rohingya']\",[\" [\\u2026]\\n\\n\",\" Rohingya\"]],[\"y_ids: 6158 -- y_str: .WriteLine -- u_str_list: ['.AppendLine', 'Iraq']\",[\".AppendLine\",\"Iraq\"]],[\"y_ids: 7310 -- y_str: _Click -- u_str_list: [' WithEvents', ' Sask']\",[\" WithEvents\",\" Sask\"]],[\"y_ids: 1237 -- y_str: ); -- u_str_list: ['(assigns', 'taboola']\",[\"(assigns\",\"taboola\"]],[\"y_ids: 45221 -- y_str: =\\u201d -- u_str_list: ['\\u003cbutton', 'taboola']\",[\"\\u003cbutton\",\"taboola\"]],[\"y_ids: 2615 -- y_str: .push -- u_str_list: ['.Ticks', 'taboola']\",[\".Ticks\",\"taboola\"]],[\"y_ids: 5378 -- y_str: ]; -- u_str_list: [' *)[', 'taboola']\",[\" *)[\",\"taboola\"]],[\"y_ids: 12488 -- y_str: *** -- u_str_list: [' \\\"***', 'taboola']\",[\" \\\"***\",\"taboola\"]],[\"y_ids: 2838 -- y_str: %% -- u_str_list: [' \\\\\\\\\\\"%', 'taboola']\",[\" \\\\\\\"%\",\"taboola\"]],[\"y_ids: 49589 -- y_str: taboola -- u_str_list: ['\\u002f*------------------------------------------------', 'taboola']\",[\"\\u002f*------------------------------------------------\",\"taboola\"]],[\"y_ids: 90 -- y_str: { -- u_str_list: [\\\",'%\\\", 'taboola']\",[\",'%\",\"taboola\"]],[\"y_ids: 1996 -- y_str: .length -- u_str_list: ['[++', 'taboola']\",[\"[++\",\"taboola\"]],[\"y_ids: 948 -- y_str: ]. -- u_str_list: ['[jj', 'taboola']\",[\"[jj\",\"taboola\"]],[\"y_ids: 85802 -- y_str: `]( -- u_str_list: ['[`', 'Abb']\",[\"[`\",\"Abb\"]],[\"y_ids: 9883 -- y_str: \\u002f\\u003e -- u_str_list: ['={\\u003c', 'Abb']\",[\"={\\u003c\",\"Abb\"]],[\"y_ids: 353 -- y_str:  * -- u_str_list: [' $(\\\"\\u003c', ' Stad']\",[\" $(\\\"\\u003c\",\" Stad\"]],[\"y_ids: 2652 -- y_str:  ; -- u_str_list: [' (;', ' Sharia']\",[\" (;\",\" Sharia\"]],[\"y_ids: 2178 -- y_str: (); -- u_str_list: [' deliver', 'taboola']\",[\" deliver\",\"taboola\"]],[\"y_ids: 705 -- y_str: ), -- u_str_list: ['?,?,?,?,', 'taboola']\",[\"?,?,?,?,\",\"taboola\"]],[\"y_ids: 69915 -- y_str: =sum -- u_str_list: [',sum', 'taboola']\",[\",sum\",\"taboola\"]],[\"y_ids: 39615 -- y_str: \\u2032 -- u_str_list: [\\\"]='\\\", 'taboola']\",[\"]='\",\"taboola\"]],[\"y_ids: 128001 -- y_str: \\u003c|end_of_text|\\u003e -- u_str_list: ['\\u9a8c\\u8bc1', 'taboola']\",[\"\\u9a8c\\u8bc1\",\"taboola\"]],[\"y_ids: 28393 -- y_str: .parentNode -- u_str_list: [']\\u003e=', 'taboola']\",[\"]\\u003e=\",\"taboola\"]],[\"y_ids: 1025 -- y_str: ';\\n -- u_str_list: [\\\" '.\\u002f..\\u002f\\\", 'Esp']\",[\" '.\\u002f..\\u002f\",\"Esp\"]],[\"y_ids: 28437 -- y_str: Dlg -- u_str_list: ['_UClass', 'Esp']\",[\"_UClass\",\"Esp\"]],[\"y_ids: 3588 -- y_str:  :: -- u_str_list: [' Monad', 'Esp']\",[\" Monad\",\"Esp\"]],[\"y_ids: 14790 -- y_str: }\\\")\\n -- u_str_list: ['\\\"{', 'Esp']\",[\"\\\"{\",\"Esp\"]],[\"y_ids: 947 -- y_str: ];\\n -- u_str_list: ['[indexPath', ' McN']\",[\"[indexPath\",\" McN\"]],[\"y_ids: 61240 -- y_str: .dtd -- u_str_list: ['DOCTYPE', ' m\\u00e4nn']\",[\"DOCTYPE\",\" m\\u00e4nn\"]],[\"y_ids: 6976 -- y_str: .Length -- u_str_list: ['.AreEqual', ' m\\u00e4nn']\",[\".AreEqual\",\" m\\u00e4nn\"]],[\"y_ids: 1898 -- y_str: Service -- u_str_list: ['@Autowired', 'Dub']\",[\"@Autowired\",\"Dub\"]],[\"y_ids: 22030 -- y_str: .md -- u_str_list: [' \\\"@\\u002f', ' McD']\",[\" \\\"@\\u002f\",\" McD\"]],[\"y_ids: 38624 -- y_str:  \\u0648 -- u_str_list: ['\\u042f\\u043a\\u0449\\u043e', ' Beled']\",[\"\\u042f\\u043a\\u0449\\u043e\",\" Beled\"]],[\"y_ids: 2717 -- y_str:  \\u003c= -- u_str_list: [' (++', ' Beled']\",[\" (++\",\" Beled\"]],[\"y_ids: 34066 -- y_str: .setAdapter -- u_str_list: ['.setAdapter', 'Iraq']\",[\".setAdapter\",\"Iraq\"]],[\"y_ids: 97818 -- y_str: Iraq -- u_str_list: ['\\\\tpublic', 'Iraq']\",[\"\\tpublic\",\"Iraq\"]],[\"y_ids: 555 -- y_str:  by -- u_str_list: ['Multiply', ' \\u010derv']\",[\"Multiply\",\" \\u010derv\"]]],\"hovertemplate\":\"PC1=%{x}\\u003cbr\\u003ePC2=%{y}\\u003cbr\\u003ePC3=%{z}\\u003cbr\\u003ey_label=%{customdata[0]}\\u003cbr\\u003eu_str_list=%{customdata[1]}\\u003cbr\\u003eU Length=%{marker.color}\\u003cextra\\u003e\\u003c\\u002fextra\\u003e\",\"legendgroup\":\"\",\"marker\":{\"color\":[1,1,2,2,2,2,2,2,2,2,2,2,2,2,2,2,2,2,2,2,2,2,2,2,2,2,2,2,2,2,2,2,2,2,2,2,2,2,2,2,2,2,2,2,2,2,2,2,2,2,2,2,2,2,2,2,2,2,2,2,2,2,2,2,2,2,2,2,2,2,2,2,2,2,2,2,2,2,2,2,2,2,2,2,2,2,2,2,2,2,2,2,2,2,2,2,2,2,2,2,2,2,2,2,2,2,2,2,2,2,2,2,2,2,2,2,2,2,2,2,2,2,2,2,2,2,2,2,2,2,2,2,2,2,2,2,2,2,2,2,2,2,2,2,2,2,2,2,2,2,2,2,2,2,2,2,2,2,2,2,2,2,2,2,2,2,2,2,2,2,2,2,2,2,2,2,2,2,2,2,2,2,2,2,2,2,2,2,2,2,2,2,2,2,2,2,2,2,2,2,2,2,2,2,2,2,2,2,2,2,2,2,2,2,2,2,2,2,2,2,2,2,2,2,2,2,2,2,2,2,2,2,2,2,2,2,2,2,2,2,2,2,2,2,2,2,2,2,2,2,2,2,2,2,2,2,2,2,2,2,2,2,2,2,2,2,2,2,2,2,2,2,2,2,2,2,2,2,2,2,2,2,2,2,2,2,2,2,2,2,2,2,2,2,2,2,2,2,2,2,2,2,2,2,2,2,2,2,2,2,2,2,2,2,2,2,2,2,2,2,2,2,2,2,2,2,2,2,2,2,2,2,2,2,2,2,2,2,2,2,2,2,2,2,2,2,2,2,2,2,2,2,2,2,2,2,2,2,2,2,2,2,2,2,2,2,2,2,2,2,2,2,2,2,2,2,2,2,2,2,2,2,2,2,2,2,2,2,2,2,2,2,2,2,2,2,2,2,2,2,2,2,2,2,2,2,2,2,2,2,2,2,2,2,2,2,2,2,2,2,2,2,2,2],\"coloraxis\":\"coloraxis\",\"symbol\":\"circle\"},\"mode\":\"markers\",\"name\":\"\",\"scene\":\"scene\",\"showlegend\":false,\"x\":[67.0704652843289,69.42454278293707,-15.90380793937613,-60.552900612410866,34.14318881417504,-18.943676743041575,-12.199566965813027,3.718526695093737,7.366502809361603,12.546994055402777,18.88458962198451,25.405757960180583,34.206328846842965,27.508217417484897,-77.57291669138003,75.88009398995091,44.692010033959,16.879838284858447,25.34631719077442,-50.2504424860847,11.983042547140345,-62.21440738594825,-19.538489177851783,17.95742954742002,13.037712335450541,12.238577276094643,-15.044909889849865,-21.3426955924733,11.680485156992232,43.434061071606834,36.92210018915958,15.157256793093778,-5.884101107530112,13.684007528565672,22.885127699388015,-21.142939173827646,-59.902595969161844,51.637699385263126,-9.176374809580821,0.723829680921252,10.910019243011781,22.715800868102942,31.459911226108233,-26.66648678586522,-2.3431433008056675,12.39548700789564,9.797543312518156,32.464061232655894,-5.006289850168088,68.84817229181525,32.89180029986466,20.099781290780317,29.392008901032337,-2.257571829548272,-64.10973793750395,19.637324357813075,13.493762996499594,-0.866066151321817,-47.350597958096806,-75.96141204917811,19.088525794998922,21.669584470944713,-0.25332031922641585,-4.008621176053278,28.276073560408083,25.634582695965406,10.744555423306817,26.030757216128666,-67.51266544875736,20.64101483106996,-42.105815833288695,22.948311772834895,-10.415230648259408,-2.3569412559319116,-24.040155317831374,25.189810451367073,-2.2150568323585973,12.744511345641092,-36.79176512847961,-23.68848320078289,15.340935068004246,-7.1923348650606025,-6.216035001981937,70.85305062898571,-66.4447450740489,35.69506429360997,5.003701320680107,-30.78586913507303,-21.678159824368517,-12.970837807488467,-0.1985823978246076,-26.265127345282202,-0.4194445654415282,6.544325775435114,23.247527695007584,-0.29435098795124975,-26.02570669088908,26.499546001848014,-27.929908560176298,-9.734800831284975,-19.09673338473809,58.30987743563172,-15.232262135999168,5.011657725409238,-14.976796671022193,-18.15164568622121,-43.64297583662355,-47.76748421497639,-8.314934858794642,-8.038740522180928,85.20153409827292,53.223244508437205,18.332803409327152,-22.27495059157931,-0.6618030924828591,25.98021746971367,-12.500654315099457,-51.41919818588464,-20.392158538139377,22.598434608193447,8.44391091244204,55.31356640049171,19.002255866327584,5.8947853259079475,61.38592550394905,-38.039869045821916,-20.11352335391949,-61.54354758453771,-66.78913211899933,-1.1530035517979715,-29.510040482928318,-23.81216741099159,71.69498092001778,-1.5407516239902088,20.60919478550361,-15.665004580949224,-37.51217377414843,23.258059566803237,79.12225225704675,-36.720112159263,-12.728267772278082,-24.616326754378903,-55.78187533505202,-11.701075935030065,49.401057971587754,-74.23325476244536,-63.974539441832995,46.024327428288174,19.078512999527607,-10.797036569141202,33.33977434704056,-37.14675833847406,-33.50506828768648,34.630368651792146,5.909180711417316,-10.336699776780083,-2.13046864922504,-28.817047692370448,40.34829696482596,-61.42051420017463,-25.29675792743755,26.372299771792107,24.848999327371818,-8.33185858162165,7.018739758989762,48.07967702759814,32.01868293672546,28.444075004120062,-12.240279802060376,-8.654881251341667,9.762628198554573,20.69320987237164,-48.59832783523044,-9.673322580022953,-28.59378029467127,-59.66724226910521,-35.55375882595356,1.8155845449249843,59.31039548528287,-60.3435671175865,-54.30401864186417,78.66472710424793,-46.85427861407489,-9.814999678951638,-29.958643956975244,-51.66314946889038,-4.628912844120758,-78.86283337290112,-6.967696294838858,13.518419304761798,13.705578606145172,-0.07435611952574392,-8.455555246843598,31.525721270758645,59.80825355161082,47.577674178289364,13.308689938566465,36.51406470135037,37.04061421276994,59.123913043399405,42.79882994859653,-19.732687363415547,33.90337484006032,13.456199107067565,-42.250073443558655,71.91141953157216,-8.577329567936768,30.69156399291105,44.187390855630326,-69.83641645482052,42.95507871433018,17.584412400921657,44.14422419150792,-5.474316099927917,-27.714257752376778,-43.86957602013886,-23.90157911438372,64.65379629281311,-3.3636437842014764,33.424921481961434,-9.558875683387857,-21.933884392905497,-33.01830011822225,-52.628566866271015,7.5544614620128,32.850565040236546,44.080652344591634,4.48650910915867,-65.92096106240737,49.51243655939498,-54.9865499126716,51.212204548346975,3.9284354184009613,62.93683113043456,80.59172836223331,64.16694727632533,-13.521062312451697,-3.153478742279933,18.191754140119414,36.290623612607845,8.982304775679127,-50.97515826717757,-31.99205010114193,30.686368780135847,-45.94159573385947,-50.28003846656738,-19.22833423999404,-20.893412373961986,1.2001273128021117,11.075292741661949,47.121655822884435,-44.763725338113964,30.280044244018143,30.83860487100885,-33.01217648775578,26.64582168015351,-71.20096268907459,-36.1450790474073,22.593977933375484,-49.270099157749435,82.25061991035041,-48.14756372718412,78.6204807462371,-52.76436466435757,71.37622492650944,75.4253176775051,71.00980445003411,-26.369340453501128,47.43271685622477,-46.40401062986617,-23.317075725902395,3.8975850250934667,38.1394496412174,-52.87725263674175,11.51525180069025,-56.06430143582768,88.83831154665033,44.77925186064381,12.11255111938269,11.967947548920089,-47.520547629631196,1.7007498928209697,-29.975310450260917,-11.816599670626545,-17.03984538910626,0.5905596143604726,-2.6850523550504275,-16.85686943504905,-45.16210470037623,90.42080000033926,11.828241577830978,11.882922014075463,-14.61612185333407,-44.06241906087788,-59.777568368385936,67.9586364780517,29.297305534928103,-9.211924597922106,11.947358918844241,24.637651688386942,55.76942781947892,11.899389416775316,-16.54818488281044,-28.209019957138324,6.79949085511012,1.0073508357973473,12.226399559678828,74.0716690236296,-25.12679519188975,10.817147015290939,-11.64589523464978,10.555262307187812,59.69131233552396,44.20001758988761,-46.25539471806716,-35.93162423290998,-50.74765190284522,-35.66844823230678,-2.7371464588451744,-39.40607839264948,6.273744095592907,63.34557322187306,13.89584493730473,-39.26875202734715,-1.0539056110291163,49.53326570085815,1.0783320974253663,-42.48224979137211,37.63281659773995,-39.10953163431878,31.33995959913685,68.55991646688867,-25.591219435151842,-18.51782684627796,-56.823299287958704,76.52107560629335,17.59050838818636,-51.606817327709216,14.401518539112237,28.65840315458713,-0.6059537070248813,-23.522657426944242,21.721532997813426,-60.059328286426805,6.427986102022015,30.96799294454426,-33.754766649645184,-24.768910817743436,-53.09698927270275,-62.2996102747307,3.606514104637807,71.79245696731934,29.83633092262803,17.133145203728684,41.4222198592261,12.94803243291518,51.96650343764826,-37.67099378235442,2.916303106621078,-44.811434463684634,-24.7264433340579,31.411869134542595,22.31375358998867,-47.64801639336959,-68.17631407222682,-51.11532363047496,-17.17505631292164,28.777199369172035,33.05049505387367,79.97715441466899,-66.32513941157882,-54.15009502571426,-56.689435584394374,75.5155332944432,-47.18625357329396,-64.14366582595157,-41.660726991853466,-3.609877841751821,-19.832572952384265,-19.05995766426152,-11.748296660910041,31.833329538409338,-62.51817978789205,-39.93723640020732,35.51885403617722,-11.601184877845222,-39.27097797571345,82.08407381030074,-56.22065045875456,-61.40389257870204,-32.07779452464508,-20.788034778471516,-15.548211286403214,-35.98286547850387,19.066662095446397,10.140424492435093,-17.091116432784933,-26.104564719808224,-43.211609826628745,-24.440192018911635,16.298672716372394,-25.027279066300903,-19.512285643791373,74.13665269928345,-5.926767677417477,-22.52040365942349,12.85428853402893,3.2041726487369404,73.2123468095539,-43.48464170447583,1.8284968966336848,-25.207520504765377,17.28281100153647,-5.16721708541997,-49.67399139045223,-1.312123747640991,-47.85005401447515,-27.04850856716132,14.02635862612191,-0.39996345052007426,-2.7922255813508285,-41.8993192821799,36.09681181595116,33.02672038257991],\"y\":[23.23036759197428,25.671286782463966,-15.20686309071053,26.19992216258207,-1.8456980449394969,-28.834378609799884,-1.5667413326666364,-42.65953370556137,-31.647272495902747,-26.838219381747503,-11.081067487612989,-39.76008284760908,-21.08284587955618,-43.014095306061584,29.004612317583355,59.644103165267595,3.6377482618553643,-21.46595531760463,-20.869353309474935,-23.24016527254352,-45.51841815405831,36.22910136457949,-17.907473614076235,-39.440995915528624,-18.554331121367134,-37.321175701675244,-26.042056350520603,-41.88585094490774,-34.57192508451719,9.847916484905742,-11.766487127868757,-32.29505250979992,-11.257473598321228,-39.42238213501384,-30.467041185552535,-18.013727414820536,15.310025673998062,18.42079732406467,-11.625247499672763,17.584113662393335,-32.90002101040504,-42.82612515110755,-8.491598090265523,-6.1012640503923405,-24.850987482394167,-22.165618742982378,-28.91707564443266,38.29067101222574,-51.47495562860779,41.471298175727114,-21.2288500534768,-27.87185803060708,-19.90556417674412,-44.98253109645583,16.89067465114391,2.7428317012141528,-13.347212604079866,-40.360703889439115,20.44386223259857,33.907797251786,-46.627364688851294,-22.684122572729084,-24.8852825122251,-23.976145647037793,14.084841618522217,-33.12523369242852,-43.766660231247215,-30.016486989622702,31.873556222597465,10.157673732729942,-17.94747275103372,-7.178526556008053,-18.404687799945243,-18.94099559268571,-6.308422472479183,-16.164550798720523,-19.53753798524807,-38.06376855335872,-7.5461684851448485,4.870121585830068,-44.85536611122362,-38.42728514175895,-19.42042976162828,19.530383388584838,39.84731695359028,-27.342246142937256,-28.041602393237234,-11.219710786361894,-43.59862534944668,-20.34157967813987,-22.275474574317265,-20.271875279522106,-34.34409163442649,-48.88252817927954,-11.653778637533692,-35.637685873499855,7.017692489326124,-18.997524496290957,-44.667201926539754,-50.59628668540109,-11.272006103583488,7.673559282670498,2.848952542917514,-0.6868440367571584,-39.362482422296495,-15.460088922997906,-14.073556413032422,-17.621087778820485,-34.11397006108049,-30.71580948563787,47.71476043370879,18.01891911707933,22.174278467605408,17.327158068581273,-13.643005147121926,-22.450665738239977,-7.754762520939243,29.442587489554814,-3.6233623073915524,-4.558831157791827,-35.10554678940459,9.553899818410326,-37.4492600648792,-39.63703972396514,23.14933719272986,23.147957840763407,9.870857045532082,22.773059141425378,27.07195289517915,-0.5148205399140071,12.292256815600455,3.853944339286988,22.71428406980893,-6.9327715511068355,-20.700345025739963,-26.868457181372303,-2.3481679698640554,-6.965563717023523,41.32812591599844,-17.427738848879983,15.263213216094178,-4.28605458767255,9.176068106927612,-15.29370149209862,-13.73917042943649,43.57119302106662,33.239932774246185,-17.93632775772351,-22.181101216076378,-7.80469884420385,-10.321949490122629,14.094623122466325,14.54132673406486,-30.377315785186692,-21.314023854074744,-9.133889413970822,24.133009175811427,5.016121027888749,-37.64665994824441,19.816590124640513,0.0190057123536876,-36.161079340791325,-32.28452147010858,-1.7064669716826213,-39.67313687059732,-6.94689457671756,-19.786156818922944,-36.44127875889265,-7.370095360152347,-1.6113960329829278,-7.815803457542952,0.6846952070893416,11.633828333448086,-40.05325514517879,2.997282709758397,19.89923198176877,-8.54636272238559,-38.82199440683905,4.987301670798816,37.21395190870074,35.30907306907075,35.99651898695451,9.601747321094441,-29.140889790504858,-17.150247301080327,4.928485800803202,-20.768510148102138,26.415083287839373,-27.72058638116373,-30.83709695408426,-30.497372167607217,7.749881781016327,-24.313474951853813,-1.307016104730405,40.28188414581688,10.753055091754435,-18.53599100611116,10.816861778417827,-24.842289638631,67.2562882835524,-0.612663558344994,8.952278706935367,28.492713143555303,-5.562845898835433,14.611445857626881,32.6264877302691,12.343406912619395,-10.52201432236215,-1.970259285122427,40.51506775242855,27.565615594046868,-28.8129018164291,1.630355712352893,-9.86336334222909,-9.180471641631707,15.563589165178804,0.7688971990919093,22.022737018287994,24.11934015775821,-6.126011928262315,9.863951159572553,22.177707421666646,34.12382122643592,35.226604055720344,-18.818522238767326,-25.54088468040384,-10.123383551289654,-28.342466119988934,35.97611269116408,2.0261787014556316,31.03092574183362,-22.68643270768287,-32.11638952749423,11.702473492921484,37.26403840826377,43.78807069097569,-26.574480793142406,-23.224052335405492,-5.918071755476446,-20.638758311800448,-36.53690502598089,19.88252968242981,-23.085736421351463,-3.2320258134103614,-7.695759931509049,37.902588862933314,-13.523661778681083,3.4670006699379297,-36.81883056762378,-39.83621329925779,22.97675348279,8.139458801232651,-28.167250823020197,-8.702249843927211,-3.8734309851323774,-7.89732816617023,41.792911383340254,-17.372865197327254,-18.005489506983487,18.592387355500023,41.322690127064305,2.2190105671806006,35.60686907577728,-3.826084377363524,20.87889461590854,20.50195162862881,23.339148973534645,-19.582452902977607,15.120800756810029,-1.9021936102170205,14.729022268359909,-29.224814297293864,-1.3238622547509058,18.986947965190414,-41.5858484079113,5.951685699691942,59.837134068078065,-9.905763997736596,-3.387127658062938,12.177986001466994,22.111546418999456,7.422624557231057,14.294905995830048,-4.634702911147163,16.073657413836695,-1.1991613149554028,-7.6441539726562135,0.9075966961665588,-0.7036001365794067,46.19695889608048,-51.27794136289397,-14.309148891622582,-13.165322243391781,-5.840241408920975,24.158635863484758,45.431378698955704,4.000009781454142,-17.36274114048969,-47.319887208650265,-30.98867740391484,55.749326465403804,-9.246074375734535,-36.518624799188,-6.810934031278929,1.8885222879494932,-17.347926412801772,-10.87533170019011,40.96563879914506,18.31581952123224,22.9645213475455,-30.870314412239143,-36.76343532970972,37.68571187583652,8.838620461762586,13.96905289004864,13.708135139541792,31.08642765579211,26.519424034716714,-14.839223616015767,43.20089533119323,-36.11259956952604,34.0368136610537,14.20329098227708,-5.980223989519809,5.512223216947144,44.3605921628637,-36.93091548414281,14.19158208651011,60.65684956410936,17.521828057580173,36.98627195432993,26.64052075369623,-3.3645189179392756,11.509839341300669,19.079402469081288,48.17909136009956,14.219217545162111,16.73956505957898,-34.25548608249671,32.431004745015414,18.897711947931324,8.635595276816503,-2.88992336656367,39.42220362480613,-29.30859046964558,34.56749077064141,2.3301222877549055,11.608724105927124,8.326141561173024,24.945557440814085,-20.09346918717844,29.866805804998098,11.466366504416635,0.5110331311714317,48.11313471788731,-2.3652627917067113,49.3983842019361,16.85730634637206,-42.088752919472604,6.209722311695424,-19.908554240087945,16.216068533963533,-2.1334517396414947,15.119259887556286,31.292373322255585,20.697774318212318,-18.04032288014612,12.447907477721317,-13.619422758262457,61.773081854660354,47.843848906069674,12.909743058306484,35.78398565324297,34.428767059350335,12.347887763552185,22.816787275784506,-17.033015979707017,-46.3891239113218,16.44618113029483,-25.886999962938162,-28.837702957118218,2.2469938035863843,9.485182096377734,30.356603906453635,27.56303192630691,22.113477307059775,23.753672882724985,66.59821081078057,25.837263222523795,33.439550577184626,15.144063714077216,23.881765615151647,36.95552060165617,38.63277371462243,0.43966263045854276,12.738135620854308,37.44326658680406,25.653274172938257,12.483615695087758,39.81345344130723,-31.93081623713986,-3.0925371150833962,-2.6995451262485126,32.43021905034249,34.73869832558484,28.496719642117558,4.342110508074217,31.066981914760657,66.46775314997163,50.67024526555268,-32.281443368385276,-26.17135035457039,-38.52629806238395,-20.841455848117302,15.539024739008156,-24.815202461777908,3.976970621297065,-8.317440892704111,-18.50334335411625,33.23859161724596,24.832372016891444,29.909842369475378,14.827920387901209,14.048181671025823],\"z\":[11.64118841592439,10.620771777846382,3.9375099842399113,14.14586738505545,-4.178045805567093,-6.6510092651297805,-34.28031020677266,6.370938595408947,-31.275380124221943,-33.71102423039409,-11.975082015124768,-28.972123590626417,29.01614172555278,-25.89960150391651,6.7337200480423585,16.74529211394148,-2.705545457058099,-11.389861942784707,-6.2063031921654614,10.22826904360836,-24.191769104709223,10.430557427698599,-16.98163622324012,-35.114692283604064,-34.8952132948758,7.4802394631822136,-10.83418075540532,1.1402770663494752,-29.78343503757386,-20.25104180624969,-18.245809291510312,11.708866860624209,-39.247939565021845,37.11774631370518,-1.653364418825105,-31.17856572897397,20.324127525565643,6.2986429487573625,22.98988132015804,-48.592207768009956,-7.903766967174885,-32.327670932489916,8.579358251264766,-16.44066262350152,31.193200998490614,-48.00037510980846,-1.5806570041870862,5.4970613241511845,17.194749893591855,7.47970616941229,1.7248233128359072,11.488086312921398,-17.506223972986064,32.888830409828095,16.02298230909338,-27.797464811984376,-28.840089441030095,21.75324135117511,-3.2545854087124493,17.50268639015105,13.056652996819002,-24.076157050180335,-35.76750237634212,-26.2758111945898,12.789893984353808,4.478290623613099,26.573181520000563,20.433418926816408,18.57923849102525,15.445120080245927,-17.535166508191878,17.16404272258569,27.61031096578733,12.440701032625068,0.5405070048476575,-52.385233969437984,10.536081104003813,-2.51974344727592,-34.80423228734043,-63.91135378366284,11.558301784277099,30.45279008609401,32.822219367688014,-7.070952300764544,24.785368528410253,-28.95165227709315,-12.432085591752479,20.0396110876007,-21.70481317426325,-35.85199089460516,17.831148707443255,-6.254422502603373,-18.23397146166989,10.411540342730678,-3.2003253043417157,-14.843545471266822,-44.08977094820676,-13.096184948791713,-11.026330242494902,12.636433990646712,35.09196166836884,-16.20246386366124,30.114597610325088,-23.56018242926842,4.370978306776067,17.062548478887596,7.226390014312844,37.30837061727501,-10.851808063329406,-23.096324824425416,13.336214108732404,-16.449012430927148,3.900017680579555,16.10520632039205,18.3500036341324,-27.290470785284214,-41.959672757964235,27.63571045199805,46.96410198380634,4.191570340225294,21.702035894443878,-8.186800454612388,37.00434175245552,4.145417052249694,1.6037092454641748,46.962989198321004,32.49936880376054,34.56021286376075,-20.348031624860166,-28.903953784607868,33.80438326684017,14.552091164535975,1.598405216207572,-24.271395241549662,-25.707246944010073,44.485323271251076,-13.390482519288923,2.8728280162865505,11.073594266548108,23.903680516902725,14.258771564207779,30.19703159042555,-16.96390433029042,14.735978578556265,18.38108557010143,13.054907455126129,28.018300891271785,26.283984938059056,12.461683014519505,1.4256070486812558,15.220869714834459,18.24747300261188,-43.027344146039134,18.346847111732686,-22.75298059091396,8.364604749303707,27.722717752282453,28.924896090774862,-2.8530981637492157,44.035788882162315,29.24836671232262,-3.1436497955579084,-0.364592859654582,-23.622078476435878,40.4086590727365,26.85248090381948,-13.723676455245924,5.995881688979045,1.1594628199021788,-45.972752137541505,-37.18398098708584,-41.29671552270495,-25.32807043057653,-6.8275315502078655,-27.89974228389649,-17.705262790792005,-49.19230964523892,5.99144152876763,23.697537219946778,19.374245467214255,21.4379117247885,12.448429826963173,24.740923330415413,30.503906504592244,42.638720908498705,20.937344139725834,49.4837214222107,-0.12309874783743267,34.86162993240051,32.85493692682104,25.972982403205087,-34.55892303015522,31.31736743016204,-18.803626062646355,-6.873393478052151,-24.967388923919717,-25.77489954873231,-8.567752399980295,23.062116449051313,-9.651109962043392,-20.02511339083097,7.729225086944626,1.4878018148215908,-0.781667940312996,-2.059448152503925,1.3990876314439717,-15.792522029399626,-8.33301335160566,6.639338550958752,10.277948582326644,-4.309121645321871,20.625487747558314,-9.720901568617226,-14.242294669540186,22.890759618543203,9.17212520613351,7.715763637625547,23.575644074503483,12.822606751474925,-21.380477023696717,-2.661125241674458,30.50354037411791,17.930969361768188,21.411536670323287,-29.51453043000693,-17.179454922882414,30.262420851058558,5.698717261918891,14.563503483507162,19.146829472489568,41.065547810723665,39.52984683889217,39.41213921512018,28.348029416568018,3.2745427595102035,16.733935534099206,-2.595440989905344,-32.10372944450511,-45.02318319283068,-16.543698886205004,-22.36621863239748,-37.24475395622013,-32.39029263652881,-34.15511373907222,-31.786504399670545,29.300608555706575,-17.41881396116233,-2.701652593763923,17.81722870520846,8.120754570143236,12.074938138743429,0.022292228519747544,16.895414339197345,8.080911807637074,-9.703732808274577,-18.179415969535565,23.81000713165196,27.563933576512692,33.53708474689188,11.871490902241705,17.20097367005443,-46.74893917052671,18.957020543289445,24.091084348268357,3.8856217458419535,24.77829833361171,11.68022273664848,29.385611404827017,18.611726866241753,19.15890162444548,8.43183423646221,18.711672969730934,32.405855215402546,8.461848686689752,10.703082635360895,-33.740058426473496,11.478351889429476,-1.323675727571206,-6.4505622880106035,-41.397258555903484,-6.724813380375107,-65.2916484237776,-9.818594778396873,-17.283376840274055,19.475931535635628,-30.153527565259406,28.515224048703367,-54.86068547578461,-45.24539908536683,13.518927572916246,15.837772928250095,24.18866211280678,18.578887608277444,31.609128846756146,-28.447627305520232,1.459228198354,-40.560614232248675,18.5498832280914,38.915874828725926,41.85190106108625,17.94488008532613,-45.68550368359702,-10.468158817733281,-24.550442277952317,24.59734750015745,15.131645470106335,-4.43998054706546,-0.8834049039272401,1.273770129078326,28.444642670596437,-9.537844467384472,-20.457258336771968,-11.810217136305425,-16.9277673545163,-61.967717186292276,24.489707533165756,7.647386629274413,33.29183460878445,6.514193086912772,-3.806260333703787,-2.803566613468268,17.333719379965988,7.05247518552507,5.394226784660331,-8.747641089791756,-7.852748296787724,26.9334255857636,25.98970399619573,4.75449832569867,-3.9696759386736473,4.779723273296689,-16.179687116652396,2.808188258430053,5.273167442946743,2.61849876630771,2.985705880185797,13.434590879729873,-59.30416474310276,28.127060607471794,11.669365468269392,12.923293057252744,2.2864070221978947,-29.663203450656326,22.32409310960764,9.322773799092682,6.837797753547454,32.30950862385254,7.37610799138624,-40.19215685023537,13.473460053798915,11.547977852604202,-8.315318169751848,-54.55806573677972,-40.6409271821072,-24.53805896507739,-52.9131431547326,13.207218624777,3.8692291492129307,29.935490633259395,-44.50126297232682,30.040770978464202,19.78946880837311,-4.325439256482021,-32.144893209202706,38.67603438376008,18.820389984138973,34.49821969872451,-14.532614126305374,39.08736616413054,12.402472725198527,20.624725672270966,18.428232610249808,23.865891741895737,10.243732061024964,-46.03682748609155,26.31203465971898,-27.85990091396832,40.338274267444696,-55.71454528172884,-31.749576366287098,-11.218926926639794,-10.858090158412704,-26.54058328202729,-6.3031006750663,21.577296445223617,12.899435404994186,-1.8783862888309917,14.231298879356952,26.557919264349373,31.436594372955437,-38.48752149820506,-33.404057303143034,-15.447601331112162,-50.61977216237475,-18.512257466585442,-53.83378309508706,-28.71469734458731,-57.277668016457845,-40.76881855945326,-44.867616128539254,-12.520512786505597,-31.22677471652821,-24.866892833073265,3.1424958555756475,-10.037965858803963,-55.79070385775748,-4.56535508596834,-45.49290302897177,1.1206535895975716,-37.21060040471332,-3.343260794594899,31.630663947267088,26.607871147559926,-32.4790577788561,-14.589301935523721,-1.5673049046950442,22.278838695985346,29.364004974411454,-3.184424443299458,3.2767608942555846,3.4421522032771144,34.221474983115385,13.645521372657667,4.483989591409919],\"type\":\"scatter3d\"}],                        {\"template\":{\"data\":{\"histogram2dcontour\":[{\"type\":\"histogram2dcontour\",\"colorbar\":{\"outlinewidth\":0,\"ticks\":\"\"},\"colorscale\":[[0.0,\"#0d0887\"],[0.1111111111111111,\"#46039f\"],[0.2222222222222222,\"#7201a8\"],[0.3333333333333333,\"#9c179e\"],[0.4444444444444444,\"#bd3786\"],[0.5555555555555556,\"#d8576b\"],[0.6666666666666666,\"#ed7953\"],[0.7777777777777778,\"#fb9f3a\"],[0.8888888888888888,\"#fdca26\"],[1.0,\"#f0f921\"]]}],\"choropleth\":[{\"type\":\"choropleth\",\"colorbar\":{\"outlinewidth\":0,\"ticks\":\"\"}}],\"histogram2d\":[{\"type\":\"histogram2d\",\"colorbar\":{\"outlinewidth\":0,\"ticks\":\"\"},\"colorscale\":[[0.0,\"#0d0887\"],[0.1111111111111111,\"#46039f\"],[0.2222222222222222,\"#7201a8\"],[0.3333333333333333,\"#9c179e\"],[0.4444444444444444,\"#bd3786\"],[0.5555555555555556,\"#d8576b\"],[0.6666666666666666,\"#ed7953\"],[0.7777777777777778,\"#fb9f3a\"],[0.8888888888888888,\"#fdca26\"],[1.0,\"#f0f921\"]]}],\"heatmap\":[{\"type\":\"heatmap\",\"colorbar\":{\"outlinewidth\":0,\"ticks\":\"\"},\"colorscale\":[[0.0,\"#0d0887\"],[0.1111111111111111,\"#46039f\"],[0.2222222222222222,\"#7201a8\"],[0.3333333333333333,\"#9c179e\"],[0.4444444444444444,\"#bd3786\"],[0.5555555555555556,\"#d8576b\"],[0.6666666666666666,\"#ed7953\"],[0.7777777777777778,\"#fb9f3a\"],[0.8888888888888888,\"#fdca26\"],[1.0,\"#f0f921\"]]}],\"heatmapgl\":[{\"type\":\"heatmapgl\",\"colorbar\":{\"outlinewidth\":0,\"ticks\":\"\"},\"colorscale\":[[0.0,\"#0d0887\"],[0.1111111111111111,\"#46039f\"],[0.2222222222222222,\"#7201a8\"],[0.3333333333333333,\"#9c179e\"],[0.4444444444444444,\"#bd3786\"],[0.5555555555555556,\"#d8576b\"],[0.6666666666666666,\"#ed7953\"],[0.7777777777777778,\"#fb9f3a\"],[0.8888888888888888,\"#fdca26\"],[1.0,\"#f0f921\"]]}],\"contourcarpet\":[{\"type\":\"contourcarpet\",\"colorbar\":{\"outlinewidth\":0,\"ticks\":\"\"}}],\"contour\":[{\"type\":\"contour\",\"colorbar\":{\"outlinewidth\":0,\"ticks\":\"\"},\"colorscale\":[[0.0,\"#0d0887\"],[0.1111111111111111,\"#46039f\"],[0.2222222222222222,\"#7201a8\"],[0.3333333333333333,\"#9c179e\"],[0.4444444444444444,\"#bd3786\"],[0.5555555555555556,\"#d8576b\"],[0.6666666666666666,\"#ed7953\"],[0.7777777777777778,\"#fb9f3a\"],[0.8888888888888888,\"#fdca26\"],[1.0,\"#f0f921\"]]}],\"surface\":[{\"type\":\"surface\",\"colorbar\":{\"outlinewidth\":0,\"ticks\":\"\"},\"colorscale\":[[0.0,\"#0d0887\"],[0.1111111111111111,\"#46039f\"],[0.2222222222222222,\"#7201a8\"],[0.3333333333333333,\"#9c179e\"],[0.4444444444444444,\"#bd3786\"],[0.5555555555555556,\"#d8576b\"],[0.6666666666666666,\"#ed7953\"],[0.7777777777777778,\"#fb9f3a\"],[0.8888888888888888,\"#fdca26\"],[1.0,\"#f0f921\"]]}],\"mesh3d\":[{\"type\":\"mesh3d\",\"colorbar\":{\"outlinewidth\":0,\"ticks\":\"\"}}],\"scatter\":[{\"fillpattern\":{\"fillmode\":\"overlay\",\"size\":10,\"solidity\":0.2},\"type\":\"scatter\"}],\"parcoords\":[{\"type\":\"parcoords\",\"line\":{\"colorbar\":{\"outlinewidth\":0,\"ticks\":\"\"}}}],\"scatterpolargl\":[{\"type\":\"scatterpolargl\",\"marker\":{\"colorbar\":{\"outlinewidth\":0,\"ticks\":\"\"}}}],\"bar\":[{\"error_x\":{\"color\":\"#2a3f5f\"},\"error_y\":{\"color\":\"#2a3f5f\"},\"marker\":{\"line\":{\"color\":\"#E5ECF6\",\"width\":0.5},\"pattern\":{\"fillmode\":\"overlay\",\"size\":10,\"solidity\":0.2}},\"type\":\"bar\"}],\"scattergeo\":[{\"type\":\"scattergeo\",\"marker\":{\"colorbar\":{\"outlinewidth\":0,\"ticks\":\"\"}}}],\"scatterpolar\":[{\"type\":\"scatterpolar\",\"marker\":{\"colorbar\":{\"outlinewidth\":0,\"ticks\":\"\"}}}],\"histogram\":[{\"marker\":{\"pattern\":{\"fillmode\":\"overlay\",\"size\":10,\"solidity\":0.2}},\"type\":\"histogram\"}],\"scattergl\":[{\"type\":\"scattergl\",\"marker\":{\"colorbar\":{\"outlinewidth\":0,\"ticks\":\"\"}}}],\"scatter3d\":[{\"type\":\"scatter3d\",\"line\":{\"colorbar\":{\"outlinewidth\":0,\"ticks\":\"\"}},\"marker\":{\"colorbar\":{\"outlinewidth\":0,\"ticks\":\"\"}}}],\"scattermapbox\":[{\"type\":\"scattermapbox\",\"marker\":{\"colorbar\":{\"outlinewidth\":0,\"ticks\":\"\"}}}],\"scatterternary\":[{\"type\":\"scatterternary\",\"marker\":{\"colorbar\":{\"outlinewidth\":0,\"ticks\":\"\"}}}],\"scattercarpet\":[{\"type\":\"scattercarpet\",\"marker\":{\"colorbar\":{\"outlinewidth\":0,\"ticks\":\"\"}}}],\"carpet\":[{\"aaxis\":{\"endlinecolor\":\"#2a3f5f\",\"gridcolor\":\"white\",\"linecolor\":\"white\",\"minorgridcolor\":\"white\",\"startlinecolor\":\"#2a3f5f\"},\"baxis\":{\"endlinecolor\":\"#2a3f5f\",\"gridcolor\":\"white\",\"linecolor\":\"white\",\"minorgridcolor\":\"white\",\"startlinecolor\":\"#2a3f5f\"},\"type\":\"carpet\"}],\"table\":[{\"cells\":{\"fill\":{\"color\":\"#EBF0F8\"},\"line\":{\"color\":\"white\"}},\"header\":{\"fill\":{\"color\":\"#C8D4E3\"},\"line\":{\"color\":\"white\"}},\"type\":\"table\"}],\"barpolar\":[{\"marker\":{\"line\":{\"color\":\"#E5ECF6\",\"width\":0.5},\"pattern\":{\"fillmode\":\"overlay\",\"size\":10,\"solidity\":0.2}},\"type\":\"barpolar\"}],\"pie\":[{\"automargin\":true,\"type\":\"pie\"}]},\"layout\":{\"autotypenumbers\":\"strict\",\"colorway\":[\"#636efa\",\"#EF553B\",\"#00cc96\",\"#ab63fa\",\"#FFA15A\",\"#19d3f3\",\"#FF6692\",\"#B6E880\",\"#FF97FF\",\"#FECB52\"],\"font\":{\"color\":\"#2a3f5f\"},\"hovermode\":\"closest\",\"hoverlabel\":{\"align\":\"left\"},\"paper_bgcolor\":\"white\",\"plot_bgcolor\":\"#E5ECF6\",\"polar\":{\"bgcolor\":\"#E5ECF6\",\"angularaxis\":{\"gridcolor\":\"white\",\"linecolor\":\"white\",\"ticks\":\"\"},\"radialaxis\":{\"gridcolor\":\"white\",\"linecolor\":\"white\",\"ticks\":\"\"}},\"ternary\":{\"bgcolor\":\"#E5ECF6\",\"aaxis\":{\"gridcolor\":\"white\",\"linecolor\":\"white\",\"ticks\":\"\"},\"baxis\":{\"gridcolor\":\"white\",\"linecolor\":\"white\",\"ticks\":\"\"},\"caxis\":{\"gridcolor\":\"white\",\"linecolor\":\"white\",\"ticks\":\"\"}},\"coloraxis\":{\"colorbar\":{\"outlinewidth\":0,\"ticks\":\"\"}},\"colorscale\":{\"sequential\":[[0.0,\"#0d0887\"],[0.1111111111111111,\"#46039f\"],[0.2222222222222222,\"#7201a8\"],[0.3333333333333333,\"#9c179e\"],[0.4444444444444444,\"#bd3786\"],[0.5555555555555556,\"#d8576b\"],[0.6666666666666666,\"#ed7953\"],[0.7777777777777778,\"#fb9f3a\"],[0.8888888888888888,\"#fdca26\"],[1.0,\"#f0f921\"]],\"sequentialminus\":[[0.0,\"#0d0887\"],[0.1111111111111111,\"#46039f\"],[0.2222222222222222,\"#7201a8\"],[0.3333333333333333,\"#9c179e\"],[0.4444444444444444,\"#bd3786\"],[0.5555555555555556,\"#d8576b\"],[0.6666666666666666,\"#ed7953\"],[0.7777777777777778,\"#fb9f3a\"],[0.8888888888888888,\"#fdca26\"],[1.0,\"#f0f921\"]],\"diverging\":[[0,\"#8e0152\"],[0.1,\"#c51b7d\"],[0.2,\"#de77ae\"],[0.3,\"#f1b6da\"],[0.4,\"#fde0ef\"],[0.5,\"#f7f7f7\"],[0.6,\"#e6f5d0\"],[0.7,\"#b8e186\"],[0.8,\"#7fbc41\"],[0.9,\"#4d9221\"],[1,\"#276419\"]]},\"xaxis\":{\"gridcolor\":\"white\",\"linecolor\":\"white\",\"ticks\":\"\",\"title\":{\"standoff\":15},\"zerolinecolor\":\"white\",\"automargin\":true,\"zerolinewidth\":2},\"yaxis\":{\"gridcolor\":\"white\",\"linecolor\":\"white\",\"ticks\":\"\",\"title\":{\"standoff\":15},\"zerolinecolor\":\"white\",\"automargin\":true,\"zerolinewidth\":2},\"scene\":{\"xaxis\":{\"backgroundcolor\":\"#E5ECF6\",\"gridcolor\":\"white\",\"linecolor\":\"white\",\"showbackground\":true,\"ticks\":\"\",\"zerolinecolor\":\"white\",\"gridwidth\":2},\"yaxis\":{\"backgroundcolor\":\"#E5ECF6\",\"gridcolor\":\"white\",\"linecolor\":\"white\",\"showbackground\":true,\"ticks\":\"\",\"zerolinecolor\":\"white\",\"gridwidth\":2},\"zaxis\":{\"backgroundcolor\":\"#E5ECF6\",\"gridcolor\":\"white\",\"linecolor\":\"white\",\"showbackground\":true,\"ticks\":\"\",\"zerolinecolor\":\"white\",\"gridwidth\":2}},\"shapedefaults\":{\"line\":{\"color\":\"#2a3f5f\"}},\"annotationdefaults\":{\"arrowcolor\":\"#2a3f5f\",\"arrowhead\":0,\"arrowwidth\":1},\"geo\":{\"bgcolor\":\"white\",\"landcolor\":\"#E5ECF6\",\"subunitcolor\":\"white\",\"showland\":true,\"showlakes\":true,\"lakecolor\":\"white\"},\"title\":{\"x\":0.05},\"mapbox\":{\"style\":\"light\"}}},\"scene\":{\"domain\":{\"x\":[0.0,1.0],\"y\":[0.0,1.0]},\"xaxis\":{\"title\":{\"text\":\"PC1\"}},\"yaxis\":{\"title\":{\"text\":\"PC2\"}},\"zaxis\":{\"title\":{\"text\":\"PC3\"}}},\"coloraxis\":{\"colorbar\":{\"title\":{\"text\":\"U Length\"}},\"colorscale\":[[0.0,\"#0d0887\"],[0.1111111111111111,\"#46039f\"],[0.2222222222222222,\"#7201a8\"],[0.3333333333333333,\"#9c179e\"],[0.4444444444444444,\"#bd3786\"],[0.5555555555555556,\"#d8576b\"],[0.6666666666666666,\"#ed7953\"],[0.7777777777777778,\"#fb9f3a\"],[0.8888888888888888,\"#fdca26\"],[1.0,\"#f0f921\"]]},\"legend\":{\"tracegroupgap\":0},\"title\":{\"text\":\"PCA Visualization of Final Layer Token Representations -- x_0 = helloworld1 |R| = 424\"}},                        {\"responsive\": true}                    ).then(function(){\n",
       "                            \n",
       "var gd = document.getElementById('7f80f548-abe6-4efe-a00f-881f37150ad2');\n",
       "var x = new MutationObserver(function (mutations, observer) {{\n",
       "        var display = window.getComputedStyle(gd).display;\n",
       "        if (!display || display === 'none') {{\n",
       "            console.log([gd, 'removed!']);\n",
       "            Plotly.purge(gd);\n",
       "            observer.disconnect();\n",
       "        }}\n",
       "}});\n",
       "\n",
       "// Listen for the removal of the full notebook cells\n",
       "var notebookContainer = gd.closest('#notebook-container');\n",
       "if (notebookContainer) {{\n",
       "    x.observe(notebookContainer, {childList: true});\n",
       "}}\n",
       "\n",
       "// Listen for the clearing of the current output cell\n",
       "var outputEl = gd.closest('.output');\n",
       "if (outputEl) {{\n",
       "    x.observe(outputEl, {childList: true});\n",
       "}}\n",
       "\n",
       "                        })                };                });            </script>        </div>"
      ]
     },
     "metadata": {},
     "output_type": "display_data"
    }
   ],
   "source": [
    "# Perform PCA\n",
    "pca_result = perform_pca(final_layer_reps, n_components=3)\n",
    "\n",
    "# Plot PCA results\n",
    "plot_pca_results(pca_result, y_labels, final_token_reps)"
   ]
  },
  {
   "cell_type": "code",
   "execution_count": 117,
   "metadata": {},
   "outputs": [
    {
     "data": {
      "application/vnd.plotly.v1+json": {
       "config": {
        "plotlyServerURL": "https://plot.ly"
       },
       "data": [
        {
         "alignmentgroup": "True",
         "bingroup": "x",
         "hovertemplate": "x=%{x}<br>count=%{y}<extra></extra>",
         "legendgroup": "",
         "marker": {
          "color": "#636efa",
          "pattern": {
           "shape": ""
          }
         },
         "name": "",
         "offsetgroup": "",
         "orientation": "v",
         "showlegend": false,
         "type": "histogram",
         "x": [
          1,
          1,
          2,
          2,
          2,
          2,
          2,
          2,
          2,
          2,
          2,
          2,
          2,
          2,
          2,
          2,
          2,
          2,
          2,
          2,
          2,
          2,
          2,
          2,
          2,
          2,
          2,
          2,
          2,
          2,
          2,
          2,
          2,
          2,
          2,
          2,
          2,
          2,
          2,
          2,
          2,
          2,
          2,
          2,
          2,
          2,
          2,
          2,
          2,
          2,
          2,
          2,
          2,
          2,
          2,
          2,
          2,
          2,
          2,
          2,
          2,
          2,
          2,
          2,
          2,
          2,
          2,
          2,
          2,
          2,
          2,
          2,
          2,
          2,
          2,
          2,
          2,
          2,
          2,
          2,
          2,
          2,
          2,
          2,
          2,
          2,
          2,
          2,
          2,
          2,
          2,
          2,
          2,
          2,
          2,
          2,
          2,
          2,
          2,
          2,
          2,
          2,
          2,
          2,
          2,
          2,
          2,
          2,
          2,
          2,
          2,
          2,
          2,
          2,
          2,
          2,
          2,
          2,
          2,
          2,
          2,
          2,
          2,
          2,
          2,
          2,
          2,
          2,
          2,
          2,
          2,
          2,
          2,
          2,
          2,
          2,
          2,
          2,
          2,
          2,
          2,
          2,
          2,
          2,
          2,
          2,
          2,
          2,
          2,
          2,
          2,
          2,
          2,
          2,
          2,
          2,
          2,
          2,
          2,
          2,
          2,
          2,
          2,
          2,
          2,
          2,
          2,
          2,
          2,
          2,
          2,
          2,
          2,
          2,
          2,
          2,
          2,
          2,
          2,
          2,
          2,
          2,
          2,
          2,
          2,
          2,
          2,
          2,
          2,
          2,
          2,
          2,
          2,
          2,
          2,
          2,
          2,
          2,
          2,
          2,
          2,
          2,
          2,
          2,
          2,
          2,
          2,
          2,
          2,
          2,
          2,
          2,
          2,
          2,
          2,
          2,
          2,
          2,
          2,
          2,
          2,
          2,
          2,
          2,
          2,
          2,
          2,
          2,
          2,
          2,
          2,
          2,
          2,
          2,
          2,
          2,
          2,
          2,
          2,
          2,
          2,
          2,
          2,
          2,
          2,
          2,
          2,
          2,
          2,
          2,
          2,
          2,
          2,
          2,
          2,
          2,
          2,
          2,
          2,
          2,
          2,
          2,
          2,
          2,
          2,
          2,
          2,
          2,
          2,
          2,
          2,
          2,
          2,
          2,
          2,
          2,
          2,
          2,
          2,
          2,
          2,
          2,
          2,
          2,
          2,
          2,
          2,
          2,
          2,
          2,
          2,
          2,
          2,
          2,
          2,
          2,
          2,
          2,
          2,
          2,
          2,
          2,
          2,
          2,
          2,
          2,
          2,
          2,
          2,
          2,
          2,
          2,
          2,
          2,
          2,
          2,
          2,
          2,
          2,
          2,
          2,
          2,
          2,
          2,
          2,
          2,
          2,
          2,
          2,
          2,
          2,
          2,
          2,
          2,
          2,
          2,
          2,
          2,
          2,
          2,
          2,
          2,
          2,
          2,
          2,
          2,
          2,
          2,
          2,
          2,
          2,
          2,
          2,
          2,
          2,
          2,
          2,
          2,
          2,
          2,
          2,
          2,
          2,
          2,
          2,
          2,
          2,
          2,
          2,
          2,
          2,
          2,
          2,
          2,
          2,
          2,
          2,
          2,
          2,
          2,
          2,
          2,
          2,
          2,
          2,
          2,
          2,
          2,
          2,
          2,
          2,
          2,
          2,
          2,
          2,
          2,
          2,
          2,
          2,
          2,
          2,
          2,
          2,
          2,
          2,
          2,
          2,
          2,
          2,
          2,
          2,
          2,
          2,
          2,
          2,
          2,
          2,
          2,
          2,
          2,
          2,
          2,
          2,
          2
         ],
         "xaxis": "x",
         "yaxis": "y"
        }
       ],
       "layout": {
        "barmode": "relative",
        "legend": {
         "tracegroupgap": 0
        },
        "template": {
         "data": {
          "bar": [
           {
            "error_x": {
             "color": "#2a3f5f"
            },
            "error_y": {
             "color": "#2a3f5f"
            },
            "marker": {
             "line": {
              "color": "#E5ECF6",
              "width": 0.5
             },
             "pattern": {
              "fillmode": "overlay",
              "size": 10,
              "solidity": 0.2
             }
            },
            "type": "bar"
           }
          ],
          "barpolar": [
           {
            "marker": {
             "line": {
              "color": "#E5ECF6",
              "width": 0.5
             },
             "pattern": {
              "fillmode": "overlay",
              "size": 10,
              "solidity": 0.2
             }
            },
            "type": "barpolar"
           }
          ],
          "carpet": [
           {
            "aaxis": {
             "endlinecolor": "#2a3f5f",
             "gridcolor": "white",
             "linecolor": "white",
             "minorgridcolor": "white",
             "startlinecolor": "#2a3f5f"
            },
            "baxis": {
             "endlinecolor": "#2a3f5f",
             "gridcolor": "white",
             "linecolor": "white",
             "minorgridcolor": "white",
             "startlinecolor": "#2a3f5f"
            },
            "type": "carpet"
           }
          ],
          "choropleth": [
           {
            "colorbar": {
             "outlinewidth": 0,
             "ticks": ""
            },
            "type": "choropleth"
           }
          ],
          "contour": [
           {
            "colorbar": {
             "outlinewidth": 0,
             "ticks": ""
            },
            "colorscale": [
             [
              0,
              "#0d0887"
             ],
             [
              0.1111111111111111,
              "#46039f"
             ],
             [
              0.2222222222222222,
              "#7201a8"
             ],
             [
              0.3333333333333333,
              "#9c179e"
             ],
             [
              0.4444444444444444,
              "#bd3786"
             ],
             [
              0.5555555555555556,
              "#d8576b"
             ],
             [
              0.6666666666666666,
              "#ed7953"
             ],
             [
              0.7777777777777778,
              "#fb9f3a"
             ],
             [
              0.8888888888888888,
              "#fdca26"
             ],
             [
              1,
              "#f0f921"
             ]
            ],
            "type": "contour"
           }
          ],
          "contourcarpet": [
           {
            "colorbar": {
             "outlinewidth": 0,
             "ticks": ""
            },
            "type": "contourcarpet"
           }
          ],
          "heatmap": [
           {
            "colorbar": {
             "outlinewidth": 0,
             "ticks": ""
            },
            "colorscale": [
             [
              0,
              "#0d0887"
             ],
             [
              0.1111111111111111,
              "#46039f"
             ],
             [
              0.2222222222222222,
              "#7201a8"
             ],
             [
              0.3333333333333333,
              "#9c179e"
             ],
             [
              0.4444444444444444,
              "#bd3786"
             ],
             [
              0.5555555555555556,
              "#d8576b"
             ],
             [
              0.6666666666666666,
              "#ed7953"
             ],
             [
              0.7777777777777778,
              "#fb9f3a"
             ],
             [
              0.8888888888888888,
              "#fdca26"
             ],
             [
              1,
              "#f0f921"
             ]
            ],
            "type": "heatmap"
           }
          ],
          "heatmapgl": [
           {
            "colorbar": {
             "outlinewidth": 0,
             "ticks": ""
            },
            "colorscale": [
             [
              0,
              "#0d0887"
             ],
             [
              0.1111111111111111,
              "#46039f"
             ],
             [
              0.2222222222222222,
              "#7201a8"
             ],
             [
              0.3333333333333333,
              "#9c179e"
             ],
             [
              0.4444444444444444,
              "#bd3786"
             ],
             [
              0.5555555555555556,
              "#d8576b"
             ],
             [
              0.6666666666666666,
              "#ed7953"
             ],
             [
              0.7777777777777778,
              "#fb9f3a"
             ],
             [
              0.8888888888888888,
              "#fdca26"
             ],
             [
              1,
              "#f0f921"
             ]
            ],
            "type": "heatmapgl"
           }
          ],
          "histogram": [
           {
            "marker": {
             "pattern": {
              "fillmode": "overlay",
              "size": 10,
              "solidity": 0.2
             }
            },
            "type": "histogram"
           }
          ],
          "histogram2d": [
           {
            "colorbar": {
             "outlinewidth": 0,
             "ticks": ""
            },
            "colorscale": [
             [
              0,
              "#0d0887"
             ],
             [
              0.1111111111111111,
              "#46039f"
             ],
             [
              0.2222222222222222,
              "#7201a8"
             ],
             [
              0.3333333333333333,
              "#9c179e"
             ],
             [
              0.4444444444444444,
              "#bd3786"
             ],
             [
              0.5555555555555556,
              "#d8576b"
             ],
             [
              0.6666666666666666,
              "#ed7953"
             ],
             [
              0.7777777777777778,
              "#fb9f3a"
             ],
             [
              0.8888888888888888,
              "#fdca26"
             ],
             [
              1,
              "#f0f921"
             ]
            ],
            "type": "histogram2d"
           }
          ],
          "histogram2dcontour": [
           {
            "colorbar": {
             "outlinewidth": 0,
             "ticks": ""
            },
            "colorscale": [
             [
              0,
              "#0d0887"
             ],
             [
              0.1111111111111111,
              "#46039f"
             ],
             [
              0.2222222222222222,
              "#7201a8"
             ],
             [
              0.3333333333333333,
              "#9c179e"
             ],
             [
              0.4444444444444444,
              "#bd3786"
             ],
             [
              0.5555555555555556,
              "#d8576b"
             ],
             [
              0.6666666666666666,
              "#ed7953"
             ],
             [
              0.7777777777777778,
              "#fb9f3a"
             ],
             [
              0.8888888888888888,
              "#fdca26"
             ],
             [
              1,
              "#f0f921"
             ]
            ],
            "type": "histogram2dcontour"
           }
          ],
          "mesh3d": [
           {
            "colorbar": {
             "outlinewidth": 0,
             "ticks": ""
            },
            "type": "mesh3d"
           }
          ],
          "parcoords": [
           {
            "line": {
             "colorbar": {
              "outlinewidth": 0,
              "ticks": ""
             }
            },
            "type": "parcoords"
           }
          ],
          "pie": [
           {
            "automargin": true,
            "type": "pie"
           }
          ],
          "scatter": [
           {
            "fillpattern": {
             "fillmode": "overlay",
             "size": 10,
             "solidity": 0.2
            },
            "type": "scatter"
           }
          ],
          "scatter3d": [
           {
            "line": {
             "colorbar": {
              "outlinewidth": 0,
              "ticks": ""
             }
            },
            "marker": {
             "colorbar": {
              "outlinewidth": 0,
              "ticks": ""
             }
            },
            "type": "scatter3d"
           }
          ],
          "scattercarpet": [
           {
            "marker": {
             "colorbar": {
              "outlinewidth": 0,
              "ticks": ""
             }
            },
            "type": "scattercarpet"
           }
          ],
          "scattergeo": [
           {
            "marker": {
             "colorbar": {
              "outlinewidth": 0,
              "ticks": ""
             }
            },
            "type": "scattergeo"
           }
          ],
          "scattergl": [
           {
            "marker": {
             "colorbar": {
              "outlinewidth": 0,
              "ticks": ""
             }
            },
            "type": "scattergl"
           }
          ],
          "scattermapbox": [
           {
            "marker": {
             "colorbar": {
              "outlinewidth": 0,
              "ticks": ""
             }
            },
            "type": "scattermapbox"
           }
          ],
          "scatterpolar": [
           {
            "marker": {
             "colorbar": {
              "outlinewidth": 0,
              "ticks": ""
             }
            },
            "type": "scatterpolar"
           }
          ],
          "scatterpolargl": [
           {
            "marker": {
             "colorbar": {
              "outlinewidth": 0,
              "ticks": ""
             }
            },
            "type": "scatterpolargl"
           }
          ],
          "scatterternary": [
           {
            "marker": {
             "colorbar": {
              "outlinewidth": 0,
              "ticks": ""
             }
            },
            "type": "scatterternary"
           }
          ],
          "surface": [
           {
            "colorbar": {
             "outlinewidth": 0,
             "ticks": ""
            },
            "colorscale": [
             [
              0,
              "#0d0887"
             ],
             [
              0.1111111111111111,
              "#46039f"
             ],
             [
              0.2222222222222222,
              "#7201a8"
             ],
             [
              0.3333333333333333,
              "#9c179e"
             ],
             [
              0.4444444444444444,
              "#bd3786"
             ],
             [
              0.5555555555555556,
              "#d8576b"
             ],
             [
              0.6666666666666666,
              "#ed7953"
             ],
             [
              0.7777777777777778,
              "#fb9f3a"
             ],
             [
              0.8888888888888888,
              "#fdca26"
             ],
             [
              1,
              "#f0f921"
             ]
            ],
            "type": "surface"
           }
          ],
          "table": [
           {
            "cells": {
             "fill": {
              "color": "#EBF0F8"
             },
             "line": {
              "color": "white"
             }
            },
            "header": {
             "fill": {
              "color": "#C8D4E3"
             },
             "line": {
              "color": "white"
             }
            },
            "type": "table"
           }
          ]
         },
         "layout": {
          "annotationdefaults": {
           "arrowcolor": "#2a3f5f",
           "arrowhead": 0,
           "arrowwidth": 1
          },
          "autotypenumbers": "strict",
          "coloraxis": {
           "colorbar": {
            "outlinewidth": 0,
            "ticks": ""
           }
          },
          "colorscale": {
           "diverging": [
            [
             0,
             "#8e0152"
            ],
            [
             0.1,
             "#c51b7d"
            ],
            [
             0.2,
             "#de77ae"
            ],
            [
             0.3,
             "#f1b6da"
            ],
            [
             0.4,
             "#fde0ef"
            ],
            [
             0.5,
             "#f7f7f7"
            ],
            [
             0.6,
             "#e6f5d0"
            ],
            [
             0.7,
             "#b8e186"
            ],
            [
             0.8,
             "#7fbc41"
            ],
            [
             0.9,
             "#4d9221"
            ],
            [
             1,
             "#276419"
            ]
           ],
           "sequential": [
            [
             0,
             "#0d0887"
            ],
            [
             0.1111111111111111,
             "#46039f"
            ],
            [
             0.2222222222222222,
             "#7201a8"
            ],
            [
             0.3333333333333333,
             "#9c179e"
            ],
            [
             0.4444444444444444,
             "#bd3786"
            ],
            [
             0.5555555555555556,
             "#d8576b"
            ],
            [
             0.6666666666666666,
             "#ed7953"
            ],
            [
             0.7777777777777778,
             "#fb9f3a"
            ],
            [
             0.8888888888888888,
             "#fdca26"
            ],
            [
             1,
             "#f0f921"
            ]
           ],
           "sequentialminus": [
            [
             0,
             "#0d0887"
            ],
            [
             0.1111111111111111,
             "#46039f"
            ],
            [
             0.2222222222222222,
             "#7201a8"
            ],
            [
             0.3333333333333333,
             "#9c179e"
            ],
            [
             0.4444444444444444,
             "#bd3786"
            ],
            [
             0.5555555555555556,
             "#d8576b"
            ],
            [
             0.6666666666666666,
             "#ed7953"
            ],
            [
             0.7777777777777778,
             "#fb9f3a"
            ],
            [
             0.8888888888888888,
             "#fdca26"
            ],
            [
             1,
             "#f0f921"
            ]
           ]
          },
          "colorway": [
           "#636efa",
           "#EF553B",
           "#00cc96",
           "#ab63fa",
           "#FFA15A",
           "#19d3f3",
           "#FF6692",
           "#B6E880",
           "#FF97FF",
           "#FECB52"
          ],
          "font": {
           "color": "#2a3f5f"
          },
          "geo": {
           "bgcolor": "white",
           "lakecolor": "white",
           "landcolor": "#E5ECF6",
           "showlakes": true,
           "showland": true,
           "subunitcolor": "white"
          },
          "hoverlabel": {
           "align": "left"
          },
          "hovermode": "closest",
          "mapbox": {
           "style": "light"
          },
          "paper_bgcolor": "white",
          "plot_bgcolor": "#E5ECF6",
          "polar": {
           "angularaxis": {
            "gridcolor": "white",
            "linecolor": "white",
            "ticks": ""
           },
           "bgcolor": "#E5ECF6",
           "radialaxis": {
            "gridcolor": "white",
            "linecolor": "white",
            "ticks": ""
           }
          },
          "scene": {
           "xaxis": {
            "backgroundcolor": "#E5ECF6",
            "gridcolor": "white",
            "gridwidth": 2,
            "linecolor": "white",
            "showbackground": true,
            "ticks": "",
            "zerolinecolor": "white"
           },
           "yaxis": {
            "backgroundcolor": "#E5ECF6",
            "gridcolor": "white",
            "gridwidth": 2,
            "linecolor": "white",
            "showbackground": true,
            "ticks": "",
            "zerolinecolor": "white"
           },
           "zaxis": {
            "backgroundcolor": "#E5ECF6",
            "gridcolor": "white",
            "gridwidth": 2,
            "linecolor": "white",
            "showbackground": true,
            "ticks": "",
            "zerolinecolor": "white"
           }
          },
          "shapedefaults": {
           "line": {
            "color": "#2a3f5f"
           }
          },
          "ternary": {
           "aaxis": {
            "gridcolor": "white",
            "linecolor": "white",
            "ticks": ""
           },
           "baxis": {
            "gridcolor": "white",
            "linecolor": "white",
            "ticks": ""
           },
           "bgcolor": "#E5ECF6",
           "caxis": {
            "gridcolor": "white",
            "linecolor": "white",
            "ticks": ""
           }
          },
          "title": {
           "x": 0.05
          },
          "xaxis": {
           "automargin": true,
           "gridcolor": "white",
           "linecolor": "white",
           "ticks": "",
           "title": {
            "standoff": 15
           },
           "zerolinecolor": "white",
           "zerolinewidth": 2
          },
          "yaxis": {
           "automargin": true,
           "gridcolor": "white",
           "linecolor": "white",
           "ticks": "",
           "title": {
            "standoff": 15
           },
           "zerolinecolor": "white",
           "zerolinewidth": 2
          }
         }
        },
        "title": {
         "text": "Histogram of U Lengths"
        },
        "xaxis": {
         "anchor": "y",
         "domain": [
          0,
          1
         ],
         "title": {
          "text": "x"
         }
        },
        "yaxis": {
         "anchor": "x",
         "domain": [
          0,
          1
         ],
         "title": {
          "text": "count"
         }
        }
       }
      },
      "text/html": [
       "<div>                            <div id=\"266b6088-580a-4f22-bc51-a18180e0d898\" class=\"plotly-graph-div\" style=\"height:525px; width:100%;\"></div>            <script type=\"text/javascript\">                require([\"plotly\"], function(Plotly) {                    window.PLOTLYENV=window.PLOTLYENV || {};                                    if (document.getElementById(\"266b6088-580a-4f22-bc51-a18180e0d898\")) {                    Plotly.newPlot(                        \"266b6088-580a-4f22-bc51-a18180e0d898\",                        [{\"alignmentgroup\":\"True\",\"bingroup\":\"x\",\"hovertemplate\":\"x=%{x}\\u003cbr\\u003ecount=%{y}\\u003cextra\\u003e\\u003c\\u002fextra\\u003e\",\"legendgroup\":\"\",\"marker\":{\"color\":\"#636efa\",\"pattern\":{\"shape\":\"\"}},\"name\":\"\",\"offsetgroup\":\"\",\"orientation\":\"v\",\"showlegend\":false,\"x\":[1,1,2,2,2,2,2,2,2,2,2,2,2,2,2,2,2,2,2,2,2,2,2,2,2,2,2,2,2,2,2,2,2,2,2,2,2,2,2,2,2,2,2,2,2,2,2,2,2,2,2,2,2,2,2,2,2,2,2,2,2,2,2,2,2,2,2,2,2,2,2,2,2,2,2,2,2,2,2,2,2,2,2,2,2,2,2,2,2,2,2,2,2,2,2,2,2,2,2,2,2,2,2,2,2,2,2,2,2,2,2,2,2,2,2,2,2,2,2,2,2,2,2,2,2,2,2,2,2,2,2,2,2,2,2,2,2,2,2,2,2,2,2,2,2,2,2,2,2,2,2,2,2,2,2,2,2,2,2,2,2,2,2,2,2,2,2,2,2,2,2,2,2,2,2,2,2,2,2,2,2,2,2,2,2,2,2,2,2,2,2,2,2,2,2,2,2,2,2,2,2,2,2,2,2,2,2,2,2,2,2,2,2,2,2,2,2,2,2,2,2,2,2,2,2,2,2,2,2,2,2,2,2,2,2,2,2,2,2,2,2,2,2,2,2,2,2,2,2,2,2,2,2,2,2,2,2,2,2,2,2,2,2,2,2,2,2,2,2,2,2,2,2,2,2,2,2,2,2,2,2,2,2,2,2,2,2,2,2,2,2,2,2,2,2,2,2,2,2,2,2,2,2,2,2,2,2,2,2,2,2,2,2,2,2,2,2,2,2,2,2,2,2,2,2,2,2,2,2,2,2,2,2,2,2,2,2,2,2,2,2,2,2,2,2,2,2,2,2,2,2,2,2,2,2,2,2,2,2,2,2,2,2,2,2,2,2,2,2,2,2,2,2,2,2,2,2,2,2,2,2,2,2,2,2,2,2,2,2,2,2,2,2,2,2,2,2,2,2,2,2,2,2,2,2,2,2,2,2,2,2,2,2,2,2,2,2,2,2,2,2,2,2,2],\"xaxis\":\"x\",\"yaxis\":\"y\",\"type\":\"histogram\"}],                        {\"template\":{\"data\":{\"histogram2dcontour\":[{\"type\":\"histogram2dcontour\",\"colorbar\":{\"outlinewidth\":0,\"ticks\":\"\"},\"colorscale\":[[0.0,\"#0d0887\"],[0.1111111111111111,\"#46039f\"],[0.2222222222222222,\"#7201a8\"],[0.3333333333333333,\"#9c179e\"],[0.4444444444444444,\"#bd3786\"],[0.5555555555555556,\"#d8576b\"],[0.6666666666666666,\"#ed7953\"],[0.7777777777777778,\"#fb9f3a\"],[0.8888888888888888,\"#fdca26\"],[1.0,\"#f0f921\"]]}],\"choropleth\":[{\"type\":\"choropleth\",\"colorbar\":{\"outlinewidth\":0,\"ticks\":\"\"}}],\"histogram2d\":[{\"type\":\"histogram2d\",\"colorbar\":{\"outlinewidth\":0,\"ticks\":\"\"},\"colorscale\":[[0.0,\"#0d0887\"],[0.1111111111111111,\"#46039f\"],[0.2222222222222222,\"#7201a8\"],[0.3333333333333333,\"#9c179e\"],[0.4444444444444444,\"#bd3786\"],[0.5555555555555556,\"#d8576b\"],[0.6666666666666666,\"#ed7953\"],[0.7777777777777778,\"#fb9f3a\"],[0.8888888888888888,\"#fdca26\"],[1.0,\"#f0f921\"]]}],\"heatmap\":[{\"type\":\"heatmap\",\"colorbar\":{\"outlinewidth\":0,\"ticks\":\"\"},\"colorscale\":[[0.0,\"#0d0887\"],[0.1111111111111111,\"#46039f\"],[0.2222222222222222,\"#7201a8\"],[0.3333333333333333,\"#9c179e\"],[0.4444444444444444,\"#bd3786\"],[0.5555555555555556,\"#d8576b\"],[0.6666666666666666,\"#ed7953\"],[0.7777777777777778,\"#fb9f3a\"],[0.8888888888888888,\"#fdca26\"],[1.0,\"#f0f921\"]]}],\"heatmapgl\":[{\"type\":\"heatmapgl\",\"colorbar\":{\"outlinewidth\":0,\"ticks\":\"\"},\"colorscale\":[[0.0,\"#0d0887\"],[0.1111111111111111,\"#46039f\"],[0.2222222222222222,\"#7201a8\"],[0.3333333333333333,\"#9c179e\"],[0.4444444444444444,\"#bd3786\"],[0.5555555555555556,\"#d8576b\"],[0.6666666666666666,\"#ed7953\"],[0.7777777777777778,\"#fb9f3a\"],[0.8888888888888888,\"#fdca26\"],[1.0,\"#f0f921\"]]}],\"contourcarpet\":[{\"type\":\"contourcarpet\",\"colorbar\":{\"outlinewidth\":0,\"ticks\":\"\"}}],\"contour\":[{\"type\":\"contour\",\"colorbar\":{\"outlinewidth\":0,\"ticks\":\"\"},\"colorscale\":[[0.0,\"#0d0887\"],[0.1111111111111111,\"#46039f\"],[0.2222222222222222,\"#7201a8\"],[0.3333333333333333,\"#9c179e\"],[0.4444444444444444,\"#bd3786\"],[0.5555555555555556,\"#d8576b\"],[0.6666666666666666,\"#ed7953\"],[0.7777777777777778,\"#fb9f3a\"],[0.8888888888888888,\"#fdca26\"],[1.0,\"#f0f921\"]]}],\"surface\":[{\"type\":\"surface\",\"colorbar\":{\"outlinewidth\":0,\"ticks\":\"\"},\"colorscale\":[[0.0,\"#0d0887\"],[0.1111111111111111,\"#46039f\"],[0.2222222222222222,\"#7201a8\"],[0.3333333333333333,\"#9c179e\"],[0.4444444444444444,\"#bd3786\"],[0.5555555555555556,\"#d8576b\"],[0.6666666666666666,\"#ed7953\"],[0.7777777777777778,\"#fb9f3a\"],[0.8888888888888888,\"#fdca26\"],[1.0,\"#f0f921\"]]}],\"mesh3d\":[{\"type\":\"mesh3d\",\"colorbar\":{\"outlinewidth\":0,\"ticks\":\"\"}}],\"scatter\":[{\"fillpattern\":{\"fillmode\":\"overlay\",\"size\":10,\"solidity\":0.2},\"type\":\"scatter\"}],\"parcoords\":[{\"type\":\"parcoords\",\"line\":{\"colorbar\":{\"outlinewidth\":0,\"ticks\":\"\"}}}],\"scatterpolargl\":[{\"type\":\"scatterpolargl\",\"marker\":{\"colorbar\":{\"outlinewidth\":0,\"ticks\":\"\"}}}],\"bar\":[{\"error_x\":{\"color\":\"#2a3f5f\"},\"error_y\":{\"color\":\"#2a3f5f\"},\"marker\":{\"line\":{\"color\":\"#E5ECF6\",\"width\":0.5},\"pattern\":{\"fillmode\":\"overlay\",\"size\":10,\"solidity\":0.2}},\"type\":\"bar\"}],\"scattergeo\":[{\"type\":\"scattergeo\",\"marker\":{\"colorbar\":{\"outlinewidth\":0,\"ticks\":\"\"}}}],\"scatterpolar\":[{\"type\":\"scatterpolar\",\"marker\":{\"colorbar\":{\"outlinewidth\":0,\"ticks\":\"\"}}}],\"histogram\":[{\"marker\":{\"pattern\":{\"fillmode\":\"overlay\",\"size\":10,\"solidity\":0.2}},\"type\":\"histogram\"}],\"scattergl\":[{\"type\":\"scattergl\",\"marker\":{\"colorbar\":{\"outlinewidth\":0,\"ticks\":\"\"}}}],\"scatter3d\":[{\"type\":\"scatter3d\",\"line\":{\"colorbar\":{\"outlinewidth\":0,\"ticks\":\"\"}},\"marker\":{\"colorbar\":{\"outlinewidth\":0,\"ticks\":\"\"}}}],\"scattermapbox\":[{\"type\":\"scattermapbox\",\"marker\":{\"colorbar\":{\"outlinewidth\":0,\"ticks\":\"\"}}}],\"scatterternary\":[{\"type\":\"scatterternary\",\"marker\":{\"colorbar\":{\"outlinewidth\":0,\"ticks\":\"\"}}}],\"scattercarpet\":[{\"type\":\"scattercarpet\",\"marker\":{\"colorbar\":{\"outlinewidth\":0,\"ticks\":\"\"}}}],\"carpet\":[{\"aaxis\":{\"endlinecolor\":\"#2a3f5f\",\"gridcolor\":\"white\",\"linecolor\":\"white\",\"minorgridcolor\":\"white\",\"startlinecolor\":\"#2a3f5f\"},\"baxis\":{\"endlinecolor\":\"#2a3f5f\",\"gridcolor\":\"white\",\"linecolor\":\"white\",\"minorgridcolor\":\"white\",\"startlinecolor\":\"#2a3f5f\"},\"type\":\"carpet\"}],\"table\":[{\"cells\":{\"fill\":{\"color\":\"#EBF0F8\"},\"line\":{\"color\":\"white\"}},\"header\":{\"fill\":{\"color\":\"#C8D4E3\"},\"line\":{\"color\":\"white\"}},\"type\":\"table\"}],\"barpolar\":[{\"marker\":{\"line\":{\"color\":\"#E5ECF6\",\"width\":0.5},\"pattern\":{\"fillmode\":\"overlay\",\"size\":10,\"solidity\":0.2}},\"type\":\"barpolar\"}],\"pie\":[{\"automargin\":true,\"type\":\"pie\"}]},\"layout\":{\"autotypenumbers\":\"strict\",\"colorway\":[\"#636efa\",\"#EF553B\",\"#00cc96\",\"#ab63fa\",\"#FFA15A\",\"#19d3f3\",\"#FF6692\",\"#B6E880\",\"#FF97FF\",\"#FECB52\"],\"font\":{\"color\":\"#2a3f5f\"},\"hovermode\":\"closest\",\"hoverlabel\":{\"align\":\"left\"},\"paper_bgcolor\":\"white\",\"plot_bgcolor\":\"#E5ECF6\",\"polar\":{\"bgcolor\":\"#E5ECF6\",\"angularaxis\":{\"gridcolor\":\"white\",\"linecolor\":\"white\",\"ticks\":\"\"},\"radialaxis\":{\"gridcolor\":\"white\",\"linecolor\":\"white\",\"ticks\":\"\"}},\"ternary\":{\"bgcolor\":\"#E5ECF6\",\"aaxis\":{\"gridcolor\":\"white\",\"linecolor\":\"white\",\"ticks\":\"\"},\"baxis\":{\"gridcolor\":\"white\",\"linecolor\":\"white\",\"ticks\":\"\"},\"caxis\":{\"gridcolor\":\"white\",\"linecolor\":\"white\",\"ticks\":\"\"}},\"coloraxis\":{\"colorbar\":{\"outlinewidth\":0,\"ticks\":\"\"}},\"colorscale\":{\"sequential\":[[0.0,\"#0d0887\"],[0.1111111111111111,\"#46039f\"],[0.2222222222222222,\"#7201a8\"],[0.3333333333333333,\"#9c179e\"],[0.4444444444444444,\"#bd3786\"],[0.5555555555555556,\"#d8576b\"],[0.6666666666666666,\"#ed7953\"],[0.7777777777777778,\"#fb9f3a\"],[0.8888888888888888,\"#fdca26\"],[1.0,\"#f0f921\"]],\"sequentialminus\":[[0.0,\"#0d0887\"],[0.1111111111111111,\"#46039f\"],[0.2222222222222222,\"#7201a8\"],[0.3333333333333333,\"#9c179e\"],[0.4444444444444444,\"#bd3786\"],[0.5555555555555556,\"#d8576b\"],[0.6666666666666666,\"#ed7953\"],[0.7777777777777778,\"#fb9f3a\"],[0.8888888888888888,\"#fdca26\"],[1.0,\"#f0f921\"]],\"diverging\":[[0,\"#8e0152\"],[0.1,\"#c51b7d\"],[0.2,\"#de77ae\"],[0.3,\"#f1b6da\"],[0.4,\"#fde0ef\"],[0.5,\"#f7f7f7\"],[0.6,\"#e6f5d0\"],[0.7,\"#b8e186\"],[0.8,\"#7fbc41\"],[0.9,\"#4d9221\"],[1,\"#276419\"]]},\"xaxis\":{\"gridcolor\":\"white\",\"linecolor\":\"white\",\"ticks\":\"\",\"title\":{\"standoff\":15},\"zerolinecolor\":\"white\",\"automargin\":true,\"zerolinewidth\":2},\"yaxis\":{\"gridcolor\":\"white\",\"linecolor\":\"white\",\"ticks\":\"\",\"title\":{\"standoff\":15},\"zerolinecolor\":\"white\",\"automargin\":true,\"zerolinewidth\":2},\"scene\":{\"xaxis\":{\"backgroundcolor\":\"#E5ECF6\",\"gridcolor\":\"white\",\"linecolor\":\"white\",\"showbackground\":true,\"ticks\":\"\",\"zerolinecolor\":\"white\",\"gridwidth\":2},\"yaxis\":{\"backgroundcolor\":\"#E5ECF6\",\"gridcolor\":\"white\",\"linecolor\":\"white\",\"showbackground\":true,\"ticks\":\"\",\"zerolinecolor\":\"white\",\"gridwidth\":2},\"zaxis\":{\"backgroundcolor\":\"#E5ECF6\",\"gridcolor\":\"white\",\"linecolor\":\"white\",\"showbackground\":true,\"ticks\":\"\",\"zerolinecolor\":\"white\",\"gridwidth\":2}},\"shapedefaults\":{\"line\":{\"color\":\"#2a3f5f\"}},\"annotationdefaults\":{\"arrowcolor\":\"#2a3f5f\",\"arrowhead\":0,\"arrowwidth\":1},\"geo\":{\"bgcolor\":\"white\",\"landcolor\":\"#E5ECF6\",\"subunitcolor\":\"white\",\"showland\":true,\"showlakes\":true,\"lakecolor\":\"white\"},\"title\":{\"x\":0.05},\"mapbox\":{\"style\":\"light\"}}},\"xaxis\":{\"anchor\":\"y\",\"domain\":[0.0,1.0],\"title\":{\"text\":\"x\"}},\"yaxis\":{\"anchor\":\"x\",\"domain\":[0.0,1.0],\"title\":{\"text\":\"count\"}},\"legend\":{\"tracegroupgap\":0},\"title\":{\"text\":\"Histogram of U Lengths\"},\"barmode\":\"relative\"},                        {\"responsive\": true}                    ).then(function(){\n",
       "                            \n",
       "var gd = document.getElementById('266b6088-580a-4f22-bc51-a18180e0d898');\n",
       "var x = new MutationObserver(function (mutations, observer) {{\n",
       "        var display = window.getComputedStyle(gd).display;\n",
       "        if (!display || display === 'none') {{\n",
       "            console.log([gd, 'removed!']);\n",
       "            Plotly.purge(gd);\n",
       "            observer.disconnect();\n",
       "        }}\n",
       "}});\n",
       "\n",
       "// Listen for the removal of the full notebook cells\n",
       "var notebookContainer = gd.closest('#notebook-container');\n",
       "if (notebookContainer) {{\n",
       "    x.observe(notebookContainer, {childList: true});\n",
       "}}\n",
       "\n",
       "// Listen for the clearing of the current output cell\n",
       "var outputEl = gd.closest('.output');\n",
       "if (outputEl) {{\n",
       "    x.observe(outputEl, {childList: true});\n",
       "}}\n",
       "\n",
       "                        })                };                });            </script>        </div>"
      ]
     },
     "metadata": {},
     "output_type": "display_data"
    }
   ],
   "source": [
    "u_lengths = [len(rep_dict['u_str_list']) for rep_dict in final_token_reps]\n",
    "# histogram of u_lengths \n",
    "fig = px.histogram(x=u_lengths, title='Histogram of U Lengths')\n",
    "fig.write_html(os.path.join(results_folder, \"histogram_u_lengths.html\"))\n",
    "fig.show()"
   ]
  },
  {
   "cell_type": "code",
   "execution_count": null,
   "metadata": {},
   "outputs": [],
   "source": []
  }
 ],
 "metadata": {
  "kernelspec": {
   "display_name": "venv",
   "language": "python",
   "name": "python3"
  },
  "language_info": {
   "codemirror_mode": {
    "name": "ipython",
    "version": 3
   },
   "file_extension": ".py",
   "mimetype": "text/x-python",
   "name": "python",
   "nbconvert_exporter": "python",
   "pygments_lexer": "ipython3",
   "version": "3.10.12"
  }
 },
 "nbformat": 4,
 "nbformat_minor": 2
}
