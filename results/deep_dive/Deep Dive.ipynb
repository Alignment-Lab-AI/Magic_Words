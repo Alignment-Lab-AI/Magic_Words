{
 "cells": [
  {
   "cell_type": "markdown",
   "metadata": {},
   "source": [
    "# Reachability Deep Dive\n",
    "\n",
    "Let’s see if we can discern the properties of the reachable set for k<=10 prompt\n",
    "tokens by focusing on just a few initial states x_0, but many y* for each x_0.\n",
    "We are looking for a clean decision boundary where at a certain CE loss on\n",
    "P(y*_i | x_0), we see that below that it’s solvable in k<=10 above it’s not. \n",
    "\n",
    "**Creating the dataset**\n",
    " - [ ] Extract 20 random x_0 from wiki5k. Based on some skip_value, we will select\n",
    "every token of rank i where i % skip_value = 0 as one of the y* values\n",
    "corresponding to x_0. \n",
    "    - [ ] We want 5000 total instances to distribute over the A100’s (probably 8\n",
    "    of 64 total). So let’s use 5000/20 = 250 y* values for each x_0. \n",
    "    - [ ] Since there are 65,536 tokens for Falcon-7b, we would need a\n",
    "    skip_value satisfying 65536 / skip_value = 250, which implies skip_value =\n",
    "    65536/250 = 262.144 = 265 = skip_value.\n",
    "\n",
    "```bash\n",
    ">>> python3 scripts/generate_deep_dive.py \\\n",
    "    --input_file results/wiki_reachability/k10_falcon7b_wiki5k.csv \\\n",
    "    --output_file results/deep_dive/falcon7b_skip265_states20.csv \\\n",
    "    --model falcon-7b \\\n",
    "    --skip 265 \\\n",
    "    --num_unique_states 20\n",
    "```\n",
    "\n",
    "**Controllability Experiments**\n",
    "\n",
    "We are now ready to run the `scripts/reachability.py` script on this dataset. \n",
    "I'll make a `falcon_deepdive.sh` script so we can run it more easily with an \n",
    "automated naming convention for the chunks run by sub-workers. Let's aim for \n",
    "running workers 0-7 of 64 -- so we would be solving 1/8 of the dataset, which will \n",
    "hopefully be done within the night. It's really important that I can check on \n",
    "this first thing in the morning to triage the remaining experiments. \n",
    "\n",
    "```bash\n",
    "CUDA_VISIBLE_DEVICES=0 bash scripts/deep_dive_falcon7b.sh 0 64  # ran at ~4:30a on Wed Nov 15\n",
    "CUDA_VISIBLE_DEVICES=1 bash scripts/deep_dive_falcon7b.sh 1 64\n",
    "CUDA_VISIBLE_DEVICES=2 bash scripts/deep_dive_falcon7b.sh 2 64\n",
    "CUDA_VISIBLE_DEVICES=3 bash scripts/deep_dive_falcon7b.sh 3 64\n",
    "\n",
    "\n",
    "CUDA_VISIBLE_DEVICES=0 bash scripts/deep_dive_falcon7b.sh 4 64  # ran at ~4:30a on Wed Nov 15\n",
    "CUDA_VISIBLE_DEVICES=1 bash scripts/deep_dive_falcon7b.sh 5 64\n",
    "CUDA_VISIBLE_DEVICES=2 bash scripts/deep_dive_falcon7b.sh 6 64\n",
    "CUDA_VISIBLE_DEVICES=3 bash scripts/deep_dive_falcon7b.sh 7 64\n",
    "```\n",
    "\n",
    "**Experiment Analysis**\n",
    "Let's see if there's a cutoff value in terms of CE loss (or token rank) \n",
    "for the assembled dataframe.\n"
   ]
  },
  {
   "cell_type": "code",
   "execution_count": 26,
   "metadata": {},
   "outputs": [],
   "source": [
    "# Import box \n",
    "import pandas as pd \n",
    "import numpy as np\n",
    "import glob\n",
    "import os\n",
    "import matplotlib.pyplot as plt"
   ]
  },
  {
   "cell_type": "markdown",
   "metadata": {},
   "source": [
    "## 0: Global Plotting Functions"
   ]
  },
  {
   "cell_type": "code",
   "execution_count": 6,
   "metadata": {},
   "outputs": [],
   "source": [
    "def add_zero_prompt_length(df_in): \n",
    "    # set prompt_length to zero when base_correct is true \n",
    "    df_in.loc[df_in['base_correct'] == True, 'prompt_length'] = 0\n",
    "    return df_in\n",
    "def overview_report(df_in): \n",
    "    print(\"Mean prompt correct (epsilon): \\t\", df_in['prompt_correct'].mean())\n",
    "    print(\"Mean prompt correct with k <= 4: \", len(df_in[df_in['prompt_length'] <= 4]) / len(df_in))\n",
    "    print(\"Mean base correct: \\t\\t\", df_in['base_correct'].mean())\n",
    "    print(\"Mean prompt length: \\t\\t\", df_in['prompt_length'].mean())\n"
   ]
  },
  {
   "cell_type": "code",
   "execution_count": 7,
   "metadata": {},
   "outputs": [],
   "source": [
    "def k_epsilon_line_plot(df_in,\n",
    "                        title=\"TITLE\",\n",
    "                        output_path=None, \n",
    "                        figsize=(6, 4), \n",
    "                        log_y=False): \n",
    "    # Placeholder for the final percentages\n",
    "    results = []\n",
    "\n",
    "    # For each unique question_length\n",
    "    question_lengths = df_in['question_length'].unique().tolist()\n",
    "    question_lengths.sort()\n",
    "    for q_len in question_lengths:\n",
    "        # Filter the dataframe\n",
    "        temp_df = df_in[df_in['question_length'] == q_len]\n",
    "\n",
    "        percentage_correct = []\n",
    "        prompt_lengths = sorted(temp_df['prompt_length'].unique())\n",
    "        prompt_lengths = [0] + prompt_lengths\n",
    "        for p_len in prompt_lengths:\n",
    "            # Calculate the percentage for this prompt_length\n",
    "            portion = temp_df[temp_df['prompt_length'] <= p_len]\n",
    "            correct = portion['prompt_correct'].sum()\n",
    "            total = len(temp_df)\n",
    "            percentage = 1-(correct/total)\n",
    "            percentage_correct.append((p_len, percentage))\n",
    "\n",
    "        results.append((q_len, percentage_correct))\n",
    "\n",
    "    # Plotting\n",
    "    plt.figure(figsize=figsize)\n",
    "\n",
    "    for q_len, percentages in results:\n",
    "        x, y = zip(*percentages)\n",
    "        y = np.array(y)\n",
    "        plt.plot(x, y, label=f'Question Length {q_len}')\n",
    "\n",
    "    plt.xlabel('Prompt Length [k]')\n",
    "\n",
    "    \n",
    "    \n",
    "    # logarithmic y-axis \n",
    "    if log_y: \n",
    "        plt.yscale('log')\n",
    "        plt.ylabel('Log(Portion Incorrect) [log(epsilon)]')\n",
    "    else:\n",
    "        plt.ylabel('Portion Incorrect [epsilon]')\n",
    "\n",
    "    plt.title(title)\n",
    "    plt.legend()\n",
    "    plt.grid(True)\n",
    "    # plt.yscale('log')\n",
    "    if output_path is not None:\n",
    "        plt.savefig(output_path, dpi=300)\n",
    "    return results\n"
   ]
  },
  {
   "cell_type": "code",
   "execution_count": 8,
   "metadata": {},
   "outputs": [],
   "source": [
    "def loss_k_correlation_plots(df_in, \n",
    "                             suptitle=\"TITLE\", \n",
    "                             output_path=None, \n",
    "                             figsize=(8, 9)):\n",
    "    solved_df = df_in[df_in['prompt_correct'] == 1]\n",
    "    question_lengths = solved_df['question_length'].unique().tolist()\n",
    "    question_lengths.sort()\n",
    "\n",
    "    # make a 3 by 2 grid of plots\n",
    "    fig, axs = plt.subplots(3, 2, figsize=figsize, sharex=True, sharey=True)\n",
    "    # sharex and sharey\n",
    "    print(question_lengths)\n",
    "    # plot a scatter plot of base_correct vs. prompt_length\n",
    "    for idx_, q_len in enumerate(question_lengths):\n",
    "        # Filter the dataframe\n",
    "        temp_df = df_in[df_in['question_length'] == q_len]\n",
    "        idx = idx_ + 1\n",
    "        axs[idx//2, idx%2].scatter(temp_df['base_loss'], temp_df['prompt_length'], alpha=0.5)\n",
    "        axs[idx//2, idx%2].set_xlabel('Base Loss')\n",
    "        axs[idx//2, idx%2].set_ylabel('Prompt Length [k]')\n",
    "\n",
    "        # compute the Pearson correlation coefficient between base_loss and prompt_length\n",
    "        corr = temp_df['base_loss'].corr(temp_df['prompt_length'])\n",
    "        print(f'Pearson correlation coefficient (q_len={q_len}): {corr}')\n",
    "        axs[idx//2, idx%2].set_title(f'Question Len {q_len}: Corr={corr:.2f}')\n",
    "\n",
    "    # Now we add the overall plot in axs[0,0] \n",
    "    axs[0,0].scatter(solved_df['base_loss'], solved_df['prompt_length'], alpha=0.5, c='r')    \n",
    "    axs[0,0].set_xlabel('Base Loss')\n",
    "    axs[0,0].set_ylabel('Prompt Length [k]')\n",
    "    corr = solved_df['base_loss'].corr(solved_df['prompt_length'])\n",
    "    axs[0,0].set_title(f'All Question Lengths -- Corr={corr:.2f}')\n",
    "    corr = solved_df['base_loss'].corr(solved_df['prompt_length'])\n",
    "\n",
    "    # tight layout\n",
    "    plt.suptitle(suptitle)\n",
    "    plt.tight_layout()\n",
    "\n",
    "    if output_path is not None:\n",
    "        plt.savefig(output_path, dpi=300)\n",
    "    "
   ]
  },
  {
   "cell_type": "markdown",
   "metadata": {},
   "source": [
    "# 1: Falcon-7b Experiments"
   ]
  },
  {
   "cell_type": "code",
   "execution_count": 4,
   "metadata": {},
   "outputs": [
    {
     "data": {
      "text/html": [
       "<div>\n",
       "<style scoped>\n",
       "    .dataframe tbody tr th:only-of-type {\n",
       "        vertical-align: middle;\n",
       "    }\n",
       "\n",
       "    .dataframe tbody tr th {\n",
       "        vertical-align: top;\n",
       "    }\n",
       "\n",
       "    .dataframe thead th {\n",
       "        text-align: right;\n",
       "    }\n",
       "</style>\n",
       "<table border=\"1\" class=\"dataframe\">\n",
       "  <thead>\n",
       "    <tr style=\"text-align: right;\">\n",
       "      <th></th>\n",
       "      <th>question</th>\n",
       "      <th>question_ids</th>\n",
       "      <th>answer</th>\n",
       "      <th>answer_ids</th>\n",
       "      <th>base_loss</th>\n",
       "      <th>search_method</th>\n",
       "      <th>best_prompt</th>\n",
       "      <th>best_prompt_ids</th>\n",
       "      <th>prompt_length</th>\n",
       "      <th>prompted_loss</th>\n",
       "      <th>base_correct</th>\n",
       "      <th>prompt_correct</th>\n",
       "      <th>question_length</th>\n",
       "    </tr>\n",
       "  </thead>\n",
       "  <tbody>\n",
       "    <tr>\n",
       "      <th>0</th>\n",
       "      <td>following his debut album, but received</td>\n",
       "      <td>[1863, 545, 9654, 5026, 204, 23, 480, 3245]</td>\n",
       "      <td>allot</td>\n",
       "      <td>48230</td>\n",
       "      <td>12.0625</td>\n",
       "      <td>gcg</td>\n",
       "      <td>***</td>\n",
       "      <td>[10561, 84, 15453, 48230, 14450, 34293, 2303, ...</td>\n",
       "      <td>8</td>\n",
       "      <td>0.921875</td>\n",
       "      <td>False</td>\n",
       "      <td>True</td>\n",
       "      <td>8</td>\n",
       "    </tr>\n",
       "    <tr>\n",
       "      <th>1</th>\n",
       "      <td>following his debut album, but received</td>\n",
       "      <td>[1863, 545, 9654, 5026, 204, 23, 480, 3245]</td>\n",
       "      <td>puls</td>\n",
       "      <td>26780</td>\n",
       "      <td>16.5000</td>\n",
       "      <td>gcg</td>\n",
       "      <td>famously</td>\n",
       "      <td>[38991, 30256, 12727, 42248, 37891, 31413, 256...</td>\n",
       "      <td>10</td>\n",
       "      <td>2.265625</td>\n",
       "      <td>False</td>\n",
       "      <td>True</td>\n",
       "      <td>8</td>\n",
       "    </tr>\n",
       "    <tr>\n",
       "      <th>2</th>\n",
       "      <td>following his debut album, but received</td>\n",
       "      <td>[1863, 545, 9654, 5026, 204, 23, 480, 3245]</td>\n",
       "      <td>weight</td>\n",
       "      <td>6197</td>\n",
       "      <td>18.1250</td>\n",
       "      <td>gcg</td>\n",
       "      <td>ensembles</td>\n",
       "      <td>[64480, 45526, 24861, 47758, 6220, 16616, 4096...</td>\n",
       "      <td>10</td>\n",
       "      <td>8.125000</td>\n",
       "      <td>False</td>\n",
       "      <td>False</td>\n",
       "      <td>8</td>\n",
       "    </tr>\n",
       "    <tr>\n",
       "      <th>3</th>\n",
       "      <td>following his debut album, but received</td>\n",
       "      <td>[1863, 545, 9654, 5026, 204, 23, 480, 3245]</td>\n",
       "      <td>Entscheidung</td>\n",
       "      <td>64787</td>\n",
       "      <td>19.7500</td>\n",
       "      <td>gcg</td>\n",
       "      <td>Produ</td>\n",
       "      <td>[21938, 22572, 38614, 2918, 43874, 63710, 1738...</td>\n",
       "      <td>10</td>\n",
       "      <td>7.218750</td>\n",
       "      <td>False</td>\n",
       "      <td>False</td>\n",
       "      <td>8</td>\n",
       "    </tr>\n",
       "    <tr>\n",
       "      <th>4</th>\n",
       "      <td>had been killed during the previous six months</td>\n",
       "      <td>[618, 650, 6109, 1365, 248, 2732, 2972, 2137]</td>\n",
       "      <td>owes</td>\n",
       "      <td>45967</td>\n",
       "      <td>14.9375</td>\n",
       "      <td>gcg</td>\n",
       "      <td>Eat</td>\n",
       "      <td>[49272, 42477, 6234, 12280, 47814, 45842, 2903...</td>\n",
       "      <td>10</td>\n",
       "      <td>4.531250</td>\n",
       "      <td>False</td>\n",
       "      <td>False</td>\n",
       "      <td>8</td>\n",
       "    </tr>\n",
       "  </tbody>\n",
       "</table>\n",
       "</div>"
      ],
      "text/plain": [
       "                                          question  \\\n",
       "0          following his debut album, but received   \n",
       "1          following his debut album, but received   \n",
       "2          following his debut album, but received   \n",
       "3          following his debut album, but received   \n",
       "4   had been killed during the previous six months   \n",
       "\n",
       "                                    question_ids         answer  answer_ids  \\\n",
       "0    [1863, 545, 9654, 5026, 204, 23, 480, 3245]          allot       48230   \n",
       "1    [1863, 545, 9654, 5026, 204, 23, 480, 3245]           puls       26780   \n",
       "2    [1863, 545, 9654, 5026, 204, 23, 480, 3245]         weight        6197   \n",
       "3    [1863, 545, 9654, 5026, 204, 23, 480, 3245]   Entscheidung       64787   \n",
       "4  [618, 650, 6109, 1365, 248, 2732, 2972, 2137]           owes       45967   \n",
       "\n",
       "   base_loss search_method best_prompt  \\\n",
       "0    12.0625           gcg         ***   \n",
       "1    16.5000           gcg    famously   \n",
       "2    18.1250           gcg   ensembles   \n",
       "3    19.7500           gcg       Produ   \n",
       "4    14.9375           gcg         Eat   \n",
       "\n",
       "                                     best_prompt_ids  prompt_length  \\\n",
       "0  [10561, 84, 15453, 48230, 14450, 34293, 2303, ...              8   \n",
       "1  [38991, 30256, 12727, 42248, 37891, 31413, 256...             10   \n",
       "2  [64480, 45526, 24861, 47758, 6220, 16616, 4096...             10   \n",
       "3  [21938, 22572, 38614, 2918, 43874, 63710, 1738...             10   \n",
       "4  [49272, 42477, 6234, 12280, 47814, 45842, 2903...             10   \n",
       "\n",
       "   prompted_loss  base_correct  prompt_correct  question_length  \n",
       "0       0.921875         False            True                8  \n",
       "1       2.265625         False            True                8  \n",
       "2       8.125000         False           False                8  \n",
       "3       7.218750         False           False                8  \n",
       "4       4.531250         False           False                8  "
      ]
     },
     "execution_count": 4,
     "metadata": {},
     "output_type": "execute_result"
    }
   ],
   "source": [
    "# Load in the data\n",
    "file_path = r'falcon-7b/dive1_*_of_64.csv'\n",
    "# use glob to get the list of files matching the file path regex string\n",
    "file_list = glob.glob(file_path)\n",
    "assert len(file_list) > 4\n",
    "\n",
    "# now we read in all the files into a dataframe\n",
    "dive1_df = pd.concat([pd.read_csv(f, lineterminator='\\n') for f in file_list], ignore_index = True)\n",
    "\n",
    "dive1_df.head()"
   ]
  },
  {
   "cell_type": "code",
   "execution_count": 10,
   "metadata": {},
   "outputs": [
    {
     "name": "stdout",
     "output_type": "stream",
     "text": [
      "Saving dive1 to falcon-7b/dive1.csv\n"
     ]
    }
   ],
   "source": [
    "# Save the dataframe to a csv file \n",
    "output_path = 'falcon-7b/dive1.csv'\n",
    "# check if it exists\n",
    "if os.path.exists(output_path):\n",
    "    print(\"File already exists\")\n",
    "else: \n",
    "    print(f\"Saving dive1 to {output_path}\")\n",
    "    dive1_df.to_csv(output_path, index=False, lineterminator='\\n')"
   ]
  },
  {
   "cell_type": "markdown",
   "metadata": {},
   "source": [
    "Let's now create a version of the `dive1.csv` dataset with the logits and \n",
    "rankings: \n",
    "```bash\n",
    ">>> python3 scripts/add_logits.py \\\n",
    "    --input_file results/deep_dive/falcon-7b/dive1.csv \\\n",
    "    --output_file results/deep_dive/falcon-7b/ranked_dive1.csv \\\n",
    "    --model falcon-7b\n",
    "```\n",
    "\n",
    "Now we can load in the ranked csv from `falcon-7b/ranked_dive1.csv`"
   ]
  },
  {
   "cell_type": "code",
   "execution_count": 15,
   "metadata": {},
   "outputs": [
    {
     "name": "stdout",
     "output_type": "stream",
     "text": [
      "Mean prompt correct (epsilon): \t 0.4642857142857143\n",
      "Mean prompt correct with k <= 4:  0.15097402597402598\n",
      "Mean base correct: \t\t 0.00487012987012987\n",
      "Mean prompt length: \t\t 8.25487012987013\n"
     ]
    }
   ],
   "source": [
    "ranked_dive1_df = pd.read_csv('falcon-7b/ranked_dive1.csv', lineterminator='\\n')\n",
    "overview_report(ranked_dive1_df)"
   ]
  },
  {
   "cell_type": "code",
   "execution_count": 20,
   "metadata": {},
   "outputs": [],
   "source": [
    "# Let's see if we can get a k-epsilon plot for just one question \n",
    "question_ids_0 = ranked_dive1_df['question_ids'].unique().tolist()[0]\n",
    "question_ids_0\n",
    "df_filtered = ranked_dive1_df[ranked_dive1_df['question_ids'] == question_ids_0]"
   ]
  },
  {
   "cell_type": "code",
   "execution_count": 24,
   "metadata": {},
   "outputs": [
    {
     "data": {
      "text/plain": [
       "<Axes: >"
      ]
     },
     "execution_count": 24,
     "metadata": {},
     "output_type": "execute_result"
    },
    {
     "data": {
      "image/png": "[encoded data removed]",
      "text/plain": [
       "<Figure size 640x480 with 1 Axes>"
      ]
     },
     "metadata": {},
     "output_type": "display_data"
    }
   ],
   "source": [
    "# Let's make a histogram of the 'base_rank' column \n",
    "df_filtered['base_rank'].hist(bins=100)\n",
    "# Note that the skips are because we are only running worker 0-7 of 64. "
   ]
  },
  {
   "cell_type": "code",
   "execution_count": 35,
   "metadata": {},
   "outputs": [
    {
     "data": {
      "image/png": "[encoded data removed]",
      "text/plain": [
       "<Figure size 600x400 with 1 Axes>"
      ]
     },
     "metadata": {},
     "output_type": "display_data"
    },
    {
     "name": "stdout",
     "output_type": "stream",
     "text": [
      "Pearson correlation coefficient: 0.25\n",
      "Length of solved_df:  20\n",
      "[SOLVED @0] Pearson correlation coefficient: 0.05\n"
     ]
    },
    {
     "data": {
      "image/png": "[encoded data removed]",
      "text/plain": [
       "<Figure size 600x400 with 1 Axes>"
      ]
     },
     "metadata": {},
     "output_type": "display_data"
    }
   ],
   "source": [
    "# Let's view the relationship between base_rank and prompt_length \n",
    "num_unique = ranked_dive1_df['question_ids'].nunique()\n",
    "\n",
    "correlations = []\n",
    "solved_correlations = []\n",
    "\n",
    "for i in range(num_unique): \n",
    "    # Let's see if we can get a k-epsilon plot for just one question \n",
    "    question_ids_0 = ranked_dive1_df['question_ids'].unique().tolist()[i]\n",
    "    question_ids_0\n",
    "    df_filtered = ranked_dive1_df[ranked_dive1_df['question_ids'] == question_ids_0]\n",
    "\n",
    "    plt.figure(figsize=(6, 4))\n",
    "    plt.scatter(df_filtered['base_rank'], df_filtered['prompt_length'], alpha=0.5)\n",
    "    plt.xlabel('Base Rank')\n",
    "    plt.ylabel('Prompt Length [k]')\n",
    "    plt.title(f'[Single x_0 @{i}, many y*] Base Rank vs. Prompt Length (k)')\n",
    "    plt.tight_layout()\n",
    "    plt.show()\n",
    "\n",
    "    # Print the pearson correlation\n",
    "    corr = df_filtered['base_rank'].corr(df_filtered['prompt_length'])\n",
    "    print(f'Pearson correlation coefficient: {corr:.2f}')\n",
    "    correlations.append(corr)\n",
    "\n",
    "    # Let's see the same thing but only for the \"solved\" instances\n",
    "    solved_df = df_filtered[df_filtered['prompt_correct'] == 1]\n",
    "    print(\"Length of solved_df: \", len(solved_df))\n",
    "\n",
    "    plt.figure(figsize=(6, 4))\n",
    "    plt.scatter(solved_df['base_rank'], solved_df['prompt_length'], alpha=0.5)\n",
    "    plt.xlabel('Base Rank')\n",
    "    plt.ylabel('Prompt Length [k]')\n",
    "    plt.title(f'[Single x_0 @{i}, many y*] Base Rank vs. Prompt Length (k) -- Solved Only')\n",
    "    plt.tight_layout()\n",
    "\n",
    "    # Print the pearson correlation\n",
    "    corr = solved_df['base_rank'].corr(solved_df['prompt_length'])\n",
    "    print(f'[SOLVED @{i}] Pearson correlation coefficient: {corr:.2f}')\n",
    "    solved_correlations.append(corr)\n",
    "    break\n",
    "    \n",
    "\n",
    "\n"
   ]
  },
  {
   "cell_type": "code",
   "execution_count": 33,
   "metadata": {},
   "outputs": [
    {
     "data": {
      "text/plain": [
       "[0.25019510532241096,\n",
       " 0.10812163655407842,\n",
       " 0.32477698890113543,\n",
       " -0.030271025540149807,\n",
       " nan,\n",
       " 0.24787662534055682,\n",
       " 0.6413809632314939,\n",
       " 0.15538763788270682,\n",
       " 0.11533535522261065,\n",
       " -0.06281097107017429,\n",
       " 0.2615560900376843,\n",
       " 0.496275220540082,\n",
       " -0.12255171623726963,\n",
       " 0.022623872646541494,\n",
       " 0.6237156698398285,\n",
       " 0.04564096892864044,\n",
       " 0.1952495547064449,\n",
       " nan,\n",
       " 0.3316908744782615,\n",
       " 0.36447076811714474]"
      ]
     },
     "execution_count": 33,
     "metadata": {},
     "output_type": "execute_result"
    }
   ],
   "source": [
    "correlations"
   ]
  },
  {
   "cell_type": "code",
   "execution_count": 34,
   "metadata": {},
   "outputs": [
    {
     "data": {
      "text/plain": [
       "[0.04934965626968389,\n",
       " 0.02511714428808888,\n",
       " 0.42657041182537403,\n",
       " -0.06592068406192199,\n",
       " nan,\n",
       " 0.8660254037844386,\n",
       " 0.5315706850333554,\n",
       " 0.2840839937500736,\n",
       " 0.36403804536556295,\n",
       " -0.11332082021957209,\n",
       " 0.21551746686413809,\n",
       " 0.48910398750623385,\n",
       " -0.8830462898277912,\n",
       " -0.026636941615553536,\n",
       " 0.5350405390199586,\n",
       " -0.0665138843944252,\n",
       " 0.014185647617048361,\n",
       " nan,\n",
       " 0.47773450686946517,\n",
       " 0.17269963194161977]"
      ]
     },
     "execution_count": 34,
     "metadata": {},
     "output_type": "execute_result"
    }
   ],
   "source": [
    "solved_correlations"
   ]
  },
  {
   "cell_type": "markdown",
   "metadata": {},
   "source": [
    "Classifier time -- can we predict solvability on a single $x_0$ based on the \n",
    "given $y^*$'s base loss, base rank, and base entropy? "
   ]
  },
  {
   "cell_type": "code",
   "execution_count": 42,
   "metadata": {},
   "outputs": [
    {
     "name": "stdout",
     "output_type": "stream",
     "text": [
      "Fraction of solvable instances for quesiton 0:  0.625\n",
      "Fraction of solvable instances for quesiton 1:  0.71875\n",
      "Fraction of solvable instances for quesiton 2:  0.9375\n",
      "Fraction of solvable instances for quesiton 3:  0.4375\n",
      "Fraction of solvable instances for quesiton 4:  0.0\n",
      "Fraction of solvable instances for quesiton 5:  0.10714285714285714\n",
      "Fraction of solvable instances for quesiton 6:  0.6785714285714286\n",
      "Fraction of solvable instances for quesiton 7:  0.6875\n",
      "Fraction of solvable instances for quesiton 8:  0.40625\n",
      "Fraction of solvable instances for quesiton 9:  0.90625\n",
      "Fraction of solvable instances for quesiton 10:  0.46875\n",
      "Fraction of solvable instances for quesiton 11:  0.3125\n",
      "Fraction of solvable instances for quesiton 12:  0.125\n",
      "Fraction of solvable instances for quesiton 13:  0.34375\n",
      "Fraction of solvable instances for quesiton 14:  0.8125\n",
      "Fraction of solvable instances for quesiton 15:  0.46875\n",
      "Fraction of solvable instances for quesiton 16:  0.625\n",
      "Fraction of solvable instances for quesiton 17:  0.0\n",
      "Fraction of solvable instances for quesiton 18:  0.11538461538461539\n",
      "Fraction of solvable instances for quesiton 19:  0.3333333333333333\n"
     ]
    }
   ],
   "source": [
    "solve_fractions = []\n",
    "for i in range(ranked_dive1_df['question_ids'].nunique()): \n",
    "    df_filtered = ranked_dive1_df[ranked_dive1_df['question_ids'] == ranked_dive1_df['question_ids'].unique().tolist()[i]]\n",
    "    fraction_solved = len(df_filtered[df_filtered['prompt_correct'] == 1]) / len(df_filtered)\n",
    "    print(f\"Fraction of solvable instances for quesiton {i}: \", fraction_solved)\n",
    "    solve_fractions.append(fraction_solved)\n",
    "    # print(f\"Fraction of solvable instances for quesiton {i}\")"
   ]
  },
  {
   "cell_type": "markdown",
   "metadata": {},
   "source": [
    "## What makes a given $x_0$ \"easy to control\"? \n",
    "Some of these questions have a super high % of the desired final tokens reached. \n",
    "Is there a pattern in there? Maybe they initially had super high entropy next \n",
    "token distributions..."
   ]
  },
  {
   "cell_type": "code",
   "execution_count": 44,
   "metadata": {},
   "outputs": [],
   "source": [
    "# Interesting thought: Can we predict the fraction of solved instances based on \n",
    "# the base entropy? \n",
    "\n",
    "# 1: Collect the base entropies for each of the unique question_ids \n",
    "base_entropies = []\n",
    "for question_ids in ranked_dive1_df['question_ids'].unique().tolist(): \n",
    "    df_filtered = ranked_dive1_df[ranked_dive1_df['question_ids'] == question_ids]\n",
    "    base_entropies.append(df_filtered['base_entropy'].unique().tolist()[0])\n",
    "    # print(df_filtered['base_entropy'].unique().tolist()[0])"
   ]
  },
  {
   "cell_type": "code",
   "execution_count": 48,
   "metadata": {},
   "outputs": [
    {
     "name": "stdout",
     "output_type": "stream",
     "text": [
      "R^2 value:  0.5219013174914717\n"
     ]
    },
    {
     "data": {
      "image/png": "[encoded data removed]",
      "text/plain": [
       "<Figure size 600x400 with 1 Axes>"
      ]
     },
     "metadata": {},
     "output_type": "display_data"
    }
   ],
   "source": [
    "# Now we can try to predict solve_fractions based on base_entropies\n",
    "# let's just plot them first \n",
    "# plt.figure(figsize=(6, 4))\n",
    "# plt.scatter(base_entropies, solve_fractions, alpha=0.5)\n",
    "# plt.xlabel('Base Entropy')\n",
    "# plt.ylabel('Fraction Solved')\n",
    "# plt.title(f'Fraction Solved vs. Base Entropy')\n",
    "# plt.tight_layout()\n",
    "\n",
    "# Add a linear regression fit \n",
    "from sklearn.linear_model import LinearRegression\n",
    "import numpy as np\n",
    "\n",
    "# reshape the base_entropies to be a 2D array\n",
    "base_entropies = np.array(base_entropies).reshape(-1, 1)\n",
    "solve_fractions = np.array(solve_fractions).reshape(-1, 1)\n",
    "\n",
    "# assertion that they're the right shape \n",
    "assert base_entropies.shape == (len(base_entropies), 1)\n",
    "assert solve_fractions.shape == (len(solve_fractions), 1)\n",
    "\n",
    "# Create the linear regression model\n",
    "model = LinearRegression()\n",
    "model.fit(base_entropies, solve_fractions)\n",
    "\n",
    "# Make predictions\n",
    "predictions = model.predict(base_entropies)\n",
    "\n",
    "# let's get the r^2 value \n",
    "r2 = model.score(base_entropies, solve_fractions)\n",
    "print(\"R^2 value: \", r2)\n",
    "\n",
    "\n",
    "# Plot the predictions on top of the scatter plot\n",
    "plt.figure(figsize=(6, 4))\n",
    "plt.scatter(base_entropies, solve_fractions, alpha=0.5)\n",
    "plt.plot(base_entropies, predictions, c='r')\n",
    "plt.xlabel('Base Entropy')\n",
    "plt.ylabel('Fraction Solved')\n",
    "plt.title(f'Fraction Solved for a given x_0 vs. Base Entropy')\n",
    "plt.tight_layout()\n",
    "\n"
   ]
  },
  {
   "cell_type": "code",
   "execution_count": null,
   "metadata": {},
   "outputs": [],
   "source": []
  },
  {
   "cell_type": "code",
   "execution_count": 56,
   "metadata": {},
   "outputs": [
    {
     "name": "stdout",
     "output_type": "stream",
     "text": [
      "Cross-validation scores:  [0.66935484 0.71544715 0.74796748 0.63414634 0.69918699]\n",
      "=== LOGISTIC REGRESSION FOR PREDICTING SOLVABILITY WITH K<10 -- EVENLY DISTRIBUTED Y* ===\n",
      "Accuracy:  0.6854838709677419\n",
      "Precision:  0.7111111111111111\n",
      "Recall:  0.5517241379310345\n",
      "F1:  0.6213592233009709\n",
      "=== SVC FOR PREDICTING SOLVABILITY WITH K<10 -- EVENLY DISTRIBUTED Y* ===\n",
      "Accuracy:  0.6854838709677419\n",
      "Precision:  0.6862745098039216\n",
      "Recall:  0.603448275862069\n",
      "F1:  0.6422018348623854\n",
      "\n",
      "\n",
      "Fraction of test set that is solvable:  0.46774193548387094\n",
      "Fraction of training set that is solvable:  0.4634146341463415\n"
     ]
    }
   ],
   "source": [
    "# can we train a classifier to predict whether a prompt is solvable or not \n",
    "# based on base_loss, base_rank, and base_entropy? \n",
    "# Goal: predict 'prompt_correct' from 'base_loss', 'base_rank', and 'base_entropy'\n",
    "from sklearn.model_selection import train_test_split\n",
    "from sklearn.linear_model import LogisticRegression\n",
    "# try an MLP too \n",
    "from sklearn.metrics import accuracy_score, f1_score, precision_score, recall_score\n",
    "\n",
    "df_filtered = ranked_dive1_df\n",
    "\n",
    "\n",
    "\n",
    "X = df_filtered[['base_loss', 'base_rank', 'base_entropy']]\n",
    "# scale X \n",
    "from sklearn.preprocessing import StandardScaler\n",
    "scaler = StandardScaler()\n",
    "X = scaler.fit_transform(X)\n",
    "\n",
    "y = df_filtered['prompt_correct']\n",
    "X_train, X_test, y_train, y_test = train_test_split(X, y, test_size=0.2, random_state=44, stratify=y)\n",
    "\n",
    "clf = LogisticRegression(random_state=0).fit(X_train, y_train)\n",
    "y_pred_logistic = clf.predict(X_test)\n",
    "\n",
    "# Try with k-fold cross-validation\n",
    "from sklearn.model_selection import cross_val_score\n",
    "scores = cross_val_score(clf, X, y, cv=5)\n",
    "print(\"Cross-validation scores: \", scores)\n",
    "\n",
    "\n",
    "# Let's also try with an SVC\n",
    "from sklearn.svm import SVC\n",
    "clf = SVC(random_state=0).fit(X_train, y_train)\n",
    "y_pred_svm = clf.predict(X_test)\n",
    "\n",
    "\n",
    "\n",
    "\n",
    "\n",
    "print(\"=== LOGISTIC REGRESSION FOR PREDICTING SOLVABILITY WITH K<10 -- EVENLY DISTRIBUTED Y* ===\")\n",
    "print(\"Accuracy: \", accuracy_score(y_test, y_pred_logistic))\n",
    "print(\"Precision: \", precision_score(y_test, y_pred_logistic))\n",
    "print(\"Recall: \", recall_score(y_test, y_pred_logistic))\n",
    "print(\"F1: \", f1_score(y_test, y_pred_logistic))\n",
    "\n",
    "\n",
    "print(\"=== SVC FOR PREDICTING SOLVABILITY WITH K<10 -- EVENLY DISTRIBUTED Y* ===\")\n",
    "print(\"Accuracy: \", accuracy_score(y_test, y_pred_svm))\n",
    "print(\"Precision: \", precision_score(y_test, y_pred_svm))\n",
    "print(\"Recall: \", recall_score(y_test, y_pred_svm))\n",
    "print(\"F1: \", f1_score(y_test, y_pred_svm))\n",
    "\n",
    "# what fraction of the test set is solvable?\n",
    "print(\"\\n\\nFraction of test set that is solvable: \", y_test.mean())\n",
    "# what fraction of the training set is solvable\n",
    "print(\"Fraction of training set that is solvable: \", y_train.mean())"
   ]
  },
  {
   "cell_type": "code",
   "execution_count": null,
   "metadata": {},
   "outputs": [],
   "source": []
  }
 ],
 "metadata": {
  "kernelspec": {
   "display_name": "venv",
   "language": "python",
   "name": "python3"
  },
  "language_info": {
   "codemirror_mode": {
    "name": "ipython",
    "version": 3
   },
   "file_extension": ".py",
   "mimetype": "text/x-python",
   "name": "python",
   "nbconvert_exporter": "python",
   "pygments_lexer": "ipython3",
   "version": "3.9.16"
  }
 },
 "nbformat": 4,
 "nbformat_minor": 2
}
