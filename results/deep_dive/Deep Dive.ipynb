{
 "cells": [
  {
   "cell_type": "markdown",
   "metadata": {},
   "source": [
    "# Reachability Deep Dive\n",
    "\n",
    "Let’s see if we can discern the properties of the reachable set for k<=10 prompt\n",
    "tokens by focusing on just a few initial states x_0, but many y* for each x_0.\n",
    "We are looking for a clean decision boundary where at a certain CE loss on\n",
    "P(y*_i | x_0), we see that below that it’s solvable in k<=10 above it’s not. \n",
    "\n",
    "**Creating the dataset**\n",
    " - [ ] Extract 20 random x_0 from wiki5k. Based on some skip_value, we will select\n",
    "every token of rank i where i % skip_value = 0 as one of the y* values\n",
    "corresponding to x_0. \n",
    "    - [ ] We want 5000 total instances to distribute over the A100’s (probably 8\n",
    "    of 64 total). So let’s use 5000/20 = 250 y* values for each x_0. \n",
    "    - [ ] Since there are 65,536 tokens for Falcon-7b, we would need a\n",
    "    skip_value satisfying 65536 / skip_value = 250, which implies skip_value =\n",
    "    65536/250 = 262.144 = 265 = skip_value.\n",
    "\n",
    "```bash\n",
    ">>> python3 scripts/generate_deep_dive.py \\\n",
    "    --input_file results/wiki_reachability/k10_falcon7b_wiki5k.csv \\\n",
    "    --output_file results/deep_dive/falcon7b_skip265_states20.csv \\\n",
    "    --model falcon-7b \\\n",
    "    --skip 265 \\\n",
    "    --num_unique_states 20\n",
    "```\n",
    "\n",
    "**Controllability Experiments**\n",
    "\n",
    "We are now ready to run the `scripts/reachability.py` script on this dataset. \n",
    "I'll make a `falcon_deepdive.sh` script so we can run it more easily with an \n",
    "automated naming convention for the chunks run by sub-workers. Let's aim for \n",
    "running workers 0-7 of 64 -- so we would be solving 1/8 of the dataset, which will \n",
    "hopefully be done within the night. It's really important that I can check on \n",
    "this first thing in the morning to triage the remaining experiments. \n",
    "\n",
    "```bash\n",
    "CUDA_VISIBLE_DEVICES=0 bash scripts/deep_dive_falcon7b.sh 0 64  # ran at ~4:30a on Wed Nov 15\n",
    "CUDA_VISIBLE_DEVICES=1 bash scripts/deep_dive_falcon7b.sh 1 64\n",
    "CUDA_VISIBLE_DEVICES=2 bash scripts/deep_dive_falcon7b.sh 2 64\n",
    "CUDA_VISIBLE_DEVICES=3 bash scripts/deep_dive_falcon7b.sh 3 64\n",
    "\n",
    "\n",
    "CUDA_VISIBLE_DEVICES=0 bash scripts/deep_dive_falcon7b.sh 4 64  # ran at ~4:30a on Wed Nov 15\n",
    "CUDA_VISIBLE_DEVICES=1 bash scripts/deep_dive_falcon7b.sh 5 64\n",
    "CUDA_VISIBLE_DEVICES=2 bash scripts/deep_dive_falcon7b.sh 6 64\n",
    "CUDA_VISIBLE_DEVICES=3 bash scripts/deep_dive_falcon7b.sh 7 64\n",
    "```\n"
   ]
  },
  {
   "cell_type": "code",
   "execution_count": null,
   "metadata": {
    "vscode": {
     "languageId": "plaintext"
    }
   },
   "outputs": [],
   "source": []
  },
  {
   "cell_type": "markdown",
   "metadata": {},
   "source": []
  }
 ],
 "metadata": {
  "language_info": {
   "name": "python"
  }
 },
 "nbformat": 4,
 "nbformat_minor": 2
}
